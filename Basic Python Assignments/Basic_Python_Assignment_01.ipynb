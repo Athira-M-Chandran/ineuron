{
 "cells": [
  {
   "cell_type": "markdown",
   "id": "f307c69e",
   "metadata": {},
   "source": [
    "### 1.In the below elements which of them are values or an expression? \n",
    "eg:- values can be integer or string and expressions will be mathematical operators. "
   ]
  },
  {
   "cell_type": "markdown",
   "id": "be6e77ec",
   "metadata": {},
   "source": [
    "\n",
    "'*  -    Expression \n",
    "\n",
    "'hello'\t- Values \n",
    "\n",
    "-87.8\t- Values \n",
    "\n",
    "'- '\t- Expression \n",
    "\n",
    "'/ '\t- Expression \n",
    "\n",
    "'+'\t\t- Expression \n",
    "\n",
    "6 \t\t- Values "
   ]
  },
  {
   "cell_type": "markdown",
   "id": "e67468e7",
   "metadata": {},
   "source": [
    "#### 2. What is the difference between string and variable? "
   ]
  },
  {
   "cell_type": "markdown",
   "id": "45f74970",
   "metadata": {},
   "source": [
    "String is the sequence of characters wrapped inside quotes\n",
    "eg :  \"Hello World!\"\n",
    "      \"123\"\n",
    "Variable is a reserved memory location to store values.\n",
    "eg : a = \"abc\"       # Here 'a' is variable and 'abc' is string\n"
   ]
  },
  {
   "cell_type": "markdown",
   "id": "9a1e644c",
   "metadata": {},
   "source": [
    "#### 3. Describe three different data types. "
   ]
  },
  {
   "cell_type": "markdown",
   "id": "943a216a",
   "metadata": {},
   "source": [
    "Numeric – int, float, complex \n",
    "\n",
    "Text – str \n",
    "\n",
    "Boolean – bool (True, False) "
   ]
  },
  {
   "cell_type": "markdown",
   "id": "7ee9b7d5",
   "metadata": {},
   "source": [
    "#### 4. What is an expression made up of? What do all expressions do? "
   ]
  },
  {
   "cell_type": "markdown",
   "id": "5d1c6063",
   "metadata": {},
   "source": [
    "An expression is combination of values, variables,operators and call to functions and that is interpreted to produce some other value.\n",
    "eg. 5 + 5\n",
    "    True and True"
   ]
  },
  {
   "cell_type": "markdown",
   "id": "b3000e5a",
   "metadata": {},
   "source": [
    "#### 5. This assignment statements, like spam = 10. What is the difference between an expression and a statement? "
   ]
  },
  {
   "cell_type": "markdown",
   "id": "9094f45b",
   "metadata": {},
   "source": [
    "spam = 10 is a statement where we are assigning value of expression 10 to spam. Here 10 is a simple expression which means it doesn't contain any operators so nothing is evaluated. A statement is nothing but an instruction that python interpreter can execute."
   ]
  },
  {
   "cell_type": "markdown",
   "id": "e3ed18f8",
   "metadata": {},
   "source": [
    "#### 6. After running the following code, what does the variable bacon contain? "
   ]
  },
  {
   "cell_type": "code",
   "execution_count": 1,
   "id": "5f8aa81c",
   "metadata": {},
   "outputs": [
    {
     "data": {
      "text/plain": [
       "22"
      ]
     },
     "execution_count": 1,
     "metadata": {},
     "output_type": "execute_result"
    }
   ],
   "source": [
    "bacon = 22 \n",
    "\n",
    "bacon + 1 \n",
    "bacon"
   ]
  },
  {
   "cell_type": "markdown",
   "id": "12f80734",
   "metadata": {},
   "source": [
    "#### 7. What should the values of the following two terms be? \n",
    "'spam' + 'spamspam'\n",
    "'spam' * 3"
   ]
  },
  {
   "cell_type": "code",
   "execution_count": 2,
   "id": "693333ef",
   "metadata": {},
   "outputs": [
    {
     "name": "stdout",
     "output_type": "stream",
     "text": [
      "spamspamspam\n",
      "spamspamspam\n"
     ]
    }
   ],
   "source": [
    "print('spam' + 'spamspam')\n",
    "print('spam' * 3)"
   ]
  },
  {
   "cell_type": "markdown",
   "id": "3649a8b7",
   "metadata": {},
   "source": [
    "#### 8. Why is eggs a valid variable name while 100 is invalid?"
   ]
  },
  {
   "cell_type": "markdown",
   "id": "bf0969da",
   "metadata": {},
   "source": [
    "According to naming convention in Python, A variable cannot start with a digit "
   ]
  },
  {
   "cell_type": "markdown",
   "id": "d8cc8227",
   "metadata": {},
   "source": [
    "#### 9. What three functions can be used to get the integer, floating-point number, or string version of a value?  "
   ]
  },
  {
   "cell_type": "markdown",
   "id": "215db9be",
   "metadata": {},
   "source": [
    "Converting to integer – int() \n",
    "    eg: a = '456'  # here 456 is a string\n",
    "        b = int(a) # converting to integer using int()\n",
    "        \n",
    "Converting to floating point – float() \n",
    "     eg: c = 34        # Here 34 is an integer\n",
    "         d = float(c)  # Converting to float using float() output is 34.0\n",
    "         \n",
    "Converting to string – str()\n",
    "     eg: e = 899      # Here 899 is an integer\n",
    "         f = str(e)   # Converting to string using str() output is '899'"
   ]
  },
  {
   "cell_type": "markdown",
   "id": "0bb0f4c1",
   "metadata": {},
   "source": [
    "#### 10. Why does this expression cause an error? How can you fix it? \n",
    "'I have eaten ' + 99 + ' burritos.' "
   ]
  },
  {
   "cell_type": "markdown",
   "id": "2789934d",
   "metadata": {},
   "source": [
    "Only strings can concatenate. Here 99 is an integer. We can fix it by converting it to string either as  \n",
    "\n",
    "'I have eaten ' + str(99) + ' burritos.'  \n",
    "\n",
    "Or  \n",
    "\n",
    "'I have eaten ' + '99' + ' burritos.' "
   ]
  },
  {
   "cell_type": "code",
   "execution_count": 3,
   "id": "9f459a59",
   "metadata": {},
   "outputs": [
    {
     "name": "stdout",
     "output_type": "stream",
     "text": [
      "I have eaten 99 burritos.\n",
      "I have eaten 99 burritos.\n"
     ]
    }
   ],
   "source": [
    "print('I have eaten ' + str(99) + ' burritos.' )\n",
    "print('I have eaten ' + '99' + ' burritos.' )"
   ]
  }
 ],
 "metadata": {
  "kernelspec": {
   "display_name": "Python 3",
   "language": "python",
   "name": "python3"
  },
  "language_info": {
   "codemirror_mode": {
    "name": "ipython",
    "version": 3
   },
   "file_extension": ".py",
   "mimetype": "text/x-python",
   "name": "python",
   "nbconvert_exporter": "python",
   "pygments_lexer": "ipython3",
   "version": "3.8.8"
  }
 },
 "nbformat": 4,
 "nbformat_minor": 5
}
