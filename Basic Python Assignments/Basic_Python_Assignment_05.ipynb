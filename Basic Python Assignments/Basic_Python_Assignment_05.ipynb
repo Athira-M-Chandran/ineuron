{
 "cells": [
  {
   "cell_type": "markdown",
   "id": "5173841b",
   "metadata": {},
   "source": [
    "#### 1. What does an empty dictionary's code look like?"
   ]
  },
  {
   "cell_type": "markdown",
   "id": "355058af",
   "metadata": {},
   "source": [
    "{}"
   ]
  },
  {
   "cell_type": "markdown",
   "id": "99dede42",
   "metadata": {},
   "source": [
    "#### 2. What is the value of a dictionary value with the key 'foo' and the value 42? "
   ]
  },
  {
   "cell_type": "markdown",
   "id": "025196de",
   "metadata": {},
   "source": [
    "{'foo':42}"
   ]
  },
  {
   "cell_type": "markdown",
   "id": "3658c541",
   "metadata": {},
   "source": [
    "#### 3. What is the most significant distinction between a dictionary and a list? "
   ]
  },
  {
   "cell_type": "markdown",
   "id": "6b8d136f",
   "metadata": {},
   "source": [
    "The items in dictionaries are accessed using keys whereas items in list are accessed using index position.\n",
    "Items in dictionaries are unordered sets whereas items in list are ordered sequence of objects."
   ]
  },
  {
   "cell_type": "markdown",
   "id": "2b16365f",
   "metadata": {},
   "source": [
    "#### 4. What happens if you try to access spam['foo'] if spam is {'bar': 100}? "
   ]
  },
  {
   "cell_type": "code",
   "execution_count": 1,
   "id": "d6686101",
   "metadata": {},
   "outputs": [
    {
     "ename": "KeyError",
     "evalue": "'foo'",
     "output_type": "error",
     "traceback": [
      "\u001b[1;31m---------------------------------------------------------------------------\u001b[0m",
      "\u001b[1;31mKeyError\u001b[0m                                  Traceback (most recent call last)",
      "\u001b[1;32m<ipython-input-1-9b7719282517>\u001b[0m in \u001b[0;36m<module>\u001b[1;34m\u001b[0m\n\u001b[0;32m      1\u001b[0m \u001b[0mspam\u001b[0m \u001b[1;33m=\u001b[0m \u001b[1;33m{\u001b[0m\u001b[1;34m'bar'\u001b[0m \u001b[1;33m:\u001b[0m \u001b[1;36m100\u001b[0m\u001b[1;33m}\u001b[0m\u001b[1;33m\u001b[0m\u001b[1;33m\u001b[0m\u001b[0m\n\u001b[1;32m----> 2\u001b[1;33m \u001b[0mspam\u001b[0m\u001b[1;33m[\u001b[0m\u001b[1;34m'foo'\u001b[0m\u001b[1;33m]\u001b[0m   \u001b[1;31m# shows keyError\u001b[0m\u001b[1;33m\u001b[0m\u001b[1;33m\u001b[0m\u001b[0m\n\u001b[0m",
      "\u001b[1;31mKeyError\u001b[0m: 'foo'"
     ]
    }
   ],
   "source": [
    "spam = {'bar' : 100}\n",
    "spam['foo']   # shows keyError"
   ]
  },
  {
   "cell_type": "markdown",
   "id": "889b2255",
   "metadata": {},
   "source": [
    "keyError"
   ]
  },
  {
   "cell_type": "markdown",
   "id": "018c694b",
   "metadata": {},
   "source": [
    "#### 5. If a dictionary is stored in spam, what is the difference between the expressions 'cat' in spam and 'cat' in spam.keys()? "
   ]
  },
  {
   "cell_type": "markdown",
   "id": "d49594de",
   "metadata": {},
   "source": [
    "No difference , 'cat' in spam will check whether there is key named cat, same thing happens in 'cat' in spam.keys()"
   ]
  },
  {
   "cell_type": "code",
   "execution_count": 2,
   "id": "5e58f8d0",
   "metadata": {},
   "outputs": [
    {
     "name": "stdout",
     "output_type": "stream",
     "text": [
      "False\n",
      "False\n"
     ]
    }
   ],
   "source": [
    "print('cat' in spam)\n",
    "print('cat' in spam.keys())"
   ]
  },
  {
   "cell_type": "markdown",
   "id": "f21c0306",
   "metadata": {},
   "source": [
    "#### 6. If a dictionary is stored in spam, what is the difference between the expressions 'cat' in spam and 'cat' in spam.values()? "
   ]
  },
  {
   "cell_type": "markdown",
   "id": "a714ad3c",
   "metadata": {},
   "source": [
    "'cat' in spam will check whether there is key named 'cat'.\n",
    "'cat' in spam.values() check whether there is a value 'cat' for one of the keys in spam"
   ]
  },
  {
   "cell_type": "code",
   "execution_count": 3,
   "id": "d041c248",
   "metadata": {},
   "outputs": [
    {
     "name": "stdout",
     "output_type": "stream",
     "text": [
      "False\n",
      "False\n"
     ]
    }
   ],
   "source": [
    "print('cat' in spam)\n",
    "print('cat' in spam.values())"
   ]
  },
  {
   "cell_type": "markdown",
   "id": "1d1b10c7",
   "metadata": {},
   "source": [
    "#### 7. What is a shortcut for the following code? \n",
    "\n",
    "if 'color' not in spam: \n",
    "\n",
    "spam['color'] = 'black' "
   ]
  },
  {
   "cell_type": "code",
   "execution_count": null,
   "id": "fbef466a",
   "metadata": {},
   "outputs": [],
   "source": [
    "spam.setdefault('color','black')"
   ]
  },
  {
   "cell_type": "markdown",
   "id": "46ceb53b",
   "metadata": {},
   "source": [
    "#### 8. How do you \"pretty print\" dictionary values using which module and function? "
   ]
  },
  {
   "cell_type": "markdown",
   "id": "c4a08b55",
   "metadata": {},
   "source": [
    "pprint.pprint()"
   ]
  },
  {
   "cell_type": "code",
   "execution_count": 4,
   "id": "1aa399d1",
   "metadata": {},
   "outputs": [
    {
     "name": "stdout",
     "output_type": "stream",
     "text": [
      "{'cs': {'rate': 3},\n",
      " 'gfg': {'rate': 5,\n",
      "         'remark': 'good'}}\n"
     ]
    }
   ],
   "source": [
    "import pprint\n",
    "test_dict = {\n",
    "    'gfg' : {\n",
    "        'rate' : 5, \n",
    "        'remark' : 'good'\n",
    "    }, \n",
    "    'cs' : {\n",
    "        'rate' : 3\n",
    "    }\n",
    "}\n",
    "pprint.pprint(test_dict,width= 10)"
   ]
  }
 ],
 "metadata": {
  "kernelspec": {
   "display_name": "Python 3",
   "language": "python",
   "name": "python3"
  },
  "language_info": {
   "codemirror_mode": {
    "name": "ipython",
    "version": 3
   },
   "file_extension": ".py",
   "mimetype": "text/x-python",
   "name": "python",
   "nbconvert_exporter": "python",
   "pygments_lexer": "ipython3",
   "version": "3.8.8"
  }
 },
 "nbformat": 4,
 "nbformat_minor": 5
}
