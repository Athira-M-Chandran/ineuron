{
 "cells": [
  {
   "cell_type": "markdown",
   "id": "4e805f7c",
   "metadata": {},
   "source": [
    "#### 1. How do you distinguish between shutil.copy() and shutil.copytree()?\n"
   ]
  },
  {
   "cell_type": "markdown",
   "id": "10861957",
   "metadata": {},
   "source": [
    "shutil.copy()  - copy a single file\n",
    "shutil.copytree() - copies an entire directory along with its contents"
   ]
  },
  {
   "cell_type": "markdown",
   "id": "6a37c7bf",
   "metadata": {},
   "source": [
    "#### 2. What function is used to rename files??\n"
   ]
  },
  {
   "cell_type": "markdown",
   "id": "0a01bd5c",
   "metadata": {},
   "source": [
    "shutil.move()"
   ]
  },
  {
   "cell_type": "markdown",
   "id": "62220c33",
   "metadata": {},
   "source": [
    "#### 3. What is the difference between the delete functions in the send2trash and shutil modules?\n"
   ]
  },
  {
   "cell_type": "markdown",
   "id": "8b1ff1eb",
   "metadata": {},
   "source": [
    "send2trash - it will send files or folders to recyclebin(trash) instead of deleting permanently\n",
    "shutil - it will delete files and folders permanently (shutil.rmtree(path))"
   ]
  },
  {
   "cell_type": "markdown",
   "id": "92f91668",
   "metadata": {},
   "source": [
    "#### 4.ZipFile objects have a close() method just like File objects’ close() method. What ZipFile method is equivalent to File objects’ open() method?\n"
   ]
  },
  {
   "cell_type": "markdown",
   "id": "08532553",
   "metadata": {},
   "source": [
    "zipfile.ZipFile() "
   ]
  },
  {
   "cell_type": "markdown",
   "id": "8ce29e33",
   "metadata": {},
   "source": [
    "#### 5. Create a programme that searches a folder tree for files with a certain file extension (such as .pdf or .jpg). Copy these files from whatever location they are in to a new folder"
   ]
  },
  {
   "cell_type": "code",
   "execution_count": null,
   "id": "8faf00d6",
   "metadata": {},
   "outputs": [],
   "source": []
  }
 ],
 "metadata": {
  "kernelspec": {
   "display_name": "Python 3",
   "language": "python",
   "name": "python3"
  },
  "language_info": {
   "codemirror_mode": {
    "name": "ipython",
    "version": 3
   },
   "file_extension": ".py",
   "mimetype": "text/x-python",
   "name": "python",
   "nbconvert_exporter": "python",
   "pygments_lexer": "ipython3",
   "version": "3.8.8"
  }
 },
 "nbformat": 4,
 "nbformat_minor": 5
}
