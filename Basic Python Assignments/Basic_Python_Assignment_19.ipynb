{
 "cells": [
  {
   "cell_type": "markdown",
   "id": "93c85019",
   "metadata": {},
   "source": [
    "#### 1. Make a class called Thing with no contents and print it. Then, create an object called example from this class and also print it. Are the printed values the same or different?\n"
   ]
  },
  {
   "cell_type": "code",
   "execution_count": 1,
   "id": "0721f6be",
   "metadata": {},
   "outputs": [],
   "source": [
    "class Thing:\n",
    "    pass"
   ]
  },
  {
   "cell_type": "code",
   "execution_count": 13,
   "id": "7c01389c",
   "metadata": {},
   "outputs": [
    {
     "name": "stdout",
     "output_type": "stream",
     "text": [
      "<__main__.Thing object at 0x0000020BAF675FA0>\n"
     ]
    }
   ],
   "source": [
    "print(Thing())"
   ]
  },
  {
   "cell_type": "code",
   "execution_count": 3,
   "id": "9bb39ec8",
   "metadata": {},
   "outputs": [],
   "source": [
    "example = Thing()"
   ]
  },
  {
   "cell_type": "code",
   "execution_count": 5,
   "id": "a5d35a3d",
   "metadata": {},
   "outputs": [
    {
     "name": "stdout",
     "output_type": "stream",
     "text": [
      "<__main__.Thing object at 0x0000020BAF675A60>\n"
     ]
    }
   ],
   "source": [
    "print(example)"
   ]
  },
  {
   "cell_type": "markdown",
   "id": "ae325ea1",
   "metadata": {},
   "source": [
    "No, The printed values are different (different memory address)"
   ]
  },
  {
   "cell_type": "markdown",
   "id": "aa8e3f68",
   "metadata": {},
   "source": [
    "#### 2. Create a new class called Thing2 and add the value 'abc' to the letters class attribute. Letters should be printed.\n"
   ]
  },
  {
   "cell_type": "code",
   "execution_count": 6,
   "id": "e9e05e36",
   "metadata": {},
   "outputs": [],
   "source": [
    "class Thing2:\n",
    "    letters = 'abc'\n",
    "    "
   ]
  },
  {
   "cell_type": "code",
   "execution_count": 7,
   "id": "c3c20692",
   "metadata": {},
   "outputs": [
    {
     "name": "stdout",
     "output_type": "stream",
     "text": [
      "abc\n"
     ]
    }
   ],
   "source": [
    "print(Thing2.letters)"
   ]
  },
  {
   "cell_type": "markdown",
   "id": "b4d77fb6",
   "metadata": {},
   "source": [
    "#### 3. Make yet another class called, of course, Thing3. This time, assign the value 'xyz' to an instance (object) attribute called letters. Print letters. Do you need to make an object from the class to do this?\n"
   ]
  },
  {
   "cell_type": "code",
   "execution_count": 10,
   "id": "d1e65da2",
   "metadata": {},
   "outputs": [],
   "source": [
    "class Thing3:\n",
    "    def __init__(self,letter):\n",
    "        self.word = letter\n",
    "    def letters(self):\n",
    "        return self.word\n"
   ]
  },
  {
   "cell_type": "code",
   "execution_count": 11,
   "id": "fcb847f6",
   "metadata": {},
   "outputs": [
    {
     "data": {
      "text/plain": [
       "'xyz'"
      ]
     },
     "execution_count": 11,
     "metadata": {},
     "output_type": "execute_result"
    }
   ],
   "source": [
    "Thing3('xyz').letters()"
   ]
  },
  {
   "cell_type": "markdown",
   "id": "599eef89",
   "metadata": {},
   "source": [
    "#### 4. Create an Element class with the instance attributes name, symbol, and number. Create a class object with the values 'Hydrogen,' 'H,' and 1.\n"
   ]
  },
  {
   "cell_type": "code",
   "execution_count": 16,
   "id": "0e129479",
   "metadata": {},
   "outputs": [],
   "source": [
    "class Element:\n",
    "    def __init__(self,name,symbol,number):\n",
    "        self.name = name\n",
    "        self.symbol = symbol\n",
    "        self.number = number    "
   ]
  },
  {
   "cell_type": "code",
   "execution_count": 17,
   "id": "6f7d63e6",
   "metadata": {},
   "outputs": [
    {
     "data": {
      "text/plain": [
       "'Hydrogen'"
      ]
     },
     "execution_count": 17,
     "metadata": {},
     "output_type": "execute_result"
    }
   ],
   "source": [
    "object1 = Element('Hydrogen','H',1)\n",
    "object1.name"
   ]
  },
  {
   "cell_type": "markdown",
   "id": "4e440f46",
   "metadata": {},
   "source": [
    "#### 5. Make a dictionary with these keys and values: 'name': 'Hydrogen', 'symbol': 'H', 'number': 1. Then, create an object called hydrogen from class Element using this dictionary.\n"
   ]
  },
  {
   "cell_type": "code",
   "execution_count": 15,
   "id": "3d7434ce",
   "metadata": {},
   "outputs": [],
   "source": [
    "ele = {\n",
    "    'name' : 'Hydrogen',\n",
    "    'symbol':'H',\n",
    "    'number' : 1\n",
    "}"
   ]
  },
  {
   "cell_type": "code",
   "execution_count": 18,
   "id": "7ff9d705",
   "metadata": {},
   "outputs": [
    {
     "data": {
      "text/plain": [
       "1"
      ]
     },
     "execution_count": 18,
     "metadata": {},
     "output_type": "execute_result"
    }
   ],
   "source": [
    "hydrogen = Element(**ele)\n",
    "hydrogen.number"
   ]
  },
  {
   "cell_type": "markdown",
   "id": "d3306506",
   "metadata": {},
   "source": [
    "#### 6. For the Element class, define a method called dump() that prints the values of the object’s attributes (name, symbol, and number). Create the hydrogen object from this new definition and use dump() to print its attributes.\n"
   ]
  },
  {
   "cell_type": "code",
   "execution_count": 19,
   "id": "2091bc7d",
   "metadata": {},
   "outputs": [],
   "source": [
    "class Element:\n",
    "    def __init__(self,name,symbol,number):\n",
    "        self.name = name\n",
    "        self.symbol = symbol\n",
    "        self.number = number\n",
    "    def dump(self):\n",
    "        return self.name , self.symbol , self.number"
   ]
  },
  {
   "cell_type": "code",
   "execution_count": 21,
   "id": "ea0b3585",
   "metadata": {},
   "outputs": [
    {
     "data": {
      "text/plain": [
       "('Hydrogen', 'H', 1)"
      ]
     },
     "execution_count": 21,
     "metadata": {},
     "output_type": "execute_result"
    }
   ],
   "source": [
    "hydrogen = Element('Hydrogen','H',1)\n",
    "hydrogen.dump()"
   ]
  },
  {
   "cell_type": "markdown",
   "id": "e39e8297",
   "metadata": {},
   "source": [
    "#### 7. Call print(hydrogen). In the definition of Element, change the name of method dump to __str__, create a new hydrogen object, and call print(hydrogen) again.\n"
   ]
  },
  {
   "cell_type": "code",
   "execution_count": 22,
   "id": "38efdd3f",
   "metadata": {},
   "outputs": [
    {
     "name": "stdout",
     "output_type": "stream",
     "text": [
      "<__main__.Element object at 0x0000020BAF75D100>\n"
     ]
    }
   ],
   "source": [
    "print(hydrogen)"
   ]
  },
  {
   "cell_type": "code",
   "execution_count": 27,
   "id": "b61123c8",
   "metadata": {},
   "outputs": [],
   "source": [
    "class Element:\n",
    "    def __init__(self,name,symbol,number):\n",
    "        self.name = name\n",
    "        self.symbol = symbol\n",
    "        self.number = number\n",
    "    def __str__(self):\n",
    "        return f\"{self.name} , {self.symbol} , {self.number}\"  # __str__ can't return a tuple"
   ]
  },
  {
   "cell_type": "code",
   "execution_count": 28,
   "id": "f28456bb",
   "metadata": {},
   "outputs": [
    {
     "name": "stdout",
     "output_type": "stream",
     "text": [
      "Hydrogen , H , 1\n"
     ]
    }
   ],
   "source": [
    "hydrogen = Element('Hydrogen','H',1)\n",
    "print(hydrogen)"
   ]
  },
  {
   "cell_type": "markdown",
   "id": "5abddc9f",
   "metadata": {},
   "source": [
    "#### 8. Modify Element to make the attributes name, symbol, and number private. Define a getter property for each to return its value.\n"
   ]
  },
  {
   "cell_type": "code",
   "execution_count": 29,
   "id": "71357e63",
   "metadata": {},
   "outputs": [],
   "source": [
    "class Element:\n",
    "    def __init__(self,name,symbol,number):\n",
    "        self.__name = name\n",
    "        self.__symbol = symbol\n",
    "        self.__number = number\n",
    "        \n",
    "    @property\n",
    "    def name(self):\n",
    "        return self.__name\n",
    "    \n",
    "    @property\n",
    "    def symbol(self):\n",
    "        return self.__symbol\n",
    "    \n",
    "    @property\n",
    "    def number(self):\n",
    "        return self.__number\n",
    "    "
   ]
  },
  {
   "cell_type": "code",
   "execution_count": 30,
   "id": "21ae07bb",
   "metadata": {},
   "outputs": [
    {
     "data": {
      "text/plain": [
       "'Hydrogen'"
      ]
     },
     "execution_count": 30,
     "metadata": {},
     "output_type": "execute_result"
    }
   ],
   "source": [
    "hydrogen = Element('Hydrogen', 'H' ,  1)\n",
    "hydrogen.name"
   ]
  },
  {
   "cell_type": "markdown",
   "id": "fe9dc7fe",
   "metadata": {},
   "source": [
    "#### 9. Define three classes: Bear, Rabbit, and Octothorpe. For each, define only one method: eats(). This should return 'berries' (Bear), 'clover' (Rabbit), or 'campers' (Octothorpe). Create one object from each and print what it eats.\n"
   ]
  },
  {
   "cell_type": "code",
   "execution_count": 31,
   "id": "332016da",
   "metadata": {},
   "outputs": [],
   "source": [
    "class Bear:\n",
    "    def eats():\n",
    "        return 'berries'\n",
    "class Rabbit:\n",
    "    def eats():\n",
    "        return 'clover'\n",
    "class Octothrope:\n",
    "    def eats():\n",
    "        return 'campers'"
   ]
  },
  {
   "cell_type": "code",
   "execution_count": 33,
   "id": "262e24c9",
   "metadata": {},
   "outputs": [
    {
     "name": "stdout",
     "output_type": "stream",
     "text": [
      "Bear eats berries\n",
      "Rabbit eats clover\n",
      "Octothrope eats campers\n"
     ]
    }
   ],
   "source": [
    "print(f\"Bear eats {Bear.eats()}\")\n",
    "\n",
    "print(f\"Rabbit eats {Rabbit.eats()}\")\n",
    "\n",
    "print(f\"Octothrope eats {Octothrope.eats()}\")"
   ]
  },
  {
   "cell_type": "markdown",
   "id": "2f520e7c",
   "metadata": {},
   "source": [
    "#### 10. Define these classes: Laser, Claw, and SmartPhone. Each has only one method: does(). This returns 'disintegrate' (Laser), 'crush' (Claw), or 'ring' (SmartPhone). Then, define the class Robot that has one instance (object) of each of these. Define a does() method for the Robot that prints what its component objects do.\n"
   ]
  },
  {
   "cell_type": "code",
   "execution_count": 34,
   "id": "04248332",
   "metadata": {},
   "outputs": [],
   "source": [
    "class Laser:\n",
    "    def does(self):\n",
    "        return 'disintegrate'\n",
    "class Claw:\n",
    "    def does(self):\n",
    "        return 'crush'\n",
    "class SmartPhone:\n",
    "    def does(self):\n",
    "        return 'ring'\n",
    "    \n",
    "class Robot:\n",
    "    def __init__(self):\n",
    "        self.Laser = Laser()\n",
    "        self.Claw = Claw()\n",
    "        self.SmartPhone = SmartPhone()\n",
    "    def does(self):\n",
    "        #return self.laser.does()\n",
    "        return f\"Laser does {self.Laser.does()}, Claw does {self.Claw.does()}, SmartPhone does {self.SmartPhone.does()}\""
   ]
  },
  {
   "cell_type": "code",
   "execution_count": 35,
   "id": "be0a03ae",
   "metadata": {},
   "outputs": [
    {
     "data": {
      "text/plain": [
       "'Laser does disintegrate, Claw does crush, SmartPhone does ring'"
      ]
     },
     "execution_count": 35,
     "metadata": {},
     "output_type": "execute_result"
    }
   ],
   "source": [
    "new = Robot()\n",
    "new.does()"
   ]
  }
 ],
 "metadata": {
  "kernelspec": {
   "display_name": "Python 3",
   "language": "python",
   "name": "python3"
  },
  "language_info": {
   "codemirror_mode": {
    "name": "ipython",
    "version": 3
   },
   "file_extension": ".py",
   "mimetype": "text/x-python",
   "name": "python",
   "nbconvert_exporter": "python",
   "pygments_lexer": "ipython3",
   "version": "3.8.8"
  }
 },
 "nbformat": 4,
 "nbformat_minor": 5
}
