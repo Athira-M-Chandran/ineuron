{
 "cells": [
  {
   "cell_type": "markdown",
   "id": "1a7a7658",
   "metadata": {},
   "source": [
    "#### 1. What is the relationship between def statements and lambda expressions ?\n"
   ]
  },
  {
   "cell_type": "markdown",
   "id": "943575fb",
   "metadata": {},
   "source": [
    "The def keyword is used to define a normal function in Python. Similarly, the lambda keyword is used to define an anonymous function in Python. \n",
    "\n",
    "The def defined functions do not return anything if not explicitly returned whereas the lambda function does return an object. \n",
    "\n",
    "The def function's execution time is relatively slower for the same operation performed using lambda functions"
   ]
  },
  {
   "cell_type": "markdown",
   "id": "b9bd8866",
   "metadata": {},
   "source": [
    "#### 2. What is the benefit of lambda?\n"
   ]
  },
  {
   "cell_type": "markdown",
   "id": "63f8d508",
   "metadata": {},
   "source": [
    "Lambda is a single expression **anonymous function** used as **inline function**.\n",
    "\n",
    "The function can have any **number of parameters** but can have just **one statement** and return just one value in the form of an expression ."
   ]
  },
  {
   "cell_type": "markdown",
   "id": "9edbc8ed",
   "metadata": {},
   "source": [
    "#### 3. Compare and contrast map, filter, and reduce.\n"
   ]
  },
  {
   "cell_type": "markdown",
   "id": "016fc5e2",
   "metadata": {},
   "source": [
    "The **map()** function **iterates through all items** in the given iterable and executes the function we passed as an argument on each of them.\n",
    "\n",
    "Syntax : map(function,iterables)\n",
    "\n",
    "The **filter()** forms a new list that contains only elements that **satisfy a certain condition**, i.e. the function we passed returns True.\n",
    "\n",
    "Syntax : filter(function,iterables)\n",
    "\n",
    "The **reduce()** applies a function of two arguments cumulatively on a list of objects in succession from left to right to **reduce it to one value**.\n",
    "\n",
    "Syntax :  reduce(function,sequence[,initial])"
   ]
  },
  {
   "cell_type": "markdown",
   "id": "20eae077",
   "metadata": {},
   "source": [
    "#### 4. What are function annotations, and how are they used?\n"
   ]
  },
  {
   "cell_type": "markdown",
   "id": "6d9f466b",
   "metadata": {},
   "source": [
    "Function Annotations are optional.\n",
    "\n",
    "These expressions are evaluated at compile time and life at python runtime environment.\n",
    "\n",
    "**Syntax** :\n",
    "\n",
    "For simple parameters:\n",
    "    \n",
    "    def foo( x: expression, y: expression= 123):\n",
    "    \n",
    "For excess parameters:\n",
    "\n",
    "    def foo( *args : expression , **kwargs : expression):\n",
    "    \n",
    "For nested parameters:\n",
    "\n",
    "    def foo((x1 , y1 : expression), (x2 : expression, y2 : expression)):\n",
    "    \n",
    "For return type:\n",
    "\n",
    "    def foo( x2 : expression)-> expression"
   ]
  },
  {
   "cell_type": "code",
   "execution_count": 1,
   "id": "cebb7061",
   "metadata": {},
   "outputs": [
    {
     "data": {
      "text/plain": [
       "{'x': 'string x', 'y': float, 'z': int, 'return': float}"
      ]
     },
     "execution_count": 1,
     "metadata": {},
     "output_type": "execute_result"
    }
   ],
   "source": [
    "def func(x : 'string x' , y: float, z: int) -> float: return(x + y + z)\n",
    "        \n",
    "func.__annotations__"
   ]
  },
  {
   "cell_type": "markdown",
   "id": "3715e0f6",
   "metadata": {},
   "source": [
    "#### 5. What are recursive functions, and how are they used?\n"
   ]
  },
  {
   "cell_type": "markdown",
   "id": "268f0669",
   "metadata": {},
   "source": [
    "A recursive function is a function that calls itself during its execution.\n",
    "\n",
    "Example for how it is used is shown below:"
   ]
  },
  {
   "cell_type": "code",
   "execution_count": 2,
   "id": "5140ce41",
   "metadata": {},
   "outputs": [
    {
     "data": {
      "text/plain": [
       "5"
      ]
     },
     "execution_count": 2,
     "metadata": {},
     "output_type": "execute_result"
    }
   ],
   "source": [
    "\n",
    "def print_5(n):\n",
    "    '''Function which return 5 when the value of n reaches 5'''\n",
    "    # check if value of n is 5; if yes it return the same\n",
    "    if n ==5:\n",
    "        return n\n",
    "    # if value is not 5,\n",
    "    # Recursive function occur\n",
    "    else:\n",
    "        return print_5(n-1)\n",
    "n =10\n",
    "print_5(n)"
   ]
  },
  {
   "cell_type": "markdown",
   "id": "c2fa84b7",
   "metadata": {},
   "source": [
    "#### 6. What are some general design guidelines for coding functions?\n"
   ]
  },
  {
   "cell_type": "markdown",
   "id": "fbec085f",
   "metadata": {},
   "source": [
    " - Use 4 spaces per indentation level. (Spaces are preferred to tabs)\n",
    " - Limit all lines to a maximum of 79 characters. (preferrence to backslashes)\n",
    " - Line break before the binary operator\n",
    " - Blank lines\n",
    "     - Surround top-level function and class definitions with two blank lines.\n",
    "     - Method definitions inside a class are surrounded by a single blank line.\n",
    "     - Extra blank lines may be used (sparingly) to separate groups of related functions.\n",
    "     - Use blank lines in functions, sparingly, to indicate logical sections.\n",
    "  \n",
    " - In Python standard library must use ASCII-only identifiers, and should use English words wherever feasible.\n",
    " - Code distribution should always use UTF-8, and should not have an encoding declaration.\n",
    " - Imports should usually be on separate lines.\n",
    " - Absolute imports are recommended, as they are usually more readable and tend to be better behaved.\n",
    " - Wildcard imports (from module import * ) should be avoided, will confusing both readers and many automated tools.\n",
    " - Module level \"dunders\"such as __ all__, __ author__, __ version__, etc. should be placed after the module docstring but before any import statements except from __ future__ imports.\n",
    " - Use docstring\n",
    " - Avoid extraneous whitespace in the following situations:\n",
    "     - whitespace immediately after or before parentheses, brackets or braces (eg: spam( ham[ 1 ], { eggs: 2 } ))are wrong.\n",
    "     - whitespace between a trailing comma and a following close parenthesis (eg: bar = (0, )) is wrong.\n",
    "     - whitespace immediately before a comma, semicolon, or colon (eg: if x == 4 : print(x , y) ; x , y = y , x) is wrong.\n",
    "     - In slicing operations\n",
    "     - Immediately before the open parenthesis that starts the argument list of a function call (eg: spam (1)) is wrong.\n",
    "     - Immediately before the open parenthesis that starts an indexing or slicing\n",
    "     - More than one space around an assignment (or other) operator to align it with another.\n",
    "     - Always surround binary operators with a single space on either side.\n",
    "     - Don't use spaces around the = sign when used to indicate a keyword argument.\n",
    "     \n",
    " - multiple statements on the same line are generally discouraged.\n",
    " - Use of regular and updated comments are valuable to both the coders and users.\n",
    " - Naming conventions\n",
    " - While naming of function of methods always use self for the first argument to instance methods and cls for the first argument to class methods.\n",
    " "
   ]
  },
  {
   "cell_type": "markdown",
   "id": "37cfdecd",
   "metadata": {},
   "source": [
    "#### 7. Name three or more ways that functions can communicate results to a caller.\n"
   ]
  },
  {
   "cell_type": "markdown",
   "id": "d8d715f3",
   "metadata": {},
   "source": [
    "1. by using **print statement**; but it returns value in the form of 'NoneType'"
   ]
  },
  {
   "cell_type": "code",
   "execution_count": 3,
   "id": "c5a9a679",
   "metadata": {},
   "outputs": [
    {
     "name": "stdout",
     "output_type": "stream",
     "text": [
      "5\n",
      "5\n",
      "<class 'NoneType'>\n"
     ]
    }
   ],
   "source": [
    "def welcome(n):\n",
    "    if n == 5:\n",
    "        print(n)\n",
    "    \n",
    "    \n",
    "welcome(5)\n",
    "print(type(welcome(5)))"
   ]
  },
  {
   "cell_type": "markdown",
   "id": "7ee5f1d7",
   "metadata": {},
   "source": [
    "2. By using **return statement** ; it returns with its datatype."
   ]
  },
  {
   "cell_type": "code",
   "execution_count": 4,
   "id": "0f2f3e8c",
   "metadata": {},
   "outputs": [
    {
     "name": "stdout",
     "output_type": "stream",
     "text": [
      "5\n",
      "<class 'int'>\n"
     ]
    }
   ],
   "source": [
    "def welcome(n):\n",
    "    if n == 5:\n",
    "        return n\n",
    "    \n",
    "    \n",
    "print(welcome(5))\n",
    "print(type(welcome(5)))"
   ]
  },
  {
   "cell_type": "markdown",
   "id": "b5d8a6ab",
   "metadata": {},
   "source": [
    "3. By using **generator**"
   ]
  },
  {
   "cell_type": "code",
   "execution_count": 5,
   "id": "3cf79b03",
   "metadata": {},
   "outputs": [
    {
     "name": "stdout",
     "output_type": "stream",
     "text": [
      "5\n",
      "<class 'int'>\n"
     ]
    }
   ],
   "source": [
    "def welcome(n):\n",
    "    if n == 5:\n",
    "        yield n \n",
    "    \n",
    "    \n",
    "for i in welcome(5):\n",
    "    print(i)\n",
    "    print(type(i))"
   ]
  }
 ],
 "metadata": {
  "kernelspec": {
   "display_name": "Python 3",
   "language": "python",
   "name": "python3"
  },
  "language_info": {
   "codemirror_mode": {
    "name": "ipython",
    "version": 3
   },
   "file_extension": ".py",
   "mimetype": "text/x-python",
   "name": "python",
   "nbconvert_exporter": "python",
   "pygments_lexer": "ipython3",
   "version": "3.8.8"
  }
 },
 "nbformat": 4,
 "nbformat_minor": 5
}
