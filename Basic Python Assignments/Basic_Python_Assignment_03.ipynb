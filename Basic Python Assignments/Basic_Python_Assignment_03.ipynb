{
 "cells": [
  {
   "cell_type": "markdown",
   "id": "9af9d96a",
   "metadata": {},
   "source": [
    "#### 1. Why are functions advantageous to have in your programs? "
   ]
  },
  {
   "cell_type": "markdown",
   "id": "1a75a338",
   "metadata": {},
   "source": [
    "Functions can divide complex problem into smaller ones also reduces the need for duplicate code. This makes programs shorter, easier to read, and easier to update"
   ]
  },
  {
   "cell_type": "markdown",
   "id": "dbe82699",
   "metadata": {},
   "source": [
    "#### 2. When does the code in a function run: when it's specified or when it's called? "
   ]
  },
  {
   "cell_type": "markdown",
   "id": "b13990d7",
   "metadata": {},
   "source": [
    "when the function is called"
   ]
  },
  {
   "cell_type": "markdown",
   "id": "503c9c67",
   "metadata": {},
   "source": [
    "#### 3. What statement creates a function? "
   ]
  },
  {
   "cell_type": "markdown",
   "id": "3122b943",
   "metadata": {},
   "source": [
    "with 'def' keyword"
   ]
  },
  {
   "cell_type": "markdown",
   "id": "2dd463d5",
   "metadata": {},
   "source": [
    "#### 4. What is the difference between a function and a function call? "
   ]
  },
  {
   "cell_type": "markdown",
   "id": "363e7589",
   "metadata": {},
   "source": [
    "A Function consist of function signature (defines the name of the function and input it expects) and function body (contains the code that runs every time the function is used)\n",
    "A function will execute only when the function is called.\n",
    "eg. shown below:"
   ]
  },
  {
   "cell_type": "code",
   "execution_count": 1,
   "id": "3532d39f",
   "metadata": {},
   "outputs": [
    {
     "name": "stdout",
     "output_type": "stream",
     "text": [
      "Hello World!\n"
     ]
    }
   ],
   "source": [
    "def hello(a):          # Function Signature\n",
    "    return a           # Function Body\n",
    "\n",
    "a = \"Hello World!\"\n",
    "\n",
    "print(hello(a))        # hello(a) is function call"
   ]
  },
  {
   "cell_type": "markdown",
   "id": "434118a6",
   "metadata": {},
   "source": [
    "#### 5. How many global scopes are there in a Python program? How many local scopes? "
   ]
  },
  {
   "cell_type": "markdown",
   "id": "188ae6b3",
   "metadata": {},
   "source": [
    "There is one global scope per program execution.\n",
    "Each call to a function is a new local scope"
   ]
  },
  {
   "cell_type": "code",
   "execution_count": 2,
   "id": "01b77ec2",
   "metadata": {},
   "outputs": [
    {
     "data": {
      "text/plain": [
       "15"
      ]
     },
     "execution_count": 2,
     "metadata": {},
     "output_type": "execute_result"
    }
   ],
   "source": [
    "x = 10                         # Global\n",
    "def outer_function():\n",
    "    y = 5                      # Enclosing\n",
    "    def inner_function():\n",
    "        z = x + y              # Local\n",
    "        return z\n",
    "    return inner_function()\n",
    "outer_function()"
   ]
  },
  {
   "cell_type": "markdown",
   "id": "b17dc709",
   "metadata": {},
   "source": [
    "#### 6. What happens to variables in a local scope when the function call returns? "
   ]
  },
  {
   "cell_type": "markdown",
   "id": "cdb408d2",
   "metadata": {},
   "source": [
    "When a function returns, the local scope is destroyed, and all the variables in it are forgotten."
   ]
  },
  {
   "cell_type": "markdown",
   "id": "ed7bf702",
   "metadata": {},
   "source": [
    "#### 7. What is the concept of a return value? Is it possible to have a return value in an expression? "
   ]
  },
  {
   "cell_type": "markdown",
   "id": "34d39f4e",
   "metadata": {},
   "source": [
    "A return value is used to end the execution of the function call and returns the result (value of the expression following the return keyword) to the caller.\n",
    "\n",
    "Yes, it is possible to have an expression in return value.\n",
    "Example shown below:"
   ]
  },
  {
   "cell_type": "code",
   "execution_count": 3,
   "id": "24f2888c",
   "metadata": {},
   "outputs": [
    {
     "name": "stdout",
     "output_type": "stream",
     "text": [
      "9\n"
     ]
    }
   ],
   "source": [
    "def add(n,m):\n",
    "    return n+m\n",
    "\n",
    "print(add(5,4))"
   ]
  },
  {
   "cell_type": "markdown",
   "id": "3cef7e44",
   "metadata": {},
   "source": [
    "#### 8. If a function does not have a return statement, what is the return value of a call to that function? "
   ]
  },
  {
   "cell_type": "markdown",
   "id": "e0cf88b4",
   "metadata": {},
   "source": [
    "it returns None"
   ]
  },
  {
   "cell_type": "markdown",
   "id": "44ddfc49",
   "metadata": {},
   "source": [
    "#### 9. How do you make a function variable refer to the global variable? "
   ]
  },
  {
   "cell_type": "markdown",
   "id": "d54d7723",
   "metadata": {},
   "source": [
    "Using 'global' keyword inside function\n",
    "eg shown below:"
   ]
  },
  {
   "cell_type": "code",
   "execution_count": 4,
   "id": "5172c238",
   "metadata": {},
   "outputs": [
    {
     "name": "stdout",
     "output_type": "stream",
     "text": [
      "15\n"
     ]
    }
   ],
   "source": [
    "total = 0\n",
    "def sum_total(n):\n",
    "    global total\n",
    "    total = total + n\n",
    "sum_total(15)\n",
    "print(total)"
   ]
  },
  {
   "cell_type": "markdown",
   "id": "c9579962",
   "metadata": {},
   "source": [
    "#### 10. What is the data type of None? "
   ]
  },
  {
   "cell_type": "code",
   "execution_count": 5,
   "id": "7f2b7faa",
   "metadata": {},
   "outputs": [
    {
     "data": {
      "text/plain": [
       "NoneType"
      ]
     },
     "execution_count": 5,
     "metadata": {},
     "output_type": "execute_result"
    }
   ],
   "source": [
    "type(None)"
   ]
  },
  {
   "cell_type": "markdown",
   "id": "05ea897c",
   "metadata": {},
   "source": [
    "#### 11. What does the sentence import areallyourpetsnamederic do? "
   ]
  },
  {
   "cell_type": "markdown",
   "id": "e5bbbe21",
   "metadata": {},
   "source": [
    "The import statement imports a module named areallyourpetsnamederic"
   ]
  },
  {
   "cell_type": "markdown",
   "id": "72eb8dde",
   "metadata": {},
   "source": [
    "#### 12. If you had a bacon() feature in a spam module, what would you call it after importing spam? "
   ]
  },
  {
   "cell_type": "markdown",
   "id": "c24ba1dc",
   "metadata": {},
   "source": [
    "spam.bacon()"
   ]
  },
  {
   "cell_type": "markdown",
   "id": "27a53ea6",
   "metadata": {},
   "source": [
    "#### 13. What can you do to save a programme from crashing if it encounters an error?"
   ]
  },
  {
   "cell_type": "markdown",
   "id": "5db422b2",
   "metadata": {},
   "source": [
    "Sometimes you can predict that a certain exception might occur. Instead of letting the program crash, you can catch the error if it occurs and do something else instead."
   ]
  },
  {
   "cell_type": "code",
   "execution_count": 6,
   "id": "bbe08a27",
   "metadata": {},
   "outputs": [
    {
     "name": "stdout",
     "output_type": "stream",
     "text": [
      "Enter an integer : sddsfd\n",
      "That was not an integer\n"
     ]
    }
   ],
   "source": [
    "try:\n",
    "    num = int(input(\"Enter an integer : \"))    # program statements where exceptions might occur\n",
    "    print(\"The integer is : \",num)\n",
    "except ValueError:                             # except [exception-name]\n",
    "    print(\"That was not an integer\")           # code for exception handling if the exception-name error is encountered\n"
   ]
  },
  {
   "cell_type": "markdown",
   "id": "e82cfe23",
   "metadata": {},
   "source": [
    "#### 14. What is the purpose of the try clause? What is the purpose of the except clause?"
   ]
  },
  {
   "cell_type": "markdown",
   "id": "7bc7c37f",
   "metadata": {},
   "source": [
    "The try block is used to check some code for errors. Whereas the code inside the except block will execute whenever the program encounters some error in the preceding try block."
   ]
  }
 ],
 "metadata": {
  "kernelspec": {
   "display_name": "Python 3",
   "language": "python",
   "name": "python3"
  },
  "language_info": {
   "codemirror_mode": {
    "name": "ipython",
    "version": 3
   },
   "file_extension": ".py",
   "mimetype": "text/x-python",
   "name": "python",
   "nbconvert_exporter": "python",
   "pygments_lexer": "ipython3",
   "version": "3.8.8"
  }
 },
 "nbformat": 4,
 "nbformat_minor": 5
}
