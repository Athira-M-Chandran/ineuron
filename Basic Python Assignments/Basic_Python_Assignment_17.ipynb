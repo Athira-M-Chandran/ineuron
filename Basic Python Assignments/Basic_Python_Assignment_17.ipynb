{
 "cells": [
  {
   "cell_type": "markdown",
   "id": "c19418f7",
   "metadata": {},
   "source": [
    "#### 1. Assign the value 7 to the variable guess_me. Then, write the conditional tests (if, else, and elif) to print the string 'too low' if guess_me is less than 7, 'too high' if greater than 7, and 'just right' if equal to 7.\n"
   ]
  },
  {
   "cell_type": "code",
   "execution_count": 1,
   "id": "73cb4a38",
   "metadata": {},
   "outputs": [
    {
     "name": "stdout",
     "output_type": "stream",
     "text": [
      "Just right\n"
     ]
    }
   ],
   "source": [
    "guess_me = 7\n",
    "if guess_me < 7:\n",
    "    print(\"too low\")\n",
    "elif guess_me > 7:\n",
    "    print(\"too high\")\n",
    "else:\n",
    "    print('Just right')"
   ]
  },
  {
   "cell_type": "markdown",
   "id": "c032aa09",
   "metadata": {},
   "source": [
    "#### 2. Assign the value 7 to the variable guess_me and the value 1 to the variable start. Write a while loop that compares start with guess_me. Print too low if start is less than guess me. If start equals guess_me, print 'found it!' and exit the loop. If start is greater than guess_me, print 'oops' and exit the loop. Increment start at the end of the loop.\n"
   ]
  },
  {
   "cell_type": "code",
   "execution_count": 2,
   "id": "f7daabbc",
   "metadata": {},
   "outputs": [
    {
     "name": "stdout",
     "output_type": "stream",
     "text": [
      "Too low!\n",
      "Too low!\n",
      "Too low!\n",
      "Too low!\n",
      "Too low!\n",
      "Too low!\n",
      "Found it!\n"
     ]
    }
   ],
   "source": [
    "guess_me = 7\n",
    "start = 1\n",
    "while True:\n",
    "    if start < guess_me:\n",
    "        print('Too low!')\n",
    "    elif start == guess_me:\n",
    "        print('Found it!')\n",
    "        break\n",
    "    else:\n",
    "        print('oops')\n",
    "        break\n",
    "    start +=1"
   ]
  },
  {
   "cell_type": "markdown",
   "id": "be1ac1fc",
   "metadata": {},
   "source": [
    "#### 3. Print the following values of the list [3, 2, 1, 0] using a for loop.\n"
   ]
  },
  {
   "cell_type": "code",
   "execution_count": 3,
   "id": "2e96152f",
   "metadata": {},
   "outputs": [
    {
     "name": "stdout",
     "output_type": "stream",
     "text": [
      "3\n",
      "2\n",
      "1\n",
      "0\n"
     ]
    }
   ],
   "source": [
    "list1 = [3, 2, 1, 0]\n",
    "for i in list1:\n",
    "    print(i)"
   ]
  },
  {
   "cell_type": "markdown",
   "id": "2acaca7b",
   "metadata": {},
   "source": [
    "#### 4. Use a list comprehension to make a list of the even numbers in range(10)\n"
   ]
  },
  {
   "cell_type": "code",
   "execution_count": 5,
   "id": "4292cdbc",
   "metadata": {},
   "outputs": [
    {
     "name": "stdout",
     "output_type": "stream",
     "text": [
      "[0, 2, 4, 6, 8]\n"
     ]
    }
   ],
   "source": [
    "l1 = [i for i in range(10) if i % 2 == 0]\n",
    "print(l1)"
   ]
  },
  {
   "cell_type": "markdown",
   "id": "4cf0eb56",
   "metadata": {},
   "source": [
    "#### 5. Use a dictionary comprehension to create the dictionary squares. Use range(10) to return the keys, and use the square of each key as its value.\n"
   ]
  },
  {
   "cell_type": "code",
   "execution_count": 6,
   "id": "9b2a063e",
   "metadata": {},
   "outputs": [
    {
     "name": "stdout",
     "output_type": "stream",
     "text": [
      "{0: 0, 1: 1, 2: 4, 3: 9, 4: 16, 5: 25, 6: 36, 7: 49, 8: 64, 9: 81}\n"
     ]
    }
   ],
   "source": [
    "squares = {keys: keys **2 for keys in range(10)}\n",
    "print(squares)"
   ]
  },
  {
   "cell_type": "markdown",
   "id": "f9b204cc",
   "metadata": {},
   "source": [
    "#### 6. Construct the set odd from the odd numbers in the range using a set comprehension (10).\n"
   ]
  },
  {
   "cell_type": "code",
   "execution_count": 7,
   "id": "dbc73f19",
   "metadata": {},
   "outputs": [
    {
     "name": "stdout",
     "output_type": "stream",
     "text": [
      "{1, 3, 5, 7, 9}\n"
     ]
    }
   ],
   "source": [
    "odd = {n for n in range(10) if n % 2 != 0}\n",
    "print(odd)"
   ]
  },
  {
   "cell_type": "markdown",
   "id": "98410d7d",
   "metadata": {},
   "source": [
    "#### 7. Use a generator comprehension to return the string 'Got ' and a number for the numbers in range(10). Iterate through this by using a for loop.\n"
   ]
  },
  {
   "cell_type": "code",
   "execution_count": 8,
   "id": "69720b50",
   "metadata": {},
   "outputs": [
    {
     "name": "stdout",
     "output_type": "stream",
     "text": [
      "Got 0\n",
      "Got 1\n",
      "Got 2\n",
      "Got 3\n",
      "Got 4\n",
      "Got 5\n",
      "Got 6\n",
      "Got 7\n",
      "Got 8\n",
      "Got 9\n"
     ]
    }
   ],
   "source": [
    "generator = ['Got ' + str(i) for i in range(10)]\n",
    "for i in generator:\n",
    "    print(i)"
   ]
  },
  {
   "cell_type": "markdown",
   "id": "257ded91",
   "metadata": {},
   "source": [
    "#### 8. Define a function called good that returns the list ['Harry', 'Ron', 'Hermione'].\n"
   ]
  },
  {
   "cell_type": "code",
   "execution_count": 10,
   "id": "4c1bc605",
   "metadata": {},
   "outputs": [
    {
     "data": {
      "text/plain": [
       "['Harry', 'Ron', 'Hermione']"
      ]
     },
     "execution_count": 10,
     "metadata": {},
     "output_type": "execute_result"
    }
   ],
   "source": [
    "def good():\n",
    "    return ['Harry', 'Ron', 'Hermione']\n",
    "good()"
   ]
  },
  {
   "cell_type": "markdown",
   "id": "9589aff7",
   "metadata": {},
   "source": [
    "#### 9. Define a generator function called get_odds that returns the odd numbers from range(10). Use a for loop to find and print the third value returned.\n"
   ]
  },
  {
   "cell_type": "code",
   "execution_count": 11,
   "id": "3990f61f",
   "metadata": {},
   "outputs": [
    {
     "name": "stdout",
     "output_type": "stream",
     "text": [
      "5\n"
     ]
    }
   ],
   "source": [
    "def get_odds():\n",
    "    yield [odd for odd in range(10) if odd % 2 != 0]\n",
    "    \n",
    "for i in get_odds():\n",
    "    print(i[2])  # starting from 0 ; third values index position is 2"
   ]
  },
  {
   "cell_type": "markdown",
   "id": "d2a33a51",
   "metadata": {},
   "source": [
    "#### 10. Define an exception called OopsException. Raise this exception to see what happens. Then write the code to catch this exception and print 'Caught an oops'.\n"
   ]
  },
  {
   "cell_type": "code",
   "execution_count": 13,
   "id": "a9710b96",
   "metadata": {},
   "outputs": [],
   "source": [
    "class OopsException(Exception):\n",
    "    pass"
   ]
  },
  {
   "cell_type": "code",
   "execution_count": 14,
   "id": "e07e8ee8",
   "metadata": {},
   "outputs": [
    {
     "ename": "OopsException",
     "evalue": "",
     "output_type": "error",
     "traceback": [
      "\u001b[1;31m---------------------------------------------------------------------------\u001b[0m",
      "\u001b[1;31mOopsException\u001b[0m                             Traceback (most recent call last)",
      "\u001b[1;32m<ipython-input-14-af3f814c0532>\u001b[0m in \u001b[0;36m<module>\u001b[1;34m\u001b[0m\n\u001b[1;32m----> 1\u001b[1;33m \u001b[1;32mraise\u001b[0m \u001b[0mOopsException\u001b[0m\u001b[1;33m\u001b[0m\u001b[1;33m\u001b[0m\u001b[0m\n\u001b[0m",
      "\u001b[1;31mOopsException\u001b[0m: "
     ]
    }
   ],
   "source": [
    "raise OopsException"
   ]
  },
  {
   "cell_type": "code",
   "execution_count": 15,
   "id": "f18a6d86",
   "metadata": {},
   "outputs": [
    {
     "name": "stdout",
     "output_type": "stream",
     "text": [
      "Caught an oops\n"
     ]
    }
   ],
   "source": [
    "def raiseException():\n",
    "    raise OopsException('Caught an oops')\n",
    "\n",
    "    \n",
    "try:\n",
    "    raiseException()\n",
    "\n",
    "except OopsException as error:\n",
    "    print(error)"
   ]
  },
  {
   "cell_type": "markdown",
   "id": "12e082f5",
   "metadata": {},
   "source": [
    "#### 11. Use zip() to make a dictionary called movies that pairs these lists: titles = ['Creature of Habit', 'Crewel Fate'] and plots = ['A nun turns into a monster', 'A haunted yarn shop'].\n"
   ]
  },
  {
   "cell_type": "code",
   "execution_count": 12,
   "id": "d43238cf",
   "metadata": {},
   "outputs": [
    {
     "name": "stdout",
     "output_type": "stream",
     "text": [
      "{'Creature of Habit': 'A nun turns into a monster', 'Crewel Fate': 'A haunted yarn shop'}\n"
     ]
    }
   ],
   "source": [
    "titles = ['Creature of Habit', 'Crewel Fate']\n",
    "plots = ['A nun turns into a monster', 'A haunted yarn shop']\n",
    "movies = dict(zip(titles,plots))\n",
    "print(movies)"
   ]
  }
 ],
 "metadata": {
  "kernelspec": {
   "display_name": "Python 3",
   "language": "python",
   "name": "python3"
  },
  "language_info": {
   "codemirror_mode": {
    "name": "ipython",
    "version": 3
   },
   "file_extension": ".py",
   "mimetype": "text/x-python",
   "name": "python",
   "nbconvert_exporter": "python",
   "pygments_lexer": "ipython3",
   "version": "3.8.8"
  }
 },
 "nbformat": 4,
 "nbformat_minor": 5
}
