{
 "cells": [
  {
   "cell_type": "markdown",
   "id": "aef72ac4",
   "metadata": {},
   "source": [
    "#### 1. To what does a relative path refer?\n"
   ]
  },
  {
   "cell_type": "markdown",
   "id": "c5e919f7",
   "metadata": {},
   "source": [
    "A relative path refers to a location that is relative to a current directory. Relative paths make use of two special symbols, a dot (.) and a double-dot (..)"
   ]
  },
  {
   "cell_type": "markdown",
   "id": "05dfbc54",
   "metadata": {},
   "source": [
    "#### 2. What does an absolute path start with your operating system?\n"
   ]
  },
  {
   "cell_type": "markdown",
   "id": "89ba9966",
   "metadata": {},
   "source": [
    "An absolute path always begins with the root folder , using either / or C:\\."
   ]
  },
  {
   "cell_type": "markdown",
   "id": "be8eb9a3",
   "metadata": {},
   "source": [
    "#### 3. What do the functions os.getcwd() and os.chdir() do?\n"
   ]
  },
  {
   "cell_type": "markdown",
   "id": "0e769192",
   "metadata": {},
   "source": [
    "os.getcwd() - get the current working directory\n",
    "os.chdir()  - change working directory"
   ]
  },
  {
   "cell_type": "markdown",
   "id": "9a76b8a8",
   "metadata": {},
   "source": [
    "#### 4. What are the . and .. folders?\n"
   ]
  },
  {
   "cell_type": "markdown",
   "id": "e1e09475",
   "metadata": {},
   "source": [
    ". folder- current directory\n",
    ".. folder - parent directory"
   ]
  },
  {
   "cell_type": "markdown",
   "id": "6a47e9bf",
   "metadata": {},
   "source": [
    "#### 5. In C:\\bacon\\eggs\\spam.txt, which part is the dir name, and which part is the base name?\n"
   ]
  },
  {
   "cell_type": "markdown",
   "id": "2b71e892",
   "metadata": {},
   "source": [
    "dir name - C:\\bacon\\eggs\n",
    "base name - spam.txt"
   ]
  },
  {
   "cell_type": "markdown",
   "id": "d8cafa87",
   "metadata": {},
   "source": [
    "#### 6. What are the three “mode” arguments that can be passed to the open() function?\n"
   ]
  },
  {
   "cell_type": "markdown",
   "id": "bd2fc41a",
   "metadata": {},
   "source": [
    "\"r\" - read mode\n",
    "\"w\" - write mode\n",
    "\"a\" - appemd mode"
   ]
  },
  {
   "cell_type": "markdown",
   "id": "740a9ce3",
   "metadata": {},
   "source": [
    "#### 7. What happens if an existing file is opened in write mode?\n"
   ]
  },
  {
   "cell_type": "markdown",
   "id": "661a5da9",
   "metadata": {},
   "source": [
    "will completely erase the existing file and overwritten the file"
   ]
  },
  {
   "cell_type": "markdown",
   "id": "1972ef5d",
   "metadata": {},
   "source": [
    "#### 8. How do you tell the difference between read() and readlines()?\n"
   ]
  },
  {
   "cell_type": "markdown",
   "id": "e4c4cbc3",
   "metadata": {},
   "source": [
    "read() - returns whole file\n",
    "readlines() - returns line by line"
   ]
  },
  {
   "cell_type": "markdown",
   "id": "170739bc",
   "metadata": {},
   "source": [
    "#### 9. What data structure does a shelf value resemble?\n"
   ]
  },
  {
   "cell_type": "markdown",
   "id": "c6c9bc58",
   "metadata": {},
   "source": [
    "A shelf value resembles a dictionary value, it has keys and values, along with keys() and values() methods that work similarly to the dictionary methods of the same names."
   ]
  }
 ],
 "metadata": {
  "kernelspec": {
   "display_name": "Python 3",
   "language": "python",
   "name": "python3"
  },
  "language_info": {
   "codemirror_mode": {
    "name": "ipython",
    "version": 3
   },
   "file_extension": ".py",
   "mimetype": "text/x-python",
   "name": "python",
   "nbconvert_exporter": "python",
   "pygments_lexer": "ipython3",
   "version": "3.8.8"
  }
 },
 "nbformat": 4,
 "nbformat_minor": 5
}
