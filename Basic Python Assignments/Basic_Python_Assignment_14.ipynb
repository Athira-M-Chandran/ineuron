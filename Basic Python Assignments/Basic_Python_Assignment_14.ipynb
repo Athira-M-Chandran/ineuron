{
 "cells": [
  {
   "cell_type": "markdown",
   "id": "9525b3c2",
   "metadata": {},
   "source": [
    "#### 1. What does RGBA stand for?\n"
   ]
  },
  {
   "cell_type": "markdown",
   "id": "43fac13a",
   "metadata": {},
   "source": [
    "RGBA stands for Red Green Blue Alpha"
   ]
  },
  {
   "cell_type": "markdown",
   "id": "85034a14",
   "metadata": {},
   "source": [
    "#### 2. From the Pillow module, how do you get the RGBA value of any images?\n"
   ]
  },
  {
   "cell_type": "code",
   "execution_count": 1,
   "id": "3e7c435e",
   "metadata": {},
   "outputs": [
    {
     "name": "stdout",
     "output_type": "stream",
     "text": [
      "(39, 107, 189, 255)\n"
     ]
    }
   ],
   "source": [
    "from PIL import Image\n",
    "img = Image.open('image1.png')\n",
    "colors = img.getpixel((320,240))   # Get RGBA values at coordinate x = 320, y = 240\n",
    "print(colors)\n"
   ]
  },
  {
   "cell_type": "markdown",
   "id": "79f6e370",
   "metadata": {},
   "source": [
    "#### 3. What is a box tuple, and how does it work?\n"
   ]
  },
  {
   "cell_type": "markdown",
   "id": "1483c4b0",
   "metadata": {},
   "source": [
    "Box tuple must have 4 arguments:\n",
    "    \n",
    "    Left -  x-coordinate of the leftmost edge of the box.\n",
    "    \n",
    "    Top  -  y-coordinate of the top edge of the box.\n",
    "    \n",
    "    Right-  x-coordinate of one pixel to the right of the rightmost edge of the box (must be greater than the left integer)\n",
    "    \n",
    "    Bottom The y-coordinate of one pixel lower than the bottom edge of the box (must be greater than the top integer)"
   ]
  },
  {
   "cell_type": "markdown",
   "id": "fb8ed39d",
   "metadata": {},
   "source": [
    "#### 4. Use your image and load in notebook then, How can you find out the width and height of an Image object?\n"
   ]
  },
  {
   "cell_type": "code",
   "execution_count": 2,
   "id": "24df9357",
   "metadata": {},
   "outputs": [
    {
     "data": {
      "text/plain": [
       "(718, 1080)"
      ]
     },
     "execution_count": 2,
     "metadata": {},
     "output_type": "execute_result"
    }
   ],
   "source": [
    "from PIL import Image\n",
    "img1 = Image.open(\"image1.png\")\n",
    "img1.size    # width, height format"
   ]
  },
  {
   "cell_type": "markdown",
   "id": "5ce929c1",
   "metadata": {},
   "source": [
    "#### 5. What method would you call to get Image object for a 100×100 image, excluding the lower-left quarter of it?\n"
   ]
  },
  {
   "cell_type": "code",
   "execution_count": 3,
   "id": "4bc3d305",
   "metadata": {},
   "outputs": [],
   "source": [
    "img2 = Image.open(\"image1.png\")\n",
    "width ,height = img2.size\n",
    "\n",
    "# using box tuple inside the crop\n",
    "# for excluding lower left - half the width\n",
    "# for 100x 100 image - width/2 + 100; so 100 width image\n",
    "# for 100 x 100 image - take bottom as height itself and subtracting 100 from it.\n",
    "\n",
    "img2_crop = img2.crop((width//2, height-100, (width//2)+100, height))\n",
    "img2_crop.save('new_img.png')"
   ]
  },
  {
   "cell_type": "markdown",
   "id": "c5974271",
   "metadata": {},
   "source": [
    "#### 6. After making changes to an Image object, how could you save it as an image file?\n"
   ]
  },
  {
   "cell_type": "markdown",
   "id": "14fb9e1b",
   "metadata": {},
   "source": [
    "img.save(\"new_filename.png\")"
   ]
  },
  {
   "cell_type": "markdown",
   "id": "814fc10c",
   "metadata": {},
   "source": [
    "#### 7. What module contains Pillow’s shape-drawing code?\n"
   ]
  },
  {
   "cell_type": "markdown",
   "id": "3a94c59a",
   "metadata": {},
   "source": [
    "ImageDraw"
   ]
  },
  {
   "cell_type": "markdown",
   "id": "1e19782f",
   "metadata": {},
   "source": [
    "#### 8. Image objects do not have drawing methods. What kind of object does? How do you get this kind of object?\n"
   ]
  },
  {
   "cell_type": "markdown",
   "id": "4a9b65ce",
   "metadata": {},
   "source": [
    "ImageDraw object does and get it by passing image to ImageDraw.Draw()"
   ]
  }
 ],
 "metadata": {
  "kernelspec": {
   "display_name": "Python 3",
   "language": "python",
   "name": "python3"
  },
  "language_info": {
   "codemirror_mode": {
    "name": "ipython",
    "version": 3
   },
   "file_extension": ".py",
   "mimetype": "text/x-python",
   "name": "python",
   "nbconvert_exporter": "python",
   "pygments_lexer": "ipython3",
   "version": "3.8.8"
  }
 },
 "nbformat": 4,
 "nbformat_minor": 5
}
