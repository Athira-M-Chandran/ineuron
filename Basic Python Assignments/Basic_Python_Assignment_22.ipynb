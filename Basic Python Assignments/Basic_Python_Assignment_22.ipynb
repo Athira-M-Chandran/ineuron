{
 "cells": [
  {
   "cell_type": "markdown",
   "id": "449a602e",
   "metadata": {},
   "source": [
    "#### 1. What is the result of the code, and explain?\n",
    "\n",
    "\n",
    " X = 'iNeuron'\n",
    "\n",
    " def func():\n",
    "\n",
    "       print(X)\n",
    "\n",
    "\n",
    " func()\n"
   ]
  },
  {
   "cell_type": "code",
   "execution_count": 1,
   "id": "3a1ab157",
   "metadata": {},
   "outputs": [
    {
     "name": "stdout",
     "output_type": "stream",
     "text": [
      "iNeuron\n"
     ]
    }
   ],
   "source": [
    "# value 'iNeuron' is assigned to variable X and here X is a global variable\n",
    "X = 'iNeuron' \n",
    "\n",
    "\n",
    "def func():            # function definition\n",
    "    print(X)           # Print value of X; iNeuron ; since X is a global variable ,Return in the form of NoneType\n",
    "\n",
    "func()    # function call"
   ]
  },
  {
   "cell_type": "markdown",
   "id": "20219be0",
   "metadata": {},
   "source": [
    "#### 2. What is the result of the code, and explain?\n",
    "\n",
    "\n",
    " X = 'iNeuron'\n",
    "\n",
    " def func():\n",
    "\n",
    "    X = 'NI!'\n",
    "\n",
    "\n",
    " func()\n",
    "\n",
    " print(X)\n"
   ]
  },
  {
   "cell_type": "code",
   "execution_count": 2,
   "id": "1affaaa8",
   "metadata": {},
   "outputs": [
    {
     "name": "stdout",
     "output_type": "stream",
     "text": [
      "iNeuron\n"
     ]
    }
   ],
   "source": [
    "X = 'iNeuron'\n",
    "\n",
    "def func():\n",
    "    X = 'NI!'\n",
    "\n",
    "func()\n",
    "\n",
    "print(X)"
   ]
  },
  {
   "cell_type": "markdown",
   "id": "76147ca5",
   "metadata": {},
   "source": [
    "Here, first X is a global variable , valued 'iNeuron'.\n",
    "\n",
    "X value inside the function is local variable.\n",
    "But func() is not returning any value.\n",
    "\n",
    "So, when print(X) is executed, the value of global variable is printed."
   ]
  },
  {
   "cell_type": "markdown",
   "id": "36866de5",
   "metadata": {},
   "source": [
    "#### 3. What does this code print, and why?\n",
    "\n",
    "\n",
    " X = 'iNeuron'\n",
    "\n",
    " def func():\n",
    "\n",
    "    X = 'NI'\n",
    "\n",
    "    print(X)\n",
    "\n",
    " func()\n",
    "\n",
    " print(X)\n"
   ]
  },
  {
   "cell_type": "code",
   "execution_count": 3,
   "id": "fd6be7ed",
   "metadata": {},
   "outputs": [
    {
     "name": "stdout",
     "output_type": "stream",
     "text": [
      "NI\n",
      "iNeuron\n"
     ]
    }
   ],
   "source": [
    "X = 'iNeuron'\n",
    "def func():\n",
    "    X = 'NI'\n",
    "    print(X)\n",
    "    \n",
    "func()\n",
    "print(X)"
   ]
  },
  {
   "cell_type": "markdown",
   "id": "baa4d474",
   "metadata": {},
   "source": [
    "Here also 2 values are assigned to X, one as globally and other as local variable\n",
    "\n",
    "Local variable value will applicable only inside the function. Hence func() will print 'NI' as output and print(X) will print 'iNeuron' as output"
   ]
  },
  {
   "cell_type": "markdown",
   "id": "6d3a1365",
   "metadata": {},
   "source": [
    "#### 4. What output does this code produce? Why?\n",
    "\n",
    "\n",
    " X = 'iNeuron'\n",
    "\n",
    " def func():\n",
    "\n",
    "    global X\n",
    "    X = 'NI'\n",
    "\n",
    " func()\n",
    "\n",
    " print(X)\n"
   ]
  },
  {
   "cell_type": "code",
   "execution_count": 4,
   "id": "22d39e85",
   "metadata": {},
   "outputs": [
    {
     "name": "stdout",
     "output_type": "stream",
     "text": [
      "NI\n"
     ]
    }
   ],
   "source": [
    "X = 'iNeuron'\n",
    "def func():\n",
    "    global X\n",
    "    X = 'NI'\n",
    "\n",
    "func()\n",
    "print(X)"
   ]
  },
  {
   "cell_type": "markdown",
   "id": "b25bf14d",
   "metadata": {},
   "source": [
    "Here, X is declared as global inside the function, so new value X become 'NI' and it is printed"
   ]
  },
  {
   "cell_type": "markdown",
   "id": "ab45cdb9",
   "metadata": {},
   "source": [
    "#### 5. What about this code—what’s the output, and why?\n",
    "\n",
    "\n",
    " X = 'iNeuron'\n",
    "\n",
    " def func():\n",
    "\n",
    "     X = 'NI'\n",
    "\n",
    "     def nested():\n",
    "        \n",
    "        print(X)\n",
    "        \n",
    "     nested()\n",
    "\n",
    "\n",
    " func()\n",
    "\n",
    " X\n"
   ]
  },
  {
   "cell_type": "code",
   "execution_count": 7,
   "id": "45265f70",
   "metadata": {},
   "outputs": [
    {
     "name": "stdout",
     "output_type": "stream",
     "text": [
      "NI\n"
     ]
    },
    {
     "data": {
      "text/plain": [
       "'iNeuron'"
      ]
     },
     "execution_count": 7,
     "metadata": {},
     "output_type": "execute_result"
    }
   ],
   "source": [
    "X = 'iNeuron'\n",
    "\n",
    "def func():\n",
    "\n",
    "    X = 'NI'\n",
    "    def nested():\n",
    "        print(X)\n",
    "    nested()\n",
    "\n",
    "func()\n",
    "X"
   ]
  },
  {
   "cell_type": "markdown",
   "id": "24567793",
   "metadata": {},
   "source": [
    "Nested function have preference to outer function,So, Here nested() is returning 'NI', which is declared as enclosing variable (Variable in the outer function).\n",
    "\n",
    "Then, print(x) will execute and print 'iNeuron' because 'iNeuron' is assigned as global variable (Outside the function).\n",
    "'NI' is applicable only inside the function unless it is not globally assigned."
   ]
  },
  {
   "cell_type": "markdown",
   "id": "b4717325",
   "metadata": {},
   "source": [
    "#### 6. How about this code: what is its output in Python 3, and explain?\n",
    "\n",
    "\n",
    " def func():\n",
    "    \n",
    "        X = 'NI'\n",
    "\n",
    "    def nested():\n",
    "    \n",
    "        nonlocal X\n",
    "    \n",
    "        X = 'Spam'\n",
    "    \n",
    "     nested()\n",
    "    \n",
    "     print(X)\n",
    "\n",
    " func()\n"
   ]
  },
  {
   "cell_type": "code",
   "execution_count": 6,
   "id": "edd18d8a",
   "metadata": {},
   "outputs": [
    {
     "name": "stdout",
     "output_type": "stream",
     "text": [
      "Spam\n"
     ]
    }
   ],
   "source": [
    "def func():\n",
    "    X = 'NI'\n",
    "    \n",
    "    def nested():\n",
    "        nonlocal X\n",
    "        X = 'Spam'\n",
    "    \n",
    "    nested()\n",
    "    print(X)\n",
    "\n",
    "func()\n",
    "\n"
   ]
  },
  {
   "cell_type": "markdown",
   "id": "ebe9ebd2",
   "metadata": {},
   "source": [
    "Here X in the nested function is declared as not local variable (nonlocal keyword used), so the value of X overrides the previous value 'NI' with 'Spam' and the same is printed."
   ]
  }
 ],
 "metadata": {
  "kernelspec": {
   "display_name": "Python 3",
   "language": "python",
   "name": "python3"
  },
  "language_info": {
   "codemirror_mode": {
    "name": "ipython",
    "version": 3
   },
   "file_extension": ".py",
   "mimetype": "text/x-python",
   "name": "python",
   "nbconvert_exporter": "python",
   "pygments_lexer": "ipython3",
   "version": "3.8.8"
  }
 },
 "nbformat": 4,
 "nbformat_minor": 5
}
