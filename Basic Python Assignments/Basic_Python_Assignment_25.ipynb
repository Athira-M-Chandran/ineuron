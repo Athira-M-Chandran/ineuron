{
 "cells": [
  {
   "cell_type": "markdown",
   "id": "33c82278",
   "metadata": {},
   "source": [
    "#### 1) . What is the difference between enclosing a list comprehension in square brackets and parentheses?\n"
   ]
  },
  {
   "cell_type": "code",
   "execution_count": null,
   "id": "8709bf3e",
   "metadata": {},
   "outputs": [],
   "source": [
    "List comprehension in square brackets executed immediately and returns list.\n",
    "\n",
    "List comprehension in parentheses is a Generator expression and returns an object that can be iterate over."
   ]
  },
  {
   "cell_type": "code",
   "execution_count": 2,
   "id": "0630d8ff",
   "metadata": {},
   "outputs": [
    {
     "name": "stdout",
     "output_type": "stream",
     "text": [
      "Type of list in square brackets :  <class 'list'>\n",
      "Type of list in parentheses :   <class 'generator'>\n"
     ]
    }
   ],
   "source": [
    "list_in_square = [i for i in range(100)]\n",
    "list_in_parentheses = (i for i in range(100))\n",
    "\n",
    "print(\"Type of list in square brackets : \", type(list_in_square))\n",
    "print(\"Type of list in parentheses :  \" , type(list_in_parentheses))"
   ]
  },
  {
   "cell_type": "markdown",
   "id": "0351739f",
   "metadata": {},
   "source": [
    "#### 2) What is the relationship between generators and iterators?\n"
   ]
  },
  {
   "cell_type": "markdown",
   "id": "e2f93dcf",
   "metadata": {},
   "source": [
    "Iterators are used mostly to iterate or convert other objects to an iterator using iter() function.\n",
    "Iterator uses iter() and next() functions \n",
    "\n",
    "Generators are mostly used in loops to generate an iterator by returning all the values in the loop without affecting the iteration of the loop.\n",
    "Generator uses yield keyword\n",
    "\n",
    "Every iterator is not a generator. Every generator is an iterator"
   ]
  },
  {
   "cell_type": "markdown",
   "id": "abf9f284",
   "metadata": {},
   "source": [
    "#### 3) What are the signs that a function is a generator function?\n"
   ]
  },
  {
   "cell_type": "markdown",
   "id": "95a80a92",
   "metadata": {},
   "source": [
    "If a function contains at least one **yield statement** (it may contain other yield or return statements), it becomes a generator function. Both yield and return will return some value from a function."
   ]
  },
  {
   "cell_type": "markdown",
   "id": "5fa620e8",
   "metadata": {},
   "source": [
    "#### 4) What is the purpose of a yield statement?\n"
   ]
  },
  {
   "cell_type": "markdown",
   "id": "d509b74d",
   "metadata": {},
   "source": [
    " - The implementation was concise and much cleaner.\n",
    " - Memory efficient (Produces one item at a time)\n",
    " - Represent an infinite stream of data.\n",
    " - Multiple generators can be used to pipeline a series of operations.\n"
   ]
  },
  {
   "cell_type": "markdown",
   "id": "619ac57d",
   "metadata": {},
   "source": [
    "#### 5) What is the relationship between map calls and list comprehensions? Make a comparison and contrast between the two.\n"
   ]
  },
  {
   "cell_type": "markdown",
   "id": "10470dd7",
   "metadata": {},
   "source": [
    " - List comprehension is more concise and easier to read as compared to map.\n",
    " - List comprehension allows filtering. \n",
    "     In map, we have no such facility. For example, to print all even numbers in range of 100, we can write [n for n in range(100) if n%2 == 0]. There is no alternate for it in map.\n",
    " - List comprehension are used when a list of results is required as map only returns a map object and does not return any list.\n",
    " - List comprehension is faster than map when we need to evaluate expressions that are too long or complicated to express.\n",
    " - Map is faster in case of calling an already defined function (as no lambda is required)"
   ]
  }
 ],
 "metadata": {
  "kernelspec": {
   "display_name": "Python 3",
   "language": "python",
   "name": "python3"
  },
  "language_info": {
   "codemirror_mode": {
    "name": "ipython",
    "version": 3
   },
   "file_extension": ".py",
   "mimetype": "text/x-python",
   "name": "python",
   "nbconvert_exporter": "python",
   "pygments_lexer": "ipython3",
   "version": "3.8.8"
  }
 },
 "nbformat": 4,
 "nbformat_minor": 5
}
