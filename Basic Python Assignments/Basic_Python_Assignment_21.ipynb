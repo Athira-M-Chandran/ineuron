{
 "cells": [
  {
   "cell_type": "markdown",
   "id": "61f7cd41",
   "metadata": {},
   "source": [
    "#### 1. Add the current date to the text file today.txt as a string.\n"
   ]
  },
  {
   "cell_type": "code",
   "execution_count": 1,
   "id": "b09ede03",
   "metadata": {},
   "outputs": [],
   "source": [
    "from datetime import date\n",
    "date_today = date.today()"
   ]
  },
  {
   "cell_type": "code",
   "execution_count": 2,
   "id": "1d2d2096",
   "metadata": {},
   "outputs": [],
   "source": [
    "try:\n",
    "    f = open('today.txt','w')\n",
    "    f.write(str(date_today))\n",
    "    f.close()\n",
    "except Exception as e:\n",
    "    print(e)"
   ]
  },
  {
   "cell_type": "markdown",
   "id": "c6d11d6e",
   "metadata": {},
   "source": [
    "#### 2. Read the text file today.txt into the string today_string\n"
   ]
  },
  {
   "cell_type": "code",
   "execution_count": 3,
   "id": "4126a858",
   "metadata": {},
   "outputs": [
    {
     "name": "stdout",
     "output_type": "stream",
     "text": [
      "2022-01-26\n"
     ]
    }
   ],
   "source": [
    "try:\n",
    "    f= open('today.txt', 'r')\n",
    "    today_string = f.read()\n",
    "    print(today_string)\n",
    "    f.close()\n",
    "except Exception as e:\n",
    "    print(e)"
   ]
  },
  {
   "cell_type": "markdown",
   "id": "6bdf6a86",
   "metadata": {},
   "source": [
    "#### 3. Parse the date from today_string.\n"
   ]
  },
  {
   "cell_type": "code",
   "execution_count": 4,
   "id": "dd44ffc6",
   "metadata": {},
   "outputs": [
    {
     "name": "stdout",
     "output_type": "stream",
     "text": [
      "2022-01-26 00:00:00\n",
      "<class 'datetime.datetime'>\n"
     ]
    }
   ],
   "source": [
    "from dateutil import parser\n",
    "parsed_date = parser.parse(today_string)\n",
    "print(parsed_date)\n",
    "print(type(parsed_date))"
   ]
  },
  {
   "cell_type": "markdown",
   "id": "ceb9b5b3",
   "metadata": {},
   "source": [
    "#### 4. List the files in your current directory\n"
   ]
  },
  {
   "cell_type": "code",
   "execution_count": 5,
   "id": "8a656e36",
   "metadata": {},
   "outputs": [],
   "source": [
    "import os"
   ]
  },
  {
   "cell_type": "code",
   "execution_count": 6,
   "id": "b9e9daf5",
   "metadata": {},
   "outputs": [
    {
     "data": {
      "text/plain": [
       "['.ipynb_checkpoints',\n",
       " 'Assignment_1.docx',\n",
       " 'Assignment_10.docx',\n",
       " 'Assignment_11.docx',\n",
       " 'Assignment_12.docx',\n",
       " 'Assignment_13.docx',\n",
       " 'Assignment_14.docx',\n",
       " 'Assignment_15.docx',\n",
       " 'Assignment_16.docx',\n",
       " 'Assignment_17.docx',\n",
       " 'Assignment_18.docx',\n",
       " 'Assignment_19.docx',\n",
       " 'Assignment_2.docx',\n",
       " 'Assignment_20.docx',\n",
       " 'Assignment_3.docx',\n",
       " 'Assignment_4.docx',\n",
       " 'Assignment_5.docx',\n",
       " 'Assignment_6.docx',\n",
       " 'Assignment_7.docx',\n",
       " 'Assignment_8.docx',\n",
       " 'Assignment_9.docx',\n",
       " 'Basic_Python_Assignment_01.ipynb',\n",
       " 'Basic_Python_Assignment_02.ipynb',\n",
       " 'Basic_python_assignment_03.ipynb',\n",
       " 'Basic_Python_Assignment_04.ipynb',\n",
       " 'Basic_Python_Assignment_05.ipynb',\n",
       " 'Basic_Python_Assignment_06.ipynb',\n",
       " 'Basic_Python_Assignment_07.ipynb',\n",
       " 'Basic_Python_Assignment_08.ipynb',\n",
       " 'Basic_Python_Assignment_09.ipynb',\n",
       " 'Basic_Python_Assignment_10.ipynb',\n",
       " 'Basic_Python_Assignment_11.ipynb',\n",
       " 'Basic_Python_Assignment_12.ipynb',\n",
       " 'Basic_Python_Assignment_13.ipynb',\n",
       " 'Basic_Python_Assignment_14.ipynb',\n",
       " 'Basic_Python_Assignment_15.ipynb',\n",
       " 'Basic_Python_Assignment_16.ipynb',\n",
       " 'Basic_Python_Assignment_17.ipynb',\n",
       " 'Basic_Python_Assignment_18.ipynb',\n",
       " 'Basic_Python_Assignment_19.ipynb',\n",
       " 'Basic_Python_Assignment_20.ipynb',\n",
       " 'Basic_Python_Assignment_21.ipynb',\n",
       " 'books.csv',\n",
       " 'books.db',\n",
       " 'image1.png',\n",
       " 'new_img.png',\n",
       " 'pract.ipynb',\n",
       " 'test.txt',\n",
       " 'today.txt',\n",
       " 'zoo.py',\n",
       " '__pycache__']"
      ]
     },
     "execution_count": 6,
     "metadata": {},
     "output_type": "execute_result"
    }
   ],
   "source": [
    "os.listdir()"
   ]
  },
  {
   "cell_type": "markdown",
   "id": "33c81779",
   "metadata": {},
   "source": [
    "#### 5. Create a list of all of the files in your parent directory (minimum five files should be available).\n"
   ]
  },
  {
   "cell_type": "code",
   "execution_count": 7,
   "id": "128bb4bf",
   "metadata": {},
   "outputs": [
    {
     "data": {
      "text/plain": [
       "['.ipynb_checkpoints',\n",
       " '01 python basic.ipynb',\n",
       " '02 for loop while and range function  (1).ipynb',\n",
       " '03 string and list manupulation.ipynb',\n",
       " '04 list manupulaton.ipynb',\n",
       " '05 TUPLE SET AND DICT.ipynb',\n",
       " '06 Function in pyton  (1).ipynb',\n",
       " '07 Function and files.ipynb',\n",
       " '08 logging and debuging.ipynb',\n",
       " '10 class and object.ipynb',\n",
       " 'Advanced Assignments',\n",
       " 'Basic Assignments',\n",
       " 'Basic Programming Assignments',\n",
       " 'logging',\n",
       " 'pract',\n",
       " 'Practice.ipynb',\n",
       " 'test.txt',\n",
       " 'test1.txt']"
      ]
     },
     "execution_count": 7,
     "metadata": {},
     "output_type": "execute_result"
    }
   ],
   "source": [
    "os.listdir('../')"
   ]
  },
  {
   "cell_type": "markdown",
   "id": "d29826dc",
   "metadata": {},
   "source": [
    "#### 6. Use multiprocessing to create three separate processes. Make each one wait a random number of seconds between one and five, print the current time, and then exit.\n"
   ]
  },
  {
   "cell_type": "code",
   "execution_count": null,
   "id": "573c2533",
   "metadata": {},
   "outputs": [],
   "source": []
  },
  {
   "cell_type": "markdown",
   "id": "0db0c97c",
   "metadata": {},
   "source": [
    "#### 7. Create a date object of your day of birth.\n"
   ]
  },
  {
   "cell_type": "code",
   "execution_count": 8,
   "id": "3881d3b3",
   "metadata": {},
   "outputs": [
    {
     "name": "stdout",
     "output_type": "stream",
     "text": [
      "1990-09-26\n"
     ]
    }
   ],
   "source": [
    "from datetime import date\n",
    "day_of_birth = date(1990,9,26)\n",
    "print(day_of_birth)\n"
   ]
  },
  {
   "cell_type": "markdown",
   "id": "e3c38f2a",
   "metadata": {},
   "source": [
    "#### 8. What day of the week was your day of birth?\n"
   ]
  },
  {
   "cell_type": "code",
   "execution_count": 10,
   "id": "c6b88162",
   "metadata": {},
   "outputs": [
    {
     "name": "stdout",
     "output_type": "stream",
     "text": [
      "2\n",
      "Wednesday\n"
     ]
    }
   ],
   "source": [
    "print(day_of_birth.weekday())    # starting from sunday as 0\n",
    "print(day_of_birth.strftime('%A'))"
   ]
  },
  {
   "cell_type": "markdown",
   "id": "3ffac118",
   "metadata": {},
   "source": [
    "#### 9. When will you be (or when were you) 10,000 days old?\n"
   ]
  },
  {
   "cell_type": "code",
   "execution_count": 11,
   "id": "bc4719a6",
   "metadata": {},
   "outputs": [
    {
     "name": "stdout",
     "output_type": "stream",
     "text": [
      "2018-02-11\n"
     ]
    }
   ],
   "source": [
    "from datetime import timedelta\n",
    "when = day_of_birth + timedelta(days = 10000)\n",
    "print(when)"
   ]
  }
 ],
 "metadata": {
  "kernelspec": {
   "display_name": "Python 3",
   "language": "python",
   "name": "python3"
  },
  "language_info": {
   "codemirror_mode": {
    "name": "ipython",
    "version": 3
   },
   "file_extension": ".py",
   "mimetype": "text/x-python",
   "name": "python",
   "nbconvert_exporter": "python",
   "pygments_lexer": "ipython3",
   "version": "3.8.8"
  }
 },
 "nbformat": 4,
 "nbformat_minor": 5
}
