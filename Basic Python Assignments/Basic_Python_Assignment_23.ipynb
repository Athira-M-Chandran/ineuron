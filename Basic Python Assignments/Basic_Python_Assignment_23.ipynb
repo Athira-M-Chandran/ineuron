{
 "cells": [
  {
   "cell_type": "markdown",
   "id": "203b40c3",
   "metadata": {},
   "source": [
    "#### 1. What is the result of the code, and why?\n",
    "\n",
    "def func(a, b=6, c=8):\n",
    "\n",
    "    print(a, b, c)\n",
    "\n",
    "func(1, 2)\n"
   ]
  },
  {
   "cell_type": "code",
   "execution_count": 1,
   "id": "d27649f7",
   "metadata": {},
   "outputs": [
    {
     "name": "stdout",
     "output_type": "stream",
     "text": [
      "1 2 8\n"
     ]
    }
   ],
   "source": [
    "def func(a, b=6, c=8):\n",
    "    print(a, b, c)\n",
    "\n",
    "func(1, 2)"
   ]
  },
  {
   "cell_type": "markdown",
   "id": "ae1ec24a",
   "metadata": {},
   "source": [
    "In function call , func(1,2), itself two values are passed and this values are taken as a and b and since no value is passed for c, it will look for default argument and assign the value for third argument as value of **default argument**.\n",
    "\n",
    "Hence it will print a = 1, b= 2 and c = 8"
   ]
  },
  {
   "cell_type": "markdown",
   "id": "a5eed94e",
   "metadata": {},
   "source": [
    "#### 2. What is the result of this code, and why?\n",
    "\n",
    "def func(a, b, c=5):\n",
    "\n",
    "    print(a, b, c)\n",
    "\n",
    "func(1, c=3, b=2)\n"
   ]
  },
  {
   "cell_type": "code",
   "execution_count": 2,
   "id": "2a1ddc2c",
   "metadata": {},
   "outputs": [
    {
     "name": "stdout",
     "output_type": "stream",
     "text": [
      "1 2 3\n"
     ]
    }
   ],
   "source": [
    "def func(a, b, c=5):\n",
    "    print(a, b, c)\n",
    "\n",
    "func(1, c=3, b=2)"
   ]
  },
  {
   "cell_type": "markdown",
   "id": "e143854b",
   "metadata": {},
   "source": [
    "Here,function call , func(1, c=3, b=2), is specified with argument names with values (**keyword arguments** ) so that caller does not need to remember order of parameters. \n",
    "\n",
    "So, value of a is 1, b is 2 and c is 3."
   ]
  },
  {
   "cell_type": "markdown",
   "id": "1507c996",
   "metadata": {},
   "source": [
    "#### 3. How about this code: what is its result, and why?\n",
    "\n",
    "def func(a, *pargs):\n",
    "\n",
    "    print(a, pargs)\n",
    "\n",
    "func(1, 2, 3)\n"
   ]
  },
  {
   "cell_type": "code",
   "execution_count": 3,
   "id": "5fe9c2ef",
   "metadata": {},
   "outputs": [
    {
     "name": "stdout",
     "output_type": "stream",
     "text": [
      "1 (2, 3)\n"
     ]
    }
   ],
   "source": [
    "def func(a, *pargs):\n",
    "    print(a, pargs)\n",
    "\n",
    "func(1, 2, 3)"
   ]
  },
  {
   "cell_type": "markdown",
   "id": "6692c73c",
   "metadata": {},
   "source": [
    "Here, function call is passing 3 arguments and taken it as a and * args ; * args used for passing multiple arguments; and returns in tuple form"
   ]
  },
  {
   "cell_type": "markdown",
   "id": "60b181a2",
   "metadata": {},
   "source": [
    "#### 4. What does this code print, and why?\n",
    "\n",
    "def func(a, **kargs):\n",
    "    \n",
    "    print(a, kargs)\n",
    "     \n",
    "func(a=1, c=3, b=2)\n"
   ]
  },
  {
   "cell_type": "code",
   "execution_count": 4,
   "id": "0115fcc1",
   "metadata": {},
   "outputs": [
    {
     "name": "stdout",
     "output_type": "stream",
     "text": [
      "1 {'c': 3, 'b': 2}\n"
     ]
    }
   ],
   "source": [
    "def func(a, **kargs):\n",
    "    print(a, kargs)\n",
    "\n",
    "func(a=1, c=3, b=2)"
   ]
  },
  {
   "cell_type": "markdown",
   "id": "f5e2e840",
   "metadata": {},
   "source": [
    "** kargs are used for passing multiple arguments in the form of key and value and it returns in the form of dictionary.\n",
    "\n"
   ]
  },
  {
   "cell_type": "markdown",
   "id": "44e4cb30",
   "metadata": {},
   "source": [
    "#### 5. What gets printed by this, and explain?\n",
    "\n",
    "def func(a, b, c=8, d=5): print(a, b, c, d)\n",
    "\n",
    "func(1, *(5, 6))\n"
   ]
  },
  {
   "cell_type": "code",
   "execution_count": 5,
   "id": "08345392",
   "metadata": {},
   "outputs": [
    {
     "name": "stdout",
     "output_type": "stream",
     "text": [
      "1 5 6 5\n"
     ]
    }
   ],
   "source": [
    "def func(a, b, c=8, d=5): print(a, b, c, d)\n",
    "\n",
    "func(1, *(5, 6))"
   ]
  },
  {
   "cell_type": "markdown",
   "id": "513f906e",
   "metadata": {},
   "source": [
    "Here, function call is passing 2 arguments one in integer form and other with * which will unpack the values at the time of function execution. func(1, * (5,6)) ; 1 is assigned to 'a', 5 to 'b' and 6 to 'c', then for 'd' default argument is taken , in this case it is 5."
   ]
  },
  {
   "cell_type": "markdown",
   "id": "8676162b",
   "metadata": {},
   "source": [
    "#### 6. what is the result of this, and explain?\n",
    " \n",
    "def func(a, b, c): a = 2; b[0] = 'x'; c['a'] = 'y'\n",
    "\n",
    "l=1; m=[1]; n={'a':0}\n",
    "\n",
    "func(l, m, n)\n",
    "\n",
    "l, m, n\n"
   ]
  },
  {
   "cell_type": "code",
   "execution_count": 6,
   "id": "6636ea5f",
   "metadata": {},
   "outputs": [
    {
     "data": {
      "text/plain": [
       "(1, ['x'], {'a': 'y'})"
      ]
     },
     "execution_count": 6,
     "metadata": {},
     "output_type": "execute_result"
    }
   ],
   "source": [
    "def func(a, b, c): a = 2; b[0] = 'x'; c['a'] = 'y'\n",
    "\n",
    "l=1; m=[1]; n={'a':0}\n",
    "\n",
    "func(l, m, n)\n",
    "\n",
    "l, m, n"
   ]
  },
  {
   "cell_type": "markdown",
   "id": "30c0bd12",
   "metadata": {},
   "source": [
    "Here, function call is with three arguments in the form of integer, list and dictionary. where integer is **immutable**, list and dictionary are **mutable** which means it can change the values.\n",
    "\n",
    "So at the time of function execution a's value will be 1 itself and b's 0th position will replace with 'x' and c's key with 'a' will replace value with 'y' and the function will return the same."
   ]
  }
 ],
 "metadata": {
  "kernelspec": {
   "display_name": "Python 3",
   "language": "python",
   "name": "python3"
  },
  "language_info": {
   "codemirror_mode": {
    "name": "ipython",
    "version": 3
   },
   "file_extension": ".py",
   "mimetype": "text/x-python",
   "name": "python",
   "nbconvert_exporter": "python",
   "pygments_lexer": "ipython3",
   "version": "3.8.8"
  }
 },
 "nbformat": 4,
 "nbformat_minor": 5
}
