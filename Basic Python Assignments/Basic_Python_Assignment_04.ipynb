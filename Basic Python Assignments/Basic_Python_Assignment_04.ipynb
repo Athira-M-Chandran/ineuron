{
 "cells": [
  {
   "cell_type": "markdown",
   "id": "3a5dbd01",
   "metadata": {},
   "source": [
    "#### 1. What exactly is []?"
   ]
  },
  {
   "cell_type": "markdown",
   "id": "deaded1f",
   "metadata": {},
   "source": [
    "Empty list"
   ]
  },
  {
   "cell_type": "markdown",
   "id": "9ef075e0",
   "metadata": {},
   "source": [
    "#### 2. In a list of values stored in a variable called spam, how would you assign the value 'hello' as the third value? (Assume [2, 4, 6, 8, 10] are in spam.)\n",
    "Let's pretend the spam includes the list ['a', 'b', 'c', 'd'] for the next three queries. "
   ]
  },
  {
   "cell_type": "code",
   "execution_count": 1,
   "id": "1766bc81",
   "metadata": {},
   "outputs": [
    {
     "data": {
      "text/plain": [
       "[2, 4, 'Hello', 6, 8, 10]"
      ]
     },
     "execution_count": 1,
     "metadata": {},
     "output_type": "execute_result"
    }
   ],
   "source": [
    "spam = [2, 4, 6, 8, 10]\n",
    "spam.insert(2,\"Hello\")   # Index position 2 = third value\n",
    "# spam[2] = \"Hello\"\n",
    "spam"
   ]
  },
  {
   "cell_type": "markdown",
   "id": "bc899f79",
   "metadata": {},
   "source": [
    "#### 3. What is the value of spam[int(int('3' * 2) / 11)]?"
   ]
  },
  {
   "cell_type": "code",
   "execution_count": 2,
   "id": "6cc13255",
   "metadata": {},
   "outputs": [
    {
     "data": {
      "text/plain": [
       "'d'"
      ]
     },
     "execution_count": 2,
     "metadata": {},
     "output_type": "execute_result"
    }
   ],
   "source": [
    "spam = ['a', 'b', 'c', 'd']\n",
    "spam[int(int('3' * 2) / 11)] \n",
    "\n",
    "# spam[int(int(33/11))]\n",
    "# spam[int(int(3))]\n",
    "# spam[int(3)]\n",
    "# spam[3] = 'd'\n"
   ]
  },
  {
   "cell_type": "markdown",
   "id": "151b80d1",
   "metadata": {},
   "source": [
    "#### 4. What is the value of spam[-1]?"
   ]
  },
  {
   "cell_type": "code",
   "execution_count": 3,
   "id": "7af6dc7f",
   "metadata": {},
   "outputs": [
    {
     "data": {
      "text/plain": [
       "'d'"
      ]
     },
     "execution_count": 3,
     "metadata": {},
     "output_type": "execute_result"
    }
   ],
   "source": [
    "spam[-1] # negative sign indicates reverse count, so output is 'd'"
   ]
  },
  {
   "cell_type": "markdown",
   "id": "08fcc170",
   "metadata": {},
   "source": [
    "#### 5. What is the value of spam[:2]?\n",
    "Let's pretend bacon has the list [3.14, 'cat,' 11, 'cat,' True] for the next three questions."
   ]
  },
  {
   "cell_type": "code",
   "execution_count": 4,
   "id": "64f948fb",
   "metadata": {},
   "outputs": [
    {
     "data": {
      "text/plain": [
       "['a', 'b']"
      ]
     },
     "execution_count": 4,
     "metadata": {},
     "output_type": "execute_result"
    }
   ],
   "source": [
    "spam[:2]     # [:2] means [0:2] ; index positions 0 and 1"
   ]
  },
  {
   "cell_type": "markdown",
   "id": "f48e87a0",
   "metadata": {},
   "source": [
    "#### 6. What is the value of bacon.index('cat')?"
   ]
  },
  {
   "cell_type": "code",
   "execution_count": 8,
   "id": "02be6f0f",
   "metadata": {},
   "outputs": [
    {
     "data": {
      "text/plain": [
       "1"
      ]
     },
     "execution_count": 8,
     "metadata": {},
     "output_type": "execute_result"
    }
   ],
   "source": [
    "bacon = [3.14, 'cat' ,11, 'cat' , True]\n",
    "bacon.index('cat')    # shows index position of cat ; first occurance"
   ]
  },
  {
   "cell_type": "markdown",
   "id": "f3906405",
   "metadata": {},
   "source": [
    "#### 7. How does bacon.append(99) change the look of the list value in bacon?"
   ]
  },
  {
   "cell_type": "code",
   "execution_count": 9,
   "id": "f1db6822",
   "metadata": {},
   "outputs": [
    {
     "data": {
      "text/plain": [
       "[3.14, 'cat', 11, 'cat', True, 99]"
      ]
     },
     "execution_count": 9,
     "metadata": {},
     "output_type": "execute_result"
    }
   ],
   "source": [
    "bacon.append(99)     # 99 will append to the list as last element\n",
    "bacon"
   ]
  },
  {
   "cell_type": "markdown",
   "id": "c79f3862",
   "metadata": {},
   "source": [
    "#### 8. How does bacon.remove('cat') change the look of the list in bacon?"
   ]
  },
  {
   "cell_type": "code",
   "execution_count": 10,
   "id": "0ca49b37",
   "metadata": {},
   "outputs": [
    {
     "data": {
      "text/plain": [
       "[3.14, 11, 'cat', True, 99]"
      ]
     },
     "execution_count": 10,
     "metadata": {},
     "output_type": "execute_result"
    }
   ],
   "source": [
    "bacon.remove('cat')    # the first occurance of cat is removed from the list\n",
    "bacon"
   ]
  },
  {
   "cell_type": "markdown",
   "id": "5a433aac",
   "metadata": {},
   "source": [
    "#### 9. What are the list concatenation and list replication operators?"
   ]
  },
  {
   "cell_type": "markdown",
   "id": "63c06878",
   "metadata": {},
   "source": [
    "list concatenation operator is +\n",
    "list replication operator is *"
   ]
  },
  {
   "cell_type": "markdown",
   "id": "3fa9775c",
   "metadata": {},
   "source": [
    "#### 10. What is difference between the list methods append() and insert()?"
   ]
  },
  {
   "cell_type": "markdown",
   "id": "7b5b710a",
   "metadata": {},
   "source": [
    "In append() , the new value is added to end of the list. \n",
    "        Eg. .append(x) # Insert the value x at the end of the list\n",
    "\n",
    "In insert(),  the new value is inserted anywhere in the list using index position.\n",
    "        Eg.  .insert(i,x)  # Insert value x at index i"
   ]
  },
  {
   "cell_type": "markdown",
   "id": "c93e5353",
   "metadata": {},
   "source": [
    "#### 11. What are the two methods for removing items from a list?"
   ]
  },
  {
   "cell_type": "markdown",
   "id": "9ce559fc",
   "metadata": {},
   "source": [
    "del and remove()\n",
    "\n",
    "del list_name[n:m] ; delete all the element starting from index n till index m (m is not included)\n",
    "list_name.remove(m) ; remove first occurance of m from the list\n",
    "list_name.pop(i)  ; remove and return the element at index i, by default it remove last element\n",
    "list_name.clear() ; removes all elements"
   ]
  },
  {
   "cell_type": "markdown",
   "id": "cc99014f",
   "metadata": {},
   "source": [
    "#### 12. Describe how list values and string values are identical."
   ]
  },
  {
   "cell_type": "markdown",
   "id": "854804b9",
   "metadata": {},
   "source": [
    "string and list are sequential types. Common set of operations they perform are:\n",
    "    Indexing\n",
    "    Slicing\n",
    "    len()\n",
    "    for loop \n",
    "    in operator and not in operator\n",
    "    concatenate and replicated\n",
    "    string methods (upper(), lower(), capitalize(),isdigit() etc.)"
   ]
  },
  {
   "cell_type": "markdown",
   "id": "1ebc4c7b",
   "metadata": {},
   "source": [
    "#### 13. What's the difference between tuples and lists?"
   ]
  },
  {
   "cell_type": "markdown",
   "id": "e4890694",
   "metadata": {},
   "source": [
    "Tuples are immutable . List are mutable\n",
    "Tuples are written using () while list are written using []"
   ]
  },
  {
   "cell_type": "markdown",
   "id": "cbaf2424",
   "metadata": {},
   "source": [
    "#### 14. How do you type a tuple value that only contains the integer 42?"
   ]
  },
  {
   "cell_type": "markdown",
   "id": "77c05e2a",
   "metadata": {},
   "source": [
    "(42,)"
   ]
  },
  {
   "cell_type": "markdown",
   "id": "13abbd53",
   "metadata": {},
   "source": [
    "#### 15. How do you get a list value's tuple form? How do you get a tuple value's list form?"
   ]
  },
  {
   "cell_type": "markdown",
   "id": "2182b210",
   "metadata": {},
   "source": [
    " list values tuple form using tuple().\n",
    " tuple values list form using list()."
   ]
  },
  {
   "cell_type": "markdown",
   "id": "3a5f6f2d",
   "metadata": {},
   "source": [
    "#### 16. Variables that \"contain\" list values are not necessarily lists themselves. Instead, what do they contain?"
   ]
  },
  {
   "cell_type": "markdown",
   "id": "045d165a",
   "metadata": {},
   "source": [
    "References"
   ]
  },
  {
   "cell_type": "markdown",
   "id": "c91a8c70",
   "metadata": {},
   "source": [
    "#### 17. How do you distinguish between copy.copy() and copy.deepcopy()?"
   ]
  },
  {
   "cell_type": "markdown",
   "id": "afb6069c",
   "metadata": {},
   "source": [
    "copy.copy() means shallow copy\n",
    "copy.deepcopy() means deep copy."
   ]
  }
 ],
 "metadata": {
  "kernelspec": {
   "display_name": "Python 3",
   "language": "python",
   "name": "python3"
  },
  "language_info": {
   "codemirror_mode": {
    "name": "ipython",
    "version": 3
   },
   "file_extension": ".py",
   "mimetype": "text/x-python",
   "name": "python",
   "nbconvert_exporter": "python",
   "pygments_lexer": "ipython3",
   "version": "3.8.8"
  }
 },
 "nbformat": 4,
 "nbformat_minor": 5
}
