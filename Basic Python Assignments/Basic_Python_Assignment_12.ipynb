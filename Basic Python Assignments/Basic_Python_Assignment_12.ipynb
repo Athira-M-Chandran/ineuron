{
 "cells": [
  {
   "cell_type": "markdown",
   "id": "4d08569b",
   "metadata": {},
   "source": [
    "#### 1. In what modes should the PdfFileReader() and PdfFileWriter() File objects will be opened?\n"
   ]
  },
  {
   "cell_type": "markdown",
   "id": "ccc52bb5",
   "metadata": {},
   "source": [
    "PdfFileReader() - 'rb' mode (read binary)\n",
    "PdfFileWriter() - 'wb' mode (write binary)"
   ]
  },
  {
   "cell_type": "markdown",
   "id": "2751f7e9",
   "metadata": {},
   "source": [
    "#### 2. From a PdfFileReader object, how do you get a Page object for page 5?\n"
   ]
  },
  {
   "cell_type": "markdown",
   "id": "61126dc1",
   "metadata": {},
   "source": [
    "getPage(4) , since 0 is the first page"
   ]
  },
  {
   "cell_type": "markdown",
   "id": "0998cc71",
   "metadata": {},
   "source": [
    "#### 3. What PdfFileReader variable stores the number of pages in the PDF document?\n"
   ]
  },
  {
   "cell_type": "markdown",
   "id": "e547b2ee",
   "metadata": {},
   "source": [
    "pdfReader.numPages"
   ]
  },
  {
   "cell_type": "markdown",
   "id": "7d8161a8",
   "metadata": {},
   "source": [
    "#### 4. If a PdfFileReader object’s PDF is encrypted with the password swordfish, what must you do before you can obtain Page objects from it?\n"
   ]
  },
  {
   "cell_type": "markdown",
   "id": "14049cda",
   "metadata": {},
   "source": [
    "pdfReader.decrypt('swordfish')"
   ]
  },
  {
   "cell_type": "markdown",
   "id": "06a93176",
   "metadata": {},
   "source": [
    "#### 5. What methods do you use to rotate a page?\n"
   ]
  },
  {
   "cell_type": "markdown",
   "id": "2de7926d",
   "metadata": {},
   "source": [
    "rotateClockwise() and rotateCounterClockwise() . Pass degree of rotation (90,180,270), in the form of integer, as argument to this method"
   ]
  },
  {
   "cell_type": "markdown",
   "id": "b43c0a87",
   "metadata": {},
   "source": [
    "#### 6. What is the difference between a Run object and a Paragraph object?\n"
   ]
  },
  {
   "cell_type": "markdown",
   "id": "d54ce8b4",
   "metadata": {},
   "source": [
    "Paragraph object for paragraphs in the document\n",
    "\n",
    "Run Object is a contiguous run of text with the same style. A new Run object is needed whenever the text style changes."
   ]
  },
  {
   "cell_type": "markdown",
   "id": "04d278ba",
   "metadata": {},
   "source": [
    "#### 7. How do you obtain a list of Paragraph objects for a Document object that’s stored in a variable named doc?\n"
   ]
  },
  {
   "cell_type": "markdown",
   "id": "3a407dfc",
   "metadata": {},
   "source": [
    "doc.paragraphs"
   ]
  },
  {
   "cell_type": "markdown",
   "id": "1b6837d9",
   "metadata": {},
   "source": [
    "#### 8. What type of object has bold, underline, italic, strike, and outline variables?\n"
   ]
  },
  {
   "cell_type": "markdown",
   "id": "c2e17d1c",
   "metadata": {},
   "source": [
    "Run object"
   ]
  },
  {
   "cell_type": "markdown",
   "id": "c4f7bc83",
   "metadata": {},
   "source": [
    "#### 9. What is the difference between False, True, and None for the bold variable?\n"
   ]
  },
  {
   "cell_type": "markdown",
   "id": "6ca6152d",
   "metadata": {},
   "source": [
    "True - the attribute is always enabled, no matter what other styles are applied to the run.\n",
    "\n",
    "False - the attribute is always disabled\n",
    "\n",
    "None - defaults to whatever the run’s style is set to"
   ]
  },
  {
   "cell_type": "markdown",
   "id": "1d1cca99",
   "metadata": {},
   "source": [
    "#### 10. How do you create a Document object for a new Word document?\n"
   ]
  },
  {
   "cell_type": "markdown",
   "id": "579fd45a",
   "metadata": {},
   "source": [
    "docx.Document() "
   ]
  },
  {
   "cell_type": "markdown",
   "id": "975c8334",
   "metadata": {},
   "source": [
    "#### 11. How do you add a paragraph with the text 'Hello, there!' to a Document object stored in a variable named doc?\n"
   ]
  },
  {
   "cell_type": "markdown",
   "id": "9c28d532",
   "metadata": {},
   "source": [
    "doc.add_paragraph(\"Hello,there!\")"
   ]
  },
  {
   "cell_type": "markdown",
   "id": "72dc6223",
   "metadata": {},
   "source": [
    "#### 12. What integers represent the levels of headings available in Word documents?\n"
   ]
  },
  {
   "cell_type": "markdown",
   "id": "de75aafb",
   "metadata": {},
   "source": [
    "0,1,2,3,4"
   ]
  }
 ],
 "metadata": {
  "kernelspec": {
   "display_name": "Python 3",
   "language": "python",
   "name": "python3"
  },
  "language_info": {
   "codemirror_mode": {
    "name": "ipython",
    "version": 3
   },
   "file_extension": ".py",
   "mimetype": "text/x-python",
   "name": "python",
   "nbconvert_exporter": "python",
   "pygments_lexer": "ipython3",
   "version": "3.8.8"
  }
 },
 "nbformat": 4,
 "nbformat_minor": 5
}
