{
 "cells": [
  {
   "cell_type": "markdown",
   "id": "6aeb36f1",
   "metadata": {},
   "source": [
    "#### 1. What is the name of the feature responsible for generating Regex objects? "
   ]
  },
  {
   "cell_type": "markdown",
   "id": "5392ce2a",
   "metadata": {},
   "source": [
    "re. compile()"
   ]
  },
  {
   "cell_type": "markdown",
   "id": "1540f2f3",
   "metadata": {},
   "source": [
    "#### 2. Why do raw strings often appear in Regex objects? "
   ]
  },
  {
   "cell_type": "markdown",
   "id": "2d8924f3",
   "metadata": {},
   "source": [
    "Raw strings notation (r\"text\") are used so that backslashes do not have to be escaped."
   ]
  },
  {
   "cell_type": "markdown",
   "id": "4b09498e",
   "metadata": {},
   "source": [
    "#### 3. What is the return value of the search() method? "
   ]
  },
  {
   "cell_type": "markdown",
   "id": "70d237cf",
   "metadata": {},
   "source": [
    "The search() method returns match object , else it returns None if regex pattern is not found in the string."
   ]
  },
  {
   "cell_type": "markdown",
   "id": "d4432ec9",
   "metadata": {},
   "source": [
    "#### 4. From a Match item, how do you get the actual strings that match the pattern? "
   ]
  },
  {
   "cell_type": "markdown",
   "id": "39eeac09",
   "metadata": {},
   "source": [
    "Using group() method."
   ]
  },
  {
   "cell_type": "markdown",
   "id": "05be5830",
   "metadata": {},
   "source": [
    "#### 5. In the regex which created from the r'(\\d\\d\\d)-(\\d\\d\\d-\\d\\d\\d\\d)', what does group zero cover? Group 2? Group 1? "
   ]
  },
  {
   "cell_type": "markdown",
   "id": "a71acf63",
   "metadata": {},
   "source": [
    "Group 0 is the entire match,\n",
    "group 1 covers the first set of parentheses, \n",
    "and group 2 covers the second set of parentheses."
   ]
  },
  {
   "cell_type": "markdown",
   "id": "a3dffd2b",
   "metadata": {},
   "source": [
    "#### 6. In standard expression syntax, parentheses and intervals have distinct meanings. How can you tell a regex that you want it to fit real parentheses and periods? "
   ]
  },
  {
   "cell_type": "markdown",
   "id": "a5461c08",
   "metadata": {},
   "source": [
    "Periods and parentheses can be escaped with a backslash: \\., \\(, and \\)."
   ]
  },
  {
   "cell_type": "markdown",
   "id": "2ae48617",
   "metadata": {},
   "source": [
    "#### 7. The findall() method returns a string list or a list of string tuples. What causes it to return one of the two options? "
   ]
  },
  {
   "cell_type": "markdown",
   "id": "28b2a612",
   "metadata": {},
   "source": [
    "If the regex has no groups, a list of strings is returned. If the regex has groups, a list of tuples of strings is returned."
   ]
  },
  {
   "cell_type": "markdown",
   "id": "1581ad01",
   "metadata": {},
   "source": [
    "#### 8. In standard expressions, what does the | character mean? "
   ]
  },
  {
   "cell_type": "markdown",
   "id": "b71b4433",
   "metadata": {},
   "source": [
    "The | character means \"either, or\" between two. Returns first occurance if both present"
   ]
  },
  {
   "cell_type": "markdown",
   "id": "86ded5e4",
   "metadata": {},
   "source": [
    "#### 9. In regular expressions, what does the ? character stand for? "
   ]
  },
  {
   "cell_type": "markdown",
   "id": "3ff5c026",
   "metadata": {},
   "source": [
    "The ? can either mean matching zero or one instance of the preceding group or a modifier that sets behavior to non-greedy."
   ]
  },
  {
   "cell_type": "markdown",
   "id": "a8c659cd",
   "metadata": {},
   "source": [
    "#### 10.In regular expressions, what is the difference between the + and * characters? "
   ]
  },
  {
   "cell_type": "markdown",
   "id": "730057bc",
   "metadata": {},
   "source": [
    "The + must match atleast one or more. The * matches zero or more ( * will match on empty, but + will not)"
   ]
  },
  {
   "cell_type": "markdown",
   "id": "7b115e3e",
   "metadata": {},
   "source": [
    "#### 11. What is the difference between {4} and {4,5} in regular expression? "
   ]
  },
  {
   "cell_type": "markdown",
   "id": "91c2c1da",
   "metadata": {},
   "source": [
    "The {4} matches exactly three instances of the preceding group. The {4,5} matches between four and five instances.\n",
    "{4} abcabcabcabc as match, {4,5} accepts (abcabcabcabc, abcabcabcabcabc)"
   ]
  },
  {
   "cell_type": "markdown",
   "id": "a28a29d3",
   "metadata": {},
   "source": [
    "#### 12. What do you mean by the \\d, \\w, and \\s shorthand character classes signify in regular expressions? "
   ]
  },
  {
   "cell_type": "markdown",
   "id": "1fb9427d",
   "metadata": {},
   "source": [
    "\\d - decimal digit [0-9]\n",
    "\\w - word character [A-Za-z0-9_]\n",
    "\\s - whitespace character[ \\t\\r\\n\\f]"
   ]
  },
  {
   "cell_type": "markdown",
   "id": "d2fbd1a8",
   "metadata": {},
   "source": [
    "#### 13. What do means by \\D, \\W, and \\S shorthand character classes signify in regular expressions? "
   ]
  },
  {
   "cell_type": "markdown",
   "id": "a8c279f1",
   "metadata": {},
   "source": [
    "\\D - non digit [^0-9]\n",
    "\\W - non-word character [^a-zA-Z0-9_]\n",
    "\\S - non-whitespace character [^ \\t\\n\\r\\f]"
   ]
  },
  {
   "cell_type": "markdown",
   "id": "d9c979cd",
   "metadata": {},
   "source": [
    "#### 14. What is the difference between .*? and .* ? "
   ]
  },
  {
   "cell_type": "markdown",
   "id": "31fac3c1",
   "metadata": {},
   "source": [
    "if input is hellohello\n",
    "l.*o gives output as llohello\n",
    "l.*?o gives output as llo and llo\n",
    "\n",
    "i.e, .* performs a greedy match, and the .*? performs a nongreedy match"
   ]
  },
  {
   "cell_type": "markdown",
   "id": "b58fdf9b",
   "metadata": {},
   "source": [
    "#### 15. What is the syntax for matching both numbers and lowercase letters with a character class? "
   ]
  },
  {
   "cell_type": "markdown",
   "id": "634bfc43",
   "metadata": {},
   "source": [
    "[0-9a-z] or [a-z0-9]"
   ]
  },
  {
   "cell_type": "markdown",
   "id": "89cb288a",
   "metadata": {},
   "source": [
    "#### 16. What is the procedure for making a normal expression in regax case insensitive? "
   ]
  },
  {
   "cell_type": "markdown",
   "id": "f1e785af",
   "metadata": {},
   "source": [
    "Passing re.IGNORECASE (an optional argument) as second argument to re.compile"
   ]
  },
  {
   "cell_type": "markdown",
   "id": "b38e1925",
   "metadata": {},
   "source": [
    "#### 17. What does the . character normally match? What does it match if re.DOTALL is passed as 2nd argument in re.compile()? "
   ]
  },
  {
   "cell_type": "markdown",
   "id": "39a49909",
   "metadata": {},
   "source": [
    ". (dot)- any character except newline. Like [^\\n]\n",
    "re.DOTALL - matches all characters including newline"
   ]
  },
  {
   "cell_type": "markdown",
   "id": "45997169",
   "metadata": {},
   "source": [
    "#### 18. If numReg = re.compile(r'\\d+'), what will numRegex.sub('X', '11 drummers, 10 pipers, five rings, 4 hen') return? "
   ]
  },
  {
   "cell_type": "code",
   "execution_count": 1,
   "id": "10fbe041",
   "metadata": {},
   "outputs": [
    {
     "data": {
      "text/plain": [
       "'X drummers, X pipers, five rings, X hen'"
      ]
     },
     "execution_count": 1,
     "metadata": {},
     "output_type": "execute_result"
    }
   ],
   "source": [
    "import regex as re\n",
    "numReg = re.compile(r'\\d+')\n",
    "numReg.sub('X', '11 drummers, 10 pipers, five rings, 4 hen') \n",
    "\n",
    "##Returns 'X drummers, X pipers, five rings, X hen'"
   ]
  },
  {
   "cell_type": "markdown",
   "id": "eb92b1ed",
   "metadata": {},
   "source": [
    "#### 19. What does passing re.VERBOSE as the 2nd argument to re.compile() allow to do? "
   ]
  },
  {
   "cell_type": "markdown",
   "id": "3bab9d74",
   "metadata": {},
   "source": [
    "allows you to visually separate logical sections of the pattern and add comments"
   ]
  },
  {
   "cell_type": "markdown",
   "id": "352bb470",
   "metadata": {},
   "source": [
    "#### 20. How would you write a regex that match a number with comma for every three digits? It must match the given following: \n",
    "\n",
    "'42' \n",
    "\n",
    "'1,234' \n",
    "\n",
    "'6,368,745' \n",
    "\n",
    "but not the following: \n",
    "\n",
    "'12,34,567' (which has only two digits between the commas) \n",
    "\n",
    "'1234' (which lacks commas) "
   ]
  },
  {
   "cell_type": "code",
   "execution_count": 2,
   "id": "f6cdaab3",
   "metadata": {},
   "outputs": [
    {
     "name": "stdout",
     "output_type": "stream",
     "text": [
      "['42', '1,234', '6,368,745']\n"
     ]
    }
   ],
   "source": [
    "import re\n",
    "\n",
    "inputs = '42 1,234 6,368,745 12,34,567 1234'\n",
    "\n",
    "rgx = re.compile(r'^\\d{1,3}(,\\d{3})*$')\n",
    "# (',[0-9]{1,2},|[0-9]{4,}')\n",
    "lst = [x for x in inputs.split() if rgx.search(x)]\n",
    "\n",
    "print(lst)"
   ]
  },
  {
   "cell_type": "markdown",
   "id": "c8e8aaab",
   "metadata": {},
   "source": [
    "#### 21. How would you write a regex that matches the full name of someone whose last name is Watanabe? You can assume that the first name that comes before it will always be one word that begins with a capital letter. The regex must match the following: \n",
    "\n",
    "'Haruto Watanabe' \n",
    "\n",
    "'Alice Watanabe' \n",
    "\n",
    "'RoboCop Watanabe' \n",
    "\n",
    "but not the following: \n",
    "\n",
    "'haruto Watanabe' (where the first name is not capitalized) \n",
    "\n",
    "'Mr. Watanabe' (where the preceding word has a nonletter character) \n",
    "\n",
    "'Watanabe' (which has no first name) \n",
    "\n",
    "'Haruto watanabe' (where Watanabe is not capitalized) "
   ]
  },
  {
   "cell_type": "code",
   "execution_count": 3,
   "id": "6cfe8ed1",
   "metadata": {},
   "outputs": [
    {
     "name": "stdout",
     "output_type": "stream",
     "text": [
      "['Haruto Watanabe', 'Alice Watanabe', 'RoboCop Watanabe']\n"
     ]
    }
   ],
   "source": [
    "import re\n",
    "\n",
    "rgx = re.compile(r'[A-Z][a-z]*\\sWatanabe')\n",
    "\n",
    "inputs = ['Haruto Watanabe','Alice Watanabe', 'RoboCop Watanabe' , 'haruto Watanabe', 'Mr. Watanabe', 'Watanabe', 'Haruto watanabe']\n",
    "\n",
    "lst = [x for x in inputs if rgx.search(x)]\n",
    "\n",
    "print(lst)"
   ]
  },
  {
   "cell_type": "markdown",
   "id": "c4823943",
   "metadata": {},
   "source": [
    "#### 22. How would you write a regex that matches a sentence where the first word is either Alice, Bob, or Carol; the second word is either eats, pets, or throws; the third word is apples, cats, or baseballs; and the sentence ends with a period? This regex should be case-insensitive. It must match the following: \n",
    "\n",
    "'Alice eats apples.' \n",
    "\n",
    "'Bob pets cats.' \n",
    "\n",
    "'Carol throws baseballs.' \n",
    "\n",
    "'Alice throws Apples.' \n",
    "\n",
    "'BOB EATS CATS.' \n",
    "\n",
    "but not the following: \n",
    "\n",
    "'RoboCop eats apples.' \n",
    "\n",
    "'ALICE THROWS FOOTBALLS.' \n",
    "\n",
    "'Carol eats 7 cats.' "
   ]
  },
  {
   "cell_type": "code",
   "execution_count": 4,
   "id": "f356ed2b",
   "metadata": {},
   "outputs": [
    {
     "name": "stdout",
     "output_type": "stream",
     "text": [
      "['Alice eats apples.', 'Bob pets cats.', 'Carol throws baseballs.', 'Alice throws Apples.', 'BOB EATS CATS.']\n"
     ]
    }
   ],
   "source": [
    "import re\n",
    "\n",
    "rgx = re.compile(r'(Alice|Bob|Carol)\\s(eats|pets|throws)\\s(apples|cats|baseballs)\\.', re.IGNORECASE)\n",
    "\n",
    "x = ['Alice eats apples.', 'Bob pets cats.','Carol throws baseballs.','Alice throws Apples.','BOB EATS CATS.',\n",
    "     'RoboCop eats apples.','ALICE THROWS FOOTBALLS.','Carol eats 7 cats.']\n",
    "\n",
    "lst = [i for i in x if rgx.search(i)]\n",
    "\n",
    "print(lst)\n"
   ]
  }
 ],
 "metadata": {
  "kernelspec": {
   "display_name": "Python 3",
   "language": "python",
   "name": "python3"
  },
  "language_info": {
   "codemirror_mode": {
    "name": "ipython",
    "version": 3
   },
   "file_extension": ".py",
   "mimetype": "text/x-python",
   "name": "python",
   "nbconvert_exporter": "python",
   "pygments_lexer": "ipython3",
   "version": "3.8.8"
  }
 },
 "nbformat": 4,
 "nbformat_minor": 5
}
