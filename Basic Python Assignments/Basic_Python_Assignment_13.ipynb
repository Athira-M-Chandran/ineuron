{
 "cells": [
  {
   "cell_type": "markdown",
   "id": "517c7299",
   "metadata": {},
   "source": [
    "#### 1. What advantages do Excel spreadsheets have over CSV spreadsheets?\n"
   ]
  },
  {
   "cell_type": "markdown",
   "id": "8ee24d50",
   "metadata": {},
   "source": [
    "Excel have -\n",
    "\n",
    "    - have datatypes for their values.\n",
    "    \n",
    "    - have settings for font size or color.\n",
    "    \n",
    "    - have multiple worksheets.\n",
    "    \n",
    "    - Can specify cell widths and heights.\n",
    "    \n",
    "    - Can have merged cells.\n",
    "    \n",
    "    - Can have images or charts embedded in them."
   ]
  },
  {
   "cell_type": "markdown",
   "id": "0b878516",
   "metadata": {},
   "source": [
    "#### 2.What do you pass to csv.reader() and csv.writer() to create reader and writer objects?\n"
   ]
  },
  {
   "cell_type": "markdown",
   "id": "bfa0ed41",
   "metadata": {},
   "source": [
    "csv.reader() call to open function.\n",
    "\n",
    "csv.writer() call to open function ('w' mode.; write mode)"
   ]
  },
  {
   "cell_type": "markdown",
   "id": "d029b546",
   "metadata": {},
   "source": [
    "#### 3. What modes do File objects for reader and writer objects need to be opened in?\n"
   ]
  },
  {
   "cell_type": "markdown",
   "id": "a872db56",
   "metadata": {},
   "source": [
    "read - 'r' mode\n",
    "write - 'w' mode "
   ]
  },
  {
   "cell_type": "markdown",
   "id": "c2fe9e62",
   "metadata": {},
   "source": [
    "#### 4. What method takes a list argument and writes it to a CSV file?\n"
   ]
  },
  {
   "cell_type": "markdown",
   "id": "10aa2b23",
   "metadata": {},
   "source": [
    "writerow() method"
   ]
  },
  {
   "cell_type": "markdown",
   "id": "9991aebb",
   "metadata": {},
   "source": [
    "#### 5. What do the keyword arguments delimiter and line terminator do?\n"
   ]
  },
  {
   "cell_type": "markdown",
   "id": "fb2e4d68",
   "metadata": {},
   "source": [
    "Delimiter - is the character that appears between cells on a row. By default, the delimiter for a CSV file is a comma.\n",
    "\n",
    "line terminator - is the character that comes at the end of a row. By default, the line terminator is a newline"
   ]
  },
  {
   "cell_type": "markdown",
   "id": "a5604258",
   "metadata": {},
   "source": [
    "#### 6. What function takes a string of JSON data and returns a Python data structure?\n"
   ]
  },
  {
   "cell_type": "markdown",
   "id": "61136300",
   "metadata": {},
   "source": [
    "call json.loads()"
   ]
  },
  {
   "cell_type": "markdown",
   "id": "9f00989b",
   "metadata": {},
   "source": [
    "#### 7. What function takes a Python data structure and returns a string of JSON data?\n"
   ]
  },
  {
   "cell_type": "markdown",
   "id": "567ea74d",
   "metadata": {},
   "source": [
    "json.dumps()"
   ]
  }
 ],
 "metadata": {
  "kernelspec": {
   "display_name": "Python 3",
   "language": "python",
   "name": "python3"
  },
  "language_info": {
   "codemirror_mode": {
    "name": "ipython",
    "version": 3
   },
   "file_extension": ".py",
   "mimetype": "text/x-python",
   "name": "python",
   "nbconvert_exporter": "python",
   "pygments_lexer": "ipython3",
   "version": "3.8.8"
  }
 },
 "nbformat": 4,
 "nbformat_minor": 5
}
