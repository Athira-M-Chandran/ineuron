{
 "cells": [
  {
   "cell_type": "markdown",
   "id": "3f4c8a76",
   "metadata": {},
   "source": [
    "#### 1. Set the variable test1 to the string 'This is a test of the emergency text system,' and save test1 to a file named test.txt."
   ]
  },
  {
   "cell_type": "code",
   "execution_count": 1,
   "id": "8fcc26fd",
   "metadata": {},
   "outputs": [],
   "source": [
    "test1 =  'This is a test of the emergency text system,'\n",
    "f = open('test.txt','w')\n"
   ]
  },
  {
   "cell_type": "code",
   "execution_count": 2,
   "id": "ce6f3898",
   "metadata": {},
   "outputs": [],
   "source": [
    "f.write(test1)\n",
    "f.close()"
   ]
  },
  {
   "cell_type": "markdown",
   "id": "df6ecdbf",
   "metadata": {},
   "source": [
    "#### 2. Read the contents of the file test.txt into the variable test2. Is there a difference between test 1 and test 2?\n"
   ]
  },
  {
   "cell_type": "code",
   "execution_count": 3,
   "id": "9838acb3",
   "metadata": {},
   "outputs": [
    {
     "name": "stdout",
     "output_type": "stream",
     "text": [
      "This is a test of the emergency text system,\n"
     ]
    }
   ],
   "source": [
    "f = open('test.txt' , 'r')\n",
    "test2 = f.read()\n",
    "print(test2)"
   ]
  },
  {
   "cell_type": "markdown",
   "id": "3edef653",
   "metadata": {},
   "source": [
    "No difference between test1 and test2"
   ]
  },
  {
   "cell_type": "markdown",
   "id": "36f829b7",
   "metadata": {},
   "source": [
    "#### 3. Create a CSV file called books.csv by using these lines:\n",
    "\n",
    "    title,author,year\n",
    "\n",
    "    The Weirdstone of Brisingamen,Alan Garner,1960\n",
    "\n",
    "    Perdido Street Station,China Miéville,2000\n",
    "\n",
    "    Thud!,Terry Pratchett,2005\n",
    "\n",
    "    The Spellman Files,Lisa Lutz,2007\n",
    "\n",
    "    Small Gods,Terry Pratchett,1992\n"
   ]
  },
  {
   "cell_type": "code",
   "execution_count": 4,
   "id": "418bc7e9",
   "metadata": {},
   "outputs": [],
   "source": [
    "import csv\n",
    "header = ['title','author','year']\n",
    "data = [\n",
    "    ['The Weirdstone of Brisingamen','Alan Garner',1960],\n",
    "    ['Perdido Street Station','China Miéville',2000],\n",
    "    ['Thud!','Terry Pratchett',2005],\n",
    "    ['The Spellman Files','Lisa Lutz',2007],\n",
    "    ['Small Gods','Terry Pratchett',1992]\n",
    "]\n",
    "with open('books.csv','w') as f:\n",
    "    w = csv.writer(f)\n",
    "    w.writerow(header)\n",
    "    w.writerows(data)\n",
    "    "
   ]
  },
  {
   "cell_type": "markdown",
   "id": "8130dc2a",
   "metadata": {},
   "source": [
    "#### 4. Use the sqlite3 module to create a SQLite database called books.db, and a table called books with these fields: title (text), author (text), and year (integer).\n"
   ]
  },
  {
   "cell_type": "code",
   "execution_count": 5,
   "id": "3338cb02",
   "metadata": {},
   "outputs": [],
   "source": [
    "import sqlite3"
   ]
  },
  {
   "cell_type": "code",
   "execution_count": 7,
   "id": "8e30fa38",
   "metadata": {},
   "outputs": [],
   "source": [
    "connection = sqlite3.connect('books.db')\n",
    "connection.execute('''CREATE TABLE Books( title text , author text ,year int)''')\n",
    "connection.close()"
   ]
  },
  {
   "cell_type": "markdown",
   "id": "47465fe2",
   "metadata": {},
   "source": [
    "#### 5. Read books.csv and insert its data into the book table.\n"
   ]
  },
  {
   "cell_type": "code",
   "execution_count": 8,
   "id": "f062d421",
   "metadata": {},
   "outputs": [],
   "source": [
    "import csv\n",
    "import sqlite3"
   ]
  },
  {
   "cell_type": "code",
   "execution_count": 9,
   "id": "cc1a33b6",
   "metadata": {},
   "outputs": [
    {
     "name": "stdout",
     "output_type": "stream",
     "text": [
      "[('The Weirdstone of Brisingamen', 'Alan Garner', '1960'), ('Perdido Street Station', 'China Miéville', '2000'), ('Thud!', 'Terry Pratchett', '2005'), ('The Spellman Files', 'Lisa Lutz', '2007'), ('Small Gods', 'Terry Pratchett', '1992')]\n"
     ]
    }
   ],
   "source": [
    "with open('books.csv','r') as f:\n",
    "    read = csv.DictReader(f)\n",
    "    book_info = [(i['title'], i['author'], i['year']) for i in read]\n",
    "    print(book_info)"
   ]
  },
  {
   "cell_type": "code",
   "execution_count": 10,
   "id": "e5a3da03",
   "metadata": {},
   "outputs": [
    {
     "name": "stdout",
     "output_type": "stream",
     "text": [
      "[('The Weirdstone of Brisingamen', 'Alan Garner', 1960), ('Perdido Street Station', 'China Miéville', 2000), ('Thud!', 'Terry Pratchett', 2005), ('The Spellman Files', 'Lisa Lutz', 2007), ('Small Gods', 'Terry Pratchett', 1992)]\n"
     ]
    }
   ],
   "source": [
    "\n",
    "conn = sqlite3.connect('books.db')\n",
    "cursor = conn.cursor()\n",
    "# insert data\n",
    "cursor.executemany(\"insert into Books(title, author, year) VALUES(?, ? , ?);\", book_info)\n",
    "cursor.execute('select * from Books')\n",
    "# fetch results and print\n",
    "result = cursor.fetchall()\n",
    "print(result)\n",
    "conn.commit()\n",
    "cursor.close()\n",
    "conn.close()"
   ]
  },
  {
   "cell_type": "markdown",
   "id": "3edafa95",
   "metadata": {},
   "source": [
    "#### 6. Select and print the title column from the book table in alphabetical order.\n"
   ]
  },
  {
   "cell_type": "code",
   "execution_count": 12,
   "id": "c3f2f242",
   "metadata": {},
   "outputs": [
    {
     "name": "stdout",
     "output_type": "stream",
     "text": [
      "Perdido Street Station\n",
      "Small Gods\n",
      "The Spellman Files\n",
      "The Weirdstone of Brisingamen\n",
      "Thud!\n"
     ]
    }
   ],
   "source": [
    "conn = sqlite3.connect('books.db')\n",
    "cursor = conn.cursor()\n",
    "cursor.execute('select title from Books order by title asc')\n",
    "titles = cursor.fetchall()\n",
    "for t in titles:\n",
    "    print(t[0])"
   ]
  },
  {
   "cell_type": "markdown",
   "id": "6ea017e6",
   "metadata": {},
   "source": [
    "#### 7. From the book table, select and print all columns in the order of publication.\n"
   ]
  },
  {
   "cell_type": "code",
   "execution_count": 14,
   "id": "9256359f",
   "metadata": {},
   "outputs": [
    {
     "name": "stdout",
     "output_type": "stream",
     "text": [
      "('The Weirdstone of Brisingamen', 'Alan Garner', 1960)\n",
      "('Small Gods', 'Terry Pratchett', 1992)\n",
      "('Perdido Street Station', 'China Miéville', 2000)\n",
      "('Thud!', 'Terry Pratchett', 2005)\n",
      "('The Spellman Files', 'Lisa Lutz', 2007)\n"
     ]
    }
   ],
   "source": [
    "cursor.execute('select * from Books order by year asc')\n",
    "for ye in cursor.fetchall():\n",
    "    print(ye)"
   ]
  },
  {
   "cell_type": "markdown",
   "id": "b5b27b10",
   "metadata": {},
   "source": [
    "#### 8. Use the sqlalchemy module to connect to the sqlite3 database books.db that you just made in exercise 6.\n"
   ]
  },
  {
   "cell_type": "code",
   "execution_count": 15,
   "id": "83a9b2db",
   "metadata": {},
   "outputs": [],
   "source": [
    "import sqlalchemy\n"
   ]
  },
  {
   "cell_type": "code",
   "execution_count": 17,
   "id": "4b12c26a",
   "metadata": {},
   "outputs": [
    {
     "name": "stdout",
     "output_type": "stream",
     "text": [
      "Perdido Street Station\n",
      "Small Gods\n",
      "The Spellman Files\n",
      "The Weirdstone of Brisingamen\n",
      "Thud!\n"
     ]
    }
   ],
   "source": [
    "conn = sqlalchemy.create_engine('sqlite:///Books.db')\n",
    "results = conn.execute('select title from Books order by title asc')\n",
    "for i in results:\n",
    "    print(i[0])"
   ]
  },
  {
   "cell_type": "markdown",
   "id": "b2609434",
   "metadata": {},
   "source": [
    "#### 9. Install the Redis server and the Python redis library (pip install redis) on your computer. Create a Redis hash called test with the fields count (1) and name ('Fester Bestertester'). Print all the fields for test.\n"
   ]
  },
  {
   "cell_type": "code",
   "execution_count": 20,
   "id": "605e5be7",
   "metadata": {},
   "outputs": [
    {
     "name": "stdout",
     "output_type": "stream",
     "text": [
      "Collecting redisNote: you may need to restart the kernel to use updated packages.\n",
      "\n",
      "  Downloading redis-4.1.1-py3-none-any.whl (173 kB)\n",
      "Requirement already satisfied: packaging>=20.4 in c:\\users\\athir\\anaconda3\\lib\\site-packages (from redis) (20.9)\n",
      "Collecting deprecated>=1.2.3\n",
      "  Downloading Deprecated-1.2.13-py2.py3-none-any.whl (9.6 kB)\n",
      "Requirement already satisfied: wrapt<2,>=1.10 in c:\\users\\athir\\anaconda3\\lib\\site-packages (from deprecated>=1.2.3->redis) (1.12.1)\n",
      "Requirement already satisfied: pyparsing>=2.0.2 in c:\\users\\athir\\anaconda3\\lib\\site-packages (from packaging>=20.4->redis) (2.4.7)\n",
      "Installing collected packages: deprecated, redis\n",
      "Successfully installed deprecated-1.2.13 redis-4.1.1\n"
     ]
    }
   ],
   "source": [
    "pip install redis"
   ]
  },
  {
   "cell_type": "code",
   "execution_count": 1,
   "id": "307fcf65",
   "metadata": {},
   "outputs": [],
   "source": [
    "import redis\n"
   ]
  },
  {
   "cell_type": "code",
   "execution_count": null,
   "id": "6009bacb",
   "metadata": {},
   "outputs": [],
   "source": [
    "conn = redis.Redis()\n",
    "conn.delete('test')\n",
    "conn.hmset('test',{\n",
    "    'count' : 1,\n",
    "    'name' : 'Fester Bestertester'\n",
    "})\n",
    "conn.hgetall('test')"
   ]
  },
  {
   "cell_type": "markdown",
   "id": "3c4f9ed3",
   "metadata": {},
   "source": [
    "#### 10. Increment the count field of test and print it.\n"
   ]
  },
  {
   "cell_type": "code",
   "execution_count": null,
   "id": "9b084c56",
   "metadata": {},
   "outputs": [],
   "source": [
    "conn.hincrby('test','count', 3)\n",
    "conn.hget('test', 'count')"
   ]
  }
 ],
 "metadata": {
  "kernelspec": {
   "display_name": "Python 3",
   "language": "python",
   "name": "python3"
  },
  "language_info": {
   "codemirror_mode": {
    "name": "ipython",
    "version": 3
   },
   "file_extension": ".py",
   "mimetype": "text/x-python",
   "name": "python",
   "nbconvert_exporter": "python",
   "pygments_lexer": "ipython3",
   "version": "3.8.8"
  }
 },
 "nbformat": 4,
 "nbformat_minor": 5
}
