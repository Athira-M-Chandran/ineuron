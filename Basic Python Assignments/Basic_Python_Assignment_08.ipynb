{
 "cells": [
  {
   "cell_type": "markdown",
   "id": "dcef4fd4",
   "metadata": {},
   "source": [
    "#### 1. Is the Python Standard Library included with PyInputPlus?"
   ]
  },
  {
   "cell_type": "markdown",
   "id": "10f80ad0",
   "metadata": {},
   "source": [
    "No, install it using pip"
   ]
  },
  {
   "cell_type": "markdown",
   "id": "cf98d0f4",
   "metadata": {},
   "source": [
    "#### 2. Why is PyInputPlus commonly imported with import pyinputplus as pypi?"
   ]
  },
  {
   "cell_type": "markdown",
   "id": "0808eb4e",
   "metadata": {},
   "source": [
    "pypi (python package index) is a shortname so that while calling the functions we can use this shorter name rather than using a longer name (pyinputplus).\n",
    " "
   ]
  },
  {
   "cell_type": "markdown",
   "id": "90670643",
   "metadata": {},
   "source": [
    "#### 3. How do you distinguish between inputInt() and inputFloat()?"
   ]
  },
  {
   "cell_type": "markdown",
   "id": "ff71dbea",
   "metadata": {},
   "source": [
    "inputInt() accepts int numbers , along with min,max, greaterthan ,lessthan arguments for specifying range.\n",
    "inputFloat() accepts float numbers, also have min,max, greaterthan , lessthan arguments for specifying range.\n"
   ]
  },
  {
   "cell_type": "markdown",
   "id": "494982e2",
   "metadata": {},
   "source": [
    "#### 4. Using PyInputPlus, how do you ensure that the user enters a whole number between 0 and 99?"
   ]
  },
  {
   "cell_type": "markdown",
   "id": "824689ec",
   "metadata": {},
   "source": [
    "Using min and max as follows: \n",
    "pypi.inputNum('Enter num: ', min=0, max=99)"
   ]
  },
  {
   "cell_type": "markdown",
   "id": "15ea992e",
   "metadata": {},
   "source": [
    "#### 5. What is transferred to the keyword arguments allowRegexes and blockRegexes?"
   ]
  },
  {
   "cell_type": "markdown",
   "id": "f0686a46",
   "metadata": {},
   "source": [
    "allowRegexes and blockRegexes will allow or block specified regular expression (whether an input is allowed or not)"
   ]
  },
  {
   "cell_type": "markdown",
   "id": "b08b6efc",
   "metadata": {},
   "source": [
    "#### 6. If a blank input is entered three times, what does inputStr(limit=3) do?"
   ]
  },
  {
   "cell_type": "markdown",
   "id": "aaa3c65c",
   "metadata": {},
   "source": [
    "Error \n",
    "ValidationException                       Traceback (most recent call last)\n",
    "RetryLimitException                       Traceback (most recent call last)"
   ]
  },
  {
   "cell_type": "markdown",
   "id": "98deb9bd",
   "metadata": {},
   "source": [
    "#### 7. If blank input is entered three times, what does inputStr(limit=3, default='hello') do?"
   ]
  },
  {
   "cell_type": "markdown",
   "id": "34bde50f",
   "metadata": {},
   "source": [
    "Returns 'Blank values are not allowed.' three times, no error"
   ]
  }
 ],
 "metadata": {
  "kernelspec": {
   "display_name": "Python 3",
   "language": "python",
   "name": "python3"
  },
  "language_info": {
   "codemirror_mode": {
    "name": "ipython",
    "version": 3
   },
   "file_extension": ".py",
   "mimetype": "text/x-python",
   "name": "python",
   "nbconvert_exporter": "python",
   "pygments_lexer": "ipython3",
   "version": "3.8.8"
  }
 },
 "nbformat": 4,
 "nbformat_minor": 5
}
