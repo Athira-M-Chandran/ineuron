{
 "cells": [
  {
   "cell_type": "markdown",
   "id": "dd9b2797",
   "metadata": {},
   "source": [
    "#### 1. What are escape characters, and how do you use them? "
   ]
  },
  {
   "cell_type": "markdown",
   "id": "895a3c2e",
   "metadata": {},
   "source": [
    "\\\\ - single quote    ; single quote inside a single quote\n",
    "\n",
    "\\\\\\\\\\\\ - Backslash     ; This will insert one \\ (backslash).\n",
    "\n",
    "\\n - newline         ; move to newline\n",
    "\n",
    "\\t - tab             ; tab space\n",
    "\n",
    "\\r - Carriage return ; moves the cursor back to the beginning of the current line\n",
    "\n",
    "\\b - backspace       ; erases one character (backspace)\n",
    "\n",
    "\\f - formfeed        ; page breaking\n",
    "\n",
    "\\000 - octal value   ; backslash followed by three integers\n",
    "\n",
    "\\xhh - Hex value     ; backslash followed by an 'x' and a hex number represents a hex value"
   ]
  },
  {
   "cell_type": "markdown",
   "id": "17d7e601",
   "metadata": {},
   "source": [
    "#### 2. What do the escape characters n and t stand for? "
   ]
  },
  {
   "cell_type": "markdown",
   "id": "3886f336",
   "metadata": {},
   "source": [
    "\\n - newline\n",
    "\n",
    "\\t - tab"
   ]
  },
  {
   "cell_type": "markdown",
   "id": "be035ab7",
   "metadata": {},
   "source": [
    "#### 3. What is the way to include backslash characters in a string? "
   ]
  },
  {
   "cell_type": "markdown",
   "id": "02d1526e",
   "metadata": {},
   "source": [
    "\\\\\\\\\\\\ (Using double backward slash)"
   ]
  },
  {
   "cell_type": "markdown",
   "id": "8f06bc4a",
   "metadata": {},
   "source": [
    "#### 4. The string \"Howl's Moving Castle\" is a correct value. Why isn't the single quote character in the word Howl's not escaped a problem? "
   ]
  },
  {
   "cell_type": "markdown",
   "id": "9f322386",
   "metadata": {},
   "source": [
    "Because it is inside the double quotes."
   ]
  },
  {
   "cell_type": "markdown",
   "id": "788cbcf0",
   "metadata": {},
   "source": [
    "#### 5. How do you write a string of newlines if you don't want to use the n character? "
   ]
  },
  {
   "cell_type": "code",
   "execution_count": 1,
   "id": "f532eba7",
   "metadata": {},
   "outputs": [
    {
     "name": "stdout",
     "output_type": "stream",
     "text": [
      "abc\n",
      "xyz\n",
      "pqr\n",
      "\n",
      "abc\n",
      "xyz\n",
      "pqr\n",
      "\n",
      "abc\n",
      "xyz\n",
      "pqr\n"
     ]
    }
   ],
   "source": [
    "print(\"abc\\nxyz\\npqr\\n\")\n",
    "\n",
    "# Using multiline strings\n",
    "print(\"\"\"abc\n",
    "xyz\n",
    "pqr\n",
    "\"\"\")\n",
    "\n",
    "# By default at the end of print statement is '\\n'\n",
    "print(\"abc\")\n",
    "print(\"xyz\")\n",
    "print(\"pqr\")"
   ]
  },
  {
   "cell_type": "markdown",
   "id": "90016671",
   "metadata": {},
   "source": [
    "#### 6. What are the values of the given expressions? \n",
    "\n",
    "'Hello, world!'[1] \n",
    "\n",
    "'Hello, world!'[0:5] \n",
    "\n",
    "'Hello, world!'[:5] \n",
    "\n",
    "'Hello, world!'[3:] "
   ]
  },
  {
   "cell_type": "code",
   "execution_count": 2,
   "id": "5f5a513a",
   "metadata": {},
   "outputs": [
    {
     "name": "stdout",
     "output_type": "stream",
     "text": [
      "'Hello, world!'[1]   is  e\n",
      "'Hello, world!'[0:5] is  Hello\n",
      "'Hello, world!'[:5]  is  Hello\n",
      "'Hello, world!'[3:]  is  lo, world!\n"
     ]
    }
   ],
   "source": [
    "a = \"Hello, world!\"\n",
    "print(\"'Hello, world!'[1]   is \", a[1])         # a[1] , element from first index position \n",
    "print(\"'Hello, world!'[0:5] is \", a[0:5])       # a[0:5], from 0th position to 4th position\n",
    "print(\"'Hello, world!'[:5]  is \", a[:5])        # a[:5] = a[0:5]\n",
    "print(\"'Hello, world!'[3:]  is \", a[3:])        # a[3:] , from third position till end"
   ]
  },
  {
   "cell_type": "markdown",
   "id": "901b4b87",
   "metadata": {},
   "source": [
    "#### 7. What are the values of the following expressions? \n",
    "\n",
    "'Hello'.upper() \n",
    "\n",
    "'Hello'.upper().isupper() \n",
    "\n",
    "'Hello'.upper().lower() "
   ]
  },
  {
   "cell_type": "code",
   "execution_count": 3,
   "id": "f55aafa9",
   "metadata": {},
   "outputs": [
    {
     "name": "stdout",
     "output_type": "stream",
     "text": [
      "HELLO\n",
      "True\n",
      "hello\n"
     ]
    }
   ],
   "source": [
    "print('Hello'.upper() )           # Converting to uppercase\n",
    "print('Hello'.upper().isupper() ) # first converting to uppercase then check whether it is upper\n",
    "print('Hello'.upper().lower())    # first converting to uppercase then to lowercase"
   ]
  },
  {
   "cell_type": "markdown",
   "id": "c52b9375",
   "metadata": {},
   "source": [
    "#### 8. What are the values of the following expressions? \n",
    "\n",
    "'Remember, remember, the fifth of July.'.split() \n",
    "\n",
    "'-'.join('There can only one.'.split()) "
   ]
  },
  {
   "cell_type": "code",
   "execution_count": 4,
   "id": "70741a5c",
   "metadata": {},
   "outputs": [
    {
     "name": "stdout",
     "output_type": "stream",
     "text": [
      "['Remember,', 'remember,', 'the', 'fifth', 'of', 'July.']\n",
      "There-can-only-one.\n"
     ]
    }
   ],
   "source": [
    "print('Remember, remember, the fifth of July.'.split() )\n",
    "print('-'.join('There can only one.'.split()) )"
   ]
  },
  {
   "cell_type": "markdown",
   "id": "aea5326e",
   "metadata": {},
   "source": [
    "#### 9. What are the methods for right-justifying, left-justifying, and centering a string? "
   ]
  },
  {
   "cell_type": "markdown",
   "id": "cb26fccd",
   "metadata": {},
   "source": [
    "rjust() - right-justifying\n",
    "\n",
    "ljust() - left-justifying\n",
    "\n",
    "center() - centering a string"
   ]
  },
  {
   "cell_type": "markdown",
   "id": "4a9c9c5f",
   "metadata": {},
   "source": [
    "#### 10. What is the best way to remove whitespace characters from the start or end? "
   ]
  },
  {
   "cell_type": "markdown",
   "id": "7983d7ea",
   "metadata": {},
   "source": [
    ".strip() - remove whitespace characters from both start and end\n",
    "\n",
    ".lstrip() - remove whitespace characters from start (left end)\n",
    "\n",
    ".rstrip() - remove whitespace characters from end (right end)"
   ]
  }
 ],
 "metadata": {
  "kernelspec": {
   "display_name": "Python 3",
   "language": "python",
   "name": "python3"
  },
  "language_info": {
   "codemirror_mode": {
    "name": "ipython",
    "version": 3
   },
   "file_extension": ".py",
   "mimetype": "text/x-python",
   "name": "python",
   "nbconvert_exporter": "python",
   "pygments_lexer": "ipython3",
   "version": "3.8.8"
  }
 },
 "nbformat": 4,
 "nbformat_minor": 5
}
