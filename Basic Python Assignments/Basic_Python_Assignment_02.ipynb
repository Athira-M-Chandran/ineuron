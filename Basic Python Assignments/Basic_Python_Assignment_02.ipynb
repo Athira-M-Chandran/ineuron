{
 "cells": [
  {
   "cell_type": "markdown",
   "id": "a2e15041",
   "metadata": {},
   "source": [
    "#### 1.What are the two values of the Boolean data type? How do you write them?"
   ]
  },
  {
   "cell_type": "markdown",
   "id": "3017a201",
   "metadata": {},
   "source": [
    "True and False , using capital T and F, with the rest of the word in lowercase"
   ]
  },
  {
   "cell_type": "code",
   "execution_count": 1,
   "id": "200a9663",
   "metadata": {},
   "outputs": [
    {
     "name": "stdout",
     "output_type": "stream",
     "text": [
      "<class 'bool'>\n",
      "<class 'bool'>\n"
     ]
    }
   ],
   "source": [
    "print(type(True))\n",
    "print(type(False))"
   ]
  },
  {
   "cell_type": "markdown",
   "id": "3b295302",
   "metadata": {},
   "source": [
    "#### 2. What are the three different types of Boolean operators? "
   ]
  },
  {
   "cell_type": "markdown",
   "id": "4aa3c7e6",
   "metadata": {},
   "source": [
    "and, or , not"
   ]
  },
  {
   "cell_type": "markdown",
   "id": "ea01ce94",
   "metadata": {},
   "source": [
    "#### 3. Make a list of each Boolean operator's truth tables (i.e. every possible combination of Boolean values for the operator and what it evaluate ). "
   ]
  },
  {
   "cell_type": "code",
   "execution_count": 2,
   "id": "c94db8e0",
   "metadata": {},
   "outputs": [
    {
     "name": "stdout",
     "output_type": "stream",
     "text": [
      "True and True =  True\n",
      "True and False =  False\n",
      "False and True =  False\n",
      "False and False =  False\n",
      " \n",
      "True or True =  True\n",
      "True or False =  True\n",
      "False or True =  True\n",
      "False or False =  False\n",
      " \n",
      "not True =  False\n",
      "not False =  True\n"
     ]
    }
   ],
   "source": [
    "print(\"True and True = \", True and True)\n",
    "print(\"True and False = \", True and False)\n",
    "print(\"False and True = \", False and True)\n",
    "print(\"False and False = \", False and False)\n",
    "print(\" \")\n",
    "print(\"True or True = \", True or True)\n",
    "print(\"True or False = \", True or False)\n",
    "print(\"False or True = \", False or True)\n",
    "print(\"False or False = \", False or False)\n",
    "print(\" \")\n",
    "print(\"not True = \", not True)\n",
    "print(\"not False = \", not False)\n"
   ]
  },
  {
   "cell_type": "markdown",
   "id": "b4359fad",
   "metadata": {},
   "source": [
    "#### 4. What are the values of the following expressions?\n",
    "(5 > 4) and (3 == 5)  \t\t= False \n",
    "\n",
    "not (5 > 4)\t\t\t        = False \n",
    "\n",
    "(5 > 4) or (3 == 5)\t\t    = True \n",
    "\n",
    "not ((5 > 4) or (3 == 5))\t= False \n",
    "\n",
    "(True and True) and (True == False) = False \n",
    "\n",
    "(not False) or (not True)\t= True \n"
   ]
  },
  {
   "cell_type": "code",
   "execution_count": 3,
   "id": "c7ddc993",
   "metadata": {},
   "outputs": [
    {
     "name": "stdout",
     "output_type": "stream",
     "text": [
      "(5 > 4) and (3 == 5) =>  False\n",
      "not (5 > 4) =>  False\n",
      "(5 > 4) or (3 == 5) =>  True\n",
      "not ((5 > 4) or (3 == 5)) =>  False\n",
      "(True and True) and (True == False) =>  False\n",
      "(not False) or (not True) =>  True\n"
     ]
    }
   ],
   "source": [
    "print(\"(5 > 4) and (3 == 5) => \", (5 > 4) and (3 == 5))\n",
    "print(\"not (5 > 4) => \",not (5 > 4))\n",
    "print(\"(5 > 4) or (3 == 5) => \",(5 > 4) or (3 == 5))\n",
    "print(\"not ((5 > 4) or (3 == 5)) => \",not ((5 > 4) or (3 == 5)))\n",
    "print(\"(True and True) and (True == False) => \",(True and True) and (True == False))\n",
    "print(\"(not False) or (not True) => \",(not False) or (not True))"
   ]
  },
  {
   "cell_type": "markdown",
   "id": "627a80ea",
   "metadata": {},
   "source": [
    "#### 5. What are the six comparison operators? "
   ]
  },
  {
   "cell_type": "markdown",
   "id": "da6919ac",
   "metadata": {},
   "source": [
    "Less than < \n",
    "\n",
    "Less than or equal to <=  \n",
    "\n",
    "Equal to ==  \n",
    "\n",
    "Greater than or equal to >=\n",
    "\n",
    "Greater than > \n",
    "\n",
    "Not equal to != "
   ]
  },
  {
   "cell_type": "markdown",
   "id": "9ba9c749",
   "metadata": {},
   "source": [
    "#### 6. How do you tell the difference between the equal to and assignment operators? Describe a condition and when you would use one. "
   ]
  },
  {
   "cell_type": "markdown",
   "id": "232aad24",
   "metadata": {},
   "source": [
    "Assignment operator (=) is to assign value on the right to the left variable. \n",
    "\n",
    "Equal to (==) is to evaluate whether left value and right values are equal."
   ]
  },
  {
   "cell_type": "code",
   "execution_count": 4,
   "id": "9c2509bc",
   "metadata": {},
   "outputs": [
    {
     "data": {
      "text/plain": [
       "False"
      ]
     },
     "execution_count": 4,
     "metadata": {},
     "output_type": "execute_result"
    }
   ],
   "source": [
    "a = 10  # assigning 10 to 'a'\n",
    "b = 8   # assigning 8 to 'b'\n",
    "a == b  # Comparing whether a and b are equal . Return True if it is equal ,return False if it is not equal"
   ]
  },
  {
   "cell_type": "markdown",
   "id": "2a2ca5c4",
   "metadata": {},
   "source": [
    "#### 7. Identify the three blocks in this code: "
   ]
  },
  {
   "cell_type": "code",
   "execution_count": null,
   "id": "4224f94d",
   "metadata": {},
   "outputs": [],
   "source": [
    "spam = 0\n",
    "if spam == 10:\n",
    "    print('eggs')  # First block\n",
    "    if spam > 5:\n",
    "        print('bacon')  # second block\n",
    "    else:\n",
    "        print('ham')    # Third block\n",
    "    print('spam')\n",
    "print('spam')\n"
   ]
  },
  {
   "cell_type": "markdown",
   "id": "1939d53a",
   "metadata": {},
   "source": [
    "#### 8. Write code that prints Hello if 1 is stored in spam, prints Howdy if 2 is stored in spam, and prints Greetings! if anything else is stored in spam. "
   ]
  },
  {
   "cell_type": "code",
   "execution_count": 2,
   "id": "adf5bbcd",
   "metadata": {},
   "outputs": [
    {
     "name": "stdout",
     "output_type": "stream",
     "text": [
      "Greetings!\n"
     ]
    }
   ],
   "source": [
    "spam =0\n",
    "if spam == 1: \n",
    "    print(\"Hello\")\n",
    "\n",
    "elif spam ==2: \n",
    "    print('Howdy') \n",
    "    \n",
    "else: \n",
    "    print('Greetings!') "
   ]
  },
  {
   "cell_type": "markdown",
   "id": "fcafe1e9",
   "metadata": {},
   "source": [
    "#### 9.If your programme is stuck in an endless loop, what keys you’ll press? "
   ]
  },
  {
   "cell_type": "markdown",
   "id": "f7fc52ab",
   "metadata": {},
   "source": [
    "Press i twice will interrupt the kernel "
   ]
  },
  {
   "cell_type": "markdown",
   "id": "fc85b3f1",
   "metadata": {},
   "source": [
    "#### 10. How can you tell the difference between break and continue? "
   ]
  },
  {
   "cell_type": "markdown",
   "id": "03e43ac7",
   "metadata": {},
   "source": [
    "Break (Breakout of a loop) - the loop stops completely and any code after the loop is executed\n",
    "Continue - is used to skip any remaining code in the loop body and continue on to the very next iteration in the loop.\n",
    "Examples shown below:\n"
   ]
  },
  {
   "cell_type": "code",
   "execution_count": 5,
   "id": "d9af01d0",
   "metadata": {},
   "outputs": [
    {
     "name": "stdout",
     "output_type": "stream",
     "text": [
      "n =  0\n",
      "n =  1\n",
      "finished with n =  2\n"
     ]
    }
   ],
   "source": [
    "# Example for break statement\n",
    "for n in range(0,4):\n",
    "    if n==2:\n",
    "        break\n",
    "    print(\"n = \", n)\n",
    "print(\"finished with n = \",n)"
   ]
  },
  {
   "cell_type": "code",
   "execution_count": 6,
   "id": "efb7aef2",
   "metadata": {},
   "outputs": [
    {
     "name": "stdout",
     "output_type": "stream",
     "text": [
      "i =   0\n",
      "i =   1\n",
      "i =   3\n",
      "Finished with i =  3\n"
     ]
    }
   ],
   "source": [
    "# Example for Continue statement\n",
    "for i in range(0,4):\n",
    "    if i == 2:\n",
    "        continue\n",
    "    print(\"i =  \", i)\n",
    "print(\"Finished with i = \", i)"
   ]
  },
  {
   "cell_type": "markdown",
   "id": "0e8e3fea",
   "metadata": {},
   "source": [
    "#### 11. In a for loop, what is the difference between range(10), range(0, 10), and range(0, 10, 1)? "
   ]
  },
  {
   "cell_type": "markdown",
   "id": "1e5520bc",
   "metadata": {},
   "source": [
    "All will give answer from 0 to 9 \n",
    "\n",
    "In for loop , by default starting value is 0 also the step size (loop increment in steps) is 1.\n",
    "\n",
    "So, range(10) is same as range(0,10) as well as range(0,10,1)\n",
    "\n",
    "Similarily range(10) , range(0,10) and range(0,10,1) are having same meaning"
   ]
  },
  {
   "cell_type": "markdown",
   "id": "723e31ff",
   "metadata": {},
   "source": [
    "#### 12. Write a short program that prints the numbers 1 to 10 using a for loop. Then write an equivalent program that prints the numbers 1 to 10 using a while loop. "
   ]
  },
  {
   "cell_type": "code",
   "execution_count": 7,
   "id": "5f4797a5",
   "metadata": {},
   "outputs": [
    {
     "name": "stdout",
     "output_type": "stream",
     "text": [
      "# Using for loop\n",
      "1\n",
      "2\n",
      "3\n",
      "4\n",
      "5\n",
      "6\n",
      "7\n",
      "8\n",
      "9\n",
      "10\n",
      "# Using while loop\n",
      "1\n",
      "2\n",
      "3\n",
      "4\n",
      "5\n",
      "6\n",
      "7\n",
      "8\n",
      "9\n",
      "10\n"
     ]
    }
   ],
   "source": [
    "## Using for loop \n",
    "print(\"# Using for loop\")\n",
    "for i in range(1,11): \n",
    "    print(i)   \n",
    "\n",
    "## Using while loop\n",
    "print(\"# Using while loop\")\n",
    "j=1 \n",
    "while (j<11): \n",
    "    print(j) \n",
    "    j = j+1 "
   ]
  },
  {
   "cell_type": "markdown",
   "id": "f22e4726",
   "metadata": {},
   "source": [
    "#### 13. If you had a function named bacon() inside a module named spam, how would you call it after importing spam?"
   ]
  },
  {
   "cell_type": "markdown",
   "id": "e9a5c1ca",
   "metadata": {},
   "source": [
    "spam.bacon()"
   ]
  }
 ],
 "metadata": {
  "kernelspec": {
   "display_name": "Python 3",
   "language": "python",
   "name": "python3"
  },
  "language_info": {
   "codemirror_mode": {
    "name": "ipython",
    "version": 3
   },
   "file_extension": ".py",
   "mimetype": "text/x-python",
   "name": "python",
   "nbconvert_exporter": "python",
   "pygments_lexer": "ipython3",
   "version": "3.8.8"
  }
 },
 "nbformat": 4,
 "nbformat_minor": 5
}
