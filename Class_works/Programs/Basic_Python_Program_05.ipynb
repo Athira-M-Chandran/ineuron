{
 "cells": [
  {
   "cell_type": "markdown",
   "id": "ff8dd9d5",
   "metadata": {},
   "source": [
    "#### 1. Write a Python Program to Find LCM? "
   ]
  },
  {
   "cell_type": "code",
   "execution_count": null,
   "id": "f172e06d",
   "metadata": {},
   "outputs": [],
   "source": [
    "a,b = input(\"Enter numbers for finding LCM : \").split()        # get 2 input from user\n",
    "a,b = int(a),int(b)\n",
    "\n",
    "if a > b:                       # check which number is highest and lowest\n",
    "    highest = a\n",
    "    lowest  = b\n",
    "else :\n",
    "    highest = b\n",
    "    lowest = a\n",
    "\n",
    "for i in range(1,lowest+1):          # increment by 1 till lowest number\n",
    "    if (i*highest) % lowest == 0:    # multiply highest number with i and divide it by lowest number, \n",
    "                                     #if the remainder is zero, then that is the LCM\n",
    "        print(f\"LCM of {a} and {b} is {highest * i}\")     # Print the LCM\n",
    "        break                        # Breakout of the loop"
   ]
  },
  {
   "cell_type": "markdown",
   "id": "dd781319",
   "metadata": {},
   "source": [
    "#### 2. Write a Python Program to Find HCF? "
   ]
  },
  {
   "cell_type": "code",
   "execution_count": 2,
   "id": "bd3af2bf",
   "metadata": {},
   "outputs": [
    {
     "name": "stdout",
     "output_type": "stream",
     "text": [
      "Enter numbers for finding HCF : 25 30\n",
      "HCF of 25 and 30 is 5\n"
     ]
    }
   ],
   "source": [
    "def hcf(a,b):           \n",
    "    if a == 0:\n",
    "        return b\n",
    "    return hcf(b % a, a)\n",
    "\n",
    "a,b = input(\"Enter numbers for finding HCF : \").split()    # Taking input from user\n",
    "a,b = int(a),int(b)\n",
    "print(f\"HCF of {a} and {b} is {hcf(a,b)}\")                 # Printing HCF using hcf function call\n",
    "\n",
    "#hcf =0\n",
    "#for i in range(1,a+1):\n",
    " #   if a % i == 0 :\n",
    "  #      if b % i ==0:\n",
    "   #         hcf = i\n",
    "            \n",
    "#print(f\"HCF of {a} and {b} is {hcf}\")"
   ]
  },
  {
   "cell_type": "markdown",
   "id": "66c1d30f",
   "metadata": {},
   "source": [
    "#### 3. Write a Python Program to Convert Decimal to Binary, Octal and Hexadecimal? "
   ]
  },
  {
   "cell_type": "code",
   "execution_count": 4,
   "id": "21bf649b",
   "metadata": {},
   "outputs": [
    {
     "name": "stdout",
     "output_type": "stream",
     "text": [
      "Enter decimal number: 9\n",
      "1001  in binary\n",
      "11  in octal\n",
      "9  in hexadecimal\n"
     ]
    }
   ],
   "source": [
    "n = int(input(\"Enter decimal number: \"))\n",
    "print(bin(n)[2:], \" in binary\")\n",
    "print(oct(n)[2:], \" in octal\")\n",
    "print(hex(n)[2:], \" in hexadecimal\")"
   ]
  },
  {
   "cell_type": "markdown",
   "id": "bc27f00b",
   "metadata": {},
   "source": [
    "#### 4. Write a Python Program To Find ASCII value of a character? "
   ]
  },
  {
   "cell_type": "code",
   "execution_count": 3,
   "id": "a9bd5866",
   "metadata": {},
   "outputs": [
    {
     "name": "stdout",
     "output_type": "stream",
     "text": [
      "Enter character to convert to ASCII value: A\n",
      "65\n"
     ]
    }
   ],
   "source": [
    "x = input(\"Enter character to convert to ASCII value: \")\n",
    "print(ord(x))"
   ]
  },
  {
   "cell_type": "markdown",
   "id": "f5ed3d78",
   "metadata": {},
   "source": [
    "#### 5. Write a Python Program to Make a Simple Calculator with 4 basic mathematical operations? "
   ]
  },
  {
   "cell_type": "code",
   "execution_count": 1,
   "id": "b9426fa5",
   "metadata": {},
   "outputs": [
    {
     "name": "stdout",
     "output_type": "stream",
     "text": [
      "Choose operator : \n",
      "1. Addition\n",
      "2. Subtraction\n",
      "3. Multiplication\n",
      "4. Division\n",
      "Enter choice (1/2/3/4): 3\n",
      "Enter the first number : 212\n",
      "Enter the second number : 11\n",
      "212 x 11 is 2332\n"
     ]
    }
   ],
   "source": [
    "print(\"Choose operator : \")\n",
    "print(\"1. Addition\")\n",
    "print(\"2. Subtraction\")\n",
    "print(\"3. Multiplication\")\n",
    "print(\"4. Division\")\n",
    "\n",
    "operator = int(input(\"Enter choice (1/2/3/4): \"))\n",
    "if operator in [1,2,3,4]:\n",
    "    a = int(input(\"Enter the first number : \"))\n",
    "    b = int(input(\"Enter the second number : \"))\n",
    "    if operator ==1 :\n",
    "        print(f\"{a} + {b} is {a+b}\")\n",
    "    elif operator == 2 :\n",
    "        print(f\"{a} - {b} is {a-b}\")\n",
    "    elif operator == 3 :\n",
    "        print(f\"{a} x {b} is {a*b}\")\n",
    "    elif operator == 4:\n",
    "        if b>0:\n",
    "            print(f\"{a} / {b} is {a/b :.2f}\")\n",
    "        else:\n",
    "            print(\"Second number should be greater than zero\")\n",
    "        \n",
    "else:\n",
    "    print(\"Invalid choice!\")"
   ]
  }
 ],
 "metadata": {
  "kernelspec": {
   "display_name": "Python 3",
   "language": "python",
   "name": "python3"
  },
  "language_info": {
   "codemirror_mode": {
    "name": "ipython",
    "version": 3
   },
   "file_extension": ".py",
   "mimetype": "text/x-python",
   "name": "python",
   "nbconvert_exporter": "python",
   "pygments_lexer": "ipython3",
   "version": "3.8.8"
  }
 },
 "nbformat": 4,
 "nbformat_minor": 5
}
