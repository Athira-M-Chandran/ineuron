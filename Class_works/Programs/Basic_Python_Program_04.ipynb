{
 "cells": [
  {
   "cell_type": "markdown",
   "id": "138d32bc",
   "metadata": {},
   "source": [
    "#### 1. Write a Python Program to Find the Factorial of a Number? "
   ]
  },
  {
   "cell_type": "code",
   "execution_count": 1,
   "id": "60140b99",
   "metadata": {},
   "outputs": [
    {
     "name": "stdout",
     "output_type": "stream",
     "text": [
      "Enter the number : 8\n",
      "8! is 40320\n"
     ]
    }
   ],
   "source": [
    "# Take the input from the user\n",
    "n = int(input(\"Enter the number : \"))\n",
    "\n",
    "# setting factorial as fact to 1\n",
    "fact = 1\n",
    "\n",
    "# Looping till n\n",
    "for i in range(1,n+1):\n",
    "    # finding factorial\n",
    "    fact = i * fact\n",
    "    \n",
    "# Printing it    \n",
    "print(f\"{n}! is {fact}\")"
   ]
  },
  {
   "cell_type": "markdown",
   "id": "dac15118",
   "metadata": {},
   "source": [
    "#### 2. Write a Python Program to Display the multiplication Table? "
   ]
  },
  {
   "cell_type": "code",
   "execution_count": 2,
   "id": "400eea4b",
   "metadata": {},
   "outputs": [
    {
     "name": "stdout",
     "output_type": "stream",
     "text": [
      "Enter a number for multiplication table : 4\n",
      "1 * 4 = 4\n",
      "2 * 4 = 8\n",
      "3 * 4 = 12\n",
      "4 * 4 = 16\n",
      "5 * 4 = 20\n",
      "6 * 4 = 24\n",
      "7 * 4 = 28\n",
      "8 * 4 = 32\n",
      "9 * 4 = 36\n",
      "10 * 4 = 40\n",
      "11 * 4 = 44\n",
      "12 * 4 = 48\n",
      "13 * 4 = 52\n",
      "14 * 4 = 56\n",
      "15 * 4 = 60\n",
      "16 * 4 = 64\n",
      "17 * 4 = 68\n",
      "18 * 4 = 72\n",
      "19 * 4 = 76\n",
      "20 * 4 = 80\n",
      "21 * 4 = 84\n",
      "22 * 4 = 88\n",
      "23 * 4 = 92\n",
      "24 * 4 = 96\n",
      "25 * 4 = 100\n"
     ]
    }
   ],
   "source": [
    "# take user input\n",
    "n = int(input(\"Enter a number for multiplication table : \"))\n",
    "\n",
    "# multiplication table upto 25 of n\n",
    "for i in range(1,26):\n",
    "    print(f\"{i} * {n} = {i*n}\")"
   ]
  },
  {
   "cell_type": "markdown",
   "id": "3f106432",
   "metadata": {},
   "source": [
    "#### 3. Write a Python Program to Print the Fibonacci sequence? "
   ]
  },
  {
   "cell_type": "code",
   "execution_count": 3,
   "id": "891db9e4",
   "metadata": {},
   "outputs": [
    {
     "name": "stdout",
     "output_type": "stream",
     "text": [
      "Enter the limit for fibinocci : 6\n",
      "Fibnocci Series :  0 1 1 2 3 5 "
     ]
    }
   ],
   "source": [
    "# take user input\n",
    "n = int(input(\"Enter the limit for fibinocci : \"))\n",
    "\n",
    "a = 0\n",
    "b = 1\n",
    "c = 1\n",
    "\n",
    "print(\"Fibnocci Series : \", end =\" \")\n",
    "for i in range(0,n):\n",
    "    print(a, end =\" \")\n",
    "    c = a + b\n",
    "    a = b\n",
    "    b = c"
   ]
  },
  {
   "cell_type": "markdown",
   "id": "21dfe4dc",
   "metadata": {},
   "source": [
    "#### 4. Write a Python Program to Check Armstrong Number? "
   ]
  },
  {
   "cell_type": "code",
   "execution_count": 4,
   "id": "a777a317",
   "metadata": {},
   "outputs": [
    {
     "name": "stdout",
     "output_type": "stream",
     "text": [
      "Enter a number to check armstrong : 153\n",
      "153 is an armstrong number\n"
     ]
    }
   ],
   "source": [
    "\n",
    "n = input(\"Enter a number to check armstrong : \")     # take user input as string\n",
    "\n",
    "armstrong = 0                                         # setting a variable to 0\n",
    "a = int(n)                                            # converting n to integer \n",
    "\n",
    "for i in range(1,len(n)+1):                           # iterating by length of input\n",
    "    armstrong = armstrong + (a % 10) ** 3             # finding cube of each digit from 10th place and adding each\n",
    "    a = a//10                                         # integer division for eliminating 10th position\n",
    "\n",
    "if armstrong == int(n):                               # checking whether it is an armstrong number or not\n",
    "    print(f\"{n} is an armstrong number\")\n",
    "else:\n",
    "    print(f\"{n} is not an armstrong number\")"
   ]
  },
  {
   "cell_type": "markdown",
   "id": "720443c5",
   "metadata": {},
   "source": [
    "#### 5. Write a Python Program to Find Armstrong Number in an Interval?"
   ]
  },
  {
   "cell_type": "code",
   "execution_count": 5,
   "id": "6347f0ef",
   "metadata": {},
   "outputs": [
    {
     "name": "stdout",
     "output_type": "stream",
     "text": [
      "Enter lower limit : 100\n",
      "Enter upper limit: 500\n",
      "153 is an armstrong number\n",
      "370 is an armstrong number\n",
      "371 is an armstrong number\n",
      "407 is an armstrong number\n"
     ]
    }
   ],
   "source": [
    "n= input(\"Enter lower limit : \")\n",
    "m = input(\"Enter upper limit: \")\n",
    "\n",
    "\n",
    "for i in range(int(n),int(m)+1):\n",
    "    armstrong = 0                                         # setting a variable to 0\n",
    "    i = str(i)\n",
    "    a = int(i)                                            # converting n to integer \n",
    "    \n",
    "    for j in range(0,len(i)):\n",
    "        armstrong = armstrong + (a % 10) ** 3             # finding cube of each digit from 10th place and adding each\n",
    "        a = a//10                                         # integer division for eliminating 10th position\n",
    "    \n",
    "    if armstrong == int(i):                               # checking whether it is an armstrong number or not\n",
    "        print(f\"{i} is an armstrong number\")\n"
   ]
  },
  {
   "cell_type": "markdown",
   "id": "35ae4983",
   "metadata": {},
   "source": [
    "#### 6. Write a Python Program to Find the Sum of Natural Numbers? "
   ]
  },
  {
   "cell_type": "code",
   "execution_count": 6,
   "id": "f619f7ef",
   "metadata": {},
   "outputs": [
    {
     "name": "stdout",
     "output_type": "stream",
     "text": [
      "Enter the limit : 10\n",
      "Sum of first 10 natural number is 55\n"
     ]
    }
   ],
   "source": [
    "# take limit from user \n",
    "n = int(input(\"Enter the limit : \"))\n",
    "if n>0:             # Since natural numbers are non negative numbers\n",
    "    sum_ = 0        # initially setting sum as 0\n",
    "    for i in range(1,n+1):   # Looping till limit starting from 1\n",
    "        sum_ = sum_ + i      # adding each numbers till n\n",
    "    print(f\"Sum of first {n} natural number is {sum_}\")   # printing the total sum\n",
    "    \n",
    "else:\n",
    "    print(\"Its not a natural number\")         "
   ]
  }
 ],
 "metadata": {
  "kernelspec": {
   "display_name": "Python 3",
   "language": "python",
   "name": "python3"
  },
  "language_info": {
   "codemirror_mode": {
    "name": "ipython",
    "version": 3
   },
   "file_extension": ".py",
   "mimetype": "text/x-python",
   "name": "python",
   "nbconvert_exporter": "python",
   "pygments_lexer": "ipython3",
   "version": "3.8.8"
  }
 },
 "nbformat": 4,
 "nbformat_minor": 5
}
