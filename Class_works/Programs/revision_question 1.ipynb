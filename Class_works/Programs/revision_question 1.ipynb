{
 "cells": [
  {
   "cell_type": "markdown",
   "id": "45f1ca4f",
   "metadata": {},
   "source": [
    "#### Write a program to accept 2 lists from the user of 5 nos each . Assume each list will have unique nos Now find out how many items in these lists are common ."
   ]
  },
  {
   "cell_type": "code",
   "execution_count": 1,
   "id": "d83c7d4c",
   "metadata": {},
   "outputs": [
    {
     "name": "stdout",
     "output_type": "stream",
     "text": [
      "Enter first list (5nos) with space: 1 2 3 4 5\n",
      "Enter first list (5nos) with space: 5 6 3 9 1\n",
      "[1, 3, 5]\n"
     ]
    }
   ],
   "source": [
    "list1 = list(input(\"Enter first list (5nos) with space: \").split(\" \"))\n",
    "list2 = list(input(\"Enter first list (5nos) with space: \").split(\" \"))\n",
    "new_list = []\n",
    "for i in list1:\n",
    "    if i in list2:\n",
    "        new_list.append(int(i))\n",
    "        \n",
    "print(new_list)"
   ]
  },
  {
   "cell_type": "markdown",
   "id": "a3376f73",
   "metadata": {},
   "source": [
    "#### Write a program to accept 5 unique integers from the user. Make sure if the integer being entered is already present in the list your code displays the message “Item already present” and ask the user to reenter the integer."
   ]
  },
  {
   "cell_type": "code",
   "execution_count": 2,
   "id": "c69d2c44",
   "metadata": {},
   "outputs": [],
   "source": [
    "list1 = []\n",
    "def enter():\n",
    "    while len(list1)<5:\n",
    "        val = int(input(\"Enter integer : \"))\n",
    "        if val in list1:\n",
    "            print(\"Item already present\")\n",
    "            return enter()\n",
    "        else:\n",
    "            list1.append(val)\n",
    "    if len(list1) == 5:\n",
    "        return list1"
   ]
  },
  {
   "cell_type": "code",
   "execution_count": 3,
   "id": "642b969f",
   "metadata": {},
   "outputs": [
    {
     "name": "stdout",
     "output_type": "stream",
     "text": [
      "Enter integer : 4\n",
      "Enter integer : 2\n",
      "Enter integer : 4\n",
      "Item already present\n",
      "Enter integer : 7\n",
      "Enter integer : 7\n",
      "Item already present\n",
      "Enter integer : 3\n",
      "Enter integer : 1\n"
     ]
    },
    {
     "data": {
      "text/plain": [
       "[4, 2, 7, 3, 1]"
      ]
     },
     "execution_count": 3,
     "metadata": {},
     "output_type": "execute_result"
    }
   ],
   "source": [
    "enter()"
   ]
  },
  {
   "cell_type": "code",
   "execution_count": null,
   "id": "b92ecfcb",
   "metadata": {},
   "outputs": [],
   "source": []
  }
 ],
 "metadata": {
  "kernelspec": {
   "display_name": "Python 3",
   "language": "python",
   "name": "python3"
  },
  "language_info": {
   "codemirror_mode": {
    "name": "ipython",
    "version": 3
   },
   "file_extension": ".py",
   "mimetype": "text/x-python",
   "name": "python",
   "nbconvert_exporter": "python",
   "pygments_lexer": "ipython3",
   "version": "3.8.8"
  }
 },
 "nbformat": 4,
 "nbformat_minor": 5
}
