{
 "cells": [
  {
   "cell_type": "markdown",
   "id": "87b331c3",
   "metadata": {},
   "source": [
    "#### Question 1:\n",
    "Please write a program using generator to print the numbers which can be divisible by 5 and 7 between 0 and n in comma separated form while n is input by console.\n",
    "Example:\n",
    "If the following n is given as input to the program:\n",
    "100\n",
    "Then, the output of the program should be:\n",
    "0,35,70\n"
   ]
  },
  {
   "cell_type": "code",
   "execution_count": 1,
   "id": "7b73d8c2",
   "metadata": {},
   "outputs": [
    {
     "name": "stdout",
     "output_type": "stream",
     "text": [
      "Enter limit: 100\n",
      "0,35,70\n"
     ]
    }
   ],
   "source": [
    "def generator(n):\n",
    "    '''generator to print the numbers which can be divisible by 5 and 7'''\n",
    "    for i in range(n):\n",
    "        if i % 5==0 and i %7==0:\n",
    "            yield i\n",
    "\n",
    "\n",
    "n = int(input(\"Enter limit: \"))\n",
    "l = []\n",
    "\n",
    "for i in generator(n+1):\n",
    "    l.append(str(i))\n",
    "    \n",
    "# output in comma separated form\n",
    "print(\",\".join(l))"
   ]
  },
  {
   "cell_type": "markdown",
   "id": "0ff17bbc",
   "metadata": {},
   "source": [
    "#### Question 2:\n",
    "Please write a program using generator to print the even numbers between 0 and n in comma separated form while n is input by console.\n",
    "Example:\n",
    "If the following n is given as input to the program:\n",
    "10\n",
    "Then, the output of the program should be:\n",
    "0,2,4,6,8,10\n"
   ]
  },
  {
   "cell_type": "code",
   "execution_count": 2,
   "id": "ae18e56b",
   "metadata": {},
   "outputs": [
    {
     "name": "stdout",
     "output_type": "stream",
     "text": [
      "Enter limit: 10\n",
      "0,2,4,6,8,10\n"
     ]
    }
   ],
   "source": [
    "def even_generator(n):\n",
    "    '''generator to print the even numbers between 0 and n'''\n",
    "    for i in range(n):\n",
    "        if i % 2 == 0:\n",
    "            yield i\n",
    "\n",
    "n = int(input(\"Enter limit: \"))\n",
    "list_even = []\n",
    "\n",
    "for i in even_generator(n+1):\n",
    "    list_even.append(str(i))\n",
    "\n",
    "# output in comma separated form\n",
    "print(\",\".join(list_even))"
   ]
  },
  {
   "cell_type": "markdown",
   "id": "063ca34f",
   "metadata": {},
   "source": [
    "#### Question 3:\n",
    "The Fibonacci Sequence is computed based on the following formula:\n",
    "f(n)=0 if n=0\n",
    "f(n)=1 if n=1\n",
    "f(n)=f(n-1)+f(n-2) if n>1\n",
    "Please write a program using list comprehension to print the Fibonacci Sequence in comma separated form with a given n input by console.\n",
    "Example:\n",
    "If the following n is given as input to the program:\n",
    "7\n",
    "\n",
    "Then, the output of the program should be:\n",
    "0,1,1,2,3,5,8,13\n"
   ]
  },
  {
   "cell_type": "code",
   "execution_count": 7,
   "id": "d1af9d91",
   "metadata": {},
   "outputs": [
    {
     "name": "stdout",
     "output_type": "stream",
     "text": [
      "Enter limit: 7\n",
      "0,1,1,2,3,5,8,13\n"
     ]
    }
   ],
   "source": [
    "n = int(input(\"Enter limit: \"))\n",
    "fib = lambda x:0 if x == 0 else 1 if x == 1 else fib(x-1) + fib(x-2)\n",
    "print(','.join([str(fib(x)) for x in range(n+1)]))\n"
   ]
  },
  {
   "cell_type": "markdown",
   "id": "30be50a8",
   "metadata": {},
   "source": [
    "#### Question 4:\n",
    "Assuming that we have some email addresses in the \"username@companyname.com\" format, please write program to print the user name of a given email address. Both user names and company names are composed of letters only.\n",
    "Example:\n",
    "If the following email address is given as input to the program:\n",
    "john@google.com\n",
    "Then, the output of the program should be:\n",
    "john\n"
   ]
  },
  {
   "cell_type": "code",
   "execution_count": 3,
   "id": "1cff9639",
   "metadata": {},
   "outputs": [
    {
     "name": "stdout",
     "output_type": "stream",
     "text": [
      "Enter email: john@google.com \n",
      "john\n"
     ]
    }
   ],
   "source": [
    "def find_user(e):\n",
    "    '''to print the user name of a given email address'''\n",
    "    l = e.split('@')\n",
    "    return l[0]\n",
    "\n",
    "e = input(\"Enter email: \")\n",
    "print(find_user(e))"
   ]
  },
  {
   "cell_type": "markdown",
   "id": "21f2dbff",
   "metadata": {},
   "source": [
    "#### Question 5:\n",
    "Define a class named Shape and its subclass Square. The Square class has an init function which takes a length as argument. Both classes have a area function which can print the area of the shape where Shape's area is 0 by default.\n"
   ]
  },
  {
   "cell_type": "code",
   "execution_count": 4,
   "id": "e9f04ad4",
   "metadata": {},
   "outputs": [
    {
     "name": "stdout",
     "output_type": "stream",
     "text": [
      "9\n"
     ]
    }
   ],
   "source": [
    "class Shape:\n",
    "    '''Shape's area is 0 by default.'''\n",
    "    def area(self):\n",
    "        return 0\n",
    "class Square(Shape):\n",
    "    '''Square class has an init function which takes a length as argument and  \n",
    "    a area function which can print the area of the shape'''\n",
    "    def __init__(self,length):\n",
    "        self.length = length\n",
    "    def area(self):\n",
    "        return self.length * self.length\n",
    "\n",
    "shape = Square(3)\n",
    "print(shape.area())"
   ]
  }
 ],
 "metadata": {
  "kernelspec": {
   "display_name": "Python 3",
   "language": "python",
   "name": "python3"
  },
  "language_info": {
   "codemirror_mode": {
    "name": "ipython",
    "version": 3
   },
   "file_extension": ".py",
   "mimetype": "text/x-python",
   "name": "python",
   "nbconvert_exporter": "python",
   "pygments_lexer": "ipython3",
   "version": "3.8.8"
  }
 },
 "nbformat": 4,
 "nbformat_minor": 5
}
