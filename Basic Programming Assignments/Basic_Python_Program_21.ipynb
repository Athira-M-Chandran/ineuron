{
 "cells": [
  {
   "cell_type": "markdown",
   "id": "bd640b6e",
   "metadata": {},
   "source": [
    "#### Question1\n",
    "Write a function that takes a list and a number as arguments. Add the number to the end of the list, then remove the first element of the list. The function should then return the updated list.\n",
    "Examples\n",
    "next_in_line([5, 6, 7, 8, 9], 1) ➞ [6, 7, 8, 9, 1]\n",
    "\n",
    "next_in_line([7, 6, 3, 23, 17], 10) ➞ [6, 3, 23, 17, 10]\n",
    "\n",
    "next_in_line([1, 10, 20, 42 ], 6) ➞ [10, 20, 42, 6]\n",
    "\n",
    "next_in_line([], 6) ➞ \"No list has been selected\"\n"
   ]
  },
  {
   "cell_type": "code",
   "execution_count": 1,
   "id": "97cef256",
   "metadata": {},
   "outputs": [
    {
     "data": {
      "text/plain": [
       "[10, 20, 42, 6]"
      ]
     },
     "execution_count": 1,
     "metadata": {},
     "output_type": "execute_result"
    }
   ],
   "source": [
    "def next_in_line(lst,n):\n",
    "    '''Add the number to the end of the list, then remove the first element of the list.'''\n",
    "    if len(lst)> 0:\n",
    "        lst.pop(0)\n",
    "        lst.append(n)\n",
    "        return lst\n",
    "    else:\n",
    "        return  \"No list has been selected\"\n",
    "\n",
    "next_in_line([1, 10, 20, 42 ], 6)"
   ]
  },
  {
   "cell_type": "markdown",
   "id": "73152b4f",
   "metadata": {},
   "source": [
    "#### Question2\n",
    "Create the function that takes a list of dictionaries and returns the sum of people's budgets.\n",
    "Examples\n",
    "get_budgets([\n",
    "  { \"name\": \"John\", \"age\": 21, \"budget\": 23000 },\n",
    "  { \"name\": \"Steve\",  \"age\": 32, \"budget\": 40000 },\n",
    "  { \"name\": \"Martin\",  \"age\": 16, \"budget\": 2700 }\n",
    "]) ➞ 65700\n",
    "\n",
    "get_budgets([\n",
    "  { \"name\": \"John\",  \"age\": 21, \"budget\": 29000 },\n",
    "  { \"name\": \"Steve\",  \"age\": 32, \"budget\": 32000 },\n",
    "  { \"name\": \"Martin\",  \"age\": 16, \"budget\": 1600 }\n",
    "]) ➞ 62600\n"
   ]
  },
  {
   "cell_type": "code",
   "execution_count": 2,
   "id": "b849a9c4",
   "metadata": {},
   "outputs": [
    {
     "data": {
      "text/plain": [
       "65700"
      ]
     },
     "execution_count": 2,
     "metadata": {},
     "output_type": "execute_result"
    }
   ],
   "source": [
    "def get_budgets(lst):\n",
    "    '''Function returns the sum of people's budgets'''\n",
    "    get_budget = 0\n",
    "    for i in lst:\n",
    "        for j in i.items():\n",
    "            if j[0] == 'budget':\n",
    "                get_budget += j[1]\n",
    "    return get_budget\n",
    "\n",
    "\n",
    "get_budgets([ { \n",
    "    \"name\": \"John\", \n",
    "    \"age\": 21, \n",
    "    \"budget\": 23000 \n",
    "}, \n",
    "    { \n",
    "        \"name\": \"Steve\", \n",
    "        \"age\": 32, \n",
    "        \"budget\": 40000 }, \n",
    "    {\n",
    "        \"name\": \"Martin\", \n",
    "        \"age\": 16, \n",
    "        \"budget\": 2700 } \n",
    "]) "
   ]
  },
  {
   "cell_type": "markdown",
   "id": "62639534",
   "metadata": {},
   "source": [
    "#### Question3\n",
    "Create a function that takes a string and returns a string with its letters in alphabetical order.\n",
    "Examples\n",
    "alphabet_soup(\"hello\") ➞ \"ehllo\"\n",
    "\n",
    "alphabet_soup(\"edabit\") ➞ \"abdeit\"\n",
    "\n",
    "alphabet_soup(\"hacker\") ➞ \"acehkr\"\n",
    "\n",
    "alphabet_soup(\"geek\") ➞ \"eegk\"\n",
    "\n",
    "alphabet_soup(\"javascript\") ➞ \"aacijprstv\"\n"
   ]
  },
  {
   "cell_type": "code",
   "execution_count": 3,
   "id": "81efeec6",
   "metadata": {},
   "outputs": [
    {
     "data": {
      "text/plain": [
       "'aacijprstv'"
      ]
     },
     "execution_count": 3,
     "metadata": {},
     "output_type": "execute_result"
    }
   ],
   "source": [
    "def alphabet_soup(string):\n",
    "    '''Function returns a string with its letters in alphabetical order.'''\n",
    "    return ''.join(sorted(string))\n",
    "alphabet_soup(\"javascript\")"
   ]
  },
  {
   "cell_type": "markdown",
   "id": "524c26ce",
   "metadata": {},
   "source": [
    "#### Question4\n",
    "Suppose that you invest $10,000 for 10 years at an interest rate of 6% compounded monthly. What will be the value of your investment at the end of the 10 year period?\n",
    "Create a function that accepts the principal p, the term in years t, the interest rate r, and the number of compounding periods per year n. The function returns the value at the end of term rounded to the nearest cent.\n",
    "For the example above:\n",
    "compound_interest(10000, 10, 0.06, 12) ➞ 18193.97\n",
    "Note that the interest rate is given as a decimal and n=12 because with monthly compounding there are 12 periods per year. Compounding can also be done annually, quarterly, weekly, or daily.\n",
    "Examples\n",
    "compound_interest(100, 1, 0.05, 1) ➞ 105.0\n",
    "\n",
    "compound_interest(3500, 15, 0.1, 4) ➞ 15399.26\n",
    "\n",
    "compound_interest(100000, 20, 0.15, 365) ➞ 2007316.26\n"
   ]
  },
  {
   "cell_type": "code",
   "execution_count": 4,
   "id": "fb5cc348",
   "metadata": {},
   "outputs": [
    {
     "data": {
      "text/plain": [
       "18193.97"
      ]
     },
     "execution_count": 4,
     "metadata": {},
     "output_type": "execute_result"
    }
   ],
   "source": [
    "def compound_interest(p, t, r, n):\n",
    "    '''Function returns the Amount at the end of term rounded to the nearest cent'''\n",
    "    A = p * (1 + (r/n))**(n*t)\n",
    "    return round(A,2)\n",
    "\n",
    "compound_interest(10000, 10, 0.06, 12) "
   ]
  },
  {
   "cell_type": "markdown",
   "id": "a5fa3b9a",
   "metadata": {},
   "source": [
    "#### Question5\n",
    "Write a function that takes a list of elements and returns only the integers.\n",
    "Examples\n",
    "return_only_integer([9, 2, \"space\", \"car\", \"lion\", 16]) ➞ [9, 2, 16]\n",
    "\n",
    "return_only_integer([\"hello\", 81, \"basketball\", 123, \"fox\"]) ➞ [81, 123]\n",
    "\n",
    "return_only_integer([10, \"121\", 56, 20, \"car\", 3, \"lion\"]) ➞ [10, 56, 20, 3]\n",
    "\n",
    "return_only_integer([\"String\",  True,  3.3,  1]) ➞ [1]\n",
    "\n"
   ]
  },
  {
   "cell_type": "code",
   "execution_count": 5,
   "id": "af5710fb",
   "metadata": {},
   "outputs": [
    {
     "data": {
      "text/plain": [
       "[1]"
      ]
     },
     "execution_count": 5,
     "metadata": {},
     "output_type": "execute_result"
    }
   ],
   "source": [
    "def return_only_integer(lst):\n",
    "    '''Function returns only the integers'''\n",
    "    l2 = []\n",
    "    for i in lst:\n",
    "        if type(i) == int:\n",
    "            l2.append(i)\n",
    "    return l2\n",
    "\n",
    "return_only_integer([\"String\", True, 3.3, 1])"
   ]
  }
 ],
 "metadata": {
  "kernelspec": {
   "display_name": "Python 3",
   "language": "python",
   "name": "python3"
  },
  "language_info": {
   "codemirror_mode": {
    "name": "ipython",
    "version": 3
   },
   "file_extension": ".py",
   "mimetype": "text/x-python",
   "name": "python",
   "nbconvert_exporter": "python",
   "pygments_lexer": "ipython3",
   "version": "3.8.8"
  }
 },
 "nbformat": 4,
 "nbformat_minor": 5
}
