{
 "cells": [
  {
   "cell_type": "markdown",
   "id": "b22ba2b4",
   "metadata": {},
   "source": [
    "#### 1. Write a Python Program to Add Two Matrices?"
   ]
  },
  {
   "cell_type": "code",
   "execution_count": 1,
   "id": "a6192e99",
   "metadata": {},
   "outputs": [
    {
     "name": "stdout",
     "output_type": "stream",
     "text": [
      "Enter dimension of square matrix: 2\n",
      "Enter row (1)(first matrix): 1 2\n",
      "Enter row (2)(first matrix): 3 4\n",
      "Enter row (1)(second matrix): 5 6\n",
      "Enter row (2)(second matrix): 7 8\n"
     ]
    },
    {
     "data": {
      "text/plain": [
       "[[6, 8], [10, 12]]"
      ]
     },
     "execution_count": 1,
     "metadata": {},
     "output_type": "execute_result"
    }
   ],
   "source": [
    "def add_matrix(l1,l2):\n",
    "    \"\"\"To add two matrices\"\"\"\n",
    "    l3 = []    # a empty list to add sum values\n",
    "    \n",
    "    for i in range(len(l1)):        # iterating each row values\n",
    "        l3.append([],)              # group each rows\n",
    "        for j in range(len(l1)):\n",
    "            l3[i].append(l1[i][j]+l2[i][j])\n",
    "        \n",
    "    return l3       # return result\n",
    "\n",
    "# Take user input\n",
    "n = int(input(\"Enter dimension of square matrix: \"))\n",
    "l1 = []\n",
    "l2 = []\n",
    "for i in range(1,n+1):\n",
    "    add = input(f\"Enter row ({i})(first matrix): \")    # take user input row by row of first matrix\n",
    "    l1.append(list(map(int,add.split())))\n",
    "for i in range(1,n+1):\n",
    "    add = input(f\"Enter row ({i})(second matrix): \")    # take user input row wise for second matrix\n",
    "    l2.append(list(map(int,add.split())))    \n",
    "\n",
    "add_matrix(l1,l2)      # function call for matrix addition"
   ]
  },
  {
   "cell_type": "markdown",
   "id": "612e7e3c",
   "metadata": {},
   "source": [
    "#### 2. Write a Python Program to Multiply Two Matrices?"
   ]
  },
  {
   "cell_type": "code",
   "execution_count": 2,
   "id": "9bc74bc2",
   "metadata": {},
   "outputs": [
    {
     "name": "stdout",
     "output_type": "stream",
     "text": [
      "Enter number of rows in matrix: 2\n",
      "Enter row1 (first matrix) with 2 values: 1 2\n",
      "Enter row2 (first matrix) with 2 values: 3 4\n",
      "Enter row1 (second matrix): 5 6 7\n",
      "Enter row2 (second matrix): 8 9 10\n",
      "First matrix:   [[1, 2], [3, 4]]\n",
      "Second Matrix:  [[5, 6, 7], [8, 9, 10]]\n"
     ]
    },
    {
     "data": {
      "text/plain": [
       "[[21, 24, 27], [47, 54, 61]]"
      ]
     },
     "execution_count": 2,
     "metadata": {},
     "output_type": "execute_result"
    }
   ],
   "source": [
    "def multiply_matrix(l1,l2):\n",
    "    \"\"\"Multiply 2 matrix\"\"\"\n",
    "    # Create empty list to append output\n",
    "    l3 = []\n",
    "    for i in range(len(l1)):\n",
    "        l3.append([],)\n",
    "        for j in range(len(l2[0])):\n",
    "            for k in range(1,len(l2)):\n",
    "                l3[i].append((l1[i][0] * l2[0][j]) + (l1[i][k] * l2[k][j]))\n",
    "        \n",
    "    return l3\n",
    "\n",
    "# Take user input\n",
    "n = int(input(\"Enter number of rows in matrix: \"))\n",
    "l1 = []\n",
    "l2 = []\n",
    "\n",
    "# Take user input for first matrix\n",
    "for i in range(1,n+1):\n",
    "    add = input(f\"Enter row{i} (first matrix) with 2 values: \")\n",
    "    l1.append(list(map(int,add.split())))\n",
    "\n",
    "#Take user input for second matrix\n",
    "for i in range(1,n+1):\n",
    "    add = input(f\"Enter row{i} (second matrix): \")\n",
    "    l2.append(list(map(int,add.split())))    \n",
    "\n",
    "# Printing both matrices\n",
    "\n",
    "print(\"First matrix:  \",l1)\n",
    "print(\"Second Matrix: \",l2)\n",
    "\n",
    "#call function for multiplication\n",
    "multiply_matrix(l1,l2)\n"
   ]
  },
  {
   "cell_type": "markdown",
   "id": "2b070c28",
   "metadata": {},
   "source": [
    "#### 3. Write a Python Program to Transpose a Matrix?"
   ]
  },
  {
   "cell_type": "code",
   "execution_count": 1,
   "id": "06ab1583",
   "metadata": {},
   "outputs": [
    {
     "name": "stdout",
     "output_type": "stream",
     "text": [
      "Enter num of rows of matrix: 3\n",
      "Enter row (1): 1 2 3 4\n",
      "Enter row (2): 5 6 7 8\n",
      "Enter row (3): 9 10 11 12\n"
     ]
    },
    {
     "data": {
      "text/plain": [
       "[[1, 5, 9], [2, 6, 10], [3, 7, 11], [4, 8, 12]]"
      ]
     },
     "execution_count": 1,
     "metadata": {},
     "output_type": "execute_result"
    }
   ],
   "source": [
    "def transpose(l1):\n",
    "    \"\"\"transposing a matrix\"\"\"\n",
    "    trans=[]\n",
    "    for i in range(len(l1[0])):\n",
    "        trans.append([],)\n",
    "        for j in range(len(l1)):\n",
    "            trans[i].append(l1[j][i])\n",
    "    return trans\n",
    "\n",
    "# Take user input number of rows\n",
    "n = int(input(\"Enter num of rows of matrix: \"))\n",
    "l1 = []\n",
    "\n",
    "# User input for each row\n",
    "for i in range(1,n+1):\n",
    "    add = input(f\"Enter row ({i}): \")\n",
    "    l1.append(list(map(int,add.split())))\n",
    "\n",
    "transpose(l1)"
   ]
  },
  {
   "cell_type": "markdown",
   "id": "383dc72f",
   "metadata": {},
   "source": [
    "#### 4. Write a Python Program to Sort Words in Alphabetic Order?"
   ]
  },
  {
   "cell_type": "code",
   "execution_count": 2,
   "id": "a95f0512",
   "metadata": {},
   "outputs": [
    {
     "name": "stdout",
     "output_type": "stream",
     "text": [
      "Enter number of words to sort: 5\n",
      "Enter word: abc\n",
      "Enter word: asd\n",
      "Enter word: zxc\n",
      "Enter word: qaz\n",
      "Enter word: zaq\n",
      "Sorted words:  ['abc', 'asd', 'qaz', 'zaq', 'zxc']\n"
     ]
    }
   ],
   "source": [
    "# take user input ; number of words\n",
    "words = int(input(\"Enter number of words to sort: \"))\n",
    "words_list =[]\n",
    "\n",
    "# user input of each word\n",
    "for i in range(words):\n",
    "    words = input(\"Enter word: \")\n",
    "    # append each word to empty list\n",
    "    words_list.append(words)\n",
    "    \n",
    "#printing output using sorted function\n",
    "print(\"Sorted words: \", sorted(words_list))"
   ]
  },
  {
   "cell_type": "markdown",
   "id": "b5e8db50",
   "metadata": {},
   "source": [
    "#### 5. Write a Python Program to Remove Punctuation From a String?"
   ]
  },
  {
   "cell_type": "code",
   "execution_count": 1,
   "id": "1503f9eb",
   "metadata": {},
   "outputs": [
    {
     "name": "stdout",
     "output_type": "stream",
     "text": [
      "Enter the string: i\"ne\"ur<o*n\n"
     ]
    },
    {
     "data": {
      "text/plain": [
       "'ineuron'"
      ]
     },
     "execution_count": 1,
     "metadata": {},
     "output_type": "execute_result"
    }
   ],
   "source": [
    "def remove_punctuation(string,punctuation):\n",
    "    \"\"\"Function to remove punctuation\"\"\"\n",
    "    for i in punctuation:\n",
    "        string = string.replace(i,\"\")\n",
    "    return string\n",
    "\n",
    "# Take user input \n",
    "string = input(\"Enter the string: \")\n",
    "punctuation = '''!\"#$%&'()*+,-./:;?@[]\\^_`{}|<>~ '''\n",
    "\n",
    "remove_punctuation(string,punctuation)"
   ]
  }
 ],
 "metadata": {
  "kernelspec": {
   "display_name": "Python 3",
   "language": "python",
   "name": "python3"
  },
  "language_info": {
   "codemirror_mode": {
    "name": "ipython",
    "version": 3
   },
   "file_extension": ".py",
   "mimetype": "text/x-python",
   "name": "python",
   "nbconvert_exporter": "python",
   "pygments_lexer": "ipython3",
   "version": "3.8.8"
  }
 },
 "nbformat": 4,
 "nbformat_minor": 5
}
