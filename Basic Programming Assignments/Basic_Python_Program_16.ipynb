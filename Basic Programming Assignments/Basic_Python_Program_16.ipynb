{
 "cells": [
  {
   "cell_type": "markdown",
   "id": "b8928635",
   "metadata": {},
   "source": [
    "#### Question1. Write a function that stutters a word as if someone is struggling to read it. The first two letters are repeated twice with an ellipsis ... and space after each, and then the word is pronounced with a question mark ?.\n",
    "Examples\n",
    "stutter(\"incredible\") ➞ \"in... in... incredible?\"\n",
    "\n",
    "stutter(\"enthusiastic\") ➞ \"en... en... enthusiastic?\"\n",
    "\n",
    "stutter(\"outstanding\") ➞ \"ou... ou... outstanding?\"\n",
    "\n",
    "Hint :- Assume all input is in lower case and at least two characters long.\n",
    "\n"
   ]
  },
  {
   "cell_type": "code",
   "execution_count": 1,
   "id": "6ead9b08",
   "metadata": {},
   "outputs": [
    {
     "data": {
      "text/plain": [
       "'en... en... enthusiastic?'"
      ]
     },
     "execution_count": 1,
     "metadata": {},
     "output_type": "execute_result"
    }
   ],
   "source": [
    "def stutter(string):\n",
    "    '''function to stutters a word as if someone is struggling to read it'''\n",
    "    try:\n",
    "        return (string[:2] + '... ') *2 + string + '?'\n",
    "    except Exception as e:\n",
    "        print(\"Error : \", e)\n",
    "\n",
    "stutter(\"enthusiastic\")"
   ]
  },
  {
   "cell_type": "markdown",
   "id": "9215a0e7",
   "metadata": {},
   "source": [
    "#### Question 2.Create a function that takes an angle in radians and returns the corresponding angle in degrees rounded to one decimal place.\n",
    "Examples\n",
    "radians_to_degrees(1) ➞ 57.3\n",
    "\n",
    "radians_to_degrees(20) ➞ 1145.9\n",
    "\n",
    "radians_to_degrees(50) ➞ 2864.8\n"
   ]
  },
  {
   "cell_type": "code",
   "execution_count": 2,
   "id": "7da98727",
   "metadata": {},
   "outputs": [
    {
     "data": {
      "text/plain": [
       "57.3"
      ]
     },
     "execution_count": 2,
     "metadata": {},
     "output_type": "execute_result"
    }
   ],
   "source": [
    "def  radians_to_degrees(radian):\n",
    "    '''convert Radians to degree and rounded to one decimal place.'''\n",
    "    return round(radian * 57.2958,1)\n",
    "    \n",
    "radians_to_degrees(1)"
   ]
  },
  {
   "cell_type": "markdown",
   "id": "2a63806c",
   "metadata": {},
   "source": [
    "#### Question 3. In this challenge, establish if a given integer num is a Curzon number. If 1 plus 2 elevated to num is exactly divisible by 1 plus 2 multiplied by num, then num is a Curzon number.\n",
    "Given a non-negative integer num, implement a function that returns True if num is a Curzon number, or False otherwise.\n",
    "Examples\n",
    "is_curzon(5) ➞ True\n",
    "###### #2 ** 5 + 1 = 33\n",
    "###### #2 * 5 + 1 = 11\n",
    "###### #33 is a multiple of 11\n",
    "\n",
    "is_curzon(10) ➞ False\n",
    "###### #2 ** 10 + 1 = 1025\n",
    "###### #2 * 10 + 1 = 21\n",
    "###### #1025 is not a multiple of 21\n",
    "\n",
    "is_curzon(14) ➞ True\n",
    "###### #2 ** 14 + 1 = 16385\n",
    "###### #2 * 14 + 1 = 29\n",
    "###### #16385 is a multiple of 29\n"
   ]
  },
  {
   "cell_type": "code",
   "execution_count": 3,
   "id": "6228fa84",
   "metadata": {},
   "outputs": [
    {
     "data": {
      "text/plain": [
       "True"
      ]
     },
     "execution_count": 3,
     "metadata": {},
     "output_type": "execute_result"
    }
   ],
   "source": [
    "def is_curzon(num):\n",
    "    '''To check given integer num is a Curzon number'''\n",
    "    if (1 + 2 ** num) % (1 + 2 * num) == 0:\n",
    "        return True\n",
    "    else:\n",
    "        return False\n",
    "\n",
    "is_curzon(14)"
   ]
  },
  {
   "cell_type": "markdown",
   "id": "1de25319",
   "metadata": {},
   "source": [
    "#### Question 4.Given the side length x find the area of a hexagon.\n",
    " \n",
    "Examples\n",
    "area_of_hexagon(1) ➞ 2.6\n",
    "\n",
    "area_of_hexagon(2) ➞ 10.4\n",
    "\n",
    "area_of_hexagon(3) ➞ 23.4\n"
   ]
  },
  {
   "cell_type": "code",
   "execution_count": 4,
   "id": "1c09ada8",
   "metadata": {},
   "outputs": [
    {
     "data": {
      "text/plain": [
       "23.4"
      ]
     },
     "execution_count": 4,
     "metadata": {},
     "output_type": "execute_result"
    }
   ],
   "source": [
    "from math import sqrt\n",
    "\n",
    "def area_of_hexagon(side):\n",
    "    '''To find the area of a hexagon'''\n",
    "    return round(((side**2 * 3 * sqrt(3))/2),1)\n",
    "\n",
    "area_of_hexagon(3)"
   ]
  },
  {
   "cell_type": "markdown",
   "id": "4a9d50d5",
   "metadata": {},
   "source": [
    "#### Question 5. Create a function that returns a base-2 (binary) representation of a base-10 (decimal) string number. To convert is simple: ((2) means base-2 and (10) means base-10) 010101001(2) = 1 + 8 + 32 + 128.\n",
    "Going from right to left, the value of the most right bit is 1, now from that every bit to the left will be x2 the value, value of an 8 bit binary numbers are (256, 128, 64, 32, 16, 8, 4, 2, 1).\n",
    "Examples\n",
    "binary(1) ➞ \"1\"\n",
    "###### # 1*1 = 1\n",
    "\n",
    "binary(5) ➞ \"101\"\n",
    "###### # 1*1 + 1*4 = 5\n",
    "\n",
    "binary(10) ➞ \"1010\"\n",
    "###### # 1*2 + 1*8 = 10\n"
   ]
  },
  {
   "cell_type": "code",
   "execution_count": 5,
   "id": "ce6f8a0b",
   "metadata": {},
   "outputs": [
    {
     "data": {
      "text/plain": [
       "'1010'"
      ]
     },
     "execution_count": 5,
     "metadata": {},
     "output_type": "execute_result"
    }
   ],
   "source": [
    "def binary(n):\n",
    "    '''decimal to binary'''\n",
    "    num =n\n",
    "    val =''\n",
    "    while num>=1:\n",
    "        r = num %2\n",
    "        val = str(r)+val\n",
    "        num = num //2\n",
    "    return val\n",
    "        \n",
    "\n",
    "binary(10)"
   ]
  }
 ],
 "metadata": {
  "kernelspec": {
   "display_name": "Python 3",
   "language": "python",
   "name": "python3"
  },
  "language_info": {
   "codemirror_mode": {
    "name": "ipython",
    "version": 3
   },
   "file_extension": ".py",
   "mimetype": "text/x-python",
   "name": "python",
   "nbconvert_exporter": "python",
   "pygments_lexer": "ipython3",
   "version": "3.8.8"
  }
 },
 "nbformat": 4,
 "nbformat_minor": 5
}
