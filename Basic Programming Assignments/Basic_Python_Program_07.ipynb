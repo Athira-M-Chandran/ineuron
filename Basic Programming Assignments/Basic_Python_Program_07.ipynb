{
 "cells": [
  {
   "cell_type": "markdown",
   "id": "fd79f8b0",
   "metadata": {},
   "source": [
    "#### 1. Write a Python Program to find sum of array?\n"
   ]
  },
  {
   "cell_type": "code",
   "execution_count": 1,
   "id": "8b43208d",
   "metadata": {},
   "outputs": [
    {
     "name": "stdout",
     "output_type": "stream",
     "text": [
      "Enter numbers :3 6 5 1\n"
     ]
    },
    {
     "data": {
      "text/plain": [
       "15"
      ]
     },
     "execution_count": 1,
     "metadata": {},
     "output_type": "execute_result"
    }
   ],
   "source": [
    "def sum_array(a):\n",
    "    \"\"\"To find sum of array\"\"\"\n",
    "    total = 0 \n",
    "    \n",
    "    for i in a:\n",
    "        total += i\n",
    "    return total\n",
    "\n",
    "n = input(\"Enter numbers :\")\n",
    "num = list(map(int,n.split()))\n",
    "sum_array(num)"
   ]
  },
  {
   "cell_type": "markdown",
   "id": "a927245e",
   "metadata": {},
   "source": [
    "#### 2. Write a Python Program to find largest element in an array?\n"
   ]
  },
  {
   "cell_type": "code",
   "execution_count": 2,
   "id": "5f709094",
   "metadata": {},
   "outputs": [
    {
     "name": "stdout",
     "output_type": "stream",
     "text": [
      "Enter numbers :3 7 90 -90\n"
     ]
    },
    {
     "data": {
      "text/plain": [
       "90"
      ]
     },
     "execution_count": 2,
     "metadata": {},
     "output_type": "execute_result"
    }
   ],
   "source": [
    "def largest(a):\n",
    "    return max(a)\n",
    "    \n",
    "n = input(\"Enter numbers :\")\n",
    "num = list(map(int,n.split()))\n",
    "largest(num)"
   ]
  },
  {
   "cell_type": "markdown",
   "id": "1d935810",
   "metadata": {},
   "source": [
    "#### 3. Write a Python Program for array rotation?\n"
   ]
  },
  {
   "cell_type": "code",
   "execution_count": 3,
   "id": "ebb4b822",
   "metadata": {},
   "outputs": [
    {
     "name": "stdout",
     "output_type": "stream",
     "text": [
      "Enter numbers :2 3 90 78 2 1 67 65 3 56\n",
      "Enter rotating value: 4\n"
     ]
    },
    {
     "data": {
      "text/plain": [
       "[2, 1, 67, 65, 3, 56, 2, 3, 90, 78]"
      ]
     },
     "execution_count": 3,
     "metadata": {},
     "output_type": "execute_result"
    }
   ],
   "source": [
    "def array_rotate(num,d):\n",
    "    \"\"\"Array rotation function\"\"\"\n",
    "    l1=num.copy()        # copy array to another list l1\n",
    "    l2 = d\n",
    "    \n",
    "    while d>0: \n",
    "        l1.remove(l1[d-1])    # removing the rotating values\n",
    "        d = d-1\n",
    "        \n",
    "    for i in range(l2):\n",
    "        l1.append(num[i])      # appending the rotating values at the end\n",
    "        \n",
    "    return l1\n",
    "\n",
    "\n",
    "n = input(\"Enter numbers :\")\n",
    "d = int(input(\"Enter rotating value: \"))\n",
    "\n",
    "num = list(map(int,n.split()))\n",
    "\n",
    "array_rotate(num,d)         # function call for rotating array"
   ]
  },
  {
   "cell_type": "markdown",
   "id": "02e6add5",
   "metadata": {},
   "source": [
    "#### 4. Write a Python Program to Split the array and add the first part to the end?\n"
   ]
  },
  {
   "cell_type": "code",
   "execution_count": 4,
   "id": "6178718c",
   "metadata": {},
   "outputs": [
    {
     "name": "stdout",
     "output_type": "stream",
     "text": [
      "Enter numbers :9 90 8 7 2 3 9 86 6 55 9 90 23\n",
      "Enter splitting index: 6\n"
     ]
    },
    {
     "data": {
      "text/plain": [
       "[9, 86, 6, 55, 9, 90, 23, 9, 90, 8, 7, 2, 3]"
      ]
     },
     "execution_count": 4,
     "metadata": {},
     "output_type": "execute_result"
    }
   ],
   "source": [
    "def array_split(num,d):\n",
    "    \"\"\"Array splitting function\"\"\"\n",
    "    l1=num.copy()        # copy array to another list l1\n",
    "    l2 = d\n",
    "    \n",
    "    while d>0: \n",
    "        l1.remove(l1[d-1])    # removing the first part\n",
    "        d = d-1\n",
    "        \n",
    "    for i in range(l2):\n",
    "        l1.append(num[i])      # appending the first part to end\n",
    "        \n",
    "    return l1\n",
    "\n",
    "\n",
    "n = input(\"Enter numbers :\")\n",
    "d = int(input(\"Enter splitting index: \"))\n",
    "\n",
    "num = list(map(int,n.split()))\n",
    "\n",
    "array_split(num,d)         # function call for splitting array"
   ]
  },
  {
   "cell_type": "markdown",
   "id": "8deb73b0",
   "metadata": {},
   "source": [
    "#### 5. Write a Python Program to check if given array is Monotonic?"
   ]
  },
  {
   "cell_type": "code",
   "execution_count": 5,
   "id": "24874f80",
   "metadata": {},
   "outputs": [
    {
     "name": "stdout",
     "output_type": "stream",
     "text": [
      "Enter numbers :3 5 7 9 10\n"
     ]
    },
    {
     "data": {
      "text/plain": [
       "True"
      ]
     },
     "execution_count": 5,
     "metadata": {},
     "output_type": "execute_result"
    }
   ],
   "source": [
    "def is_monotonic(num):\n",
    "    \"\"\"Checking array is monotonic or not\"\"\"\n",
    "    flag = 0\n",
    "    flag1 =0\n",
    "    l = num.copy()\n",
    "    \n",
    "    for i in range(len(num)-1):\n",
    "        if num[i] >= num[i+1]:\n",
    "            flag =1\n",
    "        else:\n",
    "            flag = 0\n",
    "            break\n",
    "            \n",
    "    for i in range(len(l)-1):\n",
    "        if l[i] <= l[i+1]:\n",
    "            flag1 = 1\n",
    "        else:\n",
    "            flag1 =0 \n",
    "            break\n",
    "        \n",
    "    if flag == 1 or flag1 == 1:\n",
    "        return True\n",
    "    else:\n",
    "        return False\n",
    "\n",
    "n = input(\"Enter numbers :\")\n",
    "num = list(map(int,n.split()))\n",
    "\n",
    "is_monotonic(num)         "
   ]
  }
 ],
 "metadata": {
  "kernelspec": {
   "display_name": "Python 3",
   "language": "python",
   "name": "python3"
  },
  "language_info": {
   "codemirror_mode": {
    "name": "ipython",
    "version": 3
   },
   "file_extension": ".py",
   "mimetype": "text/x-python",
   "name": "python",
   "nbconvert_exporter": "python",
   "pygments_lexer": "ipython3",
   "version": "3.8.8"
  }
 },
 "nbformat": 4,
 "nbformat_minor": 5
}
