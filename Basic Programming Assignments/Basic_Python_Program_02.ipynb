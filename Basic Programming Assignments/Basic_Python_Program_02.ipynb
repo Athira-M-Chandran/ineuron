{
 "cells": [
  {
   "cell_type": "markdown",
   "id": "11d2fa0d",
   "metadata": {},
   "source": [
    "#### 1. Write a Python program to convert kilometers to miles? "
   ]
  },
  {
   "cell_type": "code",
   "execution_count": 1,
   "id": "e0a38c6b",
   "metadata": {},
   "outputs": [
    {
     "name": "stdout",
     "output_type": "stream",
     "text": [
      "Enter kilometer : 1\n",
      "1.0 km is equal to 0.62 miles\n"
     ]
    }
   ],
   "source": [
    "kilometer = float(input(\"Enter kilometer : \"))\n",
    "\n",
    "print(f\"{kilometer} km is equal to {(kilometer/1.609):.2f} miles\")"
   ]
  },
  {
   "cell_type": "markdown",
   "id": "776fea30",
   "metadata": {},
   "source": [
    "#### 2. Write a Python program to convert Celsius to Fahrenheit? "
   ]
  },
  {
   "cell_type": "code",
   "execution_count": 2,
   "id": "315d2acf",
   "metadata": {},
   "outputs": [
    {
     "name": "stdout",
     "output_type": "stream",
     "text": [
      "Enter celsius : 0\n",
      "0.0 celsius is equal to 32.0 fahrenheit\n"
     ]
    }
   ],
   "source": [
    "celsius = float(input(\"Enter celsius : \"))  \n",
    "# °F = (°C × 9/5) + 32\n",
    "print(f\"{celsius} celsius is equal to {(celsius*(9/5) + 32):.1f} fahrenheit\")"
   ]
  },
  {
   "cell_type": "markdown",
   "id": "8b3a8394",
   "metadata": {},
   "source": [
    "#### 3. Write a Python program to display calendar? "
   ]
  },
  {
   "cell_type": "code",
   "execution_count": 3,
   "id": "30f53cd0",
   "metadata": {},
   "outputs": [
    {
     "name": "stdout",
     "output_type": "stream",
     "text": [
      "    January 2022\n",
      "Mo Tu We Th Fr Sa Su\n",
      "                1  2\n",
      " 3  4  5  6  7  8  9\n",
      "10 11 12 13 14 15 16\n",
      "17 18 19 20 21 22 23\n",
      "24 25 26 27 28 29 30\n",
      "31\n",
      "\n"
     ]
    }
   ],
   "source": [
    "# import calendar module\n",
    "import calendar\n",
    "\n",
    "# year and month\n",
    "yy = 2022\n",
    "mm = 1 \n",
    "\n",
    "# display calendar\n",
    "print(calendar.month(yy,mm))\n",
    "\n",
    "# calendar for whole year\n",
    "# print(calendar.calendar(yy))"
   ]
  },
  {
   "cell_type": "markdown",
   "id": "b7dd813f",
   "metadata": {},
   "source": [
    "#### 4. Write a Python program to solve quadratic equation? "
   ]
  },
  {
   "cell_type": "code",
   "execution_count": 4,
   "id": "71b3a8f0",
   "metadata": {},
   "outputs": [
    {
     "name": "stdout",
     "output_type": "stream",
     "text": [
      "Enter value for a : 1\n",
      "Enter value for b : 5\n",
      "Enter value for c : 6\n",
      "The solutions are -2.0 and -3.0\n"
     ]
    }
   ],
   "source": [
    "from math import sqrt\n",
    "# Take input from user\n",
    "a = int(input(\"Enter value for a : \"))\n",
    "b = int(input(\"Enter value for b : \"))\n",
    "c = int(input(\"Enter value for c : \"))\n",
    "\n",
    "# solutions\n",
    "x1 = (-b + sqrt((b*b)- (4 *a*c)))/2*a\n",
    "x2 = (-b - sqrt((b*b)- (4 *a*c)))/2*a\n",
    "\n",
    "print(f\"The solutions are {x1} and {x2}\")"
   ]
  },
  {
   "cell_type": "markdown",
   "id": "f2a613df",
   "metadata": {},
   "source": [
    "#### 5. Write a Python program to swap two variables without temp variable? "
   ]
  },
  {
   "cell_type": "code",
   "execution_count": 5,
   "id": "69066404",
   "metadata": {},
   "outputs": [
    {
     "name": "stdout",
     "output_type": "stream",
     "text": [
      "Before swaping x = 10 and y = 15\n",
      "After  swaping x = 15 and y = 10\n"
     ]
    }
   ],
   "source": [
    "x = 10\n",
    "y = 15\n",
    "print(f\"Before swaping x = {x} and y = {y}\")\n",
    "x,y = y,x\n",
    "print(f\"After  swaping x = {x} and y = {y}\")"
   ]
  }
 ],
 "metadata": {
  "kernelspec": {
   "display_name": "Python 3",
   "language": "python",
   "name": "python3"
  },
  "language_info": {
   "codemirror_mode": {
    "name": "ipython",
    "version": 3
   },
   "file_extension": ".py",
   "mimetype": "text/x-python",
   "name": "python",
   "nbconvert_exporter": "python",
   "pygments_lexer": "ipython3",
   "version": "3.8.8"
  }
 },
 "nbformat": 4,
 "nbformat_minor": 5
}
