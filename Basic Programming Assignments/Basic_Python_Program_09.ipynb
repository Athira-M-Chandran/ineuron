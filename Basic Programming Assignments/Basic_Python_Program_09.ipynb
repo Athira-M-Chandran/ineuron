{
 "cells": [
  {
   "cell_type": "markdown",
   "id": "04aca1e2",
   "metadata": {},
   "source": [
    "#### 1. Write a Python program to check if the given number is a Disarium Number?"
   ]
  },
  {
   "cell_type": "code",
   "execution_count": 3,
   "id": "c552de88",
   "metadata": {},
   "outputs": [
    {
     "name": "stdout",
     "output_type": "stream",
     "text": [
      "Enter number : 135\n"
     ]
    },
    {
     "data": {
      "text/plain": [
       "'135 is a disarium number'"
      ]
     },
     "execution_count": 3,
     "metadata": {},
     "output_type": "execute_result"
    }
   ],
   "source": [
    "def disarium(n):\n",
    "    \"\"\"Check whether the number is disarium\"\"\"    \n",
    "    number = int(n)\n",
    "    count = len(n)\n",
    "    a =0\n",
    "    \n",
    "    for j in range(1,len(n)+1):\n",
    "        \n",
    "        a += (int(n)%10)** count\n",
    "        n = int(n)//10\n",
    "        count -= 1\n",
    "        \n",
    "    # Return values \n",
    "    if a==number:\n",
    "        return (f\"{number} is a disarium number\")\n",
    "    else:\n",
    "        return (f\"{number} is not a disarium number\")\n",
    "# Take user input\n",
    "n = input(\"Enter number : \")\n",
    "# call function disarium\n",
    "disarium(n)"
   ]
  },
  {
   "cell_type": "markdown",
   "id": "5158a23a",
   "metadata": {},
   "source": [
    "#### 2. Write a Python program to print all disarium numbers between 1 to 100?"
   ]
  },
  {
   "cell_type": "code",
   "execution_count": 1,
   "id": "92f257db",
   "metadata": {},
   "outputs": [
    {
     "name": "stdout",
     "output_type": "stream",
     "text": [
      "1\n",
      "2\n",
      "3\n",
      "4\n",
      "5\n",
      "6\n",
      "7\n",
      "8\n",
      "9\n",
      "89\n"
     ]
    }
   ],
   "source": [
    "def disarium_1_100():\n",
    "    \"\"\"Function for print all disarium number between 1 to 100\"\"\"\n",
    "    # taking each value to check from 1 to 100\n",
    "    for i in range(1,101):\n",
    "        number = i\n",
    "        count = len(str(i))\n",
    "        a =0\n",
    "        # to check whether it is a disarium or not\n",
    "        for j in range(1,len(str(i))+1):\n",
    "            a += (i%10)** count\n",
    "            i = i//10\n",
    "            count -= 1\n",
    "        # Print if it is a disarium\n",
    "        if a == number:\n",
    "            print(a)\n",
    "            \n",
    "disarium_1_100()"
   ]
  },
  {
   "cell_type": "markdown",
   "id": "b716383d",
   "metadata": {},
   "source": [
    "#### 3. Write a Python program to check if the given number is Happy Number?"
   ]
  },
  {
   "cell_type": "code",
   "execution_count": 4,
   "id": "3445e757",
   "metadata": {},
   "outputs": [
    {
     "name": "stdout",
     "output_type": "stream",
     "text": [
      "Enter number: 49\n",
      "49 is a happy number\n"
     ]
    }
   ],
   "source": [
    "def check_happy(n,total):\n",
    "    \"\"\" Function to check whether given input is happy number\"\"\"\n",
    "    for i in n:\n",
    "            total += int(i)**2\n",
    "    \n",
    "    #recursive function until total become a single digit\n",
    "    if int(n) > 9:\n",
    "        return check_happy(str(total),0)\n",
    "    \n",
    "    elif int(n) > 1 and int(n) <= 6:\n",
    "        return False\n",
    "    # 7 is happy number\n",
    "    elif int(n) > 7 and int(n) <= 9:\n",
    "        return False\n",
    "    else:\n",
    "        return True\n",
    "    \n",
    "       \n",
    "# take input from user\n",
    "n = input(\"Enter number: \")\n",
    "\n",
    "total = 0\n",
    "if check_happy(n,total) == True:\n",
    "    print(n,\"is a happy number\")\n",
    "else:\n",
    "    print(n,\"is not a happy number\")\n"
   ]
  },
  {
   "cell_type": "markdown",
   "id": "dbae597e",
   "metadata": {},
   "source": [
    "#### 4. Write a Python program to print all happy numbers between 1 and 100?"
   ]
  },
  {
   "cell_type": "code",
   "execution_count": 5,
   "id": "9dfada1f",
   "metadata": {},
   "outputs": [
    {
     "name": "stdout",
     "output_type": "stream",
     "text": [
      "Happy numbers between 1 and 100 are:\n",
      "1\n",
      "7\n",
      "10\n",
      "13\n",
      "19\n",
      "23\n",
      "28\n",
      "31\n",
      "32\n",
      "44\n",
      "49\n",
      "68\n",
      "70\n",
      "79\n",
      "82\n",
      "86\n",
      "91\n",
      "94\n",
      "97\n",
      "100\n"
     ]
    }
   ],
   "source": [
    "def happy(n,total):\n",
    "    \"\"\"Display happy numbers between 1 and 100\"\"\"\n",
    "    for i in n:\n",
    "            total += int(i)**2\n",
    "    \n",
    "    if int(n) > 9:\n",
    "        return happy(str(total),0)\n",
    "    \n",
    "    elif int(n) > 1 and int(n) <= 6:\n",
    "        return False\n",
    "    elif int(n) > 7 and int(n) <= 9:\n",
    "        return False\n",
    "    else:\n",
    "        return True\n",
    "    \n",
    "       \n",
    "\n",
    "total = 0\n",
    "print(\"Happy numbers between 1 and 100 are:\")\n",
    "\n",
    "# check each number between 1 and 100\n",
    "for n in range(1,101):\n",
    "    if happy(str(n),total) == True:\n",
    "        print(n)\n",
    "    else:\n",
    "        pass\n"
   ]
  },
  {
   "cell_type": "markdown",
   "id": "d49b978b",
   "metadata": {},
   "source": [
    "#### 5. Write a Python program to determine whether the given number is a Harshad Number?"
   ]
  },
  {
   "cell_type": "code",
   "execution_count": 6,
   "id": "c94b8316",
   "metadata": {},
   "outputs": [
    {
     "name": "stdout",
     "output_type": "stream",
     "text": [
      "Enter number: 217\n",
      "217  not a harshad number\n"
     ]
    }
   ],
   "source": [
    "def harshad(n):\n",
    "    \"\"\"Check whether the number is harshad or not\"\"\"\n",
    "    tot = 0\n",
    "    for i in n:\n",
    "        tot +=int(i)\n",
    "        \n",
    "    if int(n)%tot==0:\n",
    "        return True\n",
    "    else:\n",
    "        return False\n",
    "\n",
    "# take user input    \n",
    "n = input(\"Enter number: \")\n",
    "\n",
    "if harshad(n) == True:\n",
    "    print(n,\" is a harshad number\")\n",
    "else:\n",
    "    print(n,\" not a harshad number\")"
   ]
  },
  {
   "cell_type": "markdown",
   "id": "b657ee69",
   "metadata": {},
   "source": [
    "#### 6. Write a Python program to print all pronic numbers between 1 and 100?"
   ]
  },
  {
   "cell_type": "code",
   "execution_count": 7,
   "id": "0f75ee27",
   "metadata": {},
   "outputs": [
    {
     "name": "stdout",
     "output_type": "stream",
     "text": [
      "2\n",
      "6\n",
      "12\n",
      "20\n",
      "30\n",
      "42\n",
      "56\n",
      "72\n",
      "90\n"
     ]
    }
   ],
   "source": [
    "def pronic():\n",
    "    \"\"\"Function to print all pronic numbers between 1 and 100\"\"\"\n",
    "    for i in range(1,10):\n",
    "        for j in range(i+1,i+2):\n",
    "            print(i*j)\n",
    "pronic()"
   ]
  }
 ],
 "metadata": {
  "kernelspec": {
   "display_name": "Python 3",
   "language": "python",
   "name": "python3"
  },
  "language_info": {
   "codemirror_mode": {
    "name": "ipython",
    "version": 3
   },
   "file_extension": ".py",
   "mimetype": "text/x-python",
   "name": "python",
   "nbconvert_exporter": "python",
   "pygments_lexer": "ipython3",
   "version": "3.8.8"
  }
 },
 "nbformat": 4,
 "nbformat_minor": 5
}
