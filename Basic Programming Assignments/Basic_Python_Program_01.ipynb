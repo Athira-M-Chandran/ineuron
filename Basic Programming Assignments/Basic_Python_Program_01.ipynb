{
 "cells": [
  {
   "cell_type": "markdown",
   "id": "4309fb60",
   "metadata": {},
   "source": [
    "#### 1. Write a Python program to print \"Hello Python\"? "
   ]
  },
  {
   "cell_type": "code",
   "execution_count": 1,
   "id": "fc2f1b11",
   "metadata": {},
   "outputs": [
    {
     "name": "stdout",
     "output_type": "stream",
     "text": [
      "Hello Python\n"
     ]
    }
   ],
   "source": [
    "print(\"Hello Python\")"
   ]
  },
  {
   "cell_type": "markdown",
   "id": "349850b8",
   "metadata": {},
   "source": [
    "#### 2. Write a Python program to do arithmetical operations addition and division.? "
   ]
  },
  {
   "cell_type": "code",
   "execution_count": 3,
   "id": "8295b076",
   "metadata": {},
   "outputs": [
    {
     "name": "stdout",
     "output_type": "stream",
     "text": [
      "10 + 5 =  15\n",
      "10 / 5 =  2.0\n"
     ]
    }
   ],
   "source": [
    "a = 10\n",
    "b = 5\n",
    "# addition\n",
    "c = a + b\n",
    "print(\"10 + 5 = \",c)\n",
    "# Division\n",
    "d = a/b\n",
    "print(\"10 / 5 = \",d)"
   ]
  },
  {
   "cell_type": "markdown",
   "id": "c6dcb2d0",
   "metadata": {},
   "source": [
    "#### 3. Write a Python program to find the area of a triangle? "
   ]
  },
  {
   "cell_type": "code",
   "execution_count": 4,
   "id": "9c85e4a5",
   "metadata": {},
   "outputs": [
    {
     "name": "stdout",
     "output_type": "stream",
     "text": [
      "Enter first side : 5\n",
      "Enter second side : 6\n",
      "Enter third side : 7\n",
      "Area of triangle is 14.70\n"
     ]
    }
   ],
   "source": [
    "# import math module for finding square root\n",
    "import math\n",
    "\n",
    "# get input from user\n",
    "a = int(input(\"Enter first side : \"))\n",
    "b = int(input(\"Enter second side : \"))\n",
    "c = int(input(\"Enter third side : \"))\n",
    "\n",
    "# calculate semi perimeter\n",
    "s= (a + b + c)/2\n",
    "\n",
    "# Calculate area\n",
    "area = math.sqrt(s * (s-a) * (s-b) * (s-c))\n",
    "\n",
    "# Print area\n",
    "print(f\"Area of triangle is {area:.2f}\")\n"
   ]
  },
  {
   "cell_type": "markdown",
   "id": "716e2188",
   "metadata": {},
   "source": [
    "#### 4. Write a Python program to swap two variables? "
   ]
  },
  {
   "cell_type": "code",
   "execution_count": 5,
   "id": "11b3197b",
   "metadata": {},
   "outputs": [
    {
     "name": "stdout",
     "output_type": "stream",
     "text": [
      "Before swap a = 10 and b = 15\n",
      "After  swap a = 15 and b = 10\n"
     ]
    }
   ],
   "source": [
    "a = 10\n",
    "b = 15\n",
    "temp = a\n",
    "a = b\n",
    "b = temp\n",
    "print(\"Before swap a = 10 and b = 15\")\n",
    "print(f\"After  swap a = {a} and b = {b}\")"
   ]
  },
  {
   "cell_type": "markdown",
   "id": "5ac9876d",
   "metadata": {},
   "source": [
    "#### 5. Write a Python program to generate a random number? "
   ]
  },
  {
   "cell_type": "code",
   "execution_count": 6,
   "id": "da72f5de",
   "metadata": {},
   "outputs": [
    {
     "name": "stdout",
     "output_type": "stream",
     "text": [
      "6\n"
     ]
    }
   ],
   "source": [
    "import random\n",
    "print(random.randint(1,30))"
   ]
  }
 ],
 "metadata": {
  "kernelspec": {
   "display_name": "Python 3",
   "language": "python",
   "name": "python3"
  },
  "language_info": {
   "codemirror_mode": {
    "name": "ipython",
    "version": 3
   },
   "file_extension": ".py",
   "mimetype": "text/x-python",
   "name": "python",
   "nbconvert_exporter": "python",
   "pygments_lexer": "ipython3",
   "version": "3.8.8"
  }
 },
 "nbformat": 4,
 "nbformat_minor": 5
}
