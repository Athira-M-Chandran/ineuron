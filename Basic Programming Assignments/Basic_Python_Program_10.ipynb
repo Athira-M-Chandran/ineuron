{
 "cells": [
  {
   "cell_type": "markdown",
   "id": "9b88f43a",
   "metadata": {},
   "source": [
    "#### 1. Write a Python program to find sum of elements in list?"
   ]
  },
  {
   "cell_type": "code",
   "execution_count": 1,
   "id": "654dc44d",
   "metadata": {},
   "outputs": [
    {
     "name": "stdout",
     "output_type": "stream",
     "text": [
      "Enter list : 1 3 657 79\n"
     ]
    },
    {
     "data": {
      "text/plain": [
       "740"
      ]
     },
     "execution_count": 1,
     "metadata": {},
     "output_type": "execute_result"
    }
   ],
   "source": [
    "def sum_list(list_):\n",
    "    \"\"\" to find sum of elements in list \"\"\"\n",
    "    sum_element = 0\n",
    "    for i in list_:\n",
    "        if type(i) == int or type(i) == float:\n",
    "            sum_element += i\n",
    "    return sum_element\n",
    "\n",
    "list_ = list(map(int,input(\"Enter list : \").split()))\n",
    "sum_list(list_)"
   ]
  },
  {
   "cell_type": "markdown",
   "id": "915a40aa",
   "metadata": {},
   "source": [
    "#### 2. Write a Python program to  Multiply all numbers in the list?"
   ]
  },
  {
   "cell_type": "code",
   "execution_count": 2,
   "id": "639ad6a4",
   "metadata": {},
   "outputs": [
    {
     "name": "stdout",
     "output_type": "stream",
     "text": [
      "Enter list : 2 3 1 6\n"
     ]
    },
    {
     "data": {
      "text/plain": [
       "36"
      ]
     },
     "execution_count": 2,
     "metadata": {},
     "output_type": "execute_result"
    }
   ],
   "source": [
    "def mul_list(list_):\n",
    "    \"\"\" to Multiply all numbers in the list\"\"\"\n",
    "    mul_element = 1\n",
    "    for i in list_:\n",
    "        if type(i) == int or type(i) == float:\n",
    "            mul_element *= i\n",
    "    return mul_element\n",
    "\n",
    "list_ = list(map(int,input(\"Enter list : \").split()))\n",
    "mul_list(list_)"
   ]
  },
  {
   "cell_type": "markdown",
   "id": "0ae0d32c",
   "metadata": {},
   "source": [
    "#### 3. Write a Python program to find smallest number in a list?"
   ]
  },
  {
   "cell_type": "code",
   "execution_count": 3,
   "id": "4cf39cfa",
   "metadata": {},
   "outputs": [
    {
     "name": "stdout",
     "output_type": "stream",
     "text": [
      "Enter list : 1 3 5 7 1\n"
     ]
    },
    {
     "data": {
      "text/plain": [
       "1"
      ]
     },
     "execution_count": 3,
     "metadata": {},
     "output_type": "execute_result"
    }
   ],
   "source": [
    "def small_list(list_):\n",
    "    \"\"\" to find smallest number in a list\"\"\"\n",
    "    return min(list_)\n",
    "\n",
    "list_ = list(map(int,input(\"Enter list : \").split()))\n",
    "small_list(list_)"
   ]
  },
  {
   "cell_type": "markdown",
   "id": "bcdf0298",
   "metadata": {},
   "source": [
    "#### 4. Write a Python program to find largest number in a list?"
   ]
  },
  {
   "cell_type": "code",
   "execution_count": 4,
   "id": "da806fc9",
   "metadata": {},
   "outputs": [
    {
     "name": "stdout",
     "output_type": "stream",
     "text": [
      "Enter list : 1 2 90 100 6567\n"
     ]
    },
    {
     "data": {
      "text/plain": [
       "6567"
      ]
     },
     "execution_count": 4,
     "metadata": {},
     "output_type": "execute_result"
    }
   ],
   "source": [
    "def large_list(list_):\n",
    "    \"\"\"to find largest number in a list\"\"\"\n",
    "    return max(list_)\n",
    "\n",
    "list_ = list(map(int,input(\"Enter list : \").split()))\n",
    "large_list(list_)"
   ]
  },
  {
   "cell_type": "markdown",
   "id": "1254baeb",
   "metadata": {},
   "source": [
    "#### 5. Write a Python program to find second largest number in a list?"
   ]
  },
  {
   "cell_type": "code",
   "execution_count": 5,
   "id": "3e16d705",
   "metadata": {},
   "outputs": [
    {
     "name": "stdout",
     "output_type": "stream",
     "text": [
      "Enter list : 1 2 323 90 67\n"
     ]
    },
    {
     "data": {
      "text/plain": [
       "90"
      ]
     },
     "execution_count": 5,
     "metadata": {},
     "output_type": "execute_result"
    }
   ],
   "source": [
    "def sec_large_list(list_):\n",
    "    \"\"\"to find second largest number in a list\"\"\"\n",
    "    if len(list_) >1 :\n",
    "        list_.sort()\n",
    "        return list_[-2]\n",
    "    else:\n",
    "        return \"Enter more than one input\"\n",
    "\n",
    "list_ = list(map(int,input(\"Enter list : \").split()))\n",
    "sec_large_list(list_)"
   ]
  },
  {
   "cell_type": "markdown",
   "id": "8e23cbcd",
   "metadata": {},
   "source": [
    "#### 6. Write a Python program to find N largest elements from a list?"
   ]
  },
  {
   "cell_type": "code",
   "execution_count": 6,
   "id": "c79a08ac",
   "metadata": {},
   "outputs": [
    {
     "name": "stdout",
     "output_type": "stream",
     "text": [
      "Enter list : 1 4 2 8 90 56 23 98 46\n",
      "Enter value for N: 4\n"
     ]
    },
    {
     "data": {
      "text/plain": [
       "[46, 56, 90, 98]"
      ]
     },
     "execution_count": 6,
     "metadata": {},
     "output_type": "execute_result"
    }
   ],
   "source": [
    "def n_large_list(list_,n):\n",
    "    \"\"\"to find N largest elements from a list\"\"\"\n",
    "    list_.sort()\n",
    "    if len(list_) >= n  :\n",
    "        return list_[len(list_)-n:len(list_)]\n",
    "    else:\n",
    "        return list_\n",
    "\n",
    "list_ = list(map(int,input(\"Enter list : \").split()))\n",
    "n = int(input(\"Enter value for N: \"))\n",
    "n_large_list(list_,n)"
   ]
  },
  {
   "cell_type": "markdown",
   "id": "7ad26f86",
   "metadata": {},
   "source": [
    "#### 7. Write a Python program to print even numbers in a list?"
   ]
  },
  {
   "cell_type": "code",
   "execution_count": 8,
   "id": "54dddbc7",
   "metadata": {},
   "outputs": [
    {
     "name": "stdout",
     "output_type": "stream",
     "text": [
      "Enter list : 1 2 38 23 32 90\n"
     ]
    },
    {
     "data": {
      "text/plain": [
       "[2, 38, 32, 90]"
      ]
     },
     "execution_count": 8,
     "metadata": {},
     "output_type": "execute_result"
    }
   ],
   "source": [
    "def even_list(list_):\n",
    "    \"\"\"to print even numbers in a list\"\"\"\n",
    "    l1 = []\n",
    "    for i in list_:\n",
    "        if i%2==0:\n",
    "            l1.append(i)\n",
    "        else:\n",
    "            pass\n",
    "    return l1\n",
    "\n",
    "list_ = list(map(int,input(\"Enter list : \").split()))\n",
    "even_list(list_)"
   ]
  },
  {
   "cell_type": "markdown",
   "id": "e9c78e11",
   "metadata": {},
   "source": [
    "#### 8. Write a Python program to print odd numbers in a List?"
   ]
  },
  {
   "cell_type": "code",
   "execution_count": 7,
   "id": "473b459a",
   "metadata": {},
   "outputs": [
    {
     "name": "stdout",
     "output_type": "stream",
     "text": [
      "Enter list : 2 9 7 4 5 11 90 8 21\n"
     ]
    },
    {
     "data": {
      "text/plain": [
       "[9, 7, 5, 11, 21]"
      ]
     },
     "execution_count": 7,
     "metadata": {},
     "output_type": "execute_result"
    }
   ],
   "source": [
    "def odd_list(list_):\n",
    "    \"\"\"print odd numbers in a List\"\"\"\n",
    "    l1 = []\n",
    "    for i in list_:\n",
    "        if i%2==0:\n",
    "            pass\n",
    "        else:\n",
    "            l1.append(i)\n",
    "    return l1\n",
    "\n",
    "list_ = list(map(int,input(\"Enter list : \").split()))\n",
    "odd_list(list_)"
   ]
  },
  {
   "cell_type": "markdown",
   "id": "5da71fe9",
   "metadata": {},
   "source": [
    "#### 9. Write a Python program to Remove empty List from List?"
   ]
  },
  {
   "cell_type": "code",
   "execution_count": 9,
   "id": "70d35e18",
   "metadata": {},
   "outputs": [
    {
     "data": {
      "text/plain": [
       "[1, 2, 3, 23, [1, 2, 'abc'], 'dff', 21]"
      ]
     },
     "execution_count": 9,
     "metadata": {},
     "output_type": "execute_result"
    }
   ],
   "source": [
    "def empty(list_):\n",
    "    \"\"\"to Remove empty List from List\"\"\"\n",
    "    return list(filter(None, list_))\n",
    "list_ = [1,2,3,[],23,[1,2,'abc'],'dff',[],[],21]\n",
    "empty(list_)"
   ]
  },
  {
   "cell_type": "markdown",
   "id": "8f0e279b",
   "metadata": {},
   "source": [
    "#### 10. Write a Python program to Cloning or Copying a list?"
   ]
  },
  {
   "cell_type": "code",
   "execution_count": 11,
   "id": "5cd9ebe7",
   "metadata": {},
   "outputs": [
    {
     "name": "stdout",
     "output_type": "stream",
     "text": [
      "Enter list : 1 3 5 6 10\n"
     ]
    },
    {
     "data": {
      "text/plain": [
       "[1, 3, 5, 6, 10]"
      ]
     },
     "execution_count": 11,
     "metadata": {},
     "output_type": "execute_result"
    }
   ],
   "source": [
    "def cloning(list_):\n",
    "    \"\"\"to Cloning or Copying a list\"\"\"\n",
    "    return list_[:]\n",
    "\n",
    "list_ = list(map(int,input(\"Enter list : \").split()))\n",
    "cloning(list_)"
   ]
  },
  {
   "cell_type": "markdown",
   "id": "5e0c9945",
   "metadata": {},
   "source": [
    "#### 11. Write a Python program to Count occurrences of an element in a list?"
   ]
  },
  {
   "cell_type": "code",
   "execution_count": 10,
   "id": "06c1fd12",
   "metadata": {},
   "outputs": [
    {
     "name": "stdout",
     "output_type": "stream",
     "text": [
      "Enter list : 3 2 10 11 1 4 1 8 1 23 1 1 1\n",
      "Enter element to find occurance1\n"
     ]
    },
    {
     "data": {
      "text/plain": [
       "6"
      ]
     },
     "execution_count": 10,
     "metadata": {},
     "output_type": "execute_result"
    }
   ],
   "source": [
    "def occurance(list_,occ):\n",
    "    \"\"\"to Count occurrences of an element in a list\"\"\"\n",
    "    return list_.count(occ)\n",
    "        \n",
    "\n",
    "\n",
    "list_ = list(map(int,input(\"Enter list : \").split()))\n",
    "occ = int(input(\"Enter element to find occurance\"))\n",
    "occurance(list_,occ)"
   ]
  }
 ],
 "metadata": {
  "kernelspec": {
   "display_name": "Python 3",
   "language": "python",
   "name": "python3"
  },
  "language_info": {
   "codemirror_mode": {
    "name": "ipython",
    "version": 3
   },
   "file_extension": ".py",
   "mimetype": "text/x-python",
   "name": "python",
   "nbconvert_exporter": "python",
   "pygments_lexer": "ipython3",
   "version": "3.8.8"
  }
 },
 "nbformat": 4,
 "nbformat_minor": 5
}
