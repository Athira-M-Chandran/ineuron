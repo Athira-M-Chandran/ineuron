{
 "cells": [
  {
   "cell_type": "markdown",
   "id": "1f81662d",
   "metadata": {},
   "source": [
    "#### 1. Write a Python program to Extract Unique values dictionary values?"
   ]
  },
  {
   "cell_type": "code",
   "execution_count": 1,
   "id": "4c515f1d",
   "metadata": {},
   "outputs": [
    {
     "data": {
      "text/plain": [
       "[1, 2, 3, 4, 5, 6, 10, 11, 14]"
      ]
     },
     "execution_count": 1,
     "metadata": {},
     "output_type": "execute_result"
    }
   ],
   "source": [
    "def unique(dict1):\n",
    "    \"\"\"to Extract Unique values dictionary values\"\"\"\n",
    "    l = []\n",
    "    for i in dict1.values():\n",
    "        if type(i) == list or type(i) == tuple:\n",
    "            for j in i:\n",
    "                l.append(j)\n",
    "        else:\n",
    "            l.append(i)\n",
    "    \n",
    "    return set(l)\n",
    "\n",
    "dict1 = {\n",
    "    'a' : 1,\n",
    "    'b' : 2,\n",
    "    'c' : [1,2,3,4,5,6],\n",
    "    'd' : (11,2,3,14,5,6),\n",
    "    'e' : 10\n",
    "}\n",
    "list(unique(dict1))"
   ]
  },
  {
   "cell_type": "markdown",
   "id": "60a19f52",
   "metadata": {},
   "source": [
    "#### 2. Write a Python program to find the sum of all items in a dictionary?"
   ]
  },
  {
   "cell_type": "code",
   "execution_count": null,
   "id": "ec2d6ea1",
   "metadata": {},
   "outputs": [],
   "source": [
    "def sum_items(dict1):\n",
    "    '''to find the sum of all items in a dictionary'''\n",
    "    sum_item = 0\n",
    "    for i in dict1.values():\n",
    "        if type(i) == int or type(i) == float:\n",
    "            sum_item += i\n",
    "    return sum_item\n",
    "\n",
    "dict1 = {\n",
    "    'abc' : 'asd',\n",
    "    'def' : 212,\n",
    "    'ghi' : [2,3,4,3],\n",
    "    'jkl' : 3\n",
    "}\n",
    "\n",
    "sum_items(dict1)"
   ]
  },
  {
   "cell_type": "markdown",
   "id": "eff6f677",
   "metadata": {},
   "source": [
    "#### 3. Write a Python program to Merging two Dictionaries?"
   ]
  },
  {
   "cell_type": "code",
   "execution_count": 3,
   "id": "85833abb",
   "metadata": {},
   "outputs": [
    {
     "data": {
      "text/plain": [
       "{'abc': 'asd',\n",
       " 'def': 212,\n",
       " 'ghi': [2, 3, 4, 3],\n",
       " 'jkl': 3,\n",
       " 'a': 1,\n",
       " 'b': 2,\n",
       " 'c': [1, 2, 3, 4, 5, 6]}"
      ]
     },
     "execution_count": 3,
     "metadata": {},
     "output_type": "execute_result"
    }
   ],
   "source": [
    "def merge(dict1,dict2):\n",
    "    \"\"\"Merging two Dictionaries\"\"\"\n",
    "    dict1.update(dict2)\n",
    "    return dict1\n",
    "\n",
    "dict1 = {\n",
    "    'abc' : 'asd',\n",
    "    'def' : 212,\n",
    "    'ghi' : [2,3,4,3],\n",
    "    'jkl' : 3\n",
    "    \n",
    "}\n",
    "dict2 = {\n",
    "    'a' : 1,\n",
    "    'b' : 2,\n",
    "    'c' : [1,2,3,4,5,6]\n",
    "}\n",
    "merge(dict1,dict2)"
   ]
  },
  {
   "cell_type": "markdown",
   "id": "bed7df53",
   "metadata": {},
   "source": [
    "#### 4. Write a Python program to convert key-values list to flat dictionary?"
   ]
  },
  {
   "cell_type": "code",
   "execution_count": 4,
   "id": "da787e06",
   "metadata": {},
   "outputs": [
    {
     "name": "stdout",
     "output_type": "stream",
     "text": [
      "{1: 'Jan', 2: 'Feb', 3: 'March'}\n"
     ]
    }
   ],
   "source": [
    "dict1 = {\n",
    "    'name' : ['Jan', 'Feb', 'March'], \n",
    "    'month': [1, 2, 3]\n",
    "}\n",
    "print(dict(zip(dict1['month'],dict1['name'])))"
   ]
  },
  {
   "cell_type": "markdown",
   "id": "ae2654e3",
   "metadata": {},
   "source": [
    "#### 5. Write a Python program to insertion at the beginning in OrderedDict?"
   ]
  },
  {
   "cell_type": "code",
   "execution_count": 5,
   "id": "b12c3c21",
   "metadata": {},
   "outputs": [
    {
     "name": "stdout",
     "output_type": "stream",
     "text": [
      "Original dictionary:  {'month': [1, 2, 3], 'year': 2022}\n",
      "Insering dictionary:  {'name': ['Jan', 'Feb', 'March']}\n",
      "Final dictionary:  {'name': ['Jan', 'Feb', 'March'], 'month': [1, 2, 3], 'year': 2022}\n"
     ]
    }
   ],
   "source": [
    "from collections import OrderedDict\n",
    "\n",
    "dict1 = OrderedDict([('month',[1,2,3]),('year',2022)])\n",
    "print(\"Original dictionary: \",dict(dict1))\n",
    "\n",
    "dict2 = {'name':['Jan' , 'Feb', 'March']}\n",
    "print(\"Insering dictionary: \", dict2)\n",
    "\n",
    "dict1.update(dict2)\n",
    "dict1.move_to_end('name', last= False)\n",
    "\n",
    "print(\"Final dictionary: \", dict(dict1))"
   ]
  },
  {
   "cell_type": "markdown",
   "id": "87e5b8da",
   "metadata": {},
   "source": [
    "#### 6. Write a Python program to check order of character in string using OrderedDict()?"
   ]
  },
  {
   "cell_type": "code",
   "execution_count": 1,
   "id": "4159c82c",
   "metadata": {},
   "outputs": [
    {
     "name": "stdout",
     "output_type": "stream",
     "text": [
      "Enter string : ineuron\n",
      "Enter pattern to check: eur\n"
     ]
    },
    {
     "data": {
      "text/plain": [
       "True"
      ]
     },
     "execution_count": 1,
     "metadata": {},
     "output_type": "execute_result"
    }
   ],
   "source": [
    "from collections import OrderedDict\n",
    "\n",
    "def check_order(string,pattern):\n",
    "    ''' to check order of character in string using OrderedDict()'''\n",
    "    \n",
    "    dict1 = OrderedDict.fromkeys(string)\n",
    "    a = 0\n",
    "    for keys,values in dict1.items():\n",
    "        if keys == pattern[a]:\n",
    "            a = a+ 1\n",
    "            \n",
    "        if a == len(pattern):\n",
    "            return True\n",
    "    else:\n",
    "        return False\n",
    "\n",
    "string = input(\"Enter string : \")\n",
    "pattern = input(\"Enter pattern to check: \")\n",
    "check_order(string,pattern)"
   ]
  },
  {
   "cell_type": "markdown",
   "id": "01f5a7a2",
   "metadata": {},
   "source": [
    "#### 7. Write a Python program to sort Python Dictionaries by Key or Value?"
   ]
  },
  {
   "cell_type": "code",
   "execution_count": 2,
   "id": "c5e373ff",
   "metadata": {},
   "outputs": [
    {
     "data": {
      "text/plain": [
       "{1: 3, 2: 90, 3: 'abc', 8: [1, 2, 3], 9: 12}"
      ]
     },
     "execution_count": 2,
     "metadata": {},
     "output_type": "execute_result"
    }
   ],
   "source": [
    "def order_dict(dict1):\n",
    "    '''to sort Python Dictionaries by Key or Value'''\n",
    "    d2 = {}\n",
    "    for i in sorted(dict1.items()):\n",
    "        d2.update({i[0]:i[1]})\n",
    "    return d2\n",
    "\n",
    "dict1 = {\n",
    "    3 : 'abc',\n",
    "    9 : 12,\n",
    "    2 : 90,\n",
    "    1 : 3,\n",
    "    8 : [1,2,3]\n",
    "    \n",
    "}\n",
    "order_dict(dict1)"
   ]
  }
 ],
 "metadata": {
  "kernelspec": {
   "display_name": "Python 3",
   "language": "python",
   "name": "python3"
  },
  "language_info": {
   "codemirror_mode": {
    "name": "ipython",
    "version": 3
   },
   "file_extension": ".py",
   "mimetype": "text/x-python",
   "name": "python",
   "nbconvert_exporter": "python",
   "pygments_lexer": "ipython3",
   "version": "3.8.8"
  }
 },
 "nbformat": 4,
 "nbformat_minor": 5
}
