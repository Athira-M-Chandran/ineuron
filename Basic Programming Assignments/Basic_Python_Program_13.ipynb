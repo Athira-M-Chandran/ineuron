{
 "cells": [
  {
   "cell_type": "markdown",
   "id": "088cb1ee",
   "metadata": {},
   "source": [
    "#### Question 1:\n",
    "\n",
    "Write a program that calculates and prints the value according to the given formula:\n",
    "\n",
    "Q = Square root of [(2 * C * D)/H]\n",
    "\n",
    "Following are the fixed values of C and H:\n",
    "\n",
    "C is 50. H is 30.\n",
    "\n",
    "D is the variable whose values should be input to your program in a comma-separated sequence.\n",
    "\n",
    "Example\n",
    "\n",
    "Let us assume the following comma separated input sequence is given to the program:\n",
    "\n",
    "100,150,180\n",
    "\n",
    "The output of the program should be:\n",
    "\n",
    "18,22,24\n"
   ]
  },
  {
   "cell_type": "code",
   "execution_count": 1,
   "id": "1dc2dcf8",
   "metadata": {},
   "outputs": [
    {
     "name": "stdout",
     "output_type": "stream",
     "text": [
      "Enter value in comma separated input sequence: 100,150,180\n",
      "18,22,24\n"
     ]
    }
   ],
   "source": [
    "from math import sqrt\n",
    "\n",
    "def value(D):\n",
    "    ''' calculates and prints the value according to the given formula : Square root of [(2 * C * D)/H]'''\n",
    "    C = 50\n",
    "    H = 30\n",
    "    ans = []\n",
    "    for i in D:\n",
    "        ans.append(str(int(round(sqrt((2 * C * i)/H)))))\n",
    "    return ','.join(ans)\n",
    "    \n",
    "d = list(map(int,input(\"Enter value in comma separated input sequence: \").split(\",\")))\n",
    "print(value(d))"
   ]
  },
  {
   "cell_type": "markdown",
   "id": "3da5ab1b",
   "metadata": {},
   "source": [
    "#### Question 2:\n",
    "Write a program which takes 2 digits, X,Y as input and generates a 2-dimensional array. The element value in the i-th row and j-th column of the array should be i*j.\n",
    "\n",
    "Note: i=0,1.., X-1; j=0,1,¡Y-1.\n",
    "\n",
    "Example\n",
    "\n",
    "Suppose the following inputs are given to the program:\n",
    "\n",
    "3,5\n",
    "\n",
    "Then, the output of the program should be:\n",
    "\n",
    "[[0, 0, 0, 0, 0], [0, 1, 2, 3, 4], [0, 2, 4, 6, 8]] \n"
   ]
  },
  {
   "cell_type": "code",
   "execution_count": 4,
   "id": "aafeb8d6",
   "metadata": {},
   "outputs": [
    {
     "name": "stdout",
     "output_type": "stream",
     "text": [
      "Enter value for X and Y(as comma separated values): 3,5\n"
     ]
    },
    {
     "data": {
      "text/plain": [
       "[[0, 0, 0, 0, 0], [0, 1, 2, 3, 4], [0, 2, 4, 6, 8]]"
      ]
     },
     "execution_count": 4,
     "metadata": {},
     "output_type": "execute_result"
    }
   ],
   "source": [
    "def output(X,Y):\n",
    "    l1 = []\n",
    "    for i in range(X):\n",
    "        l1.append([],)\n",
    "        for j in range(Y):\n",
    "            l1[i].append(i*j)\n",
    "    return l1\n",
    "\n",
    "X,Y = input(\"Enter value for X and Y(as comma separated values): \").split(\",\")\n",
    "output(int(X),int(Y))"
   ]
  },
  {
   "cell_type": "markdown",
   "id": "5b5a1d23",
   "metadata": {},
   "source": [
    "#### Question 3:\n",
    "Write a program that accepts a comma separated sequence of words as input and prints the words in a comma-separated sequence after sorting them alphabetically.\n",
    "\n",
    "Suppose the following input is supplied to the program:\n",
    "\n",
    "without,hello,bag,world\n",
    "\n",
    "Then, the output should be:\n",
    "\n",
    "bag,hello,without,world\n"
   ]
  },
  {
   "cell_type": "code",
   "execution_count": 5,
   "id": "b5aa4f9b",
   "metadata": {},
   "outputs": [
    {
     "name": "stdout",
     "output_type": "stream",
     "text": [
      "Enter comma separated values : without,hello,bag,world\n",
      "bag,hello,without,world\n"
     ]
    }
   ],
   "source": [
    "def order(seq):\n",
    "    '''prints the words in a comma-separated sequence after sorting them alphabetically.'''\n",
    "    seq.sort()\n",
    "    return ','.join(seq)\n",
    "\n",
    "seq = list(map(str, input(\"Enter comma separated values : \").split(\",\")))\n",
    "print(order(seq))"
   ]
  },
  {
   "cell_type": "markdown",
   "id": "de159147",
   "metadata": {},
   "source": [
    "#### Question 4:\n",
    "Write a program that accepts a sequence of whitespace separated words as input and prints the words after removing all duplicate words and sorting them alphanumerically.\n",
    "\n",
    "Suppose the following input is supplied to the program:\n",
    "\n",
    "hello world and practice makes perfect and hello world again\n",
    "\n",
    "Then, the output should be:\n",
    "\n",
    "again and hello makes perfect practice world\n"
   ]
  },
  {
   "cell_type": "code",
   "execution_count": 6,
   "id": "d969c21e",
   "metadata": {},
   "outputs": [
    {
     "name": "stdout",
     "output_type": "stream",
     "text": [
      "Enter string ( whitespace separated words): hello world and practice makes perfect and hello world again\n",
      "again and hello makes perfect practice world\n"
     ]
    }
   ],
   "source": [
    "def sort_words(words):\n",
    "    '''prints the words after removing all duplicate words and sorting them'''\n",
    "    l1 = []\n",
    "    for i in words:\n",
    "        if i not in l1:\n",
    "            l1.append(i)\n",
    "    l1.sort()\n",
    "    return ' '.join(l1)\n",
    "\n",
    "words = list(map(str, input(\"Enter string ( whitespace separated words): \").split(\" \")))\n",
    "print(sort_words(words))"
   ]
  },
  {
   "cell_type": "markdown",
   "id": "872001e0",
   "metadata": {},
   "source": [
    "#### Question 5:\n",
    "Write a program that accepts a sentence and calculate the number of letters and digits.\n",
    "\n",
    "Suppose the following input is supplied to the program:\n",
    "\n",
    "hello world! 123\n",
    "\n",
    "Then, the output should be:\n",
    "\n",
    "LETTERS 10\n",
    "\n",
    "DIGITS 3\n"
   ]
  },
  {
   "cell_type": "code",
   "execution_count": 7,
   "id": "d7f07548",
   "metadata": {},
   "outputs": [
    {
     "name": "stdout",
     "output_type": "stream",
     "text": [
      "Enter string : hello world! 123\n",
      "LETTERS  10\n",
      "DIGITS  3\n"
     ]
    }
   ],
   "source": [
    "import re\n",
    "def count_letters_digit(words):\n",
    "    \"\"\"calculate the number of letters and digits.\"\"\"\n",
    "    \n",
    "    letters = 0\n",
    "    digits = 0\n",
    "    for i in words:\n",
    "        for j in i:\n",
    "            if re.search(r\"[a-z]\",j):\n",
    "                letters += 1\n",
    "            elif re.search(r\"[0-9]\",j):\n",
    "                digits += 1\n",
    "            elif re.search(r\"[A-Z]\",j):\n",
    "                letters += 1\n",
    "    return letters, digits\n",
    "            \n",
    "\n",
    "words = list(map(str, input(\"Enter string : \").split(\" \")))\n",
    "letters, digits = count_letters_digit(words)\n",
    "print(\"LETTERS \", letters)\n",
    "print(\"DIGITS \", digits)"
   ]
  },
  {
   "cell_type": "markdown",
   "id": "acd88ba4",
   "metadata": {},
   "source": [
    "#### Question 6:\n",
    "A website requires the users to input username and password to register. Write a program to check the validity of password input by users.\n",
    "\n",
    "Following are the criteria for checking the password:\n",
    "\n",
    "1. At least 1 letter between [a-z]\n",
    "\n",
    "2. At least 1 number between [0-9]\n",
    "\n",
    "1. At least 1 letter between [A-Z]\n",
    "\n",
    "3. At least 1 character from [$#@]\n",
    "\n",
    "4. Minimum length of transaction password: 6\n",
    "\n",
    "5. Maximum length of transaction password: 12\n",
    "\n",
    "Your program should accept a sequence of comma separated passwords and will check them according to the above criteria. Passwords that match the criteria are to be printed, each separated by a comma.\n",
    "\n",
    "Example\n",
    "\n",
    "If the following passwords are given as input to the program:\n",
    "\n",
    "ABd1234@1,a F1#,2w3E*,2We3345\n",
    "\n",
    "Then, the output of the program should be:\n",
    "\n",
    "ABd1234@1"
   ]
  },
  {
   "cell_type": "code",
   "execution_count": 8,
   "id": "04d92bfa",
   "metadata": {},
   "outputs": [
    {
     "name": "stdout",
     "output_type": "stream",
     "text": [
      "Enter passwords : ABd1234@1,a F1#,2w3E*,2We3345\n",
      "ABd1234@1\n"
     ]
    }
   ],
   "source": [
    "import re\n",
    "def check_password(password):\n",
    "    ''' to check the validity of password input by users.'''\n",
    "    l = []\n",
    "    for i in password:\n",
    "        if len(i) >= 6 and len(i) <= 12:\n",
    "            if re.search(r\"[a-z]\",i):\n",
    "                if re.search(r\"[0-9]\",i):\n",
    "                    if re.search(r\"[A-Z]\",i):\n",
    "                        if re.search(r\"[$#@]\",i):\n",
    "                            l.append(i)\n",
    "    return ','.join(l)\n",
    "        \n",
    "\n",
    "password = list(map(str, input(\"Enter passwords : \").split(\",\")))\n",
    "print(check_password(password))"
   ]
  }
 ],
 "metadata": {
  "kernelspec": {
   "display_name": "Python 3",
   "language": "python",
   "name": "python3"
  },
  "language_info": {
   "codemirror_mode": {
    "name": "ipython",
    "version": 3
   },
   "file_extension": ".py",
   "mimetype": "text/x-python",
   "name": "python",
   "nbconvert_exporter": "python",
   "pygments_lexer": "ipython3",
   "version": "3.8.8"
  }
 },
 "nbformat": 4,
 "nbformat_minor": 5
}
