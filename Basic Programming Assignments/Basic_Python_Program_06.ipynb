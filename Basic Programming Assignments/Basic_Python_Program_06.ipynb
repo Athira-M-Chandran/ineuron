{
 "cells": [
  {
   "cell_type": "markdown",
   "id": "73e56f99",
   "metadata": {},
   "source": [
    "#### 1. Write a Python Program to Display Fibonacci Sequence Using Recursion? "
   ]
  },
  {
   "cell_type": "code",
   "execution_count": 1,
   "id": "1057d4e7",
   "metadata": {},
   "outputs": [
    {
     "name": "stdout",
     "output_type": "stream",
     "text": [
      "Enter the limit for fibinocci : 10\n",
      "0 1 1 2 3 5 8 13 21 34 "
     ]
    }
   ],
   "source": [
    "def fibnocci(a,b,n):\n",
    "    if n > 0:\n",
    "        print(a, end =\" \")\n",
    "        c = a + b\n",
    "        fibnocci(b,c,n-1)          # recursive function\n",
    "\n",
    "n = int(input(\"Enter the limit for fibinocci : \"))\n",
    "a = 0\n",
    "b = 1\n",
    "fibnocci(a,b,n)"
   ]
  },
  {
   "cell_type": "markdown",
   "id": "843a359d",
   "metadata": {},
   "source": [
    "#### 2. Write a Python Program to Find Factorial of Number Using Recursion? "
   ]
  },
  {
   "cell_type": "code",
   "execution_count": 1,
   "id": "b872c3ea",
   "metadata": {},
   "outputs": [
    {
     "name": "stdout",
     "output_type": "stream",
     "text": [
      "Enter number : 5\n",
      "120\n"
     ]
    }
   ],
   "source": [
    "def fact(n,flag):\n",
    "    return flag if n==0 else fact(n-1, flag = flag * n)   #recursive function\n",
    "   \n",
    "\n",
    "n = int(input(\"Enter number : \"))\n",
    "flag = 1\n",
    "print(fact(n,flag))"
   ]
  },
  {
   "cell_type": "markdown",
   "id": "22156359",
   "metadata": {},
   "source": [
    "#### 3. Write a Python Program to calculate your Body Mass Index? "
   ]
  },
  {
   "cell_type": "code",
   "execution_count": 1,
   "id": "26a5f718",
   "metadata": {},
   "outputs": [
    {
     "name": "stdout",
     "output_type": "stream",
     "text": [
      "Enter weight in kgs : 56\n",
      "Enter height in meters : 1.57\n",
      "BMI index is  22.72 and you are having Healthy weight!\n"
     ]
    }
   ],
   "source": [
    "# function for calculating bmi\n",
    "def bmi(weight,height):\n",
    "    return weight/(height **2)\n",
    "\n",
    "# Take user input ; weight and height\n",
    "weight = float(input(\"Enter weight in kgs : \"))\n",
    "height = float(input(\"Enter height in meters : \"))\n",
    "\n",
    "if height > 0 and weight >0 :\n",
    "    bm_index = bmi(weight,height)\n",
    "    print(\"BMI index is \",round(bm_index,2) ,\"and you are having\", end = \" \")\n",
    "    \n",
    "    # BMI classifications\n",
    "    if bm_index < 18.5:\n",
    "        print(\"Underweight!\")\n",
    "    elif bm_index >= 18.5 and bm_index <= 24.9:\n",
    "        print(\"Healthy weight!\")\n",
    "    elif bm_index > 24.9 and bm_index <= 29.9:\n",
    "        print(\"Overweight!\")\n",
    "    elif bm_index >=30:\n",
    "        print(\"Obesity\")\n",
    "\n",
    "else:\n",
    "    print(\"Weight and height should be greater than zero\")"
   ]
  },
  {
   "cell_type": "markdown",
   "id": "4f82e9fa",
   "metadata": {},
   "source": [
    "#### 4. Write a Python Program to calculate the natural logarithm of any number? "
   ]
  },
  {
   "cell_type": "code",
   "execution_count": 4,
   "id": "24e58ac4",
   "metadata": {},
   "outputs": [
    {
     "name": "stdout",
     "output_type": "stream",
     "text": [
      "Enter natural number for finding natural logarithm :14\n",
      "2.6390573296152584\n"
     ]
    }
   ],
   "source": [
    "import math\n",
    "log_value = int(input(\"Enter natural number for finding natural logarithm :\"))\n",
    "if log_value > 0:\n",
    "    print(math.log(log_value))    \n",
    "else:\n",
    "    print(\"It is not a natural number\")"
   ]
  },
  {
   "cell_type": "markdown",
   "id": "ed7addd8",
   "metadata": {},
   "source": [
    "#### 5. Write a Python Program for cube sum of first n natural numbers? "
   ]
  },
  {
   "cell_type": "code",
   "execution_count": 5,
   "id": "78f4dde7",
   "metadata": {},
   "outputs": [
    {
     "name": "stdout",
     "output_type": "stream",
     "text": [
      "Enter limit :5\n",
      "225\n"
     ]
    }
   ],
   "source": [
    "def cube(n,add):\n",
    "    add = add + (n**3)\n",
    "    if n==0:\n",
    "        print(add)\n",
    "        return add\n",
    "    cube(n-1,add)\n",
    "    \n",
    "n = int(input(\"Enter limit :\"))\n",
    "add = 0\n",
    "cube(n,add)\n"
   ]
  },
  {
   "cell_type": "code",
   "execution_count": null,
   "id": "d66e92c2",
   "metadata": {},
   "outputs": [],
   "source": []
  }
 ],
 "metadata": {
  "kernelspec": {
   "display_name": "Python 3",
   "language": "python",
   "name": "python3"
  },
  "language_info": {
   "codemirror_mode": {
    "name": "ipython",
    "version": 3
   },
   "file_extension": ".py",
   "mimetype": "text/x-python",
   "name": "python",
   "nbconvert_exporter": "python",
   "pygments_lexer": "ipython3",
   "version": "3.8.8"
  }
 },
 "nbformat": 4,
 "nbformat_minor": 5
}
