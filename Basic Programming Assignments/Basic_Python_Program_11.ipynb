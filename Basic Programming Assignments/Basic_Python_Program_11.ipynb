{
 "cells": [
  {
   "cell_type": "markdown",
   "id": "7727aede",
   "metadata": {},
   "source": [
    "#### 1.Write a Python program to find words which are greater than given length k?"
   ]
  },
  {
   "cell_type": "code",
   "execution_count": 1,
   "id": "0b6332bb",
   "metadata": {},
   "outputs": [
    {
     "name": "stdout",
     "output_type": "stream",
     "text": [
      "Enter list : \n",
      "  @media print {\n",
      "    .ms-editor-squiggles-container {\n",
      "      display:none !important;\n",
      "    }\n",
      "  }\n",
      "  .ms-editor-squiggles-container {\n",
      "    all: initial;\n",
      "  }qw eret rhj hjjh cvd a l kjio poiu\n",
      "Enter length: 2\n"
     ]
    },
    {
     "data": {
      "text/plain": [
       "['eret', 'rhj', 'hjjh', 'cvd', 'kjio', 'poiu']"
      ]
     },
     "execution_count": 1,
     "metadata": {},
     "output_type": "execute_result"
    }
   ],
   "source": [
    "def great(string,k):\n",
    "    \"\"\"to find words which are greater than given length k\"\"\"\n",
    "    l=[]\n",
    "    for i in string:\n",
    "        if len(i) > k:\n",
    "            l.append(i)\n",
    "        else:\n",
    "            pass\n",
    "    return l\n",
    "\n",
    "string = list(map(str,input(\"Enter list : \").split()))\n",
    "k = int(input(\"Enter length: \"))\n",
    "great(string,k)"
   ]
  },
  {
   "cell_type": "markdown",
   "id": "6df4258d",
   "metadata": {},
   "source": [
    "#### 2. Write a Python program for removing i-th character from a string?"
   ]
  },
  {
   "cell_type": "code",
   "execution_count": 3,
   "id": "2975b239",
   "metadata": {},
   "outputs": [
    {
     "name": "stdout",
     "output_type": "stream",
     "text": [
      "Enter the word: ineuron\n",
      "Enter index position to remove character: 6\n"
     ]
    },
    {
     "data": {
      "text/plain": [
       "'ineuro'"
      ]
     },
     "execution_count": 3,
     "metadata": {},
     "output_type": "execute_result"
    }
   ],
   "source": [
    "def remove(word,i):\n",
    "    \"\"\" for removing i-th character from a string\"\"\"\n",
    "    if i >=0:\n",
    "        return word[:i] + word[i+1:]\n",
    "    else:\n",
    "        return \"Enter valid index position\"\n",
    "word = input(\"Enter the word: \")\n",
    "i = int(input(\"Enter index position to remove character: \"))\n",
    "remove(word,i)"
   ]
  },
  {
   "cell_type": "markdown",
   "id": "0e9f1ee1",
   "metadata": {},
   "source": [
    "#### 3. Write a Python program to split and join a string?"
   ]
  },
  {
   "cell_type": "code",
   "execution_count": 6,
   "id": "0ad5d8a0",
   "metadata": {},
   "outputs": [
    {
     "name": "stdout",
     "output_type": "stream",
     "text": [
      "enter String: hello world\n",
      "Splitting hello world - ['hello', 'world']\n",
      "Joining ['hello', 'world'] - hello world\n"
     ]
    }
   ],
   "source": [
    "def join(string):\n",
    "    \"\"\"Join splitted string \"\"\"\n",
    "    return \" \".join(string)\n",
    "\n",
    "def split(string):\n",
    "    \"\"\"Split string\"\"\"\n",
    "    return list(map(str,string.split()))\n",
    "\n",
    "string = input(\"enter String: \")\n",
    "\n",
    "print(f\"Splitting {string} - {split(string)}\")\n",
    "print(f\"Joining {split(string)} - {join(split(string))}\")\n"
   ]
  },
  {
   "cell_type": "markdown",
   "id": "2b7be876",
   "metadata": {},
   "source": [
    "#### 4. Write a Python to check if a given string is binary string or not?"
   ]
  },
  {
   "cell_type": "code",
   "execution_count": 7,
   "id": "820efc4b",
   "metadata": {},
   "outputs": [
    {
     "name": "stdout",
     "output_type": "stream",
     "text": [
      "Enter string: 11001110\n",
      "Binary String!\n"
     ]
    }
   ],
   "source": [
    "def check_binary(string):\n",
    "    \"\"\"to check if a given string is binary string or not\"\"\"\n",
    "    flag = 0\n",
    "    check = '01 '\n",
    "    for i in string:\n",
    "        if i in check:\n",
    "            flag = 1\n",
    "        else:\n",
    "            flag  =0\n",
    "            break\n",
    "            \n",
    "    return flag\n",
    "\n",
    "string = input(\"Enter string: \")\n",
    "\n",
    "if check_binary(string) == 1:\n",
    "    print(\"Binary String!\")\n",
    "else:\n",
    "    print(\"Not a binary string!\")"
   ]
  },
  {
   "cell_type": "markdown",
   "id": "5380c5e8",
   "metadata": {},
   "source": [
    "#### 5. Write a Python program to find uncommon words from two Strings?"
   ]
  },
  {
   "cell_type": "code",
   "execution_count": 8,
   "id": "13334d15",
   "metadata": {},
   "outputs": [
    {
     "name": "stdout",
     "output_type": "stream",
     "text": [
      "Enter 1st string: apple mango banana\n",
      "Enter 2nd string: pineapple apple mango orange\n"
     ]
    },
    {
     "data": {
      "text/plain": [
       "['banana', 'pineapple', 'orange']"
      ]
     },
     "execution_count": 8,
     "metadata": {},
     "output_type": "execute_result"
    }
   ],
   "source": [
    "def uncommon(string1,string2):\n",
    "    \"\"\"to find uncommon words from two Strings\"\"\"\n",
    "    str3 = []\n",
    "    for i in string1:\n",
    "        if i not in string2:\n",
    "            str3.append(i)\n",
    "    for j in string2:\n",
    "        if j not in string1:\n",
    "            str3.append(j)\n",
    "    \n",
    "    return str3\n",
    "\n",
    "string1 = list(map(str,input(\"Enter 1st string: \").split()))\n",
    "string2 = list(map(str,input(\"Enter 2nd string: \").split()))\n",
    "uncommon(string1,string2)"
   ]
  },
  {
   "cell_type": "markdown",
   "id": "87181ec9",
   "metadata": {},
   "source": [
    "#### 6. Write a Python to find all duplicate characters in string?"
   ]
  },
  {
   "cell_type": "code",
   "execution_count": 9,
   "id": "b1bac836",
   "metadata": {},
   "outputs": [
    {
     "name": "stdout",
     "output_type": "stream",
     "text": [
      "Enter String: banana\n"
     ]
    },
    {
     "data": {
      "text/plain": [
       "' a n'"
      ]
     },
     "execution_count": 9,
     "metadata": {},
     "output_type": "execute_result"
    }
   ],
   "source": [
    "def duplicate(str1):\n",
    "    \"\"\"to find all duplicate characters in string\"\"\"\n",
    "    str2 = \"\"\n",
    "    for i in str1:\n",
    "        if str1.count(i) >1:\n",
    "            if i not in str2:\n",
    "                str2 += ' '+i\n",
    "    return str2\n",
    "\n",
    "str1 = input(\"Enter String: \")\n",
    "duplicate(str1)"
   ]
  },
  {
   "cell_type": "markdown",
   "id": "ec43d4af",
   "metadata": {},
   "source": [
    "#### 7. Write a Python Program to check if a string contains any special character?"
   ]
  },
  {
   "cell_type": "code",
   "execution_count": 10,
   "id": "629f587a",
   "metadata": {},
   "outputs": [
    {
     "name": "stdout",
     "output_type": "stream",
     "text": [
      "Enter string: $stri@ng\n",
      "Contains special character\n"
     ]
    }
   ],
   "source": [
    "def check_symbol(string):\n",
    "    '''to check if a string contains any special character'''\n",
    "    \n",
    "    symbol = '''~`!@#$%^&*()_-+=[]\\;',./{}|:\"<>?'''\n",
    "    flag = 0\n",
    "    \n",
    "    for i in string:\n",
    "        if i in symbol:\n",
    "            flag = 0\n",
    "            break\n",
    "        else:\n",
    "            flag = 1\n",
    "    return flag\n",
    "\n",
    "string = input(\"Enter string: \")\n",
    "\n",
    "if check_symbol(string)==0:\n",
    "    print(\"Contains special character\")\n",
    "else:\n",
    "    print(\"No special characters\")"
   ]
  },
  {
   "cell_type": "code",
   "execution_count": 11,
   "id": "65708c92",
   "metadata": {},
   "outputs": [
    {
     "name": "stdout",
     "output_type": "stream",
     "text": [
      "special Characters\n"
     ]
    }
   ],
   "source": [
    "'''to check if a string contains any special character'''\n",
    "import re\n",
    "\n",
    "string = \"str$ing@\"\n",
    "regex = re.compile('[~`!@#$%^&*()_=\\;.,/{}|:\"<>?]')\n",
    "\n",
    "if(regex.search(string) == None):\n",
    "    print(\"No special characters\")\n",
    "else:\n",
    "    print(\"special Characters\")"
   ]
  }
 ],
 "metadata": {
  "kernelspec": {
   "display_name": "Python 3",
   "language": "python",
   "name": "python3"
  },
  "language_info": {
   "codemirror_mode": {
    "name": "ipython",
    "version": 3
   },
   "file_extension": ".py",
   "mimetype": "text/x-python",
   "name": "python",
   "nbconvert_exporter": "python",
   "pygments_lexer": "ipython3",
   "version": "3.8.8"
  }
 },
 "nbformat": 4,
 "nbformat_minor": 5
}
