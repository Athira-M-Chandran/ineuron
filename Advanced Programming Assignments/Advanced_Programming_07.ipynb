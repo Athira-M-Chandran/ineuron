{
 "cells": [
  {
   "cell_type": "code",
   "execution_count": 1,
   "id": "3a784abf",
   "metadata": {},
   "outputs": [],
   "source": [
    "import logging as lg"
   ]
  },
  {
   "cell_type": "code",
   "execution_count": 2,
   "id": "78ed638e",
   "metadata": {},
   "outputs": [],
   "source": [
    "lg.basicConfig(filename = \"logging/assign_07\" , level = lg.DEBUG , format = ' %(asctime)s %(levelname)s %(message)s ')"
   ]
  },
  {
   "cell_type": "markdown",
   "id": "c94c35ef",
   "metadata": {},
   "source": [
    "#### 1. Write a function that counts how many concentric layers a rug.\n",
    "\n",
    "Examples\n",
    "\n",
    "count_layers([\n",
    "  \n",
    "    \"AAAA\",\n",
    "  \n",
    "    \"ABBA\",\n",
    "  \n",
    "    \"AAAA\"\n",
    "\n",
    "]) ➞ 2\n",
    "\n",
    "count_layers([\n",
    "\n",
    "    \"AAAAAAAAA\",\n",
    "  \n",
    "    \"ABBBBBBBA\",\n",
    "  \n",
    "    \"ABBAAABBA\",\n",
    "  \n",
    "    \"ABBBBBBBA\",\n",
    "  \n",
    "    \"AAAAAAAAA\"\n",
    "\n",
    "]) ➞ 3\n",
    "\n",
    "count_layers([\n",
    "\n",
    "    \"AAAAAAAAAAA\",\n",
    "  \n",
    "    \"AABBBBBBBAA\",\n",
    "  \n",
    "    \"AABCCCCCBAA\",\n",
    "  \n",
    "    \"AABCAAACBAA\",\n",
    "  \n",
    "    \"AABCADACBAA\",\n",
    "  \n",
    "    \"AABCAAACBAA\",\n",
    "  \n",
    "    \"AABCCCCCBAA\",\n",
    "  \n",
    "    \"AABBBBBBBAA\",\n",
    "  \n",
    "    \"AAAAAAAAAAA\"\n",
    "\n",
    "]) ➞ 5\n"
   ]
  },
  {
   "cell_type": "code",
   "execution_count": 3,
   "id": "512039f9",
   "metadata": {},
   "outputs": [],
   "source": [
    "def count_layers(lst):\n",
    "    \n",
    "    lg.info(\"The list : \" +str(lst))\n",
    "    count = 0\n",
    "    \n",
    "    try:\n",
    "        for i in lst:\n",
    "            count += 1\n",
    "            lst.remove(i)\n",
    "    \n",
    "        lg.info(\"Number of concentric layers:\" + str(count))\n",
    "        return count\n",
    "    \n",
    "    except Exception as e:\n",
    "        \n",
    "        lg.error(\"Error Occured :\" +str(e))\n",
    "        return \"Error Occured : \" ,e"
   ]
  },
  {
   "cell_type": "code",
   "execution_count": 4,
   "id": "82c57900",
   "metadata": {},
   "outputs": [
    {
     "data": {
      "text/plain": [
       "5"
      ]
     },
     "execution_count": 4,
     "metadata": {},
     "output_type": "execute_result"
    }
   ],
   "source": [
    "count_layers([\n",
    "    \"AAAAAAAAAAA\",\n",
    "    \"AABBBBBBBAA\",\n",
    "    \"AABCCCCCBAA\",\n",
    "    \"AABCAAACBAA\",\n",
    "    \"AABCADACBAA\",\n",
    "    \"AABCAAACBAA\",\n",
    "    \"AABCCCCCBAA\",\n",
    "    \"AABBBBBBBAA\",\n",
    "    \"AAAAAAAAAAA\"\n",
    "]) "
   ]
  },
  {
   "cell_type": "markdown",
   "id": "dc993892",
   "metadata": {},
   "source": [
    "#### 2. There are many different styles of music and many albums exhibit multiple styles. Create a function that takes a list of musical styles from albums and returns how many styles are unique.\n",
    "\n",
    "Examples\n",
    "\n",
    "unique_styles([\n",
    " \n",
    " \"Dub,Dancehall\",\n",
    " \n",
    " \"Industrial,Heavy Metal\",\n",
    " \n",
    " \"Techno,Dubstep\",\n",
    " \n",
    " \"Synth-pop,Euro-Disco\",\n",
    " \n",
    " \"Industrial,Techno,Minimal\"\n",
    "\n",
    "]) ➞ 9\n",
    "\n",
    "unique_styles([\n",
    "  \n",
    "  \"Soul\",\n",
    "  \n",
    "  \"House,Folk\",\n",
    "  \n",
    "  \"Trance,Downtempo,Big Beat,House\",\n",
    "  \n",
    "  \"Deep House\",\n",
    "  \n",
    "  \"Soul\"\n",
    "\n",
    "]) ➞ 7\n"
   ]
  },
  {
   "cell_type": "code",
   "execution_count": 5,
   "id": "94e63b12",
   "metadata": {},
   "outputs": [],
   "source": [
    "lg.info(\"\\n\\n Question 2 \\n\")\n",
    "\n",
    "def unique_styles(lst):\n",
    "    lg.info(\"Styles : \" +str(lst))\n",
    "    \n",
    "    style = []\n",
    "    styles =[]\n",
    "    try:\n",
    "        for j in list(lst):\n",
    "            j = j.split(',')\n",
    "            style.append(j)\n",
    "    \n",
    "        new = [m for n in style for m in n]\n",
    "    \n",
    "        u_styles = [styles.append(i) for i in new if i not in styles]\n",
    "        \n",
    "        lg.info(\"Unique styles are : \" + str(len(u_styles)))\n",
    "        return len(u_styles)\n",
    "    \n",
    "    except Exception as e:\n",
    "        lg.error(\"Error Occured : \" +str(e))\n",
    "        return \"Error Occured \" ,e\n",
    "    "
   ]
  },
  {
   "cell_type": "code",
   "execution_count": 6,
   "id": "b197f33b",
   "metadata": {},
   "outputs": [
    {
     "data": {
      "text/plain": [
       "9"
      ]
     },
     "execution_count": 6,
     "metadata": {},
     "output_type": "execute_result"
    }
   ],
   "source": [
    "unique_styles([\n",
    "    \"Dub,Dancehall\",\n",
    "    \"Industrial,Heavy Metal\",\n",
    "    \"Techno,Dubstep\",\n",
    "    \"Synth-pop,Euro-Disco\",\n",
    "    \"Industrial,Techno,Minimal\"\n",
    "\n",
    "]) "
   ]
  },
  {
   "cell_type": "markdown",
   "id": "0c8d31e4",
   "metadata": {},
   "source": [
    "#### 3. Create a function that finds a target number in a list of prime numbers. Implement a binary search algorithm in your function. The target number will be from 2 through 97. If the target is prime then return \"yes\" else return \"no\".\n",
    "\n",
    "Examples\n",
    "\n",
    "primes = [2, 3, 5, 7, 11, 13, 17, 19, 23, 29, 31, 37, 41, 43, 47, 53, 59, 61, 67, 71, 73, 79, 83, 89, 97]\n",
    "\n",
    "\n",
    "is_prime(primes, 3) ➞ \"yes\"\n",
    "\n",
    "is_prime(primes, 4) ➞ \"no\"\n",
    "\n",
    "is_prime(primes, 67) ➞ \"yes\"\n",
    "\n",
    "is_prime(primes, 36) ➞ \"no\"\n",
    "\n"
   ]
  },
  {
   "cell_type": "code",
   "execution_count": 3,
   "id": "9ae8eba0",
   "metadata": {},
   "outputs": [],
   "source": [
    "lg.info(\"\\n\\n Question 3 \\n\")\n",
    "\n",
    "def is_prime(primes , num):\n",
    "    '''Function that finds a target number in a list of prime numbers. Implementing  binary search .'''\n",
    "    \n",
    "    lg.info(\"prime list :\" +str(primes) +\"and the number to search is : \" +str(num))\n",
    "    \n",
    "    try:\n",
    "        first = 0\n",
    "        mid = 0\n",
    "        last = len(primes) - 1\n",
    "         \n",
    "        while first <= last:\n",
    "            mid  = (first +last) // 2\n",
    "            \n",
    "            # if num is greater than mid ignore left\n",
    "            if num > primes[mid]:\n",
    "                first = mid + 1\n",
    "                \n",
    "            # if num is lesser than mid ignore right\n",
    "            elif num < primes[mid]:\n",
    "                last = mid - 1\n",
    "            \n",
    "            else:\n",
    "                lg.info(\"yes\")\n",
    "                return \"yes\"\n",
    "            \n",
    "        lg.info(\"no\")\n",
    "        return \"no\"\n",
    "    \n",
    "    except Exception as e:\n",
    "        lg.error(\"Error Occured : \" +str(e))\n",
    "        return \"Error Occured \" ,e"
   ]
  },
  {
   "cell_type": "code",
   "execution_count": 4,
   "id": "90610e31",
   "metadata": {},
   "outputs": [
    {
     "data": {
      "text/plain": [
       "'yes'"
      ]
     },
     "execution_count": 4,
     "metadata": {},
     "output_type": "execute_result"
    }
   ],
   "source": [
    "primes = [2, 3, 5, 7, 11, 13, 17, 19, 23, 29, 31, 37, 41, 43, 47, 53, 59, 61, 67, 71, 73, 79, 83, 89, 97]\n",
    "\n",
    "is_prime(primes, 3)"
   ]
  },
  {
   "cell_type": "markdown",
   "id": "c5a7aede",
   "metadata": {},
   "source": [
    "#### 4. Create a function that takes in n, a, b and returns the number of positive values raised to the nth power that lie in the range [a, b], inclusive.\n",
    "\n",
    "Examples\n",
    "\n",
    "power_ranger(2, 49, 65) ➞ 2\n",
    "\n",
    "#2 squares (n^2) lie between 49 and 65, 49 (7^2) and 64 (8^2)\n",
    "\n",
    "power_ranger(3, 1, 27) ➞ 3\n",
    "\n",
    "#3 cubes (n^3) lie between 1 and 27, 1 (1^3), 8 (2^3) and 27 (3^3)\n",
    "\n",
    "power_ranger(10, 1, 5) ➞ 1\n",
    "\n",
    "#1 value raised to the 10th power lies between 1 and 5, 1 (1^10)\n",
    "\n",
    "power_ranger(5, 31, 33) ➞ 1\n",
    "\n",
    "power_ranger(4, 250, 1300) ➞ 3\n"
   ]
  },
  {
   "cell_type": "code",
   "execution_count": 3,
   "id": "f613a80f",
   "metadata": {},
   "outputs": [],
   "source": [
    "lg.info(\"\\n\\n Question 4 \\n\")\n",
    "\n",
    "def power_ranger(n,a,b):\n",
    "    '''function that takes in n, a, b and returns the number of positive values raised to the nth power that lie in the range [a, b], inclusive.'''\n",
    "    \n",
    "    lg.info(\"Power of \" +str(n) + \"lies between\" + str(a) +'and' +str(b))\n",
    "    \n",
    "    try:\n",
    "        count = 0\n",
    "        for j in range(1, b):\n",
    "            if (j ** n) in range(a,b+1):\n",
    "                count += 1\n",
    "                \n",
    "        lg.info(str(count))\n",
    "        return count\n",
    "    \n",
    "    except Exception as e:\n",
    "        lg.error(\"Error Occured : \" +str(e))\n",
    "        return \"Error Occured\",e"
   ]
  },
  {
   "cell_type": "code",
   "execution_count": 4,
   "id": "321407c8",
   "metadata": {},
   "outputs": [
    {
     "data": {
      "text/plain": [
       "3"
      ]
     },
     "execution_count": 4,
     "metadata": {},
     "output_type": "execute_result"
    }
   ],
   "source": [
    "power_ranger(3, 1, 27)"
   ]
  },
  {
   "cell_type": "markdown",
   "id": "fa49bfaf",
   "metadata": {},
   "source": [
    "#### 5. Given a number, return the difference between the maximum and minimum numbers that can be formed when the digits are rearranged.\n",
    "\n",
    "Examples\n",
    "\n",
    "rearranged_difference(972882) ➞ 760833\n",
    "\n",
    "#988722 - 227889 = 760833\n",
    "\n",
    "rearranged_difference(3320707) ➞ 7709823\n",
    "\n",
    "#7733200 - 23377 = 7709823\n",
    "\n",
    "rearranged_difference(90010) ➞ 90981\n",
    "\n",
    "#91000 - 19 = 90981\n",
    "\n"
   ]
  },
  {
   "cell_type": "code",
   "execution_count": 3,
   "id": "5ec3b05f",
   "metadata": {},
   "outputs": [],
   "source": [
    "lg.info(\"\\n\\n Question 5\\n\")\n",
    "\n",
    "def rearranged_difference(n):\n",
    "    lg.info(\"The num is : \"+str(n))\n",
    "    \n",
    "    try:\n",
    "        # arranging numbers to ascending and descending orders.\n",
    "        gt = sorted(str(n), reverse= True)\n",
    "        lt = sorted(str(n))   \n",
    "        \n",
    "        difference = int(''.join(gt)) - int(''.join(lt))\n",
    "        \n",
    "        lg.info(\"rearranged difference is : \" +str(difference))\n",
    "        return difference\n",
    "            \n",
    "    \n",
    "    except Exception as e:\n",
    "        lg.error(\"Error Occured: \" +str(e))\n",
    "        return \"Error Occured \" ,e"
   ]
  },
  {
   "cell_type": "code",
   "execution_count": 4,
   "id": "d3a4235c",
   "metadata": {},
   "outputs": [
    {
     "data": {
      "text/plain": [
       "760833"
      ]
     },
     "execution_count": 4,
     "metadata": {},
     "output_type": "execute_result"
    }
   ],
   "source": [
    "rearranged_difference(972882) "
   ]
  },
  {
   "cell_type": "code",
   "execution_count": 5,
   "id": "c8df3ddf",
   "metadata": {},
   "outputs": [
    {
     "data": {
      "text/plain": [
       "7709823"
      ]
     },
     "execution_count": 5,
     "metadata": {},
     "output_type": "execute_result"
    }
   ],
   "source": [
    "rearranged_difference(3320707) "
   ]
  }
 ],
 "metadata": {
  "kernelspec": {
   "display_name": "Python 3",
   "language": "python",
   "name": "python3"
  },
  "language_info": {
   "codemirror_mode": {
    "name": "ipython",
    "version": 3
   },
   "file_extension": ".py",
   "mimetype": "text/x-python",
   "name": "python",
   "nbconvert_exporter": "python",
   "pygments_lexer": "ipython3",
   "version": "3.8.8"
  }
 },
 "nbformat": 4,
 "nbformat_minor": 5
}
