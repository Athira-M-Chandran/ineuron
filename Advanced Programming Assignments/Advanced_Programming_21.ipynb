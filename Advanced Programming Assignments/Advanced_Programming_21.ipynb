{
 "cells": [
  {
   "cell_type": "markdown",
   "id": "44c47cca",
   "metadata": {},
   "source": [
    "#### 1. Given a sentence, return the number of words which have the same first and last letter.\n",
    "\n",
    "Examples\n",
    "\n",
    "count_same_ends(\"Pop! goes the balloon\") ➞ 1\n",
    "\n",
    "count_same_ends(\"And the crowd goes wild!\") ➞ 0\n",
    "\n",
    "count_same_ends(\"No I am not in a gang.\") ➞ 1\n"
   ]
  },
  {
   "cell_type": "code",
   "execution_count": 2,
   "id": "e6084e1c",
   "metadata": {},
   "outputs": [],
   "source": [
    "import re\n",
    "def count_same_ends(string):\n",
    "    try:\n",
    "        r = re.sub(r'[^\\w\\s]','',string)\n",
    "        string_list = r.split(' ')\n",
    "        count = 0\n",
    "        for i in string_list:\n",
    "            if len(i) >1:\n",
    "                if i[0].casefold()==i[-1].casefold():\n",
    "                    count += 1\n",
    "        return count\n",
    "    except Exception as e:\n",
    "        return e"
   ]
  },
  {
   "cell_type": "code",
   "execution_count": 3,
   "id": "6c7211e1",
   "metadata": {},
   "outputs": [
    {
     "name": "stdout",
     "output_type": "stream",
     "text": [
      "1\n",
      "0\n",
      "1\n"
     ]
    }
   ],
   "source": [
    "print(count_same_ends(\"Pop! goes the balloon\"))\n",
    "print(count_same_ends(\"And the crowd goes wild!\"))\n",
    "print(count_same_ends(\"No I am not in a gang.\"))"
   ]
  },
  {
   "cell_type": "markdown",
   "id": "08f7265e",
   "metadata": {},
   "source": [
    "#### 2. The Atbash cipher is an encryption method in which each letter of a word is replaced with its \"mirror\" letter in the alphabet: A <=> Z; B <=> Y; C <=> X; etc.\n",
    "\n",
    "Create a function that takes a string and applies the Atbash cipher to it.\n",
    "\n",
    "Examples\n",
    "\n",
    "atbash(\"apple\") ➞ \"zkkov\"\n",
    "\n",
    "atbash(\"Hello world!\") ➞ \"Svool dliow!\"\n",
    "\n",
    "atbash(\"Christmas is the 25th of December\") ➞ \"Xsirhgnzh rh gsv 25gs lu Wvxvnyvi\"\n"
   ]
  },
  {
   "cell_type": "code",
   "execution_count": 4,
   "id": "2daacbf7",
   "metadata": {},
   "outputs": [],
   "source": [
    "def atbash(word):\n",
    "    try:\n",
    "        atbash_word =''\n",
    "        letters = {'A' : 'Z', 'B' : 'Y', 'C' : 'X', 'D' : 'W', 'E' : 'V',\n",
    "                   'F' : 'U', 'G' : 'T', 'H' : 'S', 'I' : 'R', 'J' : 'Q',\n",
    "                   'K' : 'P', 'L' : 'O', 'M' : 'N', 'N' : 'M', 'O' : 'L',\n",
    "                   'P' : 'K', 'Q' : 'J', 'R' : 'I', 'S' : 'H', 'T' : 'G',\n",
    "                   'U' : 'F', 'V' : 'E', 'W' : 'D', 'X' : 'C', 'Y' : 'B', 'Z' : 'A'}\n",
    "        for i in word:\n",
    "            if i.upper() in letters:\n",
    "                if i == i.lower():\n",
    "                    atbash_word += (letters[i.upper()]).lower()\n",
    "                else:\n",
    "                    atbash_word += letters[i.upper()]\n",
    "            else:\n",
    "                atbash_word += i\n",
    "        return atbash_word\n",
    "        \n",
    "    except Exception as e:\n",
    "        return e"
   ]
  },
  {
   "cell_type": "code",
   "execution_count": 5,
   "id": "c19bb1c1",
   "metadata": {},
   "outputs": [
    {
     "name": "stdout",
     "output_type": "stream",
     "text": [
      "zkkov\n",
      "Svool dliow!\n",
      "Xsirhgnzh rh gsv 25gs lu Wvxvnyvi\n"
     ]
    }
   ],
   "source": [
    "print(atbash(\"apple\"))\n",
    "print(atbash(\"Hello world!\"))\n",
    "print(atbash(\"Christmas is the 25th of December\"))"
   ]
  },
  {
   "cell_type": "markdown",
   "id": "4fd26ffc",
   "metadata": {},
   "source": [
    "#### 3. Create a class Employee that will take a full name as argument, as well as a set of none, one or more keywords. Each instance should have a name and a lastname attributes plus one more attribute for each of the keywords, if any.\n",
    "\n",
    "Examples\n",
    "\n",
    "john = Employee(\"John Doe\")\n",
    "\n",
    "mary = Employee(\"Mary Major\", salary=120000)\n",
    "\n",
    "richard = Employee(\"Richard Roe\", salary=110000, height=178)\n",
    "\n",
    "giancarlo = Employee(\"Giancarlo Rossi\", salary=115000, height=182, nationality=\"Italian\")\n",
    "\n",
    "john.name ➞ \"John\"\n",
    "\n",
    "mary.lastname ➞ \"Major\"\n",
    "\n",
    "richard.height ➞ 178\n",
    "\n",
    "giancarlo.nationality ➞ \"Italian\"\n"
   ]
  },
  {
   "cell_type": "code",
   "execution_count": 6,
   "id": "597943b0",
   "metadata": {},
   "outputs": [],
   "source": [
    "class Employee:\n",
    "    \n",
    "    def __init__(self,name,**kwargs):\n",
    "        \n",
    "        name_split = name.split(' ')\n",
    "        self.name = name_split[0]\n",
    "        self.lastname = name_split[1]\n",
    "        self.__dict__.update(kwargs)\n",
    "       \n",
    "        \n",
    "    def name(self):\n",
    "        return self.name\n",
    "    def lastname(self):\n",
    "        print('hai')\n",
    "        return self.lastname\n",
    "    def height(self):\n",
    "        return self.height()\n",
    "    def nationality(self):\n",
    "        return self.nationality()"
   ]
  },
  {
   "cell_type": "code",
   "execution_count": 7,
   "id": "70173444",
   "metadata": {},
   "outputs": [
    {
     "name": "stdout",
     "output_type": "stream",
     "text": [
      "John\n",
      "Major\n",
      "178\n",
      "Italian\n"
     ]
    }
   ],
   "source": [
    "john = Employee(\"John Doe\")\n",
    "\n",
    "mary = Employee(\"Mary Major\", salary=120000)\n",
    "\n",
    "richard = Employee(\"Richard Roe\", salary=110000, height=178)\n",
    "\n",
    "giancarlo = Employee(\"Giancarlo Rossi\", salary=115000, height=182, nationality=\"Italian\")\n",
    "\n",
    "print(john.name)\n",
    "print(mary.lastname )\n",
    "print(richard.height)\n",
    "print(giancarlo.nationality)"
   ]
  },
  {
   "cell_type": "markdown",
   "id": "06e6defd",
   "metadata": {},
   "source": [
    "#### 4. Create a function that determines whether each seat can \"see\" the front-stage. A number can \"see\" the front-stage if it is strictly greater than the number before it.\n",
    "\n",
    "Everyone can see the front-stage in the example below:\n",
    "\n",
    "#FRONT STAGE\n",
    "\n",
    "[[1, 2, 3, 2, 1, 1],\n",
    "[2, 4, 4, 3, 2, 2],\n",
    "[5, 5, 5, 5, 4, 4],\n",
    "[6, 6, 7, 6, 5, 5]]\n",
    "\n",
    "#Starting from the left, the 6 > 5 > 2 > 1, so all numbers can see.\n",
    "\n",
    "#6 > 5 > 4 > 2 - so all numbers can see, etc.\n",
    "\n",
    "Not everyone can see the front-stage in the example below:\n",
    "\n",
    "#FRONT STAGE\n",
    "\n",
    "[[1, 2, 3, 2, 1, 1], \n",
    "[2, 4, 4, 3, 2, 2], \n",
    "[5, 5, 5, 10, 4, 4], \n",
    "[6, 6, 7, 6, 5, 5]]\n",
    "\n",
    "#The 10 is directly in front of the 6 and blocking its view.\n",
    "\n",
    "The function should return True if every number can see the front-stage, and False if even a single number cannot.\n",
    "\n",
    "Examples\n",
    "\n",
    "can_see_stage([\n",
    "  [1, 2, 3],\n",
    "  [4, 5, 6],\n",
    "  [7, 8, 9]\n",
    "]) ➞ True\n",
    "\n",
    "can_see_stage([\n",
    "  [0, 0, 0],\n",
    "  [1, 1, 1],\n",
    "  [2, 2, 2]\n",
    "]) ➞ True\n",
    "\n",
    "can_see_stage([\n",
    "  [2, 0, 0], \n",
    "  [1, 1, 1], \n",
    "  [2, 2, 2]\n",
    "]) ➞ False\n",
    "\n",
    "can_see_stage([\n",
    "  [1, 0, 0],\n",
    "  [1, 1, 1],\n",
    "  [2, 2, 2]\n",
    "]) ➞ False\n",
    "\n",
    "#Number must be strictly smaller than \n",
    "#the number directly behind it.\n"
   ]
  },
  {
   "cell_type": "code",
   "execution_count": 8,
   "id": "17d693c7",
   "metadata": {},
   "outputs": [],
   "source": [
    "def can_see_stage(lst):\n",
    "    row = list(zip(*lst))\n",
    "    for i in row:\n",
    "        for j in range(len(i)-1):\n",
    "            if row[j] > row[j+1]:\n",
    "                return False\n",
    "    return True"
   ]
  },
  {
   "cell_type": "code",
   "execution_count": 9,
   "id": "fc22cbb7",
   "metadata": {},
   "outputs": [
    {
     "name": "stdout",
     "output_type": "stream",
     "text": [
      "True\n",
      "True\n",
      "False\n",
      "False\n"
     ]
    }
   ],
   "source": [
    "print(can_see_stage([ [1, 2, 3], [4, 5, 6], [7, 8, 9] ]))\n",
    "print(can_see_stage([ [0, 0, 0], [1, 1, 1], [2, 2, 2] ]))\n",
    "print(can_see_stage([ [2, 0, 0], [1, 1, 1], [2, 2, 2] ]))\n",
    "print(can_see_stage([ [1, 0, 0], [1, 1, 1], [2, 2, 2] ]))"
   ]
  },
  {
   "cell_type": "markdown",
   "id": "a3c00f06",
   "metadata": {},
   "source": [
    "#### 5. Create a Pizza class with the attributes order_number and ingredients (which is given as a list). Only the ingredients will be given as input.\n",
    "\n",
    "You should also make it so that its possible to choose a ready made pizza flavour rather than typing out the ingredients manually! As well as creating this Pizza class, hard-code the following pizza flavours.\n",
    "\n",
    "Name\t                    Ingredients\n",
    "\n",
    "hawaiian\t                  ham, pineapple\n",
    "\n",
    "meat_festival\t             beef, meatball, bacon\n",
    "\n",
    "garden_feast\t             spinach, olives, mushroom\n",
    "\n",
    "Examples\n",
    "\n",
    "p1 = Pizza([\"bacon\", \"parmesan\", \"ham\"])    #order 1\n",
    "\n",
    "p2 = Pizza.garden_feast()                  #order 2\n",
    "\n",
    "p1.ingredients ➞ [\"bacon\", \"parmesan\", \"ham\"]\n",
    "\n",
    "p2.ingredients ➞ [\"spinach\", \"olives\", \"mushroom\"]\n",
    "\n",
    "p1.order_number ➞ 1\n",
    "\n",
    "p2.order_number ➞ 2"
   ]
  },
  {
   "cell_type": "code",
   "execution_count": 10,
   "id": "c6654186",
   "metadata": {},
   "outputs": [],
   "source": [
    "order_number = 0\n",
    "class Pizza:\n",
    "    \n",
    "    def __init__(self, ingredients):\n",
    "        global order_number\n",
    "        self.ingredients = ingredients\n",
    "        order_number += 1\n",
    "        self.order_number = order_number\n",
    "    @classmethod\n",
    "    def garden_feast(self):\n",
    "        global order_number\n",
    "        order_number += 1\n",
    "        self.order_number = order_number\n",
    "        self.ingredients = ['spinach', 'olives', 'mushroom']\n",
    "        return self\n",
    "    @classmethod\n",
    "    def hawaiian(self):\n",
    "        global order_number\n",
    "        order_number += 1\n",
    "        self.order_number = order_number\n",
    "        \n",
    "        self.ingredients = ['ham', 'pineapple']\n",
    "        return self\n",
    "    @classmethod\n",
    "    def meat_festival(self):\n",
    "        global order_number\n",
    "        order_number += 1\n",
    "        self.order_number = order_number\n",
    "        self.ingredients = ['beef', 'meatball', 'bacon']\n",
    "        return self"
   ]
  },
  {
   "cell_type": "code",
   "execution_count": 11,
   "id": "b4ea2285",
   "metadata": {},
   "outputs": [
    {
     "name": "stdout",
     "output_type": "stream",
     "text": [
      "['bacon', 'parmesan', 'ham']\n",
      "['spinach', 'olives', 'mushroom']\n",
      "1\n",
      "2\n"
     ]
    }
   ],
   "source": [
    "p1 = Pizza([\"bacon\", \"parmesan\", \"ham\"]) \n",
    "\n",
    "p2 = Pizza.garden_feast() \n",
    "print(p1.ingredients)\n",
    "print(p2.ingredients)\n",
    "print(p1.order_number)\n",
    "print(p2.order_number)"
   ]
  }
 ],
 "metadata": {
  "kernelspec": {
   "display_name": "Python 3",
   "language": "python",
   "name": "python3"
  },
  "language_info": {
   "codemirror_mode": {
    "name": "ipython",
    "version": 3
   },
   "file_extension": ".py",
   "mimetype": "text/x-python",
   "name": "python",
   "nbconvert_exporter": "python",
   "pygments_lexer": "ipython3",
   "version": "3.8.8"
  }
 },
 "nbformat": 4,
 "nbformat_minor": 5
}
