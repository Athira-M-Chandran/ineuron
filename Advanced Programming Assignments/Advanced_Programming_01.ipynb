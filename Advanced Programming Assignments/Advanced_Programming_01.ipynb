{
 "cells": [
  {
   "cell_type": "code",
   "execution_count": 1,
   "id": "f7fb1b0d",
   "metadata": {},
   "outputs": [],
   "source": [
    "import os\n",
    "import logging as lg"
   ]
  },
  {
   "cell_type": "code",
   "execution_count": 2,
   "id": "3a911ba2",
   "metadata": {},
   "outputs": [],
   "source": [
    "os.mkdir('logging')\n"
   ]
  },
  {
   "cell_type": "code",
   "execution_count": 23,
   "id": "d9480534",
   "metadata": {},
   "outputs": [],
   "source": [
    "lg.basicConfig(filename='logging\\\\assign_1.log' , level = lg.DEBUG , format = '%(asctime)s %(levelname)s %(message)s')"
   ]
  },
  {
   "cell_type": "markdown",
   "id": "8a2508a6",
   "metadata": {},
   "source": [
    "#### 1. Write a function that takes a list of lists and returns the value of all of the symbols in it, where each symbol adds or takes something from the total score. Symbol values:\n",
    "\n",
    "'#' = 5\n",
    "\n",
    "O = 3\n",
    "\n",
    "X = 1\n",
    "\n",
    "! = -1\n",
    "\n",
    "!! = -3\n",
    "\n",
    "!!! = -5\n",
    "\n",
    "A list of lists containing 2 #s, a O, and a !!! would equal (0 + 5 + 5 + 3 - 5) 8.\n",
    "\n",
    "If the final score is negative, return 0 (e.g. 3 #s, 3 !!s, 2 !!!s and a X would be (0 + 5 + 5 + 5 - 3 - 3 - 3 - 5 - 5 + 1) -3, so return 0.\n",
    "\n",
    "Examples\n",
    "\n",
    "check_score([\n",
    "  \n",
    "      [\"#\", \"!\"],\n",
    "  \n",
    "      [\"!!\", \"X\"]\n",
    "\n",
    "]) ➞ 2\n",
    "\n",
    "check_score([\n",
    "\n",
    "      [\"!!!\", \"O\", \"!\"],\n",
    "  \n",
    "      [\"X\", \"#\", \"!!!\"],\n",
    "  \n",
    "      [\"!!\", \"X\", \"O\"]\n",
    "\n",
    "]) ➞ 0\n"
   ]
  },
  {
   "cell_type": "code",
   "execution_count": 4,
   "id": "f16ab95b",
   "metadata": {},
   "outputs": [],
   "source": [
    "lg.info(\"\\n\\n QUESTION 1 \\n\")\n",
    "def check_score(lst):\n",
    "    \n",
    "    lg.info(\"The list is : \"+ str(lst))\n",
    "    score = 0\n",
    "    d = {'#': 5, 'O':3, 'X': 1, '!':-1, '!!': -3, '!!!' : -5}\n",
    "    try:\n",
    "        for i in lst:\n",
    "            for j in i:\n",
    "                score += d[j]\n",
    "        if score < 0:\n",
    "            lg.info(\"The result is : \"+str(0))\n",
    "            lg.info(\"Executed successfully!!\")\n",
    "            return 0\n",
    "        \n",
    "        else:\n",
    "            lg.info(\"The result is : \" + str(score))\n",
    "            lg.info(\"Executed successfully!!\")\n",
    "            return score\n",
    "        \n",
    "    \n",
    "    except Exception as error:\n",
    "        print(\"Error occured: \",error)\n",
    "        lg.error(\"Error has happened : \")\n",
    "        lg.exception(\"Exception occured: \" + str(error))        "
   ]
  },
  {
   "cell_type": "code",
   "execution_count": 5,
   "id": "99c6ce8b",
   "metadata": {},
   "outputs": [
    {
     "name": "stdout",
     "output_type": "stream",
     "text": [
      "0\n",
      "2\n"
     ]
    }
   ],
   "source": [
    "print(check_score([ [\"!!!\", \"O\", \"!\"], [\"X\", \"#\", \"!!!\"],  [\"!!\", \"X\", \"O\"] ]) )\n",
    "print(check_score([ [\"#\", \"!\"], [\"!!\", \"X\"] ]))"
   ]
  },
  {
   "cell_type": "markdown",
   "id": "4a1c3225",
   "metadata": {},
   "source": [
    "#### 2. Create a function that takes a variable number of arguments, each argument representing the number of items in a group, and returns the number of permutations (combinations) of items that you could get by taking one item from each group.\n",
    "\n",
    "Examples\n",
    "\n",
    "combinations(2, 3) ➞ 6\n",
    "\n",
    "combinations(3, 7, 4) ➞ 84\n",
    "\n",
    "combinations(2, 3, 4, 5) ➞ 120\n",
    "\n"
   ]
  },
  {
   "cell_type": "code",
   "execution_count": 7,
   "id": "b8a80c81",
   "metadata": {},
   "outputs": [],
   "source": [
    "lg.info(\"\\n\\n Question 2 \\n\")\n",
    "\n",
    "def combinations(*args):\n",
    "    \n",
    "    permutation = 1\n",
    "    lg.info(\"values are :\" )\n",
    "    \n",
    "    try:\n",
    "        \n",
    "        for i in args:\n",
    "            lg.info(str(i))\n",
    "            permutation *= i\n",
    "        lg.info(\"The result is : \" + str(permutation))\n",
    "        \n",
    "        return permutation\n",
    "    \n",
    "    except Exception as e:\n",
    "        \n",
    "        lg.error(\"Error occured \" + e)\n",
    "        return (\"Error occured: \" , e)"
   ]
  },
  {
   "cell_type": "code",
   "execution_count": 8,
   "id": "fcd7b13d",
   "metadata": {},
   "outputs": [
    {
     "data": {
      "text/plain": [
       "6"
      ]
     },
     "execution_count": 8,
     "metadata": {},
     "output_type": "execute_result"
    }
   ],
   "source": [
    "combinations(2, 3)"
   ]
  },
  {
   "cell_type": "code",
   "execution_count": 9,
   "id": "b714e234",
   "metadata": {},
   "outputs": [
    {
     "data": {
      "text/plain": [
       "84"
      ]
     },
     "execution_count": 9,
     "metadata": {},
     "output_type": "execute_result"
    }
   ],
   "source": [
    "combinations(3, 7, 4)"
   ]
  },
  {
   "cell_type": "code",
   "execution_count": 10,
   "id": "0b5e9275",
   "metadata": {},
   "outputs": [
    {
     "data": {
      "text/plain": [
       "120"
      ]
     },
     "execution_count": 10,
     "metadata": {},
     "output_type": "execute_result"
    }
   ],
   "source": [
    "combinations(2, 3, 4, 5) "
   ]
  },
  {
   "cell_type": "markdown",
   "id": "7c999602",
   "metadata": {},
   "source": [
    "#### 3. Create a function that takes a string as an argument and returns the Morse code equivalent.\n",
    "\n",
    "Examples\n",
    "\n",
    "encode_morse(\"EDABBIT CHALLENGE\") ➞ \". -.. .- -... -... .. -   -.-. .... .- .-.. .-.. . -. --. .\"\n",
    "\n",
    "encode_morse(\"HELP ME !\") ➞ \".... . .-.. .--.   -- .   -.-.--\"\n",
    "\n",
    "This dictionary can be used for coding:\n",
    "\n",
    "char_to_dots = {\n",
    "     \n",
    "      'A': '.-', 'B': '-...', 'C': '-.-.', 'D': '-..', 'E': '.', 'F': '..-.',\n",
    "  \n",
    "      'G': '--.', 'H': '....', 'I': '..', 'J': '.---', 'K': '-.-', 'L': '.-..',\n",
    "  \n",
    "      'M': '--', 'N': '-.', 'O': '---', 'P': '.--.', 'Q': '--.-', 'R': '.-.',\n",
    "  \n",
    "      'S': '...', 'T': '-', 'U': '..-', 'V': '...-', 'W': '.--', 'X': '-..-',\n",
    "  \n",
    "      'Y': '-.--', 'Z': '--..', ' ': ' ', '0': '-----',\n",
    "  \n",
    "      '1': '.----', '2': '..---', '3': '...--', '4': '....-', '5': '.....',\n",
    "  \n",
    "      '6': '-....', '7': '--...', '8': '---..', '9': '----.',\n",
    "  \n",
    "      '&': '.-...', \"'\": '.----.', '@': '.--.-.', ')': '-.--.-', '(': '-.--.',\n",
    "  \n",
    "      ':': '---...', ',': '--..--', '=': '-...-', '!': '-.-.--', '.': '.-.-.-',\n",
    "  \n",
    "      '-': '-....-', '+': '.-.-.', '\"': '.-..-.', '?': '..--..', '/': '-..-.'\n",
    "}\n"
   ]
  },
  {
   "cell_type": "code",
   "execution_count": 13,
   "id": "42f18520",
   "metadata": {},
   "outputs": [],
   "source": [
    "lg.info(\"\\n\\nQuestion 3 \\n\")\n",
    "\n",
    "def encode_morse(string):\n",
    "    \n",
    "    new_string = ''\n",
    "    char_to_dots = {\n",
    "        'A': '.-', 'B': '-...', 'C': '-.-.', 'D': '-..', 'E': '.', 'F': '..-.',\n",
    "        'G': '--.', 'H': '....', 'I': '..', 'J': '.---', 'K': '-.-', 'L': '.-..',\n",
    "        'M': '--', 'N': '-.', 'O': '---', 'P': '.--.', 'Q': '--.-', 'R': '.-.',\n",
    "        'S': '...', 'T': '-', 'U': '..-', 'V': '...-', 'W': '.--', 'X': '-..-',\n",
    "        'Y': '-.--', 'Z': '--..', ' ': ' ', '0': '-----',\n",
    "        '1': '.----', '2': '..---', '3': '...--', '4': '....-', '5': '.....',\n",
    "        '6': '-....', '7': '--...', '8': '---..', '9': '----.',\n",
    "        '&': '.-...', \"'\": '.----.', '@': '.--.-.', ')': '-.--.-', '(': '-.--.',\n",
    "        ':': '---...', ',': '--..--', '=': '-...-', '!': '-.-.--', '.': '.-.-.-',\n",
    "        '-': '-....-', '+': '.-.-.', '\"': '.-..-.', '?': '..--..', '/': '-..-.'\n",
    "    }\n",
    "    try:\n",
    "        lg.info(\"The string is : \" + string)\n",
    "        for i in string:\n",
    "            new_string += ' ' + char_to_dots[i]\n",
    "        lg.info(\"Morse code of string is : \" + new_string)\n",
    "        return new_string\n",
    "    except Exception as e:\n",
    "        lg.error(\"Error occured: \" + str(e))\n",
    "        return (\"Error occured :  \",e)\n",
    "        "
   ]
  },
  {
   "cell_type": "code",
   "execution_count": 14,
   "id": "a6171048",
   "metadata": {},
   "outputs": [
    {
     "data": {
      "text/plain": [
       "' . -.. .- -... -... .. -   -.-. .... .- .-.. .-.. . -. --. .'"
      ]
     },
     "execution_count": 14,
     "metadata": {},
     "output_type": "execute_result"
    }
   ],
   "source": [
    "encode_morse(\"EDABBIT CHALLENGE\")"
   ]
  },
  {
   "cell_type": "code",
   "execution_count": 15,
   "id": "629e4ab0",
   "metadata": {},
   "outputs": [
    {
     "data": {
      "text/plain": [
       "' .... . .-.. .--.   -- .   -.-.--'"
      ]
     },
     "execution_count": 15,
     "metadata": {},
     "output_type": "execute_result"
    }
   ],
   "source": [
    "encode_morse(\"HELP ME !\")"
   ]
  },
  {
   "cell_type": "markdown",
   "id": "f380f388",
   "metadata": {},
   "source": [
    "#### 4.  Write a function that takes a number and returns True if it's a prime; False otherwise. The number can be 2^64-1 (2 to the power of 63, not XOR). With the standard technique it would be O(2^64-1), which is much too large for the 10 second time limit.\n",
    "\n",
    "Examples\n",
    "\n",
    "prime(7) ➞ True\n",
    "\n",
    "prime(56963) ➞ True\n",
    "\n",
    "prime(5151512515524) ➞ False\n",
    "\n"
   ]
  },
  {
   "cell_type": "code",
   "execution_count": 19,
   "id": "1842fd76",
   "metadata": {},
   "outputs": [],
   "source": [
    "from math import ceil\n",
    "lg.info(\"\\n\\n Question 4 \\n\")\n",
    "\n",
    "def prime(num):\n",
    "    \n",
    "    lg.info(\"The input is : \" +str(num))\n",
    "    flag = 0\n",
    "    try:\n",
    "        if num == 1:\n",
    "            flag = 1\n",
    "        elif num == 2:\n",
    "            flag = 1\n",
    "        \n",
    "        else:\n",
    "            for i in range(2,ceil(num/2)):\n",
    "                if num % i == 0:\n",
    "                    flag = 1\n",
    "                    break\n",
    "                else:\n",
    "                    flag = 0\n",
    "            \n",
    "            if flag == 1:\n",
    "                lg.info(\"Not Prime\")\n",
    "                return False\n",
    "            \n",
    "            else:\n",
    "                lg.info(\"Prime\")\n",
    "                return True\n",
    "    \n",
    "    except Exception as e:\n",
    "        lg.info(\"Error occured : \" +str(e))\n",
    "        return (\"Error occured : \" ,e)"
   ]
  },
  {
   "cell_type": "code",
   "execution_count": 20,
   "id": "85913c8d",
   "metadata": {},
   "outputs": [
    {
     "data": {
      "text/plain": [
       "True"
      ]
     },
     "execution_count": 20,
     "metadata": {},
     "output_type": "execute_result"
    }
   ],
   "source": [
    "prime(7) "
   ]
  },
  {
   "cell_type": "code",
   "execution_count": 21,
   "id": "8597e6cc",
   "metadata": {},
   "outputs": [
    {
     "data": {
      "text/plain": [
       "True"
      ]
     },
     "execution_count": 21,
     "metadata": {},
     "output_type": "execute_result"
    }
   ],
   "source": [
    "prime(56963)"
   ]
  },
  {
   "cell_type": "code",
   "execution_count": 22,
   "id": "b03850d7",
   "metadata": {},
   "outputs": [
    {
     "data": {
      "text/plain": [
       "False"
      ]
     },
     "execution_count": 22,
     "metadata": {},
     "output_type": "execute_result"
    }
   ],
   "source": [
    "prime(5151512515524)"
   ]
  },
  {
   "cell_type": "markdown",
   "id": "4aad509a",
   "metadata": {},
   "source": [
    "##### 5.  Create a function that converts a word to a bitstring and then to a boolean list based on the following criteria:\n",
    "\n",
    "    1. Locate the position of the letter in the English alphabet (from 1 to 26).\n",
    "   \n",
    "    2. Odd positions will be represented as 1 and 0 otherwise.\n",
    "    \n",
    "    3. Convert the represented positions to boolean values, 1 for True and 0 for False.\n",
    "    \n",
    "    4. Store the conversions into an array.\n",
    "\n",
    " Examples\n",
    "\n",
    "to_boolean_list(\"deep\") ➞ [False, True, True, False]\n",
    "\n",
    "'#'deep converts to 0110\n",
    "\n",
    "'#'d is the 4th alphabet - 0\n",
    "\n",
    "'#'e is the 5th alphabet - 1\n",
    "\n",
    "'#'e is the 5th alphabet - 1\n",
    "\n",
    "'#'p is the 16th alphabet - 0\n",
    "\n",
    "to_boolean_list(\"loves\") ➞ [False, True, False, True, True]\n",
    "\n",
    "to_boolean_list(\"tesh\") ➞ [False, True, True, False]\n"
   ]
  },
  {
   "cell_type": "code",
   "execution_count": 24,
   "id": "cf860d48",
   "metadata": {},
   "outputs": [],
   "source": [
    "from string import ascii_lowercase as letter\n",
    "\n",
    "lg.info(\"\\n\\n Question 5 \\n\")\n",
    "\n",
    "def to_boolean_list(string):\n",
    "    lg.info(\"Input string \" + str(string))\n",
    "    boolean_list = []\n",
    "    try:\n",
    "        for i in string:\n",
    "            \n",
    "            pos = letter.index(i) + 1\n",
    "            \n",
    "            if pos % 2 == 0:\n",
    "                boolean_list.append(False)\n",
    "                \n",
    "            else:\n",
    "                boolean_list.append(True)\n",
    "        \n",
    "        lg.info(\"Result is \" + str(boolean_list))\n",
    "        return boolean_list\n",
    "    except Exception as e:\n",
    "        lg.error(\"Error occured : \" + str(e))\n",
    "        return (\"Error occcured \" ,e)"
   ]
  },
  {
   "cell_type": "code",
   "execution_count": 25,
   "id": "e6c8d072",
   "metadata": {},
   "outputs": [
    {
     "data": {
      "text/plain": [
       "[False, True, True, False]"
      ]
     },
     "execution_count": 25,
     "metadata": {},
     "output_type": "execute_result"
    }
   ],
   "source": [
    "to_boolean_list(\"deep\")"
   ]
  },
  {
   "cell_type": "code",
   "execution_count": 26,
   "id": "b3db2d4b",
   "metadata": {},
   "outputs": [
    {
     "data": {
      "text/plain": [
       "[False, True, False, True, True]"
      ]
     },
     "execution_count": 26,
     "metadata": {},
     "output_type": "execute_result"
    }
   ],
   "source": [
    "to_boolean_list(\"loves\") "
   ]
  },
  {
   "cell_type": "code",
   "execution_count": 27,
   "id": "0a2c9f3f",
   "metadata": {},
   "outputs": [
    {
     "data": {
      "text/plain": [
       "[False, True, True, False]"
      ]
     },
     "execution_count": 27,
     "metadata": {},
     "output_type": "execute_result"
    }
   ],
   "source": [
    "to_boolean_list(\"tesh\") "
   ]
  }
 ],
 "metadata": {
  "kernelspec": {
   "display_name": "Python 3",
   "language": "python",
   "name": "python3"
  },
  "language_info": {
   "codemirror_mode": {
    "name": "ipython",
    "version": 3
   },
   "file_extension": ".py",
   "mimetype": "text/x-python",
   "name": "python",
   "nbconvert_exporter": "python",
   "pygments_lexer": "ipython3",
   "version": "3.8.8"
  }
 },
 "nbformat": 4,
 "nbformat_minor": 5
}
