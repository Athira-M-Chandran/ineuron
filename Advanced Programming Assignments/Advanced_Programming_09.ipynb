{
 "cells": [
  {
   "cell_type": "code",
   "execution_count": 1,
   "id": "b4363c57",
   "metadata": {},
   "outputs": [],
   "source": [
    "import logging as lg"
   ]
  },
  {
   "cell_type": "code",
   "execution_count": 2,
   "id": "e5c615b0",
   "metadata": {},
   "outputs": [],
   "source": [
    "lg.basicConfig(filename= 'logging/assign_09.txt' , level = lg.DEBUG, format = ' %(asctime)s %(levelname)s %(message)s')"
   ]
  },
  {
   "cell_type": "markdown",
   "id": "272dadc1",
   "metadata": {},
   "source": [
    "#### 1. YouTube offers different playback speed options for users. This allows users to increase or decrease the speed of the video content. Given the actual duration and playback speed of the video, calculate the playback duration of the video.\n",
    "\n",
    "Examples\n",
    "\n",
    "playback_duration(\"00:30:00\", 2) ➞ \"00:15:00\"\n",
    "\n",
    "playback_duration(\"01:20:00\", 1.5) ➞ \"00:53:20\"\n",
    "\n",
    "playback_duration(\"51:20:09\", 0.5) ➞ \"102:40:18\"\n"
   ]
  },
  {
   "cell_type": "code",
   "execution_count": 18,
   "id": "f3f0e9f2",
   "metadata": {},
   "outputs": [],
   "source": [
    "import time \n",
    "lg.info(\"\\n\\n Question 1 \\n\")\n",
    "\n",
    "def playback_duration(times, speed):\n",
    "    lg.info(\"Time and speed is \")\n",
    "    \n",
    "    hr,mint,sec = times.split(':')\n",
    "    t = (int(hr) *3600 + int(mint) * 60 + int(sec))/speed\n",
    "    time_details = time.gmtime(t)\n",
    "    duration = time.strftime(\"%H:%M:%S\",time_details)\n",
    "    \n",
    "    lg.info(duration)\n",
    "    return duration"
   ]
  },
  {
   "cell_type": "code",
   "execution_count": 19,
   "id": "b54595c4",
   "metadata": {},
   "outputs": [
    {
     "data": {
      "text/plain": [
       "'00:53:20'"
      ]
     },
     "execution_count": 19,
     "metadata": {},
     "output_type": "execute_result"
    }
   ],
   "source": [
    "playback_duration(\"01:20:00\", 1.5) "
   ]
  },
  {
   "cell_type": "markdown",
   "id": "7612e288",
   "metadata": {},
   "source": [
    "#### 2. We needs your help to construct a building which will be a pile of n cubes. The cube at the bottom will have a volume of n^3, the cube above will have volume of (n-1)^3 and so on until the top which will have a volume of 1^3.\n",
    "\n",
    "Given the total volume m of the building, can you find the number of cubes n required for the building?\n",
    "\n",
    "In other words, you have to return an integer n such that:\n",
    "\n",
    "n^3 + (n-1)^3 + ... + 1^3 == m\n",
    "\n",
    "Return None if there is no such number.\n",
    "\n",
    "Examples\n",
    "\n",
    "pile_of_cubes(1071225) ➞ 45\n",
    "\n",
    "pile_of_cubes(4183059834009) ➞ 2022\n",
    "\n",
    "pile_of_cubes(16) ➞ None\n"
   ]
  },
  {
   "cell_type": "code",
   "execution_count": 3,
   "id": "2c9e4508",
   "metadata": {},
   "outputs": [],
   "source": [
    "lg.info(\"\\n\\n Question2 \\n\")\n",
    "\n",
    "def pile_of_cubes(m):\n",
    "    '''To find the number of cubes n required for the building'''\n",
    "    \n",
    "    lg.info(str(m))\n",
    "    try:\n",
    "        cube = m ** (1/3)\n",
    "        n = 0\n",
    "        for i in range(1,int(cube) + 1):\n",
    "            n += i ** 3\n",
    "            if n == m:\n",
    "                lg.info(str(i))\n",
    "                return i\n",
    "        \n",
    "        lg.info(\"None\")\n",
    "        return \"None\"\n",
    "    \n",
    "    except Exception as e:\n",
    "        lg.error(\"Error Occured : \" +str(e))\n",
    "        return e"
   ]
  },
  {
   "cell_type": "code",
   "execution_count": 4,
   "id": "e7c3c7a9",
   "metadata": {},
   "outputs": [
    {
     "data": {
      "text/plain": [
       "2022"
      ]
     },
     "execution_count": 4,
     "metadata": {},
     "output_type": "execute_result"
    }
   ],
   "source": [
    "pile_of_cubes(4183059834009) "
   ]
  },
  {
   "cell_type": "code",
   "execution_count": 5,
   "id": "23657835",
   "metadata": {},
   "outputs": [
    {
     "data": {
      "text/plain": [
       "45"
      ]
     },
     "execution_count": 5,
     "metadata": {},
     "output_type": "execute_result"
    }
   ],
   "source": [
    "pile_of_cubes(1071225)"
   ]
  },
  {
   "cell_type": "code",
   "execution_count": 6,
   "id": "f8ab260a",
   "metadata": {},
   "outputs": [
    {
     "data": {
      "text/plain": [
       "'None'"
      ]
     },
     "execution_count": 6,
     "metadata": {},
     "output_type": "execute_result"
    }
   ],
   "source": [
    "pile_of_cubes(16)"
   ]
  },
  {
   "cell_type": "markdown",
   "id": "c5bcae5b",
   "metadata": {},
   "source": [
    "#### 3. A fulcrum of a list is an integer such that all elements to the left of it and all elements to the right of it sum to the same value. Write a function that finds the fulcrum of a list.\n",
    "\n",
    "To illustrate:\n",
    "\n",
    "find_fulcrum([3, 1, 5, 2, 4, 6, -1]) ➞ 2\n",
    "\n",
    "// Since [3, 1, 5] and [4, 6, -1] both sum to 9\n",
    "\n",
    "Examples\n",
    "\n",
    "find_fulcrum([1, 2, 4, 9, 10, -10, -9, 3]) ➞ 4\n",
    "\n",
    "find_fulcrum([9, 1, 9]) ➞ 1\n",
    "\n",
    "find_fulcrum([7, -1, 0, -1, 1, 1, 2, 3]) ➞ 0\n",
    "\n",
    "find_fulcrum([8, 8, 8, 8]) ➞ -1\n"
   ]
  },
  {
   "cell_type": "code",
   "execution_count": 7,
   "id": "b5b47280",
   "metadata": {},
   "outputs": [],
   "source": [
    "lg.info(\"\\n\\n Question3 \\n\")\n",
    "def find_fulcrum(lst):\n",
    "    \n",
    "    lg.info(str(lst))\n",
    "    \n",
    "    try:\n",
    "        \n",
    "        for i in range(1,len(lst)):\n",
    "            \n",
    "            if sum(lst[:i]) == sum(lst[i+1:]):\n",
    "                lg.info(str(lst[i]))\n",
    "                return lst[i]\n",
    "        \n",
    "        lg.info('-1')\n",
    "        return -1\n",
    "    \n",
    "    except Exception as e:\n",
    "        lg.error(\"Error occured:\" +str(e))\n",
    "        return e"
   ]
  },
  {
   "cell_type": "code",
   "execution_count": 8,
   "id": "f5176e57",
   "metadata": {},
   "outputs": [
    {
     "data": {
      "text/plain": [
       "4"
      ]
     },
     "execution_count": 8,
     "metadata": {},
     "output_type": "execute_result"
    }
   ],
   "source": [
    "find_fulcrum([1, 2, 4, 9, 10, -10, -9, 3])"
   ]
  },
  {
   "cell_type": "code",
   "execution_count": 9,
   "id": "9381c738",
   "metadata": {},
   "outputs": [
    {
     "data": {
      "text/plain": [
       "-1"
      ]
     },
     "execution_count": 9,
     "metadata": {},
     "output_type": "execute_result"
    }
   ],
   "source": [
    "find_fulcrum([8, 8, 8, 8]) "
   ]
  },
  {
   "cell_type": "markdown",
   "id": "81bb13d7",
   "metadata": {},
   "source": [
    "#### 4. Given a list of integers representing the color of each sock, determine how many pairs of socks with matching colors there are. For example, there are 7 socks with colors [1, 2, 1, 2, 1, 3, 2]. There is one pair of color 1 and one of color 2. There are three odd socks left, one of each color. The number of pairs is 2.\n",
    "\n",
    "Create a function that returns an integer representing the number of matching pairs of socks that are available.\n",
    "\n",
    "Examples\n",
    "\n",
    "sock_merchant([10, 20, 20, 10, 10, 30, 50, 10, 20]) ➞ 3\n",
    "\n",
    "sock_merchant([50, 20, 30, 90, 30, 20, 50, 20, 90]) ➞ 4\n",
    "\n",
    "sock_merchant([]) ➞ 0\n",
    "\n"
   ]
  },
  {
   "cell_type": "code",
   "execution_count": 10,
   "id": "cf0d047b",
   "metadata": {},
   "outputs": [],
   "source": [
    "lg.info(\"\\n\\n Question 4 \\n\")\n",
    "\n",
    "def sock_merchant(lst):\n",
    "    '''To determine how many pairs of socks with matching colors there are'''\n",
    "    lg.info(str(lst))\n",
    "    \n",
    "    try:\n",
    "        set_lst = set(lst)\n",
    "        count = 0\n",
    "        for i in set_lst:\n",
    "            if lst.count(i) >= 2:\n",
    "                count += lst.count(i) // 2\n",
    "                \n",
    "        lg.info(str(count))\n",
    "        return count\n",
    "    \n",
    "    except Exception as e:\n",
    "        lg.error(\"Error Occred :\" +str(e))\n",
    "        return e"
   ]
  },
  {
   "cell_type": "code",
   "execution_count": 11,
   "id": "0fbdbee9",
   "metadata": {},
   "outputs": [
    {
     "data": {
      "text/plain": [
       "4"
      ]
     },
     "execution_count": 11,
     "metadata": {},
     "output_type": "execute_result"
    }
   ],
   "source": [
    "sock_merchant([50, 20, 30, 90, 30, 20, 50, 20, 90]) "
   ]
  },
  {
   "cell_type": "code",
   "execution_count": 12,
   "id": "acf603b2",
   "metadata": {},
   "outputs": [
    {
     "data": {
      "text/plain": [
       "0"
      ]
     },
     "execution_count": 12,
     "metadata": {},
     "output_type": "execute_result"
    }
   ],
   "source": [
    "sock_merchant([]) "
   ]
  },
  {
   "cell_type": "markdown",
   "id": "d81c4dcb",
   "metadata": {},
   "source": [
    "#### 5. Create a function that takes a string containing integers as well as other characters and return the sum of the negative integers only.\n",
    "\n",
    "Examples\n",
    "\n",
    "negative_sum(\"-12 13%14&-11\") ➞ -23\n",
    "\n",
    "#-12 + -11 = -23\n",
    "\n",
    "negative_sum(\"22 13%14&-11-22 13 12\") ➞ -33\n",
    "\n",
    "#-11 + -22 = -33"
   ]
  },
  {
   "cell_type": "code",
   "execution_count": 13,
   "id": "011ad157",
   "metadata": {},
   "outputs": [],
   "source": [
    "lg.info(\"\\n\\n Question 5 \\n\")\n",
    "\n",
    "def negative_sum(string):\n",
    "    lg.info(string)\n",
    "    try:\n",
    "        a = 0\n",
    "        for i in range(len(string)):\n",
    "            if string[i] == '-':\n",
    "                a -= int(string[i+1:i+3])\n",
    "        lg.info(str(a))\n",
    "        return a\n",
    "    except Exception as e:\n",
    "        lg.error(str(e))\n",
    "        return e"
   ]
  },
  {
   "cell_type": "code",
   "execution_count": 14,
   "id": "1a0aa5ec",
   "metadata": {},
   "outputs": [
    {
     "data": {
      "text/plain": [
       "-23"
      ]
     },
     "execution_count": 14,
     "metadata": {},
     "output_type": "execute_result"
    }
   ],
   "source": [
    "negative_sum(\"-12 13%14&-11\")"
   ]
  },
  {
   "cell_type": "code",
   "execution_count": 15,
   "id": "46c5297b",
   "metadata": {},
   "outputs": [
    {
     "data": {
      "text/plain": [
       "-33"
      ]
     },
     "execution_count": 15,
     "metadata": {},
     "output_type": "execute_result"
    }
   ],
   "source": [
    "negative_sum(\"22 13%14&-11-22 13 12\") "
   ]
  },
  {
   "cell_type": "code",
   "execution_count": 16,
   "id": "1ea5da56",
   "metadata": {},
   "outputs": [],
   "source": [
    "import re\n",
    "lg.info(\"\\n\\n Question 5 \\n\")\n",
    "\n",
    "def negative_sum(string):\n",
    "    lg.info(string)\n",
    "    try:\n",
    "        a = [int(i) for i in re.findall(r'-\\d+', string)]\n",
    "        lg.info(str(sum(a)))\n",
    "        return sum(a)\n",
    "    \n",
    "    except Exception as e:\n",
    "        lg.error(str(e))\n",
    "        return e\n",
    "    "
   ]
  },
  {
   "cell_type": "code",
   "execution_count": 17,
   "id": "ee070e32",
   "metadata": {},
   "outputs": [
    {
     "data": {
      "text/plain": [
       "-33"
      ]
     },
     "execution_count": 17,
     "metadata": {},
     "output_type": "execute_result"
    }
   ],
   "source": [
    "negative_sum(\"22 13%14&-11-22 13 12\") "
   ]
  },
  {
   "cell_type": "code",
   "execution_count": null,
   "id": "61cbf98a",
   "metadata": {},
   "outputs": [],
   "source": []
  }
 ],
 "metadata": {
  "kernelspec": {
   "display_name": "Python 3",
   "language": "python",
   "name": "python3"
  },
  "language_info": {
   "codemirror_mode": {
    "name": "ipython",
    "version": 3
   },
   "file_extension": ".py",
   "mimetype": "text/x-python",
   "name": "python",
   "nbconvert_exporter": "python",
   "pygments_lexer": "ipython3",
   "version": "3.8.8"
  }
 },
 "nbformat": 4,
 "nbformat_minor": 5
}
