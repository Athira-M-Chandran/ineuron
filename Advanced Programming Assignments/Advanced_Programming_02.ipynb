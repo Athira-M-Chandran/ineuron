{
 "cells": [
  {
   "cell_type": "code",
   "execution_count": 1,
   "id": "243360a7",
   "metadata": {},
   "outputs": [],
   "source": [
    "import os\n",
    "import logging as lg"
   ]
  },
  {
   "cell_type": "code",
   "execution_count": null,
   "id": "45d5fc61",
   "metadata": {},
   "outputs": [],
   "source": [
    "os.mkdir('logging')"
   ]
  },
  {
   "cell_type": "code",
   "execution_count": 2,
   "id": "7e3bd128",
   "metadata": {},
   "outputs": [],
   "source": [
    "lg.basicConfig(filename='logging\\\\assign_2.log' , level = lg.DEBUG , format = '%(asctime)s %(levelname)s %(message)s')"
   ]
  },
  {
   "attachments": {
    "pentagon.jpg": {
     "image/jpeg": "[encoded data removed]"
    }
   },
   "cell_type": "markdown",
   "id": "822a7ef7",
   "metadata": {},
   "source": [
    "#### 1. Write a function that takes a positive integer num and calculates how many dots exist in a pentagonal shape around the center dot on the Nth iteration.\n",
    "\n",
    "In the image below you can see the first iteration is only a single dot. On the second, there are 6 dots. On the third, there are 16 dots, and on the fourth there are 31 dots.\n",
    "\n",
    " \n",
    "![pentagon.jpg](attachment:pentagon.jpg)\n",
    "\n",
    "\n",
    "\n",
    "\n",
    "\n",
    "Return the number of dots that exist in the whole pentagon on the Nth iteration.\n",
    "\n",
    "Examples\n",
    "\n",
    "pentagonal(1) ➞ 1\n",
    "\n",
    "pentagonal(2) ➞ 6\n",
    "\n",
    "pentagonal(3) ➞ 16\n",
    "\n",
    "pentagonal(8) ➞ 141\n",
    "\n",
    "\n"
   ]
  },
  {
   "cell_type": "code",
   "execution_count": 3,
   "id": "8f9f923e",
   "metadata": {},
   "outputs": [],
   "source": [
    "lg.info(\"\\n\\n Question 1. \\n\")\n",
    "\n",
    "def pentagonal(num):\n",
    "    \n",
    "    lg.info(\"Input is : \" +str(num))\n",
    "    dots = 1\n",
    "    \n",
    "    try:\n",
    "        for i in range(1,num):\n",
    "            dots += (i * 5)\n",
    "        \n",
    "        lg.info(\"Number of dots : \" + str(dots))\n",
    "        return dots\n",
    "    \n",
    "    except Exception as e:\n",
    "        \n",
    "        lg.error(\"Error Occured : \" + str(e))\n",
    "        return (\"Error occured : \" , e)"
   ]
  },
  {
   "cell_type": "code",
   "execution_count": 4,
   "id": "7c7484ee",
   "metadata": {},
   "outputs": [
    {
     "data": {
      "text/plain": [
       "1"
      ]
     },
     "execution_count": 4,
     "metadata": {},
     "output_type": "execute_result"
    }
   ],
   "source": [
    "pentagonal(1)"
   ]
  },
  {
   "cell_type": "code",
   "execution_count": 5,
   "id": "197bd0c9",
   "metadata": {},
   "outputs": [
    {
     "data": {
      "text/plain": [
       "6"
      ]
     },
     "execution_count": 5,
     "metadata": {},
     "output_type": "execute_result"
    }
   ],
   "source": [
    "pentagonal(2)"
   ]
  },
  {
   "cell_type": "code",
   "execution_count": 6,
   "id": "3ec42038",
   "metadata": {},
   "outputs": [
    {
     "data": {
      "text/plain": [
       "16"
      ]
     },
     "execution_count": 6,
     "metadata": {},
     "output_type": "execute_result"
    }
   ],
   "source": [
    "pentagonal(3)"
   ]
  },
  {
   "cell_type": "code",
   "execution_count": 7,
   "id": "b3a0674b",
   "metadata": {},
   "outputs": [
    {
     "data": {
      "text/plain": [
       "141"
      ]
     },
     "execution_count": 7,
     "metadata": {},
     "output_type": "execute_result"
    }
   ],
   "source": [
    "pentagonal(8)"
   ]
  },
  {
   "cell_type": "markdown",
   "id": "ac047e7a",
   "metadata": {},
   "source": [
    "#### 2.  Make a function that encrypts a given input with these steps:\n",
    "\n",
    "Input: \"apple\"\n",
    "\n",
    "Step 1: Reverse the input: \"elppa\"\n",
    "\n",
    "Step 2: Replace all vowels using the following chart:\n",
    "\n",
    "a => 0\n",
    "e => 1\n",
    "i => 2\n",
    "o => 2\n",
    "u => 3\n",
    "\n",
    "#\"1lpp0\"\n",
    "\n",
    "Step 3: Add \"aca\" to the end of the word: \"1lpp0aca\"\n",
    "\n",
    "Output: \"1lpp0aca\"\n",
    "\n",
    "Examples\n",
    "\n",
    "encrypt(\"banana\") ➞ \"0n0n0baca\"\n",
    "\n",
    "encrypt(\"karaca\") ➞ \"0c0r0kaca\"\n",
    "\n",
    "encrypt(\"burak\") ➞ \"k0r3baca\"\n",
    "\n",
    "encrypt(\"alpaca\") ➞ \"0c0pl0aca\"\n",
    "\n"
   ]
  },
  {
   "cell_type": "code",
   "execution_count": 13,
   "id": "955fb0f7",
   "metadata": {},
   "outputs": [],
   "source": [
    "lg.info(\"\\n\\n Question 2. \\n\")\n",
    "\n",
    "def encrypt(string):\n",
    "    \n",
    "    lg.info(\"Input string : \" + str(string))\n",
    "    encrypted = ''\n",
    "    code = {'a' : 0 , 'e' : 1 , 'i' : 2 , 'o' : 2 , 'u' : 3} \n",
    "    \n",
    "    try:\n",
    "        rev = string[::-1]\n",
    "        lg.info(\"Reverse the input: \" + rev )\n",
    "        \n",
    "        for i in rev.lower():\n",
    "            if i in code:\n",
    "                encrypted += str(code[i])\n",
    "            else:\n",
    "                encrypted += i\n",
    "        \n",
    "        lg.info(\"Encrypted code : \" + str(encrypted + 'aca'))\n",
    "        return (\"Encrypted code : \" +  encrypted + 'aca')\n",
    "        \n",
    "    except Exception as e:\n",
    "        lg.error(\"Error occured : \" + e)\n",
    "        return (\"Error occured : \" ,e)\n",
    "        "
   ]
  },
  {
   "cell_type": "code",
   "execution_count": 14,
   "id": "ceef1b77",
   "metadata": {},
   "outputs": [
    {
     "data": {
      "text/plain": [
       "'Encrypted code : 1lpp0aca'"
      ]
     },
     "execution_count": 14,
     "metadata": {},
     "output_type": "execute_result"
    }
   ],
   "source": [
    "encrypt('apple')"
   ]
  },
  {
   "cell_type": "code",
   "execution_count": 15,
   "id": "9b376dd7",
   "metadata": {},
   "outputs": [
    {
     "data": {
      "text/plain": [
       "'Encrypted code : 0n0n0baca'"
      ]
     },
     "execution_count": 15,
     "metadata": {},
     "output_type": "execute_result"
    }
   ],
   "source": [
    "encrypt(\"banana\")"
   ]
  },
  {
   "cell_type": "code",
   "execution_count": 16,
   "id": "aefc0035",
   "metadata": {},
   "outputs": [
    {
     "data": {
      "text/plain": [
       "'Encrypted code : 0c0pl0aca'"
      ]
     },
     "execution_count": 16,
     "metadata": {},
     "output_type": "execute_result"
    }
   ],
   "source": [
    "encrypt(\"alpaca\")"
   ]
  },
  {
   "cell_type": "markdown",
   "id": "7269c1d3",
   "metadata": {},
   "source": [
    "#### 3. Given the month and year as numbers, return whether that month contains a Friday 13th.(i.e You can check Python's datetime module)\n",
    "\n",
    "Examples\n",
    "\n",
    "has_friday_13(3, 2020) ➞ True\n",
    "\n",
    "has_friday_13(10, 2017) ➞ True\n",
    "\n",
    "has_friday_13(1, 1985) ➞ False\n"
   ]
  },
  {
   "cell_type": "code",
   "execution_count": 17,
   "id": "240dff6f",
   "metadata": {},
   "outputs": [],
   "source": [
    "import datetime\n",
    "lg.info(\"\\n\\n Question 3\\n\")\n",
    "\n",
    "def has_friday_13(month, year):\n",
    "    \n",
    "    lg.info(\"month / year : \" + str(month) + \" / \" + str(year))\n",
    "    \n",
    "    try:\n",
    "        x = datetime.datetime(year, month, 13)\n",
    "\n",
    "        if x.strftime(\"%A\") == 'Friday':\n",
    "            lg.info(\"True\")\n",
    "            return True\n",
    "        \n",
    "        else:\n",
    "            lg.info(\"False\")\n",
    "            return False\n",
    "    \n",
    "    except Exception as e:\n",
    "        \n",
    "        lg.error(\"Error Occured: \" + str(e))\n",
    "        return (\"Error Occured : \", e)"
   ]
  },
  {
   "cell_type": "code",
   "execution_count": 18,
   "id": "d5ed5473",
   "metadata": {},
   "outputs": [
    {
     "data": {
      "text/plain": [
       "True"
      ]
     },
     "execution_count": 18,
     "metadata": {},
     "output_type": "execute_result"
    }
   ],
   "source": [
    "has_friday_13(3, 2020) "
   ]
  },
  {
   "cell_type": "code",
   "execution_count": 19,
   "id": "af80c99c",
   "metadata": {},
   "outputs": [
    {
     "data": {
      "text/plain": [
       "True"
      ]
     },
     "execution_count": 19,
     "metadata": {},
     "output_type": "execute_result"
    }
   ],
   "source": [
    "has_friday_13(10, 2017)"
   ]
  },
  {
   "cell_type": "code",
   "execution_count": 20,
   "id": "8a589391",
   "metadata": {},
   "outputs": [
    {
     "data": {
      "text/plain": [
       "False"
      ]
     },
     "execution_count": 20,
     "metadata": {},
     "output_type": "execute_result"
    }
   ],
   "source": [
    "has_friday_13(1, 1985) "
   ]
  },
  {
   "cell_type": "markdown",
   "id": "dae2cf6c",
   "metadata": {},
   "source": [
    "#### 4. Write a regular expression that will help us count how many bad cookies are produced every day. You must use RegEx negative lookbehind.\n",
    "\n",
    "Example\n",
    "\n",
    "lst = [\"bad cookie\", \"good cookie\", \"bad cookie\", \"good cookie\", \"good cookie\"]\n",
    "\n",
    "pattern = \"yourregularexpressionhere\"\n",
    "\n",
    "len(re.findall(pattern, \", \".join(lst))) ➞ 2\n"
   ]
  },
  {
   "cell_type": "code",
   "execution_count": 21,
   "id": "46da6f74",
   "metadata": {},
   "outputs": [
    {
     "name": "stdout",
     "output_type": "stream",
     "text": [
      "2\n"
     ]
    }
   ],
   "source": [
    "import re\n",
    "lst = [\"bad cookie\", \"good cookie\", \"bad cookie\", \"good cookie\", \"good cookie\"]\n",
    "# RegEx negative lookbehind.\n",
    "pattern = '(?<!(good ))cookie'\n",
    "print(len(re.findall(pattern, \", \".join(lst))))"
   ]
  },
  {
   "cell_type": "markdown",
   "id": "144eb2f7",
   "metadata": {},
   "source": [
    "#### 5. Given a list of words in the singular form, return a set of those words in the plural form if they appear more than once in the list.\n",
    "\n",
    "Examples\n",
    "\n",
    "pluralize([\"cow\", \"pig\", \"cow\", \"cow\"]) ➞ { \"cows\", \"pig\" }\n",
    "\n",
    "pluralize([\"table\", \"table\", \"table\"]) ➞ { \"tables\" }\n",
    "\n",
    "pluralize([\"chair\", \"pencil\", \"arm\"]) ➞ { \"chair\", \"pencil\", \"arm\" }\n"
   ]
  },
  {
   "cell_type": "code",
   "execution_count": 22,
   "id": "a3a54a4d",
   "metadata": {},
   "outputs": [],
   "source": [
    "def pluralize(lst):\n",
    "    sets =[]\n",
    "    for i in lst:\n",
    "        if lst.count(i)>1:\n",
    "            sets.append(i+\"s\")\n",
    "        else:\n",
    "            sets.append(i)\n",
    "    return set(sets)"
   ]
  },
  {
   "cell_type": "code",
   "execution_count": 23,
   "id": "5036f430",
   "metadata": {},
   "outputs": [
    {
     "data": {
      "text/plain": [
       "{'cows', 'pig'}"
      ]
     },
     "execution_count": 23,
     "metadata": {},
     "output_type": "execute_result"
    }
   ],
   "source": [
    "pluralize([\"cow\", \"pig\", \"cow\", \"cow\"])"
   ]
  },
  {
   "cell_type": "code",
   "execution_count": 25,
   "id": "266a4582",
   "metadata": {},
   "outputs": [
    {
     "data": {
      "text/plain": [
       "{'tables'}"
      ]
     },
     "execution_count": 25,
     "metadata": {},
     "output_type": "execute_result"
    }
   ],
   "source": [
    "pluralize([\"table\", \"table\", \"table\"])"
   ]
  },
  {
   "cell_type": "code",
   "execution_count": 26,
   "id": "4e551038",
   "metadata": {},
   "outputs": [
    {
     "data": {
      "text/plain": [
       "{'arm', 'chair', 'pencil'}"
      ]
     },
     "execution_count": 26,
     "metadata": {},
     "output_type": "execute_result"
    }
   ],
   "source": [
    "pluralize([\"chair\", \"pencil\", \"arm\"]) "
   ]
  }
 ],
 "metadata": {
  "kernelspec": {
   "display_name": "Python 3",
   "language": "python",
   "name": "python3"
  },
  "language_info": {
   "codemirror_mode": {
    "name": "ipython",
    "version": 3
   },
   "file_extension": ".py",
   "mimetype": "text/x-python",
   "name": "python",
   "nbconvert_exporter": "python",
   "pygments_lexer": "ipython3",
   "version": "3.8.8"
  }
 },
 "nbformat": 4,
 "nbformat_minor": 5
}
