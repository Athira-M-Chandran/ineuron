{
 "cells": [
  {
   "cell_type": "code",
   "execution_count": 1,
   "id": "e3a20fe1",
   "metadata": {},
   "outputs": [],
   "source": [
    "import logging as lg"
   ]
  },
  {
   "cell_type": "code",
   "execution_count": 2,
   "id": "7555c087",
   "metadata": {},
   "outputs": [],
   "source": [
    "lg.basicConfig(filename = \"logging/assign_15.log\" , level = lg.DEBUG , format = '%(asctime)s %(levelname)s %(message)s')"
   ]
  },
  {
   "cell_type": "markdown",
   "id": "001f61bd",
   "metadata": {},
   "source": [
    "#### 1. Write a function that returns True if a given name can generate an array of words.\n",
    "\n",
    "Examples\n",
    "\n",
    "anagram(\"Justin Bieber\", [\"injures\", \"ebb\", \"it\"]) ➞ True\n",
    "\n",
    "anagram(\"Natalie Portman\", [\"ornamental\", \"pita\"]) ➞ True\n",
    "\n",
    "anagram(\"Chris Pratt\", [\"chirps\", \"rat\"]) ➞ False\n",
    "\n",
    "\"#\" Not all letters are used\n",
    "\n",
    "anagram(\"Jeff Goldblum\", [\"jog\", \"meld\", \"bluffs\"]) ➞ False\n",
    "\n",
    "\"#\"\"s\" does not exist in the original name\n"
   ]
  },
  {
   "cell_type": "code",
   "execution_count": 3,
   "id": "fc21f7e6",
   "metadata": {},
   "outputs": [],
   "source": [
    "lg.info(\"\\n\\n Question1 \\n\")\n",
    "def anagram(string, lst):\n",
    "    lg.info(\"Input string and list are : \" +str(string)+',' +str(lst))\n",
    "    \n",
    "    string = string.lower()\n",
    "    try:\n",
    "        for i in lst:\n",
    "            for j in i:\n",
    "                if j in string:\n",
    "                    string = string.replace(j,'',1)\n",
    "                else:\n",
    "                    lg.info(\"Output : False\")\n",
    "                    return False\n",
    "    \n",
    "        if string == ' ':\n",
    "            lg.info(\"Output : True\")\n",
    "            return True\n",
    "        else:\n",
    "            lg.info(\"Output : False\")\n",
    "            return False\n",
    "    except Exception as e:\n",
    "        lg.error(\"Error Occurred: \" +str(e))\n",
    "        return e"
   ]
  },
  {
   "cell_type": "code",
   "execution_count": 4,
   "id": "5a1cbd03",
   "metadata": {},
   "outputs": [
    {
     "data": {
      "text/plain": [
       "False"
      ]
     },
     "execution_count": 4,
     "metadata": {},
     "output_type": "execute_result"
    }
   ],
   "source": [
    "anagram(\"Jeff Goldblum\", [\"jog\", \"meld\", \"bluffs\"]) "
   ]
  },
  {
   "cell_type": "code",
   "execution_count": 5,
   "id": "80548d7c",
   "metadata": {},
   "outputs": [
    {
     "data": {
      "text/plain": [
       "False"
      ]
     },
     "execution_count": 5,
     "metadata": {},
     "output_type": "execute_result"
    }
   ],
   "source": [
    "anagram(\"Chris Pratt\", [\"chirps\", \"rat\"])"
   ]
  },
  {
   "cell_type": "code",
   "execution_count": 6,
   "id": "9b20fa80",
   "metadata": {},
   "outputs": [
    {
     "data": {
      "text/plain": [
       "True"
      ]
     },
     "execution_count": 6,
     "metadata": {},
     "output_type": "execute_result"
    }
   ],
   "source": [
    "anagram(\"Natalie Portman\", [\"ornamental\", \"pita\"])"
   ]
  },
  {
   "cell_type": "markdown",
   "id": "0af26284",
   "metadata": {},
   "source": [
    "#### 2. Given an array of users, each defined by an object with the following properties: name, score, reputation create a function that sorts the array to form the correct leaderboard.\n",
    "\n",
    "The leaderboard takes into consideration the score of each user of course, but an emphasis is put on their reputation in the community, so to get the trueScore, you should add the reputation multiplied by 2 to the score.\n",
    "\n",
    "Once you know the trueScore of each user, sort the array according to it in descending order.\n",
    "\n",
    "Examples\n",
    "\n",
    "leaderboards([\n",
    "  \n",
    "    { \"name\": \"a\", \"score\": 100, \"reputation\": 20 },\n",
    "  \n",
    "    { \"name\": \"b\", \"score\": 90, \"reputation\": 40 },\n",
    "  \n",
    "    { \"name\": \"c\", \"score\": 115, \"reputation\": 30 },\n",
    "\n",
    "]) ➞ [\n",
    "\n",
    "    { \"name\": \"c\", \"score\": 115, \"reputation\": 30 },  #trueScore = 175\n",
    "  \n",
    "    { \"name\": \"b\", \"score\": 90, \"reputation\": 40 },   #trueScore = 170\n",
    "  \n",
    "    { \"name\": \"a\", \"score\": 100, \"reputation\": 20 }   #trueScore = 140\n",
    "\n",
    "]\n"
   ]
  },
  {
   "cell_type": "code",
   "execution_count": 3,
   "id": "2ac99d8a",
   "metadata": {},
   "outputs": [],
   "source": [
    "lg.info(\"\\n\\n Question 2 \\n\")\n",
    "def leaderboards(lst):\n",
    "    \n",
    "    lg.info(\"Input is : \" +str(lst))\n",
    "    n =[]\n",
    "    \n",
    "    try:\n",
    "        for d in lst:\n",
    "            d.update({'total':d['score'] + 2 * d['reputation']})\n",
    "        \n",
    "        s = sorted(lst, key=lambda x: x['total'], reverse= True)\n",
    "        \n",
    "        for i in s:\n",
    "            if 'total' in i:\n",
    "                del i['total']\n",
    "        \n",
    "        lg.info(\"Output is :\" +str(s))\n",
    "        \n",
    "        return s\n",
    "    \n",
    "    except Exception as e:\n",
    "        lg.error(\"Error Occurred : \" +str(e))\n",
    "        return e"
   ]
  },
  {
   "cell_type": "code",
   "execution_count": 4,
   "id": "d905e99d",
   "metadata": {},
   "outputs": [
    {
     "data": {
      "text/plain": [
       "[{'name': 'c', 'score': 115, 'reputation': 30},\n",
       " {'name': 'b', 'score': 90, 'reputation': 40},\n",
       " {'name': 'a', 'score': 100, 'reputation': 20}]"
      ]
     },
     "execution_count": 4,
     "metadata": {},
     "output_type": "execute_result"
    }
   ],
   "source": [
    "leaderboards([\n",
    "\n",
    "{ \"name\": \"a\", \"score\": 100, \"reputation\": 20 },\n",
    "\n",
    "{ \"name\": \"b\", \"score\": 90, \"reputation\": 40 },\n",
    "\n",
    "{ \"name\": \"c\", \"score\": 115, \"reputation\": 30 },\n",
    "]) "
   ]
  },
  {
   "cell_type": "markdown",
   "id": "0ef97e4b",
   "metadata": {},
   "source": [
    "#### 3. Create a function that, given a phrase and a number of letters guessed, returns a string with hyphens - for every letter of the phrase not guessed, and each letter guessed in place.\n",
    "\n",
    "Examples\n",
    "\n",
    "hangman(\"helicopter\", [\"o\", \"e\", \"s\"]) ➞ \"-e---o--e-\"\n",
    "\n",
    "hangman(\"tree\", [\"r\", \"t\", \"e\"]) ➞ \"tree\"\n",
    "\n",
    "hangman(\"Python rules\", [\"a\", \"n\", \"p\", \"r\", \"z\"]) ➞ \"P----n r----\"\n",
    "\n",
    "hangman(\"He\"s a very naughty boy!\", [\"e\", \"a\", \"y\"]) ➞ \"-e\"- a -e-y -a----y –y!\"\n",
    "\n"
   ]
  },
  {
   "cell_type": "code",
   "execution_count": 5,
   "id": "fb2cebd1",
   "metadata": {},
   "outputs": [],
   "source": [
    "lg.info(\"\\n\\n Question 3\\n\")\n",
    "def hangman(secret_word, letters_guessed):\n",
    "    lg.info(\"Secret word : \" +secret_word + \"letters guessed : \" +str(letters_guessed))\n",
    "    \n",
    "    try:\n",
    "        guessed_word =''\n",
    "    \n",
    "        for i in secret_word:\n",
    "            if i.casefold() in letters_guessed:\n",
    "                guessed_word = guessed_word + i\n",
    "            else:\n",
    "                guessed_word = guessed_word + \"-\"\n",
    "                \n",
    "        lg.info(\"Guessed_word : \" +str(letters_guessed))\n",
    "        return guessed_word\n",
    "    \n",
    "    except Exception as e:\n",
    "        lg.error(\"Error Occurred :\" +str(e))\n",
    "        return e"
   ]
  },
  {
   "cell_type": "code",
   "execution_count": 7,
   "id": "4f4c2812",
   "metadata": {},
   "outputs": [
    {
     "name": "stdout",
     "output_type": "stream",
     "text": [
      "-e---o--e-\n",
      "tree\n",
      "P----n-r----\n",
      "-e---a--e-y--a----y---y-\n"
     ]
    }
   ],
   "source": [
    "print(hangman(\"helicopter\", [\"o\", \"e\", \"s\"]))\n",
    "print(hangman(\"tree\", [\"r\", \"t\", \"e\"]))\n",
    "print(hangman(\"Python rules\", [\"a\", \"n\", \"p\", \"r\", \"z\"]))\n",
    "print(hangman(\"He's a very naughty boy!\", [\"e\", \"a\", \"y\"]))"
   ]
  },
  {
   "cell_type": "markdown",
   "id": "7ac8daf0",
   "metadata": {},
   "source": [
    "#### 4. The Collatz sequence is as follows:\n",
    "\n",
    "  \n",
    "    - Start with some given integer n.\n",
    "  \n",
    "    - If it is even, the next number will be n divided by 2.\n",
    "  \n",
    "    - If it is odd, multiply it by 3 and add 1 to make the next number.\n",
    "    \n",
    "    - The sequence stops when it reaches 1.\n",
    "\n",
    "According to the Collatz conjecture, it will always reach 1. If that's true, you can construct a finite sequence following the aforementioned method for any given integer.\n",
    "\n",
    "Write a function that takes in an integer n and returns the highest integer in the corresponding Collatz sequence.\n",
    "\n",
    "Examples\n",
    "\n",
    "max_collatz(10) ➞ 16\n",
    "\n",
    "\"#\" Collatz sequence: 10, 5, 16, 8, 4, 2, 1\n",
    "\n",
    "max_collatz(32) ➞ 32\n",
    "\n",
    "\"#\" Collatz sequence: 32, 16, 8, 4, 2, 1\n",
    "\n",
    "max_collatz(85) ➞ 256\n",
    "\n",
    "\"#\" Collatz sequence: 85, 256, 128, 64, 32, 16, 8, 4, 2, 1\n"
   ]
  },
  {
   "cell_type": "code",
   "execution_count": 8,
   "id": "f475628e",
   "metadata": {},
   "outputs": [],
   "source": [
    "lg.info(\"\\n\\n Question 4\\n\")\n",
    "def max_collatz(n,l):\n",
    "    lg.info(\"number is : \" +str(n))\n",
    "    try:\n",
    "        if n % 2==0:\n",
    "            n = int(n /2)\n",
    "            l.append(n)\n",
    "        else:\n",
    "            n = (n*3)+1\n",
    "            l.append(n)\n",
    "        if n == 1:\n",
    "            lg.info(\"Collatz sequence is \" +str(l) +\" and highest integer is\"+ str(max(l)))\n",
    "            return f'Collatz sequence is {l} and highest integer is {max(l)}'\n",
    "        else:\n",
    "            return max_collatz(n,l)\n",
    "    \n",
    "    except Exception as e:\n",
    "        lg.error(str(e))\n",
    "        return e"
   ]
  },
  {
   "cell_type": "code",
   "execution_count": 9,
   "id": "008e5dfe",
   "metadata": {},
   "outputs": [
    {
     "name": "stdout",
     "output_type": "stream",
     "text": [
      "Collatz sequence is [10, 5, 16, 8, 4, 2, 1] and highest integer is 16\n",
      "Collatz sequence is [32, 16, 8, 4, 2, 1] and highest integer is 32\n",
      "Collatz sequence is [85, 256, 128, 64, 32, 16, 8, 4, 2, 1] and highest integer is 256\n"
     ]
    }
   ],
   "source": [
    "print(max_collatz(10,[10]))\n",
    "print(max_collatz(32,[32]))\n",
    "print(max_collatz(85,[85]))"
   ]
  },
  {
   "cell_type": "markdown",
   "id": "445a99e5",
   "metadata": {},
   "source": [
    "#### 5. Write a function that sorts a list of integers by their digit length in descending order, then settles ties by sorting numbers with the same digit length in ascending order.\n",
    "\n",
    "Examples\n",
    "\n",
    "digit_sort([77, 23, 5, 7, 101])\n",
    "\n",
    "➞ [101, 23, 77, 5, 7]\n",
    "\n",
    "digit_sort([1, 5, 9, 2, 789, 563, 444])\n",
    "\n",
    "➞ [444, 563, 789, 1, 2, 5, 9]\n",
    "\n",
    "digit_sort([53219, 3772, 564, 32, 1])\n",
    "\n",
    "➞ [53219, 3772, 564, 32, 1]"
   ]
  },
  {
   "cell_type": "code",
   "execution_count": null,
   "id": "146b52e2",
   "metadata": {},
   "outputs": [],
   "source": []
  }
 ],
 "metadata": {
  "kernelspec": {
   "display_name": "Python 3",
   "language": "python",
   "name": "python3"
  },
  "language_info": {
   "codemirror_mode": {
    "name": "ipython",
    "version": 3
   },
   "file_extension": ".py",
   "mimetype": "text/x-python",
   "name": "python",
   "nbconvert_exporter": "python",
   "pygments_lexer": "ipython3",
   "version": "3.8.8"
  }
 },
 "nbformat": 4,
 "nbformat_minor": 5
}
