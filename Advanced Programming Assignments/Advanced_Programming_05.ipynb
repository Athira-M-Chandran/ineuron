{
 "cells": [
  {
   "cell_type": "code",
   "execution_count": 2,
   "id": "13e88299",
   "metadata": {},
   "outputs": [],
   "source": [
    "import logging as lg"
   ]
  },
  {
   "cell_type": "code",
   "execution_count": 3,
   "id": "db6a5069",
   "metadata": {},
   "outputs": [],
   "source": [
    "lg.basicConfig(filename = 'logging/assign_5.log', level = lg.DEBUG , format = '%(asctime)s %(levelname)s %(message)s' )"
   ]
  },
  {
   "cell_type": "markdown",
   "id": "c1aee34f",
   "metadata": {},
   "source": [
    "#### 1. Create a function that takes a number n (integer greater than zero) as an argument, and returns 2 if n is odd and 8 if n is even.\n",
    "\n",
    "You can only use the following arithmetic operators: addition of numbers +, subtraction of numbers -, multiplication of number * , division of number /, and exponentiation **.\n",
    "\n",
    "You are not allowed to use any other methods in this challenge (i.e. no if statements, comparison operators, etc).\n",
    "\n",
    "Examples\n",
    "\n",
    "f(1) ➞ 2\n",
    "\n",
    "f(2) ➞ 8\n",
    "\n",
    "f(3) ➞ 2\n"
   ]
  },
  {
   "cell_type": "code",
   "execution_count": 6,
   "id": "81a72725",
   "metadata": {},
   "outputs": [],
   "source": [
    "lg.info(\"\\n\\n Question 1 \\n\")\n",
    "\n",
    "def f(n):\n",
    "    lg.info(\"Input number :\" + str(n))\n",
    "    \n",
    "    val = [8,2]\n",
    "    \n",
    "    try:\n",
    "        a = n % 2\n",
    "        lg.info(\"Output is : \" + str(val[a]))\n",
    "        return val[a]\n",
    "    \n",
    "    except Exception as e:\n",
    "        lg.error(\"Error Occured : \" + str(e))\n",
    "        return \"Error Occured :\" , e"
   ]
  },
  {
   "cell_type": "code",
   "execution_count": 7,
   "id": "85579fb7",
   "metadata": {},
   "outputs": [
    {
     "data": {
      "text/plain": [
       "2"
      ]
     },
     "execution_count": 7,
     "metadata": {},
     "output_type": "execute_result"
    }
   ],
   "source": [
    "f(3)"
   ]
  },
  {
   "cell_type": "code",
   "execution_count": 8,
   "id": "7d446822",
   "metadata": {},
   "outputs": [
    {
     "data": {
      "text/plain": [
       "8"
      ]
     },
     "execution_count": 8,
     "metadata": {},
     "output_type": "execute_result"
    }
   ],
   "source": [
    "f(2)"
   ]
  },
  {
   "cell_type": "code",
   "execution_count": 9,
   "id": "f5043eac",
   "metadata": {},
   "outputs": [
    {
     "data": {
      "text/plain": [
       "2"
      ]
     },
     "execution_count": 9,
     "metadata": {},
     "output_type": "execute_result"
    }
   ],
   "source": [
    "f(1)"
   ]
  },
  {
   "cell_type": "markdown",
   "id": "8fd3957c",
   "metadata": {},
   "source": [
    "#### 2. Create a function that returns the majority vote in a list. A majority vote is an element that occurs > N/2 times in a list (where N is the length of the list).\n",
    "\n",
    "Examples\n",
    "\n",
    "majority_vote([\"A\", \"A\", \"B\"]) ➞ \"A\"\n",
    "\n",
    "majority_vote([\"A\", \"A\", \"A\", \"B\", \"C\", \"A\"]) ➞ \"A\"\n",
    "\n",
    "majority_vote([\"A\", \"B\", \"B\", \"A\", \"C\", \"C\"]) ➞ None\n"
   ]
  },
  {
   "cell_type": "code",
   "execution_count": 10,
   "id": "ff7e4a47",
   "metadata": {},
   "outputs": [],
   "source": [
    "lg.info(\"\\n\\n Question 2 \\n\")\n",
    "\n",
    "def majority_vote(lst):\n",
    "    lg.info(\"The vote list is \" +str(lst))\n",
    "    \n",
    "    try:\n",
    "        \n",
    "        c = 0\n",
    "        major = ''\n",
    "        \n",
    "        for i in lst:\n",
    "            if c < lst.count(i):\n",
    "                c = lst.count(i)\n",
    "                major = i\n",
    "            \n",
    "        \n",
    "        if c > (len(lst)/2):\n",
    "            \n",
    "            lg.info(\"Major votes for : \" +major)\n",
    "            return major\n",
    "        \n",
    "        else:\n",
    "            lg.info(\"None of them got major votes\" )\n",
    "            return 'None'\n",
    "        \n",
    "    except Exception as e:\n",
    "        \n",
    "        lg.error(\"Error Occured : \" +str(e))\n",
    "        return \"Error Occured : \", e"
   ]
  },
  {
   "cell_type": "code",
   "execution_count": 11,
   "id": "3a247e0a",
   "metadata": {},
   "outputs": [
    {
     "data": {
      "text/plain": [
       "'None'"
      ]
     },
     "execution_count": 11,
     "metadata": {},
     "output_type": "execute_result"
    }
   ],
   "source": [
    "majority_vote([\"A\", \"B\", \"B\", \"A\", \"C\", \"C\"]) "
   ]
  },
  {
   "cell_type": "code",
   "execution_count": 12,
   "id": "59b21d86",
   "metadata": {},
   "outputs": [
    {
     "data": {
      "text/plain": [
       "'A'"
      ]
     },
     "execution_count": 12,
     "metadata": {},
     "output_type": "execute_result"
    }
   ],
   "source": [
    "majority_vote([\"A\", \"A\", \"A\", \"B\", \"C\", \"A\"])"
   ]
  },
  {
   "cell_type": "markdown",
   "id": "f6d3ace7",
   "metadata": {},
   "source": [
    "#### 3. Create a function that takes a string txt and censors any word from a given list lst. The text removed must be replaced by the given character char.\n",
    "\n",
    "Examples\n",
    "\n",
    "censor_string(\"Today is a Wednesday!\", [\"Today\", \"a\"], \"-\") ➞ \"----- is - Wednesday!\"\n",
    "\n",
    "censor_string(\"The cow jumped over the moon.\", [\"cow\", \"over\"], \"*\"), \"The *** jumped **** the moon.\")\n",
    "\n",
    "censor_string(\"Why did the chicken cross the road?\", [\"Did\", \"chicken\", \"road\"], \"*\") ➞ \"Why *** the ******* cross the ****?\"\n",
    "\n"
   ]
  },
  {
   "cell_type": "code",
   "execution_count": 15,
   "id": "5d902b51",
   "metadata": {},
   "outputs": [],
   "source": [
    "import re\n",
    "lg.info(\"\\n\\n Question 3. \\n\")\n",
    "\n",
    "def censor_string(string, lst,replace):\n",
    "    lg.info(\"Info \" + string + str(lst )+ replace)\n",
    "    \n",
    "    try:\n",
    "        symbol = re.sub(r'[\\w]', ' ', string)\n",
    "        pos_sym = string.find(symbol.strip())\n",
    "        \n",
    "        string = re.sub(r'[^\\w]', ' ', string)\n",
    "        new = string.split()\n",
    "        \n",
    "        for j in range(len(lst)):\n",
    "            for i in new:\n",
    "                if lst[j].lower() in i.lower():\n",
    "                    if lst[j].lower() == i.lower():\n",
    "                        string = string.replace(i,len(i) * replace,1)\n",
    "                        \n",
    "                    elif lst[j].lower() == i.lower()[-1]:\n",
    "                        string = string.replace(i[:-1],len(i) * replace,1)\n",
    "                        \n",
    "        lg.info(\"Output is : \" + string[:pos_sym].strip()+symbol.strip()+string[pos_sym:].strip())    \n",
    "        return string[:pos_sym].strip()+symbol.strip()+string[pos_sym:].strip()\n",
    "    \n",
    "    except Exception as e:\n",
    "        lg.error(\"Error occured : \" +str(e))\n",
    "        return \"Error Occured : \" ,e"
   ]
  },
  {
   "cell_type": "code",
   "execution_count": 16,
   "id": "1b3c7d0b",
   "metadata": {},
   "outputs": [
    {
     "data": {
      "text/plain": [
       "'----- is - Wednesday!'"
      ]
     },
     "execution_count": 16,
     "metadata": {},
     "output_type": "execute_result"
    }
   ],
   "source": [
    "censor_string(\"Today is a Wednesday!\", [\"Today\", \"a\"], \"-\")"
   ]
  },
  {
   "cell_type": "code",
   "execution_count": 17,
   "id": "8dfe5e9f",
   "metadata": {},
   "outputs": [
    {
     "data": {
      "text/plain": [
       "'The *** jumped **** the moon.'"
      ]
     },
     "execution_count": 17,
     "metadata": {},
     "output_type": "execute_result"
    }
   ],
   "source": [
    "censor_string(\"The cow jumped over the moon.\", [\"cow\", \"over\"], \"*\")"
   ]
  },
  {
   "cell_type": "code",
   "execution_count": 18,
   "id": "aa97d2d5",
   "metadata": {},
   "outputs": [
    {
     "data": {
      "text/plain": [
       "'Why *** the ******* cross the ****?'"
      ]
     },
     "execution_count": 18,
     "metadata": {},
     "output_type": "execute_result"
    }
   ],
   "source": [
    "censor_string(\"Why did the chicken cross the road?\", [\"Did\", \"chicken\", \"road\"], \"*\") "
   ]
  },
  {
   "cell_type": "markdown",
   "id": "fc283052",
   "metadata": {},
   "source": [
    "#### 4. In mathematics a Polydivisible Number (or magic number) is a number in a given number base with digits abcde... that has the following properties:\n",
    "\n",
    "-  Its first digit a is not 0.\n",
    "\n",
    "- The number formed by its first two digits ab is a multiple of 2.\n",
    "\n",
    "- The number formed by its first three digits abc is a multiple of 3.\n",
    "\n",
    "- The number formed by its first four digits abcd is a multiple of 4.\n",
    "\n",
    "Create a function which takes an integer n and returns True if the given number is a Polydivisible Number and False otherwise.\n",
    "\n",
    "Examples\n",
    "\n",
    "is_polydivisible(1232) ➞ True\n",
    "\n",
    "'#'1  / 1 = 1\n",
    "\n",
    "'#'12 / 2 = 6\n",
    "\n",
    "'#'123 / 3 = 41\n",
    "\n",
    "'#'1232 / 4 = 308\n",
    "\n",
    "is_polydivisible(123220 ) ➞ False\n",
    "\n",
    "'#'1 / 1 = 1\n",
    "\n",
    "'#'12 / 2 = 6\n",
    "\n",
    "'#'123 / 3 = 41\n",
    "\n",
    "'#'1232 / 4 = 308\n",
    "\n",
    "'#'12322 / 5 = 2464.4         #Not a Whole Number\n",
    "\n",
    "'#'123220 /6 = 220536.333...  #Not a Whole Number\n"
   ]
  },
  {
   "cell_type": "code",
   "execution_count": 4,
   "id": "c1de0034",
   "metadata": {},
   "outputs": [],
   "source": [
    "lg.info(\"\\n\\n Question 4 \\n\")\n",
    "\n",
    "def is_polydivisible(num):\n",
    "    lg.info(\"Input is : \" + str(num))\n",
    "    \n",
    "    try:\n",
    "        \n",
    "        length = len(str(num))\n",
    "        flag = 0\n",
    "        n =num\n",
    "        \n",
    "        while length > 0:\n",
    "            if num % length != 0:\n",
    "                lg.info(\"Not a polydivisible number\")\n",
    "                return False\n",
    "            else:\n",
    "                flag += 1\n",
    "            num = num // 10\n",
    "            length -= 1 \n",
    "        \n",
    "        if flag == len(str(n)):\n",
    "            \n",
    "            lg.info(\"Polydivisible number\")\n",
    "            return True\n",
    "        \n",
    "    except Exception as e:\n",
    "            lg.error(\"Error Occured : \" +str(e))\n",
    "            return \"Error Occured : \" ,e"
   ]
  },
  {
   "cell_type": "code",
   "execution_count": 5,
   "id": "f82365fc",
   "metadata": {},
   "outputs": [
    {
     "data": {
      "text/plain": [
       "True"
      ]
     },
     "execution_count": 5,
     "metadata": {},
     "output_type": "execute_result"
    }
   ],
   "source": [
    "is_polydivisible(1232) "
   ]
  },
  {
   "cell_type": "code",
   "execution_count": 6,
   "id": "22451e28",
   "metadata": {},
   "outputs": [
    {
     "data": {
      "text/plain": [
       "False"
      ]
     },
     "execution_count": 6,
     "metadata": {},
     "output_type": "execute_result"
    }
   ],
   "source": [
    "is_polydivisible(123220 ) "
   ]
  },
  {
   "cell_type": "markdown",
   "id": "a4e35fd3",
   "metadata": {},
   "source": [
    "#### 5. Create a function that takes a list of numbers and returns the sum of all prime numbers in the list.\n",
    "\n",
    "Examples\n",
    "\n",
    "sum_primes([1, 2, 3, 4, 5, 6, 7, 8, 9, 10]) ➞ 17\n",
    "\n",
    "sum_primes([2, 3, 4, 11, 20, 50, 71]) ➞ 87\n",
    "\n",
    "sum_primes([]) ➞ None\n"
   ]
  },
  {
   "cell_type": "code",
   "execution_count": 11,
   "id": "02cfadc3",
   "metadata": {},
   "outputs": [],
   "source": [
    "lg.info(\"\\n\\n Question 5 \\n\")\n",
    "\n",
    "def sum_primes(lst):\n",
    "    lg.info(\"List of numbers : \" +str(lst))\n",
    "    \n",
    "    try:\n",
    "        prime_sum = 0\n",
    "        \n",
    "        for i in lst:\n",
    "            prime = 0\n",
    "            if i == 1:\n",
    "                prime_sum += 0\n",
    "            else:\n",
    "                for j in range(2,(i//2)+1):\n",
    "                        if i % j == 0:\n",
    "                            prime = 1\n",
    "                            break\n",
    "                if prime == 0:\n",
    "                    prime_sum += i\n",
    "        if prime_sum == 0:\n",
    "            lg.info(\"None\")\n",
    "            return 'None'\n",
    "        else:\n",
    "            lg.info(\"sum is :\" + str(prime_sum))\n",
    "            return prime_sum\n",
    "    \n",
    "    except Exception as e:\n",
    "        \n",
    "        lg.info(\"Error Occured : \" +str(e))\n",
    "        return \"Error Occured : \", e"
   ]
  },
  {
   "cell_type": "code",
   "execution_count": 12,
   "id": "04fd4d42",
   "metadata": {},
   "outputs": [
    {
     "data": {
      "text/plain": [
       "17"
      ]
     },
     "execution_count": 12,
     "metadata": {},
     "output_type": "execute_result"
    }
   ],
   "source": [
    "sum_primes([1, 2, 3, 4, 5, 6, 7, 8, 9, 10]) "
   ]
  },
  {
   "cell_type": "code",
   "execution_count": 13,
   "id": "d27345ec",
   "metadata": {},
   "outputs": [
    {
     "data": {
      "text/plain": [
       "87"
      ]
     },
     "execution_count": 13,
     "metadata": {},
     "output_type": "execute_result"
    }
   ],
   "source": [
    "sum_primes([2, 3, 4, 11, 20, 50, 71])"
   ]
  },
  {
   "cell_type": "code",
   "execution_count": 14,
   "id": "48984e0f",
   "metadata": {},
   "outputs": [
    {
     "data": {
      "text/plain": [
       "'None'"
      ]
     },
     "execution_count": 14,
     "metadata": {},
     "output_type": "execute_result"
    }
   ],
   "source": [
    "sum_primes([])"
   ]
  }
 ],
 "metadata": {
  "kernelspec": {
   "display_name": "Python 3",
   "language": "python",
   "name": "python3"
  },
  "language_info": {
   "codemirror_mode": {
    "name": "ipython",
    "version": 3
   },
   "file_extension": ".py",
   "mimetype": "text/x-python",
   "name": "python",
   "nbconvert_exporter": "python",
   "pygments_lexer": "ipython3",
   "version": "3.8.8"
  }
 },
 "nbformat": 4,
 "nbformat_minor": 5
}
