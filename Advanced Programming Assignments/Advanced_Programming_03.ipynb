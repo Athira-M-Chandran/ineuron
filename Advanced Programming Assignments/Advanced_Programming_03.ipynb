{
 "cells": [
  {
   "cell_type": "code",
   "execution_count": 1,
   "id": "b47b6241",
   "metadata": {},
   "outputs": [],
   "source": [
    "import logging as lg"
   ]
  },
  {
   "cell_type": "code",
   "execution_count": 2,
   "id": "105dbcdc",
   "metadata": {},
   "outputs": [],
   "source": [
    "lg.basicConfig(filename = 'logging/assign_3.log' ,  level = lg.DEBUG , format = '%(asctime)s %(levelname)s %(message)s ')"
   ]
  },
  {
   "cell_type": "markdown",
   "id": "d7089430",
   "metadata": {},
   "source": [
    "#### 1. Create a function to perform basic arithmetic operations that includes addition, subtraction, multiplication and division on a string number (e.g. \"12 + 24\" or \"23 - 21\" or \"12 // 12\" or \"12 * 21\").\n",
    "\n",
    "Here, we have 1 followed by a space, operator followed by another space and 2. For the challenge, we are going to have only two numbers between 1 valid operator. The return value should be a number.\n",
    "\n",
    "eval() is not allowed. In case of division, whenever the second number equals \"0\" return -1.\n",
    "\n",
    "For example:\n",
    "\n",
    "\"15 // 0\"  ➞ -1\n",
    "\n",
    "Examples\n",
    "\n",
    "arithmetic_operation(\"12 + 12\") ➞ 24 // 12 + 12 = 24\n",
    "\n",
    "arithmetic_operation(\"12 - 12\") ➞ 24 // 12 - 12 = 0\n",
    "\n",
    "arithmetic_operation(\"12 * 12\") ➞ 144 // 12 * 12 = 144\n",
    "\n",
    "arithmetic_operation(\"12 // 0\") ➞ -1 // 12 / 0 = -1\n"
   ]
  },
  {
   "cell_type": "code",
   "execution_count": 6,
   "id": "94d17cda",
   "metadata": {},
   "outputs": [],
   "source": [
    "import operator"
   ]
  },
  {
   "cell_type": "code",
   "execution_count": 7,
   "id": "01e267e5",
   "metadata": {},
   "outputs": [],
   "source": [
    "lg.info(\"\\n\\n Question 1 \\n\")\n",
    "def arithmetic_operation(operation):\n",
    "    lg.info(\"Arithmetic operations to be performed : \" + operation)\n",
    "    op = {\n",
    "        '+' : operator.add,\n",
    "        '-' : operator.sub,\n",
    "        '*' : operator.mul,\n",
    "        '//': operator.floordiv\n",
    "    }\n",
    "    lst = operation.split(' ')\n",
    "    try:\n",
    "        result = op[lst[1]](int(lst[0]),int(lst[2]))\n",
    "        lg.info(\"Result is : \" + str(result))\n",
    "        return result\n",
    "    except ZeroDivisionError as error:\n",
    "        lg.info(\"Result is \" + str(-1))\n",
    "        return -1\n",
    "    except Exception as e:\n",
    "        lg.error(\"Error occured : \" + str(e))\n",
    "        return (\"Error occured : \" ,e)"
   ]
  },
  {
   "cell_type": "code",
   "execution_count": 8,
   "id": "6fdca89d",
   "metadata": {},
   "outputs": [
    {
     "data": {
      "text/plain": [
       "-1"
      ]
     },
     "execution_count": 8,
     "metadata": {},
     "output_type": "execute_result"
    }
   ],
   "source": [
    "arithmetic_operation(\"12 // 0\")"
   ]
  },
  {
   "cell_type": "markdown",
   "id": "4dc92f66",
   "metadata": {},
   "source": [
    "#### 2. Write a function that takes the coordinates of three points in the form of a 2d array and returns the perimeter of the triangle. The given points are the vertices of a triangle on a two-dimensional plane.\n",
    "\n",
    "Examples\n",
    "\n",
    "perimeter( [ [15, 7], [5, 22], [11, 1] ] ) ➞ 47.08\n",
    "\n",
    "perimeter( [ [0, 0], [0, 1], [1, 0] ] ) ➞ 3.42\n",
    "\n",
    "perimeter( [ [-10, -10], [10, 10 ], [-10, 10] ] ) ➞ 68.28\n"
   ]
  },
  {
   "cell_type": "code",
   "execution_count": 9,
   "id": "d477a130",
   "metadata": {},
   "outputs": [],
   "source": [
    "from math import dist"
   ]
  },
  {
   "cell_type": "code",
   "execution_count": 10,
   "id": "78f5c964",
   "metadata": {},
   "outputs": [],
   "source": [
    "lg.info(\"\\n\\n Question 2 \\n\")\n",
    "\n",
    "def sides(x,y,z):\n",
    "    lg.info(\"sides are :\" + str(x) + str(y) + str(z))\n",
    "    try:\n",
    "        side1 = dist(x,y)\n",
    "        side2 = dist(y,z)\n",
    "        side3 = dist(z,x)\n",
    "    except Exception as e:\n",
    "        lg.error(\"Error occured : \" + str(e))\n",
    "        return e\n",
    "    \n",
    "    return side1,side2,side3\n",
    "\n",
    "def perimeter(lst) :\n",
    "    try:\n",
    "        x ,y, z = lst\n",
    "        \n",
    "        side1,side2,side3 = sides(x,y,z)\n",
    "        \n",
    "        perimeter = side1 + side2 + side3\n",
    "        \n",
    "        lg.info(\"Perimeter is : \" + str(round(perimeter,2)))\n",
    "    \n",
    "    except Exception as error:\n",
    "        lg.error(\"Errror Occured : \" +str(error))\n",
    "        return error\n",
    "    \n",
    "    return f'{perimeter:.2f}'"
   ]
  },
  {
   "cell_type": "code",
   "execution_count": 11,
   "id": "956c716c",
   "metadata": {},
   "outputs": [
    {
     "data": {
      "text/plain": [
       "'47.08'"
      ]
     },
     "execution_count": 11,
     "metadata": {},
     "output_type": "execute_result"
    }
   ],
   "source": [
    "perimeter( [ [15, 7], [5, 22], [11, 1] ] ) "
   ]
  },
  {
   "cell_type": "markdown",
   "id": "81bb8704",
   "metadata": {},
   "source": [
    "#### 3. A city skyline can be represented as a 2-D list with 1s representing buildings. In the example below, the height of the tallest building is 4 (second-most right column).\n",
    "\n",
    "[[0, 0, 0, 0, 0, 0],\n",
    "\n",
    "[0, 0, 0, 0, 1, 0],\n",
    "\n",
    "[0, 0, 1, 0, 1, 0],\n",
    "\n",
    "[0, 1, 1, 1, 1, 0],\n",
    "\n",
    "[1, 1, 1, 1, 1, 1]]\n",
    "\n",
    "Create a function that takes a skyline (2-D list of 0's and 1's) and returns the height of the tallest skyscraper.\n",
    "\n",
    "Examples\n",
    "\n",
    "tallest_skyscraper([\n",
    "\n",
    "  [0, 0, 0, 0],\n",
    "  \n",
    "  [0, 1, 0, 0],\n",
    "  \n",
    "  [0, 1, 1, 0],\n",
    "  \n",
    "  [1, 1, 1, 1]\n",
    "\n",
    "]) ➞ 3\n",
    "\n",
    "tallest_skyscraper([\n",
    "  \n",
    "  [0, 1, 0, 0],\n",
    "  \n",
    "  [0, 1, 0, 0],\n",
    "  \n",
    "  [0, 1, 1, 0],\n",
    "  \n",
    "  [1, 1, 1, 1]\n",
    "\n",
    "]) ➞ 4\n",
    "\n",
    "tallest_skyscraper([\n",
    "  \n",
    "  [0, 0, 0, 0],\n",
    "  \n",
    "  [0, 0, 0, 0],\n",
    "  \n",
    "  [1, 1, 1, 0],\n",
    "  \n",
    "  [1, 1, 1, 1]\n",
    "\n",
    "]) ➞ 2\n"
   ]
  },
  {
   "cell_type": "code",
   "execution_count": 12,
   "id": "dd7b3178",
   "metadata": {},
   "outputs": [],
   "source": [
    "lg.info(\"\\n\\n Question3. \\n\")\n",
    "\n",
    "def tallest_skyscraper(lst):\n",
    "    \n",
    "    lg.info(\" 2-D list with 1s representing buildings: \" + str(lst))\n",
    "    \n",
    "    h=0\n",
    "    heights = []\n",
    "    \n",
    "    try:\n",
    "        \n",
    "        for i in range(len(lst[0])):\n",
    "            for j in range(len(lst)):\n",
    "                h += lst[j][i]\n",
    "            heights.append(h)\n",
    "            h = 0\n",
    "        \n",
    "        lg.info(\"Tallest building : \" + str(max(heights)))\n",
    "        return (max(heights))\n",
    "    \n",
    "    except Exception as e:\n",
    "        \n",
    "        lg.error(\"Error occureed :\" + str(e))\n",
    "        return (\"Error occured : \" ,e)"
   ]
  },
  {
   "cell_type": "code",
   "execution_count": 13,
   "id": "73c4ac14",
   "metadata": {},
   "outputs": [
    {
     "data": {
      "text/plain": [
       "4"
      ]
     },
     "execution_count": 13,
     "metadata": {},
     "output_type": "execute_result"
    }
   ],
   "source": [
    "tallest_skyscraper([\n",
    "\n",
    "[0, 1, 0, 0],\n",
    "\n",
    "[0, 1, 0, 0],\n",
    "\n",
    "[0, 1, 1, 0],\n",
    "\n",
    "[1, 1, 1, 1]\n",
    "\n",
    "]) "
   ]
  },
  {
   "cell_type": "markdown",
   "id": "171509c0",
   "metadata": {},
   "source": [
    "#### 4. A financial institution provides professional services to banks and claims charges from the customers based on the number of man-days provided. Internally, it has set a scheme to motivate and reward staff to meet and exceed targeted billable utilization and revenues by paying a bonus for each day claimed from customers in excess of a threshold target.\n",
    "\n",
    "This quarterly scheme is calculated with a threshold target of 32 days per quarter, and the incentive payment for each billable day in excess of such threshold target is shown as follows:\n",
    "\n",
    "    Days\t                             Bonus\n",
    "\n",
    "    0 to 32 days\t                   Zero\n",
    "\n",
    "    33 to 40 days\t         SGD$325 per billable day\n",
    "\n",
    "    41 to 48 days\t         SGD$550 per billable day\n",
    "\n",
    "    Greater than 48 days      SGD$600 per billable day\n",
    "\n",
    "\n",
    "Please note that incentive payment is calculated progressively. As an example, if an employee reached total billable days of 45 in a quarter, his/her incentive payment is computed as follows:\n",
    "\n",
    "32*0 + 8*325 + 5*550 = 5350\n",
    "\n",
    "Write a function to read the billable days of an employee and return the bonus he/she has obtained in that quarter.\n",
    "\n",
    "Examples\n",
    "\n",
    "bonus(15) ➞ 0\n",
    "\n",
    "bonus(37) ➞ 1625\n",
    "\n",
    "bonus(50) ➞ 8200\n",
    "\n"
   ]
  },
  {
   "cell_type": "code",
   "execution_count": 14,
   "id": "1984a720",
   "metadata": {},
   "outputs": [],
   "source": [
    "lg.info(\"\\n\\n Question 4 \\n\")\n",
    "\n",
    "def bonus(n):\n",
    "    \n",
    "    lg.info(\"Number of days: \" + str(n) )\n",
    "    \n",
    "    try:\n",
    "        if n <= 32:\n",
    "            lg.info(\"bonus = \" +str(0))\n",
    "            bonus = 0\n",
    "        \n",
    "        elif n > 32 and n <= 40:\n",
    "            bonus = (n-32) * 325\n",
    "            \n",
    "        \n",
    "        elif n >40 and n <= 48:\n",
    "            bonus = 8 * 325\n",
    "            bonus += (n-40) * 550\n",
    "            \n",
    "        \n",
    "        else:\n",
    "            bonus = (8 * 325) + (8 * 550)\n",
    "            bonus += (n - 48) * 600\n",
    "            \n",
    "        lg.info(\"Bonus = \" +str(bonus))\n",
    "        return bonus\n",
    "\n",
    "    except Exception as e:\n",
    "            lg.error(\"Error occured : \" +str(e))\n",
    "            return (\"Error occured : \" ,e)"
   ]
  },
  {
   "cell_type": "code",
   "execution_count": 15,
   "id": "932f6173",
   "metadata": {},
   "outputs": [
    {
     "data": {
      "text/plain": [
       "8200"
      ]
     },
     "execution_count": 15,
     "metadata": {},
     "output_type": "execute_result"
    }
   ],
   "source": [
    "bonus(50)"
   ]
  },
  {
   "cell_type": "markdown",
   "id": "7c0df22e",
   "metadata": {},
   "source": [
    "#### 5. A number is said to be Disarium if the sum of its digits raised to their respective positions is the number itself.\n",
    "\n",
    "Create a function that determines whether a number is a Disarium or not.\n",
    "\n",
    "Examples\n",
    "\n",
    "is_disarium(75) ➞ False\n",
    "\n",
    "'#'7^1 + 5^2 = 7 + 25 = 32\n",
    "\n",
    "is_disarium(135) ➞ True\n",
    "\n",
    "'#'1^1 + 3^2 + 5^3 = 1 + 9 + 125 = 135\n",
    "\n",
    "is_disarium(544) ➞ False\n",
    "\n",
    "is_disarium(518) ➞ True\n",
    "\n",
    "is_disarium(466) ➞ False\n",
    "\n",
    "is_disarium(8) ➞ True"
   ]
  },
  {
   "cell_type": "code",
   "execution_count": 16,
   "id": "c1944696",
   "metadata": {},
   "outputs": [],
   "source": [
    "lg.info(\"\\n\\n Questiopn 5 \\n\")\n",
    "\n",
    "def disarium(num):\n",
    "    \n",
    "    lg.info(\"To check: \" +str(num))\n",
    "    \n",
    "    try:\n",
    "        \n",
    "        j = str(num)\n",
    "        d = 0\n",
    "        \n",
    "        for i in range(1,len(j)+1):\n",
    "            d += int(j[i-1]) ** i\n",
    "        \n",
    "        if d == num:\n",
    "            lg.info(\"Yes, it is disarium number\")\n",
    "            return True\n",
    "        \n",
    "        else:\n",
    "            lg.info(\"It is not a disarium number\")\n",
    "            return False\n",
    "            \n",
    "            \n",
    "    except Exception as e:\n",
    "        \n",
    "        lg.error(\"Error occured : \" + str(e))\n",
    "        return (\"Error occured : \", e)"
   ]
  },
  {
   "cell_type": "code",
   "execution_count": 17,
   "id": "1c80782e",
   "metadata": {},
   "outputs": [
    {
     "data": {
      "text/plain": [
       "True"
      ]
     },
     "execution_count": 17,
     "metadata": {},
     "output_type": "execute_result"
    }
   ],
   "source": [
    "disarium(135)"
   ]
  },
  {
   "cell_type": "code",
   "execution_count": 18,
   "id": "65942772",
   "metadata": {},
   "outputs": [
    {
     "data": {
      "text/plain": [
       "False"
      ]
     },
     "execution_count": 18,
     "metadata": {},
     "output_type": "execute_result"
    }
   ],
   "source": [
    "disarium(75)"
   ]
  }
 ],
 "metadata": {
  "kernelspec": {
   "display_name": "Python 3",
   "language": "python",
   "name": "python3"
  },
  "language_info": {
   "codemirror_mode": {
    "name": "ipython",
    "version": 3
   },
   "file_extension": ".py",
   "mimetype": "text/x-python",
   "name": "python",
   "nbconvert_exporter": "python",
   "pygments_lexer": "ipython3",
   "version": "3.8.8"
  }
 },
 "nbformat": 4,
 "nbformat_minor": 5
}
