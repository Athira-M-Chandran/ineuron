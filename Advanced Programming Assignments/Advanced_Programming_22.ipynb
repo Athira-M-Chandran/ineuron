{
 "cells": [
  {
   "cell_type": "markdown",
   "id": "c4f05995",
   "metadata": {},
   "source": [
    "#### 1. Create a class Smoothie and do the following:\n",
    "\n",
    "    - Create an instance attribute called ingredients.\n",
    "    - Create a get_cost method which calculates the total cost of the ingredients used to make the smoothie.\n",
    "    - Create a get_price method which returns the number from get_cost plus the number from get_cost multiplied by 1.5. Round to two decimal places.\n",
    "    - Create a get_name method which gets the ingredients and puts them in alphabetical order into a nice descriptive sentence. If there are multiple ingredients, add the word \"Fusion\" to the end but otherwise, add \"Smoothie\". Remember to change \"-berries\" to \"-berry\". See the examples below.\n",
    "\n",
    "    Ingredient\t   Price\n",
    "    \n",
    "   - Strawberries   $1.50\n",
    "   \n",
    "   - Banana\t        $0.50\n",
    "   \n",
    "   - Mango\t        $2.50\n",
    "   \n",
    "   - Blueberries\t$1.00\n",
    "   \n",
    "   - Raspberries\t$1.00\n",
    "   \n",
    "   - Apple\t        $1.75\n",
    "   \n",
    "   - Pineapple\t    $3.50\n",
    "\n",
    "Examples\n",
    "\n",
    "s1 = Smoothie([\"Banana\"])\n",
    "\n",
    "s1.ingredients ➞ [\"Banana\"]\n",
    "\n",
    "s1.get_cost() ➞ \"$0.50\"\n",
    "\n",
    "s1.get_price() ➞ \"$1.25\"\n",
    "\n",
    "s1.get_name() ➞ \"Banana Smoothie\"\n",
    "\n",
    "s2 = Smoothie([\"Raspberries\", \"Strawberries\", \"Blueberries\"])\n",
    "\n",
    "s2.ingredients ➞ [\"Raspberries\", \"Strawberries\", \"Blueberries\"]\n",
    "\n",
    "s2.get_cost() ➞ \"$3.50\"\n",
    "\n",
    "s2.get_price() ➞ \"$8.75\"\n",
    "\n",
    "s2.get_name() ➞ \"Blueberry Raspberry Strawberry Fusion\"\n"
   ]
  },
  {
   "cell_type": "code",
   "execution_count": 1,
   "id": "006a743f",
   "metadata": {},
   "outputs": [],
   "source": [
    "class Smoothie:\n",
    "    ingredients = ['Strawberries', 'Banana','Mango', 'Blueberries','Raspberries','Apple','Pineapple']\n",
    "    def __init__(self,ingredients):\n",
    "        self.ingredients = ingredients\n",
    "    def get_cost(self):\n",
    "        dict_ingredients = {'Strawberries' : '$1.50', 'Banana' : '$0.50',\n",
    "                            'Mango': '$2.50', 'Blueberries':'$1.00',\n",
    "                            'Raspberries':'$1.00','Apple':'$1.75',\n",
    "                            'Pineapple' : '$3.50'}\n",
    "        cost = 0\n",
    "        for i in self.ingredients:\n",
    "            c =dict_ingredients[i].split('$')\n",
    "            cost += float(c[1])\n",
    "        self.cost = round(cost,2)\n",
    "        return '$'+str(self.cost)\n",
    "       \n",
    "    def get_price(self):\n",
    "        price = round(self.cost + (self.cost * 1.5),2)\n",
    "        return '$' + str(price)\n",
    "    \n",
    "    def get_name(self):\n",
    "        ing =  sorted(self.ingredients)\n",
    "        ing_string = ' '.join(ing)\n",
    "        \n",
    "        if 'Strawberries' in ing:\n",
    "            ing_string = ing_string.replace(\"Strawberries\",\"Strawberry\")\n",
    "            \n",
    "        if 'Blueberries' in ing:\n",
    "            ing_string = ing_string.replace('Blueberries','Blueberry')\n",
    "        \n",
    "        if 'Raspberries' in ing:\n",
    "            ing_string = ing_string.replace('Raspberries','Raspberry')\n",
    "            \n",
    "        if len(ing)>1:\n",
    "            name = ing_string + ' Fusion'\n",
    "        else:\n",
    "            name = ing_string + ' Smoothie'\n",
    "        return name"
   ]
  },
  {
   "cell_type": "code",
   "execution_count": 2,
   "id": "254d76a8",
   "metadata": {},
   "outputs": [
    {
     "name": "stdout",
     "output_type": "stream",
     "text": [
      "['Banana']\n",
      "$0.5\n",
      "$1.25\n",
      "Banana Smoothie\n",
      "['Raspberries', 'Strawberries', 'Blueberries']\n",
      "$3.5\n",
      "$8.75\n",
      "Blueberry Raspberry Strawberry Fusion\n"
     ]
    }
   ],
   "source": [
    "s1 = Smoothie([\"Banana\"])\n",
    "print(s1.ingredients)\n",
    "print(s1.get_cost())\n",
    "print(s1.get_price())\n",
    "print(s1.get_name())\n",
    "s2 = Smoothie([\"Raspberries\", \"Strawberries\", \"Blueberries\"])\n",
    "print(s2.ingredients)\n",
    "print(s2.get_cost())\n",
    "print(s2.get_price())\n",
    "print(s2.get_name())"
   ]
  },
  {
   "cell_type": "markdown",
   "id": "d962da07",
   "metadata": {},
   "source": [
    "#### 2. Your task is to write a program which allows teachers to create a multiple choice test in a class called Testpaper and to be also able to assign a minimum pass mark. The testpaper's subject should also be included. The attributes are in the following order:\n",
    "\n",
    "  1. subject\n",
    "  2. markscheme\n",
    "  3. pass_mark\n",
    "\n",
    "As well as that, we need to create student objects to take the test itself! Create another class called Student and do the following:\n",
    "\n",
    "  - Create an attribute called tests_taken and set the default as 'No tests taken'.\n",
    "  - Make a method called take_test(), which takes in the testpaper object they are completing and the student's answers. Compare what they wrote to the mark scheme, and append to the/create a dictionary assigned to tests_taken in the way as shown in the point below.\n",
    "  - Each key in the dictionary should be the testpaper subject and each value should be a string in the format seen in the examples below (whether or not the student has failed, and their percentage in brackets).\n",
    "\n",
    "Examples\n",
    "\n",
    "paper1 = Testpaper(\"Maths\", [\"1A\", \"2C\", \"3D\", \"4A\", \"5A\"], \"60%\")\n",
    "paper2 = Testpaper(\"Chemistry\", [\"1C\", \"2C\", \"3D\", \"4A\"], \"75%\")\n",
    "paper3 = Testpaper(\"Computing\", [\"1D\", \"2C\", \"3C\", \"4B\", \"5D\", \"6C\", \"7A\"], \"75%\")\n",
    "\n",
    "student1 = Student()\n",
    "student2 = Student()\n",
    "\n",
    "student1.tests_taken ➞ \"No tests taken\"\n",
    "student1.take_test(paper1, [\"1A\", \"2D\", \"3D\", \"4A\", \"5A\"])\n",
    "student1.tests_taken ➞ {\"Maths\" : \"Passed! (80%)\"}\n",
    "\n",
    "student2.take_test(paper2, [\"1C\", \"2D\", \"3A\", \"4C\"])\n",
    "student2.take_test(paper3, [\"1A\", \"2C\", \"3A\", \"4C\", \"5D\", \"6C\", \"7B\"])\n",
    "student2.tests_taken ➞ {\"Chemistry\" : \"Failed! (25%)\", \"Computing\" : \"Failed! (43%)\"}\n"
   ]
  },
  {
   "cell_type": "code",
   "execution_count": 4,
   "id": "375c0f55",
   "metadata": {},
   "outputs": [],
   "source": [
    "from math import ceil\n",
    "class Testpaper(object):\n",
    "    \n",
    "    def __init__(self,subject,markscheme,pass_mark):\n",
    "        \n",
    "        self.subject = subject\n",
    "        self.markscheme = markscheme\n",
    "        self.pass_mark = pass_mark\n",
    "\n",
    "class Student(Testpaper):\n",
    "    \n",
    "        \n",
    "        def __init__(self):\n",
    "            self.tests_taken = \"No tests taken\"\n",
    "        \n",
    "        def take_test(self,testpaper,answers):\n",
    "            \n",
    "            mark = 0\n",
    "            \n",
    "            for i in range(len(testpaper.markscheme)):\n",
    "                \n",
    "                if answers[i] == testpaper.markscheme[i]:\n",
    "                    mark += 1\n",
    "            \n",
    "            per = int(ceil((mark/len(testpaper.markscheme)) * 100))\n",
    "            \n",
    "            if self.tests_taken == 'No tests taken':\n",
    "                self.tests_taken = {}\n",
    "            \n",
    "            if per >= int(testpaper.pass_mark[:-1]):\n",
    "                self.tests_taken[testpaper.subject] = \"Passed!\"+ \"(\" + str(per) + \"%)\"\n",
    "                \n",
    "            else:\n",
    "                self.tests_taken[testpaper.subject] = \"Failed!\"+ \"(\" + str(per) + \"%)\"\n",
    "            \n",
    "            return self.tests_taken"
   ]
  },
  {
   "cell_type": "code",
   "execution_count": 5,
   "id": "982b2612",
   "metadata": {},
   "outputs": [
    {
     "name": "stdout",
     "output_type": "stream",
     "text": [
      "No tests taken\n",
      "{'Maths': 'Passed!(80%)'}\n",
      "{'Chemistry': 'Failed!(25%)', 'Computing': 'Failed!(43%)'}\n"
     ]
    }
   ],
   "source": [
    "paper1 = Testpaper(\"Maths\", [\"1A\", \"2C\", \"3D\", \"4A\", \"5A\"], \"60%\")\n",
    "paper2 = Testpaper(\"Chemistry\", [\"1C\", \"2C\", \"3D\", \"4A\"], \"75%\")\n",
    "paper3 = Testpaper(\"Computing\", [\"1D\", \"2C\", \"3C\", \"4B\", \"5D\", \"6C\", \"7A\"], \"75%\")\n",
    "\n",
    "student1 = Student()\n",
    "student2 = Student()\n",
    "\n",
    "print(student1.tests_taken) \n",
    "student1.take_test(paper1, [\"1A\", \"2D\", \"3D\", \"4A\", \"5A\"])\n",
    "print(student1.tests_taken)\n",
    "\n",
    "student2.take_test(paper2, [\"1C\", \"2D\", \"3A\", \"4C\"])\n",
    "student2.take_test(paper3, [\"1A\", \"2C\", \"3A\", \"4C\", \"5D\", \"6C\", \"7B\"])\n",
    "print(student2.tests_taken )"
   ]
  },
  {
   "cell_type": "markdown",
   "id": "75d8263f",
   "metadata": {},
   "source": [
    "#### 3. Due to unforseen circumstances in Suburbia, the trains will be delayed by a further 10 minutes.\n",
    "\n",
    "Create a function that will help to plan out and manage these delays! Create a function called manage_delays that does the following:\n",
    "\n",
    "   - Parameters will be the train object, a destination and number of minutes the delay is.\n",
    "   - Increment to the train object's expected_time by the delay, if the destination given is in the train object's destinations.\n",
    "\n",
    "Examples\n",
    "\n",
    "trains = [\n",
    "  Train([\"Townsville\", \"Suburbia\", \"Urbantska\"], \"13:04\"),\n",
    "  Train([\"Farmsdale\", \"Suburbia\", \"Lakeside Valley\"], \"13:20\"),\n",
    "  Train([\"Suburbia\", \"Townsville\", \"Lakeside Valley\"], \"13:22\")\n",
    "]\n",
    "\n",
    "for t in trains:\n",
    "    manage_delays(t, \"Lakeside Valley\", 60)\n",
    "\n",
    "trains[0].expected_time ➞ \"13:04\"\n",
    "\n",
    "trains[1].expected_time ➞ \"14:20\"\n",
    "\n",
    "trains[2].expected_time ➞ \"14:22\"\n"
   ]
  },
  {
   "cell_type": "code",
   "execution_count": 6,
   "id": "b43fd3a8",
   "metadata": {},
   "outputs": [],
   "source": [
    "import datetime\n",
    "class Train:\n",
    "    \n",
    "    def __init__(self, stops, actual_time):\n",
    "        self.stops = stops\n",
    "        self.actual_time = actual_time\n",
    "        self.expected_time = actual_time\n",
    "\n",
    "def manage_delays(trains,destination,late_by):\n",
    "    \n",
    "    if destination in trains.stops:\n",
    "        delay_time = datetime.datetime.strptime(trains.actual_time, \"%H:%M\") + datetime.timedelta(minutes = late_by)\n",
    "        trains.expected_time = str(delay_time.time())\n",
    "        \n",
    "        return trains.expected_time"
   ]
  },
  {
   "cell_type": "code",
   "execution_count": 7,
   "id": "e40ff80a",
   "metadata": {},
   "outputs": [
    {
     "name": "stdout",
     "output_type": "stream",
     "text": [
      "13:04\n",
      "14:20:00\n",
      "14:22:00\n"
     ]
    }
   ],
   "source": [
    "trains = [\n",
    "  Train([\"Townsville\", \"Suburbia\", \"Urbantska\"], \"13:04\"),\n",
    "  Train([\"Farmsdale\", \"Suburbia\", \"Lakeside Valley\"], \"13:20\"),\n",
    "  Train([\"Suburbia\", \"Townsville\", \"Lakeside Valley\"], \"13:22\")\n",
    "]\n",
    "\n",
    "for t in trains:\n",
    "    manage_delays(t, \"Lakeside Valley\", 60)\n",
    "\n",
    "print(trains[0].expected_time)\n",
    "print(trains[1].expected_time)\n",
    "print(trains[2].expected_time)\n"
   ]
  },
  {
   "cell_type": "markdown",
   "id": "edeecad7",
   "metadata": {},
   "source": [
    "#### 4. Ted works as a computer programmer at Minecraft Inc. His boss has just given him an important assignment to update the code for the minecart tracks by the end of April. However, he has recently had to self-isolate due to Corvid-19 and has left the code for the tracks BACK AT WORK!! He has the shorthand for the tracks he's supposed to look at, and where the carts are suppost to end up, but not the actual code.\n",
    "\n",
    "He knows that:\n",
    "\n",
    "  1. \"-->\" = \"Speed-Up Track\" ⁠— If a minecart interacts with this track, it's velocity increases by 2.67 BPS unless it's at its maximum speed of 8 BPS.\n",
    "  2. \"<-->\" = \"Powered Track\" ⁠— If a minecart interacts with this track, it's velocity remains the same.\n",
    "  3. \"<--\" = \"Slow-Down Track\" ⁠— If a minecart interacts with this track, it's velocity decreases by 2.67 BPS unless it's velocity equals 0, at which point it stops.\n",
    "  4. \"---\" = \"Unpowered Track\" ⁠— If a minecart interacts with this track, it's velocity decreases by 1 BPS unless it's velocity equals 0, at which point it stops.\n",
    "\n",
    " Help Ted by writing a class for the tracks that interact with the provided Minecart class as shown above. And then write a function that will take a list of the shorthand tracks and:\n",
    "\n",
    "   - If the Minecart reaches the last peice of Track, return True.\n",
    "   - Else return the index of the Track where the Minecart stops.\n",
    "\n",
    "Examples\n",
    "\n",
    "mine_run([\"-->\", \"-->\", \"-->\", \"<--\", \"<--\", \"<--\"]) ➞ True\n",
    "\n",
    "mine_run([\"-->\", \"<--\", \"-->\", \"-->\", \"<-->\", \"---\"]) ➞ 1\n",
    "\n"
   ]
  },
  {
   "cell_type": "code",
   "execution_count": 1,
   "id": "4614aa51",
   "metadata": {},
   "outputs": [],
   "source": [
    "def mine_run(track_lst):\n",
    "    try:\n",
    "        track = 0\n",
    "        for i in range(len(track_lst)):\n",
    "            if track_lst[i] ==\"-->\":\n",
    "                track += 2.67\n",
    "            elif track_lst[i] == \"<-->\":\n",
    "                track = track\n",
    "            elif track_lst[i] =='<--':\n",
    "                track -= 2.67\n",
    "            elif track_lst[i] == \"---\":\n",
    "                track -= 1\n",
    "            if i == len(track_lst)-1:\n",
    "                return True\n",
    "            if track == 0:\n",
    "                return i\n",
    "            \n",
    "    except Exception as e:\n",
    "        return e"
   ]
  },
  {
   "cell_type": "code",
   "execution_count": 2,
   "id": "c93e846f",
   "metadata": {},
   "outputs": [
    {
     "name": "stdout",
     "output_type": "stream",
     "text": [
      "True\n",
      "1\n"
     ]
    }
   ],
   "source": [
    "print(mine_run([\"-->\", \"-->\", \"-->\", \"<--\", \"<--\", \"<--\"]))\n",
    "print(mine_run([\"-->\", \"<--\", \"-->\", \"-->\", \"<-->\", \"---\"]))"
   ]
  },
  {
   "cell_type": "markdown",
   "id": "c902606d",
   "metadata": {},
   "source": [
    "#### 5. Make a Rectangle class with four parameters, an x, a y (representing the top-left corner of the rectangle), a width and a height exclusively in that order.\n",
    "\n",
    "Lastly, make a function intersecting that takes two Rectangle objects and returns True if those objects are intersecting (colliding), else return False.\n",
    "\n",
    "Examples\n",
    "\n",
    "a = Rectangle(10, 20, 100, 20)\n",
    "b = Rectangle(10, 40, 15, 20)\n",
    "c = Rectangle(50, 50, 20, 30)\n",
    "\n",
    "intersecting(a, b) ➞ True\n",
    "\n",
    "intersecting(a, c) ➞ False\n",
    "\n",
    "intersecting(b, c) ➞ True\n"
   ]
  },
  {
   "cell_type": "code",
   "execution_count": 3,
   "id": "7cd128eb",
   "metadata": {},
   "outputs": [],
   "source": [
    "class Rectangle:\n",
    "    def __init__(self,x,y,width,height):\n",
    "        self.x = x\n",
    "        self.y = y\n",
    "        self.width = width\n",
    "        self.height = height\n",
    "\n",
    "def intersecting(rectangle1, rectangle2):\n",
    "    \n",
    "    if (rectangle2.y-rectangle1.y == rectangle1.height) or (rectangle2.y-rectangle1.y + rectangle1.height == rectangle2.height):\n",
    "        return True\n",
    "    else:\n",
    "        return False\n",
    " "
   ]
  },
  {
   "cell_type": "code",
   "execution_count": 4,
   "id": "214f1b03",
   "metadata": {},
   "outputs": [
    {
     "name": "stdout",
     "output_type": "stream",
     "text": [
      "True\n",
      "False\n",
      "True\n"
     ]
    }
   ],
   "source": [
    "a = Rectangle(10, 20, 100, 20) \n",
    "b = Rectangle(10, 40, 15, 20) \n",
    "c = Rectangle(50, 50, 20, 30)\n",
    "\n",
    "print(intersecting(a, b)) #➞ True\n",
    "\n",
    "print(intersecting(a, c)) #➞ False\n",
    "\n",
    "print(intersecting(b, c)) #➞ True\n",
    "\n"
   ]
  }
 ],
 "metadata": {
  "kernelspec": {
   "display_name": "Python 3",
   "language": "python",
   "name": "python3"
  },
  "language_info": {
   "codemirror_mode": {
    "name": "ipython",
    "version": 3
   },
   "file_extension": ".py",
   "mimetype": "text/x-python",
   "name": "python",
   "nbconvert_exporter": "python",
   "pygments_lexer": "ipython3",
   "version": "3.8.8"
  }
 },
 "nbformat": 4,
 "nbformat_minor": 5
}
