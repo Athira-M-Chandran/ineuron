{
 "cells": [
  {
   "cell_type": "code",
   "execution_count": 2,
   "id": "c73164e0",
   "metadata": {},
   "outputs": [],
   "source": [
    "import logging as lg"
   ]
  },
  {
   "cell_type": "code",
   "execution_count": 10,
   "id": "0b09dc17",
   "metadata": {},
   "outputs": [],
   "source": [
    "lg.basicConfig(filename = \"logging/assign_14.log\" , level = lg.DEBUG , format = '%(asctime)s %(levelname)s %(message)s')"
   ]
  },
  {
   "cell_type": "markdown",
   "id": "6e45b8f9",
   "metadata": {},
   "source": [
    "#### 1. Given a list of numbers, create a function that removes 25% from every number in the list except the smallest number, and adds the total amount removed to the smallest number.\n",
    "\n",
    "Examples\n",
    "\n",
    "show_the_love([4, 1, 4]) ➞ [3, 3, 3]\n",
    "\n",
    "show_the_love([16, 10, 8]) ➞ [12, 7.5, 14.5]\n",
    "\n",
    "show_the_love([2, 100]) ➞ [27, 75]\n"
   ]
  },
  {
   "cell_type": "code",
   "execution_count": 4,
   "id": "3fd4420b",
   "metadata": {},
   "outputs": [],
   "source": [
    "lg.info(\"\\n\\n Question 1 \\n\")\n",
    "def show_the_love(lst):\n",
    "    lg.info(\"list of numbers : \"+ str(lst))\n",
    "    try:\n",
    "        \n",
    "        rem = 0\n",
    "        mi = min(lst)\n",
    "        for i in lst:\n",
    "            if i != mi:\n",
    "                rem += i * (25/100)\n",
    "                lst = str(lst).replace(str(i),str((i - (i/4))),1)\n",
    "            \n",
    "                \n",
    "        lst = str(lst).replace(str(mi),str(mi + rem),1)\n",
    "        lg.info(\"Output : \" +str(lst))\n",
    "        return lst\n",
    "        \n",
    "                \n",
    "    except Exception as e:\n",
    "        lg.info(\"Error Occured : \" +str(e))\n",
    "        return e"
   ]
  },
  {
   "cell_type": "code",
   "execution_count": 5,
   "id": "e27ac762",
   "metadata": {},
   "outputs": [
    {
     "name": "stdout",
     "output_type": "stream",
     "text": [
      "[3.0, 3.0, 3.0]\n",
      "[12.0, 7.5, 14.5]\n",
      "[27.0, 75.0]\n"
     ]
    }
   ],
   "source": [
    "print(show_the_love([4, 1, 4]))\n",
    "print(show_the_love([16, 10, 8]))\n",
    "print(show_the_love([2, 100]))"
   ]
  },
  {
   "cell_type": "markdown",
   "id": "501e1020",
   "metadata": {},
   "source": [
    "#### 2. Create a function that takes in two words as input and returns a list of three elements, in the following order:\n",
    "\n",
    "    1.Shared letters between two words.\n",
    "   \n",
    "    2.Letters unique to word 1.\n",
    "   \n",
    "    3.Letters unique to word 2.\n",
    "\n",
    "Each element should have unique letters, and have each letter be alphabetically sorted.\n",
    "\n",
    "Examples\n",
    "\n",
    "letters(\"sharp\", \"soap\") ➞ [\"aps\", \"hr\", \"o\"]\n",
    "\n",
    "letters(\"board\", \"bored\") ➞ [\"bdor\", \"a\", \"e\"]\n",
    "\n",
    "letters(\"happiness\", \"envelope\") ➞ [\"enp\", \"ahis\", \"lov\"]\n",
    "\n",
    "letters(\"kerfuffle\", \"fluffy\") ➞ [\"flu\", \"ekr\", \"y\"]\n",
    "\n",
    "\"#\" Even with multiple matching letters (e.g. 3 f's), there should  \n",
    "\n",
    "\"#\" only exist a single \"f\" in your first element.\n",
    "\n",
    "letters(\"match\", \"ham\") ➞ [\"ahm\", \"ct\", \"\"]\n",
    "\n",
    "\"#\" \"ham\" does not contain any letters that are not found already\n",
    "\n",
    "\"#\" in \"match\".\n"
   ]
  },
  {
   "cell_type": "code",
   "execution_count": 8,
   "id": "82e54c36",
   "metadata": {},
   "outputs": [],
   "source": [
    "lg.info(\"\\n\\n Question2 \\n\")\n",
    "\n",
    "def letters(str1,str2):\n",
    "    lg.info(\"Strings : \" +str1 +','+ str2)\n",
    "    \n",
    "    try:\n",
    "        common = ''\n",
    "        for i in str1:\n",
    "            if i in str2:\n",
    "                common += i\n",
    "                str2 = str2.replace(i,'')\n",
    "                str1 = str1.replace(i,'')\n",
    "                    \n",
    "        output = [''.join(sorted(common)), ''.join(sorted(set(str1))),''.join(sorted(str2))]\n",
    "        lg.info(\"answer : \" +str(output))\n",
    "        return output\n",
    "    \n",
    "    except Exception as e:\n",
    "        lg.info(\"Error Occurred : \" +str(e))\n",
    "        return e"
   ]
  },
  {
   "cell_type": "code",
   "execution_count": 9,
   "id": "cf2fcecc",
   "metadata": {},
   "outputs": [
    {
     "name": "stdout",
     "output_type": "stream",
     "text": [
      "['aps', 'hr', 'o']\n",
      "['bdor', 'a', 'e']\n",
      "['enp', 'ahis', 'lov']\n",
      "['flu', 'ekr', 'y']\n",
      "['ahm', 'ct', '']\n"
     ]
    }
   ],
   "source": [
    "print(letters(\"sharp\", \"soap\"))\n",
    "print(letters(\"board\", \"bored\"))\n",
    "print(letters(\"happiness\", \"envelope\"))\n",
    "print(letters(\"kerfuffle\", \"fluffy\"))\n",
    "print(letters(\"match\", \"ham\"))"
   ]
  },
  {
   "cell_type": "markdown",
   "id": "0ef5baac",
   "metadata": {},
   "source": [
    "#### 3. Write a function that pairs the first number in an array with the last, the second number with the second to last, etc.\n",
    "\n",
    "Examples\n",
    "\n",
    "pairs([1, 2, 3, 4, 5, 6, 7]) ➞ [[1, 7], [2, 6], [3, 5], [4, 4]]\n",
    "\n",
    "pairs([1, 2, 3, 4, 5, 6]) ➞ [[1, 6], [2, 5], [3, 4]]\n",
    "\n",
    "pairs([5, 9, 8, 1, 2]) ➞ [[5, 2], [9, 1], [8, 8]]\n",
    "\n",
    "pairs([]) ➞ []\n",
    "\n"
   ]
  },
  {
   "cell_type": "code",
   "execution_count": 13,
   "id": "eca17414",
   "metadata": {},
   "outputs": [],
   "source": [
    "lg.info(\"\\n\\n Question 3 \\n\")\n",
    "def pairs(lst):\n",
    "    lg.info(\"List is : \" +str(lst))\n",
    "    \n",
    "    try:\n",
    "        new = []\n",
    "        ls = lst.copy()\n",
    "        \n",
    "        if len(lst) %2 ==0:\n",
    "            length = int(len(lst)/2)\n",
    "        else : \n",
    "            length = int(len(lst)/2) + 1\n",
    "        \n",
    "        for i in range(length): \n",
    "            val = [ls[0],ls[-1]]\n",
    "            new.append(val)\n",
    "            ls.remove(ls[0])\n",
    "            if ls != [] :\n",
    "                ls.remove(ls[-1])\n",
    "        \n",
    "        lg.info(\"pairs are : \" +str(ls))\n",
    "        return new\n",
    "    \n",
    "    except Exception as e:\n",
    "        lg.error(\"Error Occured : \" +str(e))\n",
    "        return e"
   ]
  },
  {
   "cell_type": "code",
   "execution_count": 14,
   "id": "d4d8a69d",
   "metadata": {},
   "outputs": [
    {
     "name": "stdout",
     "output_type": "stream",
     "text": [
      "[[1, 7], [2, 6], [3, 5], [4, 4]]\n",
      "[[1, 6], [2, 5], [3, 4]]\n",
      "[[5, 2], [9, 1], [8, 8]]\n",
      "[]\n"
     ]
    }
   ],
   "source": [
    "print(pairs([1, 2, 3, 4, 5, 6, 7]))\n",
    "print(pairs([1, 2, 3, 4, 5, 6]))\n",
    "print(pairs([5, 9, 8, 1, 2]))\n",
    "print([])"
   ]
  },
  {
   "cell_type": "markdown",
   "id": "a232af8f",
   "metadata": {},
   "source": [
    "#### 4. Write a function that adds two numbers. The catch, however, is that the numbers will be strings.\n",
    "\n",
    "Examples\n",
    "\n",
    "add_str_nums(\"4\", \"5\") ➞ \"9\"\n",
    "\n",
    "add_str_nums(\"abcdefg\", \"3\") ➞ \"-1\"\n",
    "\n",
    "add_str_nums(\"1\", \"\") ➞ \"1\"\n",
    "\n",
    "add_str_nums(\"1874682736267235927359283579235789257\", \"32652983572985729\") ➞ \"1874682736267235927391936562808774986\"\n"
   ]
  },
  {
   "cell_type": "code",
   "execution_count": 16,
   "id": "ec3844d7",
   "metadata": {},
   "outputs": [],
   "source": [
    "lg.info(\"\\n\\n Question4 \\n\")\n",
    "def add_str_nums(s1,s2):\n",
    "    lg.info(\"Inputs : \" +s1 + ',' + s2)\n",
    "    try:\n",
    "        \n",
    "        if s1 == '' :\n",
    "            s1 = 0\n",
    "        elif s2 == '':\n",
    "            s2 = 0\n",
    "        if s1.isalpha():\n",
    "            lg.info(\"Answer is : \" +str(-1))\n",
    "            return -1\n",
    "        else:\n",
    "            lg.info(\"Answer is : \" +str(int(s1)+int(s2)))\n",
    "            return int(s1)+int(s2)\n",
    "            \n",
    "    except Exception as e:\n",
    "        lg.error(\"Error Occurred : \" +str(e))\n",
    "        return e"
   ]
  },
  {
   "cell_type": "code",
   "execution_count": 17,
   "id": "2a306b89",
   "metadata": {},
   "outputs": [
    {
     "name": "stdout",
     "output_type": "stream",
     "text": [
      "9\n",
      "-1\n",
      "1\n",
      "1874682736267235927391936562808774986\n"
     ]
    }
   ],
   "source": [
    "print(add_str_nums(\"4\", \"5\"))\n",
    "print(add_str_nums(\"abcdefg\", \"3\"))\n",
    "print(add_str_nums(\"1\", \"\"))\n",
    "print(add_str_nums(\"1874682736267235927359283579235789257\", \"32652983572985729\"))"
   ]
  },
  {
   "cell_type": "markdown",
   "id": "a2e814fd",
   "metadata": {},
   "source": [
    "#### 5. lPaeesh le pemu mnxit ehess rtnisg! Oh, sorry, that was supposed to say: Please help me unmix these strings!\n",
    "\n",
    "Somehow my strings have all become mixed up; every pair of characters has been swapped. Help me undo this so I can understand my strings again.\n",
    "\n",
    "Examples\n",
    "\n",
    "unmix(\"123456\") ➞ \"214365\"\n",
    "\n",
    "unmix(\"hTsii  s aimex dpus rtni.g\") ➞ \"This is a mixed up string.\"\n",
    "\n",
    "unmix(\"badce\") ➞ \"abcde\"\n"
   ]
  },
  {
   "cell_type": "code",
   "execution_count": 18,
   "id": "6ba67413",
   "metadata": {},
   "outputs": [],
   "source": [
    "lg.info(\"\\n\\n Question 5 \\n\")\n",
    "def unmix(string):\n",
    "    lg.info(\"input is :\" +str(string))\n",
    "    ne = ''\n",
    "    i =0\n",
    "    try:\n",
    "        while i< len(string)-1:\n",
    "            ne += string[i+1]+string[i]\n",
    "            i +=2\n",
    "        if len(string) % 2 != 0:\n",
    "            lg.info(\"output is : \" +ne + string[-1])\n",
    "            return ne + string[-1]\n",
    "        else:\n",
    "            lg.info(\"output is : \" +ne)\n",
    "            return ne\n",
    "    except Exception as e:\n",
    "        lg.error(\"Error Occurred : \" +str(e))\n",
    "        return e"
   ]
  },
  {
   "cell_type": "code",
   "execution_count": 19,
   "id": "32583817",
   "metadata": {},
   "outputs": [
    {
     "data": {
      "text/plain": [
       "'This is a mixed up string.'"
      ]
     },
     "execution_count": 19,
     "metadata": {},
     "output_type": "execute_result"
    }
   ],
   "source": [
    "unmix(\"hTsii  s aimex dpus rtni.g\")"
   ]
  },
  {
   "cell_type": "code",
   "execution_count": 20,
   "id": "2abe927c",
   "metadata": {},
   "outputs": [
    {
     "data": {
      "text/plain": [
       "'abcde'"
      ]
     },
     "execution_count": 20,
     "metadata": {},
     "output_type": "execute_result"
    }
   ],
   "source": [
    "unmix(\"badce\") "
   ]
  },
  {
   "cell_type": "code",
   "execution_count": 21,
   "id": "e181a979",
   "metadata": {},
   "outputs": [
    {
     "data": {
      "text/plain": [
       "'214365'"
      ]
     },
     "execution_count": 21,
     "metadata": {},
     "output_type": "execute_result"
    }
   ],
   "source": [
    "unmix(\"123456\")"
   ]
  }
 ],
 "metadata": {
  "kernelspec": {
   "display_name": "Python 3",
   "language": "python",
   "name": "python3"
  },
  "language_info": {
   "codemirror_mode": {
    "name": "ipython",
    "version": 3
   },
   "file_extension": ".py",
   "mimetype": "text/x-python",
   "name": "python",
   "nbconvert_exporter": "python",
   "pygments_lexer": "ipython3",
   "version": "3.8.8"
  }
 },
 "nbformat": 4,
 "nbformat_minor": 5
}
