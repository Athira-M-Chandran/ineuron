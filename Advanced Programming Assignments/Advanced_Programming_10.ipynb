{
 "cells": [
  {
   "cell_type": "code",
   "execution_count": 3,
   "id": "34f64f3e",
   "metadata": {},
   "outputs": [],
   "source": [
    "import logging as lg"
   ]
  },
  {
   "cell_type": "code",
   "execution_count": 4,
   "id": "9029aa6d",
   "metadata": {},
   "outputs": [],
   "source": [
    "lg.basicConfig(filename = 'logging/assign_10.txt' , level = lg.DEBUG , format = ' %(asctime)s %(levelname)s %(message)s')"
   ]
  },
  {
   "cell_type": "markdown",
   "id": "6dac1dbf",
   "metadata": {},
   "source": [
    "#### 1. Create a function that takes the width, height and character and returns a picture frame as a 2D list.\n",
    "\n",
    "Examples\n",
    "\n",
    "get_frame(4, 5, \"#\") ➞ [\n",
    "  \n",
    "    [\"####\"],\n",
    "  \n",
    "    [\"#  #\"],\n",
    "  \n",
    "    [\"#  #\"],\n",
    "  \n",
    "    [\"#  #\"],\n",
    "  \n",
    "    [\"####\"]\n",
    "\n",
    "]\n",
    "\n",
    "#Frame is 4 characters wide and 5 characters tall.\n",
    "\n",
    "\n",
    "get_frame(10, 3, \"*\") ➞ [\n",
    "  \n",
    "  [\"**********\"],\n",
    "  \n",
    "  [\"*        *\"],\n",
    "  \n",
    "  [\"**********\"]\n",
    "\n",
    "]\n",
    "\n",
    "#Frame is 10 characters and wide and 3 characters tall.\n",
    "\n",
    "\n",
    "get_frame(2, 5, \"0\") ➞ \"invalid\"\n",
    "\n",
    "#Frame's width is not more than 2.\n"
   ]
  },
  {
   "cell_type": "code",
   "execution_count": 7,
   "id": "9d3437d4",
   "metadata": {},
   "outputs": [],
   "source": [
    "lg.info(\"\\n\\n Question 1 \\n\")\n",
    "\n",
    "def get_frame(width, height, pattern):\n",
    "    lg.info(str(width) +str(height) + pattern)\n",
    "    \n",
    "    try:\n",
    "        lst = []\n",
    "        if width < 3:\n",
    "            return \"Invalid\"\n",
    "        else:\n",
    "            \n",
    "            for i in range(height):\n",
    "                \n",
    "                if i in range(1,height-1):\n",
    "                    print('  ',[pattern + (' ' * (width-2))+pattern], end ='\\n')\n",
    "                else:\n",
    "                    print('  ',[pattern * width], end ='\\n')\n",
    "            \n",
    "        \n",
    "    except Exception as e:\n",
    "        lg.error(str(e))\n",
    "        return e\n"
   ]
  },
  {
   "cell_type": "code",
   "execution_count": 8,
   "id": "38457750",
   "metadata": {},
   "outputs": [
    {
     "name": "stdout",
     "output_type": "stream",
     "text": [
      "   ['####']\n",
      "   ['#  #']\n",
      "   ['#  #']\n",
      "   ['#  #']\n",
      "   ['####']\n"
     ]
    }
   ],
   "source": [
    "get_frame(4, 5, \"#\")"
   ]
  },
  {
   "cell_type": "code",
   "execution_count": 9,
   "id": "9a5f5cf6",
   "metadata": {},
   "outputs": [
    {
     "name": "stdout",
     "output_type": "stream",
     "text": [
      "   ['**********']\n",
      "   ['*        *']\n",
      "   ['**********']\n"
     ]
    }
   ],
   "source": [
    "get_frame(10, 3, \"*\")"
   ]
  },
  {
   "cell_type": "code",
   "execution_count": 10,
   "id": "34ac6fed",
   "metadata": {},
   "outputs": [
    {
     "data": {
      "text/plain": [
       "'Invalid'"
      ]
     },
     "execution_count": 10,
     "metadata": {},
     "output_type": "execute_result"
    }
   ],
   "source": [
    "get_frame(2, 5, \"0\") "
   ]
  },
  {
   "cell_type": "markdown",
   "id": "3f999d45",
   "metadata": {},
   "source": [
    "#### 2. Write three functions:\n",
    "\n",
    "  1. boolean_and\n",
    "  2. boolean_or\n",
    "  3. boolean_xor\n",
    "\n",
    "These functions should evaluate a list of True and False values, starting from the leftmost element and evaluating pairwise.\n",
    "\n",
    "Examples\n",
    "\n",
    "boolean_and([True, True, False, True]) ➞ False\n",
    "\n",
    "#[True, True, False, True] => [True, False, True] => [False, True] => False\n",
    "\n",
    "boolean_or([True, True, False, False]) ➞ True\n",
    "\n",
    "#[True, True, False, True] => [True, False, False] => [True, False] => True\n",
    "\n",
    "boolean_xor([True, True, False, False]) ➞ False\n",
    "\n",
    "#[True, True, False, False] => [False, False, False] => [False, False] => False\n"
   ]
  },
  {
   "cell_type": "code",
   "execution_count": 11,
   "id": "206fb77e",
   "metadata": {},
   "outputs": [],
   "source": [
    "lg.info(\"\\n\\n Question 2 \\n\")\n",
    "\n",
    "def boolean_and(lst):\n",
    "    lg.info(\"Boolean list(AND): \" +str(lst))\n",
    "    try:\n",
    "        a = lst[0]\n",
    "        b = lst[1]\n",
    "        for i in range(len(lst)-1):\n",
    "            result = a and lst[i+1]\n",
    "            a = result\n",
    "        lg.info(str(result))\n",
    "        return result\n",
    "            \n",
    "    except Exception as e:\n",
    "        lg.error(str(e))\n",
    "        return e\n",
    "    \n",
    "def boolean_or(lst):\n",
    "    lg.info(\"Boolean list(OR): \" +str(lst))\n",
    "    try:\n",
    "        a = lst[0]\n",
    "        b = lst[1]\n",
    "        for i in range(len(lst)-1):\n",
    "            result = a or lst[i+1]\n",
    "            a = result\n",
    "        lg.info(str(result))\n",
    "        return result\n",
    "            \n",
    "    except Exception as e:\n",
    "        lg.error(str(e))\n",
    "        return e\n",
    "\n",
    "def boolean_xor(lst):\n",
    "    lg.info(\"Boolean list(XOR): \" +str(lst))\n",
    "    try:\n",
    "        a = lst[0]\n",
    "        b = lst[1]\n",
    "        for i in range(len(lst)-1):\n",
    "            result = not(a or lst[i+1])\n",
    "            a = result\n",
    "        lg.info(str(result))\n",
    "        return result\n",
    "            \n",
    "    except Exception as e:\n",
    "        lg.error(str(e))\n",
    "        return e"
   ]
  },
  {
   "cell_type": "code",
   "execution_count": 12,
   "id": "80e952d1",
   "metadata": {},
   "outputs": [
    {
     "name": "stdout",
     "output_type": "stream",
     "text": [
      "False\n",
      "True\n",
      "False\n"
     ]
    }
   ],
   "source": [
    "print(boolean_and([True, True, False, True]) )\n",
    "print(boolean_or([True, True, False, False]))\n",
    "print(boolean_xor([True, True, False, False]))"
   ]
  },
  {
   "cell_type": "markdown",
   "id": "a7212cfa",
   "metadata": {},
   "source": [
    "#### 3. Create a function that creates a box based on dimension n.\n",
    "\n",
    "Examples\n",
    "\n",
    "make_box(5) ➞ [\n",
    "  \n",
    "  \"#####\",\n",
    "  \n",
    "  \"#   #\",\n",
    "  \n",
    "  \"#   #\",\n",
    "  \n",
    "  \"#   #\",\n",
    "  \n",
    "  \"#####\"\n",
    "\n",
    "]\n",
    "\n",
    "make_box(3) ➞ [\n",
    "  \n",
    "  \"###\",\n",
    "  \n",
    "  \"# #\",\n",
    "  \n",
    "  \"###\"\n",
    "]\n",
    "\n",
    "make_box(2) ➞ [\n",
    "  \n",
    "  \"##\",\n",
    "  \n",
    "  \"##\"\n",
    "\n",
    "]\n",
    "\n",
    "make_box(1) ➞ [\n",
    "  \n",
    "  \"#\"\n",
    "\n",
    "]\n",
    "\n"
   ]
  },
  {
   "cell_type": "code",
   "execution_count": 13,
   "id": "a96622c4",
   "metadata": {},
   "outputs": [],
   "source": [
    "lg.info(\"\\n\\n Question 3 \\n\")\n",
    "\n",
    "def make_box(n):\n",
    "    lg.info(str(n))\n",
    "    \n",
    "    try:\n",
    "        lst = []\n",
    "        \n",
    "        for i in range(n):\n",
    "            \n",
    "            if i in range(1,n-1):\n",
    "                lst.append('#' + (' ' * (n-2))+'#')\n",
    "                \n",
    "            else:\n",
    "                lst.append('#' * n)\n",
    "        lg.info(str(lst))     \n",
    "        return lst\n",
    "    except Exception as e:\n",
    "        lg.error(str(e))\n",
    "        return e\n"
   ]
  },
  {
   "cell_type": "code",
   "execution_count": 14,
   "id": "6a3ed26c",
   "metadata": {},
   "outputs": [
    {
     "name": "stdout",
     "output_type": "stream",
     "text": [
      "['#####', '#   #', '#   #', '#   #', '#####']\n",
      "#####\n",
      "#   #\n",
      "#   #\n",
      "#   #\n",
      "#####\n"
     ]
    }
   ],
   "source": [
    "print(make_box(5))\n",
    "for i in make_box(5):\n",
    "    print(i)"
   ]
  },
  {
   "cell_type": "markdown",
   "id": "c71605de",
   "metadata": {},
   "source": [
    "#### 4. Given a common phrase, return False if any individual word in the phrase contains duplicate letters. Return True otherwise.\n",
    "\n",
    "Examples\n",
    "\n",
    "no_duplicate_letters(\"Fortune favours the bold.\") ➞ True\n",
    "\n",
    "no_duplicate_letters(\"You can lead a horse to water, but you can't make him drink.\") ➞ True\n",
    "\n",
    "no_duplicate_letters(\"Look before you leap.\") ➞ False\n",
    "\n",
    "#Duplicate letters in \"Look\" and \"before\".\n",
    "\n",
    "no_duplicate_letters(\"An apple a day keeps the doctor away.\") ➞ False\n",
    "\n",
    "#Duplicate letters in \"apple\", \"keeps\", \"doctor\", and \"away\".\n",
    "\n"
   ]
  },
  {
   "cell_type": "code",
   "execution_count": 15,
   "id": "ff8b9376",
   "metadata": {},
   "outputs": [],
   "source": [
    "lg.info('\\n\\n Question 4 \\n')\n",
    "\n",
    "def no_duplicate_letters(string):\n",
    "    lg.info(string)\n",
    "    \n",
    "    try:\n",
    "        lst = string.split(' ')\n",
    "        for i in lst:\n",
    "            for j in i:\n",
    "                if i.count(j) >1:\n",
    "                    lg.info(\"False\")\n",
    "                    return False\n",
    "        lg.info(\"true\")\n",
    "        return True\n",
    "    \n",
    "    except Exception as e:\n",
    "        lg.error(str(e))\n",
    "        return e"
   ]
  },
  {
   "cell_type": "code",
   "execution_count": 16,
   "id": "1a9092e8",
   "metadata": {},
   "outputs": [
    {
     "name": "stdout",
     "output_type": "stream",
     "text": [
      "True\n",
      "True\n",
      "False\n",
      "False\n"
     ]
    }
   ],
   "source": [
    "print(no_duplicate_letters(\"Fortune favours the bold.\") )\n",
    "print(no_duplicate_letters(\"You can lead a horse to water, but you can't make him drink.\") )\n",
    "print(no_duplicate_letters(\"Look before you leap.\"))\n",
    "print(no_duplicate_letters(\"An apple a day keeps the doctor away.\"))"
   ]
  },
  {
   "cell_type": "markdown",
   "id": "b4648103",
   "metadata": {},
   "source": [
    "#### 5. Write a regular expression that will match the states that voted yes to President Trump's impeachment. You must use RegEx positive lookahead.\n",
    "\n",
    "Example\n",
    "\n",
    "txt = \"Texas = no, California = yes, Florida = yes, Michigan = no\"\n",
    "\n",
    "pattern = \"yourregularexpressionhere\"\n",
    "\n",
    "re.findall(pattern, txt) ➞ [\"California\", \"Florida\"]"
   ]
  },
  {
   "cell_type": "code",
   "execution_count": 17,
   "id": "599656d3",
   "metadata": {},
   "outputs": [
    {
     "data": {
      "text/plain": [
       "['California', 'Florida']"
      ]
     },
     "execution_count": 17,
     "metadata": {},
     "output_type": "execute_result"
    }
   ],
   "source": [
    "import re\n",
    "txt = \"Texas = no, California = yes, Florida = yes, Michigan = no\"\n",
    "\n",
    "pattern = r'\\w+(?= = yes)'\n",
    "\n",
    "re.findall(pattern, txt)"
   ]
  }
 ],
 "metadata": {
  "kernelspec": {
   "display_name": "Python 3",
   "language": "python",
   "name": "python3"
  },
  "language_info": {
   "codemirror_mode": {
    "name": "ipython",
    "version": 3
   },
   "file_extension": ".py",
   "mimetype": "text/x-python",
   "name": "python",
   "nbconvert_exporter": "python",
   "pygments_lexer": "ipython3",
   "version": "3.8.8"
  }
 },
 "nbformat": 4,
 "nbformat_minor": 5
}
