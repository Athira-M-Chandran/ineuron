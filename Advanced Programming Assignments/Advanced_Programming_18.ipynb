{
 "cells": [
  {
   "cell_type": "markdown",
   "id": "8b9cf668",
   "metadata": {},
   "source": [
    "#### 1. A robot has been given a list of movement instructions. Each instruction is either left, right, up or down, followed by a distance to move. The robot starts at [0, 0]. You want to calculate where the robot will end up and return its final position as a list.\n",
    "\n",
    "To illustrate, if the robot is given the following instructions:\n",
    "\n",
    "[\"right 10\", \"up 50\", \"left 30\", \"down 10\"]\n",
    "\n",
    "It will end up 20 left and 40 up from where it started, so we return [-20, 40].\n",
    "\n",
    "Examples\n",
    "\n",
    "track_robot([\"right 10\", \"up 50\", \"left 30\", \"down 10\"]) ➞ [-20, 40]\n",
    "\n",
    "track_robot([]) ➞ [0, 0]\n",
    "\n",
    "// If there are no instructions, the robot doesn't move.\n",
    "\n",
    "track_robot([\"right 100\", \"right 100\", \"up 500\", \"up 10000\"]) ➞ [200, 10500]\n"
   ]
  },
  {
   "cell_type": "code",
   "execution_count": 1,
   "id": "9e2d508e",
   "metadata": {},
   "outputs": [],
   "source": [
    "def track_robot(lst):\n",
    "    \n",
    "    h = 0\n",
    "    v =0\n",
    "    try:\n",
    "        for i in lst:\n",
    "            split = i.split(\" \")\n",
    "            if split[0] == \"right\":\n",
    "                h += int(split[1])\n",
    "            elif split[0] == \"left\": \n",
    "                h -= int(split[1])\n",
    "            elif split[0] == 'up':\n",
    "                v += int(split[1])\n",
    "            elif split[0] == 'down':\n",
    "                v -= int(split[1])\n",
    "        \n",
    "        return [h,v]\n",
    "    except Exception as e:\n",
    "        return e"
   ]
  },
  {
   "cell_type": "code",
   "execution_count": 2,
   "id": "e5310048",
   "metadata": {},
   "outputs": [
    {
     "name": "stdout",
     "output_type": "stream",
     "text": [
      "[-20, 40]\n",
      "[0, 0]\n",
      "[200, 10500]\n"
     ]
    }
   ],
   "source": [
    "print(track_robot([\"right 10\", \"up 50\", \"left 30\", \"down 10\"]))\n",
    "print(track_robot([]))\n",
    "print(track_robot([\"right 100\", \"right 100\", \"up 500\", \"up 10000\"]))"
   ]
  },
  {
   "cell_type": "markdown",
   "id": "0b48fd78",
   "metadata": {},
   "source": [
    "#### 2. Write a function that will return the longest word in a sentence. In cases where more than one word is found, return the first one.\n",
    "\n",
    "Examples\n",
    "\n",
    "find_longest(\"A thing of beauty is a joy forever.\") ➞ \"forever\"\n",
    "\n",
    "find_longest(\"Forgetfulness is by all means powerless!\") ➞ \"forgetfulness\"\n",
    "\n",
    "find_longest(\"\\\"Strengths\\\" is the longest and most commonly used word that contains only a single vowel.\") ➞ \"strengths\"\n"
   ]
  },
  {
   "cell_type": "code",
   "execution_count": 3,
   "id": "33a484e1",
   "metadata": {},
   "outputs": [],
   "source": [
    "import re\n",
    "def find_longest(string):\n",
    "    try:\n",
    "        string = re.sub(r'[^\\w\\s]', '', string)\n",
    "        string = string.split(\" \")\n",
    "        max_len = 0\n",
    "        for i in string:\n",
    "            if max_len < len(i):\n",
    "                max_len = len(i)\n",
    "        for i in string:\n",
    "            if max_len == len(i):\n",
    "                return i\n",
    "    except Exception as e:\n",
    "        return e"
   ]
  },
  {
   "cell_type": "code",
   "execution_count": 4,
   "id": "2201f1ff",
   "metadata": {},
   "outputs": [
    {
     "name": "stdout",
     "output_type": "stream",
     "text": [
      "forever\n",
      "Forgetfulness\n",
      "Strengths\n"
     ]
    }
   ],
   "source": [
    "print(find_longest(\"A thing of beauty is a joy forever.\"))\n",
    "print(find_longest(\"Forgetfulness is by all means powerless!\"))\n",
    "print(find_longest(\"'Strengths' is the longest and most commonly used word that contains only a single vowel.\"))"
   ]
  },
  {
   "cell_type": "markdown",
   "id": "5be0deb8",
   "metadata": {},
   "source": [
    "#### 3. Create a function to check if a candidate is qualified in an imaginary coding interview of an imaginary tech startup.\n",
    "\n",
    "The criteria for a candidate to be qualified in the coding interview is:\n",
    "\n",
    "   1. The candidate should have complete all the questions.\n",
    "   2. The maximum time given to complete the interview is 120 minutes.\n",
    "   3. The maximum time given for very easy questions is 5 minutes each.\n",
    "   4. The maximum time given for easy questions is 10 minutes each.\n",
    "   5. The maximum time given for medium questions is 15 minutes each.\n",
    "   6. The maximum time given for hard questions is 20 minutes each.\n",
    "\n",
    "If all the above conditions are satisfied, return \"qualified\", else return \"disqualified\".\n",
    "\n",
    "You will be given a list of time taken by a candidate to solve a particular question and the total time taken by the candidate to complete the interview.\n",
    "\n",
    "Given a list , in a true condition will always be in the format [very easy, very easy, easy, easy, medium, medium, hard, hard].\n",
    "\n",
    "The maximum time to complete the interview includes a buffer time of 20 minutes.\n",
    "\n",
    "Examples\n",
    "\n",
    "interview([5, 5, 10, 10, 15, 15, 20, 20], 120) ➞ \"qualified\"\n",
    "\n",
    "interview([2, 3, 8, 6, 5, 12, 10, 18], 64) ➞  \"qualified\"\n",
    "\n",
    "interview([5, 5, 10, 10, 25, 15, 20, 20], 120) ➞ \"disqualified\"\n",
    "\n",
    "#Exceeded the time limit for a medium question.\n",
    "\n",
    "interview([5, 5, 10, 10, 15, 15, 20], 120) ➞ \"disqualified\"\n",
    "\n",
    "#Did not complete all the questions.\n",
    "\n",
    "interview([5, 5, 10, 10, 15, 15, 20, 20], 130) ➞ \"disqualified\"\n",
    "\n",
    "#Solved all the questions in their respected time limits but exceeded the total time limit of the interview.\n"
   ]
  },
  {
   "cell_type": "code",
   "execution_count": 5,
   "id": "6eadf32b",
   "metadata": {},
   "outputs": [],
   "source": [
    "def interview(marks,time):\n",
    "    try:\n",
    "        if len(marks) != 8 or time > 120:\n",
    "            return 'Disqualified'\n",
    "        else:\n",
    "            if marks[0] <= 5 and marks[1] <= 5 and marks[2] <= 10 and marks[3] <= 10 and marks[4] <= 15 and marks[5] <=15 and marks[6] <= 20 and marks[7] <= 20:\n",
    "                return \"Qualified\"\n",
    "            else:\n",
    "                return \"Disqualified\"\n",
    "    except Exception as e:\n",
    "        return e"
   ]
  },
  {
   "cell_type": "code",
   "execution_count": 6,
   "id": "bcffc9d5",
   "metadata": {},
   "outputs": [
    {
     "name": "stdout",
     "output_type": "stream",
     "text": [
      "Qualified\n",
      "Qualified\n",
      "Disqualified\n",
      "Disqualified\n",
      "Disqualified\n"
     ]
    }
   ],
   "source": [
    "print(interview([5, 5, 10, 10, 15, 15, 20, 20], 120))\n",
    "print(interview([2, 3, 8, 6, 5, 12, 10, 18], 64))\n",
    "print(interview([5, 5, 10, 10, 25, 15, 20, 20], 120))\n",
    "print(interview([5, 5, 10, 10, 15, 15, 20], 120))\n",
    "print(interview([5, 5, 10, 10, 15, 15, 20, 20], 130))"
   ]
  },
  {
   "cell_type": "markdown",
   "id": "d6817c2c",
   "metadata": {},
   "source": [
    "#### 4. Write a function that divides a list into chunks of size n, where n is the length of each chunk.\n",
    "\n",
    "Examples\n",
    "\n",
    "chunkify([2, 3, 4, 5], 2) ➞ [[2, 3], [4, 5]]\n",
    "\n",
    "chunkify([2, 3, 4, 5, 6], 2) ➞ [[2, 3], [4, 5], [6]]\n",
    "\n",
    "chunkify([2, 3, 4, 5, 6, 7], 3) ➞ [[2, 3, 4], [5, 6, 7]]\n",
    "\n",
    "chunkify([2, 3, 4, 5, 6, 7], 1) ➞ [[2], [3], [4], [5], [6], [7]]\n",
    "\n",
    "chunkify([2, 3, 4, 5, 6, 7], 7) ➞ [[2, 3, 4, 5, 6, 7]]"
   ]
  },
  {
   "cell_type": "code",
   "execution_count": 7,
   "id": "29dc4b28",
   "metadata": {},
   "outputs": [],
   "source": [
    "from math import ceil\n",
    "def chunkify(chunks,size):\n",
    "    try:\n",
    "        part = int(ceil(len(chunks)/size))\n",
    "        l = []\n",
    "        n =0\n",
    "        \n",
    "        for s in range(part):\n",
    "            l.append([])\n",
    "            \n",
    "            for j in chunks[n:n+size]:\n",
    "                l[s].append(j)\n",
    "                n += 1\n",
    "                \n",
    "        return l\n",
    "        \n",
    "            \n",
    "    except Exception as e:\n",
    "        return e"
   ]
  },
  {
   "cell_type": "code",
   "execution_count": 8,
   "id": "7e0da57e",
   "metadata": {},
   "outputs": [
    {
     "name": "stdout",
     "output_type": "stream",
     "text": [
      "[[2, 3], [4, 5]]\n",
      "[[2, 3], [4, 5], [6]]\n",
      "[[2, 3, 4], [5, 6, 7]]\n",
      "[[2], [3], [4], [5], [6], [7]]\n",
      "[[2, 3, 4, 5, 6, 7]]\n"
     ]
    }
   ],
   "source": [
    "print(chunkify([2, 3, 4, 5], 2))\n",
    "print(chunkify([2, 3, 4, 5, 6], 2))\n",
    "print(chunkify([2, 3, 4, 5, 6, 7], 3))\n",
    "print(chunkify([2, 3, 4, 5, 6, 7], 1))\n",
    "print(chunkify([2, 3, 4, 5, 6, 7], 7))"
   ]
  },
  {
   "cell_type": "markdown",
   "id": "f6b6ae26",
   "metadata": {},
   "source": [
    "#### 5. You are given a list of strings consisting of grocery items, with prices in parentheses. Return a list of prices in float format.\n",
    "\n",
    "Examples\n",
    "\n",
    "get_prices([\"salad ($4.99)\"]) ➞ [4.99]\n",
    "\n",
    "get_prices([\n",
    "  \n",
    "    \"artichokes ($1.99)\",\n",
    "    \n",
    "    \"rotiserrie chicken ($5.99)\",\n",
    "  \n",
    "    \"gum ($0.75)\"\n",
    "\n",
    "])\n",
    "\n",
    "➞ [1.99, 5.99, 0.75]\n",
    "\n",
    "get_prices([\n",
    "  \n",
    "    \"ice cream ($5.99)\",\n",
    "  \n",
    "    \"banana ($0.20)\",\n",
    "  \n",
    "    \"sandwich ($8.50)\",\n",
    "  \n",
    "    \"soup ($1.99)\"\n",
    "\n",
    "])\n",
    "\n",
    "➞ [5.99, 0.2, 8.50, 1.99]"
   ]
  },
  {
   "cell_type": "code",
   "execution_count": 9,
   "id": "561dde65",
   "metadata": {},
   "outputs": [],
   "source": [
    "\n",
    "def get_prices(lst):\n",
    "    try:\n",
    "        l =[]\n",
    "        for i in lst:\n",
    "            s = i.split(\"($\")\n",
    "            l.append(float(s[1].replace(\")\",\"\")))\n",
    "            \n",
    "        return l\n",
    "    except Exception as e:\n",
    "        return e"
   ]
  },
  {
   "cell_type": "code",
   "execution_count": 10,
   "id": "977a759d",
   "metadata": {},
   "outputs": [
    {
     "data": {
      "text/plain": [
       "[1.99, 5.99, 0.75]"
      ]
     },
     "execution_count": 10,
     "metadata": {},
     "output_type": "execute_result"
    }
   ],
   "source": [
    "get_prices([\n",
    "\n",
    "\"artichokes ($1.99)\",\n",
    "\n",
    "\"rotiserrie chicken ($5.99)\",\n",
    "\n",
    "\"gum ($0.75)\"\n",
    "])"
   ]
  }
 ],
 "metadata": {
  "kernelspec": {
   "display_name": "Python 3",
   "language": "python",
   "name": "python3"
  },
  "language_info": {
   "codemirror_mode": {
    "name": "ipython",
    "version": 3
   },
   "file_extension": ".py",
   "mimetype": "text/x-python",
   "name": "python",
   "nbconvert_exporter": "python",
   "pygments_lexer": "ipython3",
   "version": "3.8.8"
  }
 },
 "nbformat": 4,
 "nbformat_minor": 5
}
