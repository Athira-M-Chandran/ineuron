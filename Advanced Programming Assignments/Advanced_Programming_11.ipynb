{
 "cells": [
  {
   "cell_type": "code",
   "execution_count": 2,
   "id": "05b6bff9",
   "metadata": {},
   "outputs": [],
   "source": [
    "import logging as lg"
   ]
  },
  {
   "cell_type": "code",
   "execution_count": 3,
   "id": "9f05b7a5",
   "metadata": {},
   "outputs": [],
   "source": [
    "lg.basicConfig(filename = 'logging/assign_11.txt' , level = lg.DEBUG , format = ' %(asctime)s %(levelname)s %(message)s')"
   ]
  },
  {
   "cell_type": "markdown",
   "id": "54fe6333",
   "metadata": {},
   "source": [
    "#### 1. Create a function that takes a list and returns a new list containing only prime numbers.\n",
    "\n",
    "Examples\n",
    "\n",
    "filter_primes([7, 9, 3, 9, 10, 11, 27]) ➞ [7, 3, 11]\n",
    "\n",
    "filter_primes([10007, 1009, 1007, 27, 147, 77, 1001, 70]) ➞ [10007, 1009]\n",
    "\n",
    "filter_primes([1009, 10, 10, 10, 3, 33, 9, 4, 1, 61, 63, 69, 1087, 1091, 1093, 1097]) ➞ [1009, 3, 61, 1087, 1091, 1093, 1097]\n",
    "\n"
   ]
  },
  {
   "cell_type": "code",
   "execution_count": 3,
   "id": "543757c1",
   "metadata": {},
   "outputs": [],
   "source": [
    "lg.info(\"\\n\\n Question 1 \\n\")\n",
    "def filter_primes(lst):\n",
    "    ''' function that takes a list and returns a new list containing only prime numbers.'''\n",
    "    \n",
    "    lg.info(\"list of numbers : \" +str(lst))\n",
    "    \n",
    "    try:\n",
    "        primes = []\n",
    "        flag = 0\n",
    "        \n",
    "        for i in lst:\n",
    "            if i == 2:\n",
    "                primes.append(i)\n",
    "            else:\n",
    "                for j in range(2,i):\n",
    "                    if i % j == 0:\n",
    "                        flag =0\n",
    "                        break\n",
    "                    else:\n",
    "                        flag = 1\n",
    "                if flag == 1:\n",
    "                        primes.append(i)\n",
    "                       \n",
    "        lg.info(\"Prime numbers in list are: \" +str(primes))\n",
    "        return primes\n",
    "                \n",
    "        \n",
    "    except Exception as e:\n",
    "        lg.error(\"Error Occured: \" +str(e))\n",
    "        return e"
   ]
  },
  {
   "cell_type": "code",
   "execution_count": 4,
   "id": "bb1cb092",
   "metadata": {},
   "outputs": [
    {
     "data": {
      "text/plain": [
       "[1009, 3, 61, 1087, 1091, 1093, 1097]"
      ]
     },
     "execution_count": 4,
     "metadata": {},
     "output_type": "execute_result"
    }
   ],
   "source": [
    "filter_primes([1009, 10, 10, 10, 3, 33, 9, 4, 1, 61, 63, 69, 1087, 1091, 1093, 1097])"
   ]
  },
  {
   "cell_type": "markdown",
   "id": "637c7f09",
   "metadata": {},
   "source": [
    "#### 2. Once a water balloon pops, is soaks the area around it. The ground gets drier the further away you travel from the balloon.\n",
    "\n",
    "The effect of a water balloon popping can be modeled using a list. Create a function that takes a list which takes the pre-pop state and returns the state after the balloon is popped. The pre-pop state will contain at most a single balloon, whose size is represented by the only non-zero element.\n",
    "\n",
    "Examples\n",
    "\n",
    "pop([0, 0, 0, 0, 4, 0, 0, 0, 0]) ➞ [0, 1, 2, 3, 4, 3, 2, 1, 0]\n",
    "\n",
    "pop([0, 0, 0, 3, 0, 0, 0]) ➞ [0, 1, 2, 3, 2, 1, 0]\n",
    "\n",
    "pop([0, 0, 2, 0, 0]) ➞ [0, 1, 2, 1, 0]\n",
    "\n",
    "pop([0]) ➞ [0]\n"
   ]
  },
  {
   "cell_type": "code",
   "execution_count": 5,
   "id": "98874cd1",
   "metadata": {},
   "outputs": [],
   "source": [
    "lg.info(\"\\n\\n Question 2 \\n\")\n",
    "\n",
    "def pop(lst):\n",
    "    '''function takes a list which takes the pre-pop state and returns the state after the balloon is popped.'''\n",
    "    lg.info(str(lst))\n",
    "    \n",
    "    try:\n",
    "        ele = 0\n",
    "        for i in range(len(lst)//2 + 1):\n",
    "            if lst[i]==0:\n",
    "                lst.pop(i)\n",
    "                lst.insert(i,i)\n",
    "            else:\n",
    "                ele = i\n",
    "                \n",
    "        del lst[ele+1:]\n",
    "        rev = lst[::-1]\n",
    "        lst.extend(rev[1:])\n",
    "        \n",
    "        lg.info(str(lst))\n",
    "        return lst\n",
    "    \n",
    "    except Exception as e :\n",
    "        lg.error(str(e))\n",
    "        return e"
   ]
  },
  {
   "cell_type": "code",
   "execution_count": 6,
   "id": "c10a3425",
   "metadata": {},
   "outputs": [
    {
     "data": {
      "text/plain": [
       "[0, 1, 2, 3, 4, 3, 2, 1, 0]"
      ]
     },
     "execution_count": 6,
     "metadata": {},
     "output_type": "execute_result"
    }
   ],
   "source": [
    "pop([0, 0, 0, 0, 4, 0, 0, 0, 0])"
   ]
  },
  {
   "cell_type": "markdown",
   "id": "f2d6407b",
   "metadata": {},
   "source": [
    "#### 3. \"Loves me, loves me not\" is a traditional game in which a person plucks off all the petals of a flower one by one, saying the phrase \"Loves me\" and \"Loves me not\" when determining whether the one that they love, loves them back.\n",
    "\n",
    "Given a number of petals, return a string which repeats the phrases \"Loves me\" and \"Loves me not\" for every alternating petal, and return the last phrase in all caps. Remember to put a comma and space between phrases.\n",
    "\n",
    "Examples\n",
    "\n",
    "loves_me(3) ➞ \"Loves me, Loves me not, LOVES ME\"\n",
    "\n",
    "loves_me(6) ➞ \"Loves me, Loves me not, Loves me, Loves me not, Loves me, LOVES ME NOT\"\n",
    "\n",
    "loves_me(1) ➞ \"LOVES ME\"\n"
   ]
  },
  {
   "cell_type": "code",
   "execution_count": 7,
   "id": "9912ddf5",
   "metadata": {},
   "outputs": [],
   "source": [
    "lg.info(\"\\n\\n Question 3 \\n\")\n",
    "\n",
    "def loves_me(n):\n",
    "    lg.info(\"Loves me\")\n",
    "    \n",
    "    try:\n",
    "        love = ''\n",
    "        str1 = \"loves me\".capitalize()\n",
    "        str2 = \"loves me not\".capitalize()\n",
    "        for i in range(1,n+1):\n",
    "            \n",
    "            if i % 2 != 0:\n",
    "                \n",
    "                if i == n:\n",
    "                    love += str1.upper()\n",
    "                else:\n",
    "                    \n",
    "                    love += str1 + ','\n",
    "                    \n",
    "            else:\n",
    "                if i == n:\n",
    "                    love += str2.upper()\n",
    "                else:\n",
    "                    love += str2 + ','\n",
    "                    \n",
    "        lg.info(love)\n",
    "        return love\n",
    "    \n",
    "    except Exception as e:\n",
    "        lg.error(str(e))\n",
    "        return e"
   ]
  },
  {
   "cell_type": "code",
   "execution_count": 8,
   "id": "14554dfb",
   "metadata": {},
   "outputs": [
    {
     "data": {
      "text/plain": [
       "'Loves me,Loves me not,Loves me,Loves me not,Loves me,LOVES ME NOT'"
      ]
     },
     "execution_count": 8,
     "metadata": {},
     "output_type": "execute_result"
    }
   ],
   "source": [
    "loves_me(6) "
   ]
  },
  {
   "cell_type": "markdown",
   "id": "5bdc8c36",
   "metadata": {},
   "source": [
    "#### 4. Write a function that sorts each string in a list by the letter in alphabetic ascending order (a-z).\n",
    "\n",
    "Examples\n",
    "\n",
    "sort_by_letter([\"932c\", \"832u32\", \"2344b\"])\n",
    "\n",
    "➞ [\"2344b\", \"932c\", \"832u32\"]\n",
    "\n",
    "sort_by_letter([\"99a\", \"78b\", \"c2345\", \"11d\"])\n",
    "\n",
    "➞ [\"99a\", \"78b\", \"c2345\", \"11d\"]\n",
    "\n",
    "\n",
    "sort_by_letter([\"572z\", \"5y5\", \"304q2\"])\n",
    "\n",
    "➞ [\"304q2\", \"5y5\", \"572z\"]\n",
    "\n",
    "sort_by_letter([])\n",
    "\n",
    "➞ []\n"
   ]
  },
  {
   "cell_type": "code",
   "execution_count": 1,
   "id": "f1eb4170",
   "metadata": {},
   "outputs": [],
   "source": [
    "import re"
   ]
  },
  {
   "cell_type": "code",
   "execution_count": 4,
   "id": "18d62487",
   "metadata": {},
   "outputs": [],
   "source": [
    "lg.info(\"\\n\\n Question 4\\n\")\n",
    "\n",
    "def sort_by_letter(lst):\n",
    "    lg.info(str(lst))\n",
    "    \n",
    "    alphabets = []\n",
    "    result = []\n",
    "    try:\n",
    "        \n",
    "        for n in range(len(lst)):\n",
    "            alphabets.append(re.findall(r'[a-zA-Z]', lst[n]))\n",
    "\n",
    "        e = sorted(alphabets)\n",
    "        for i in e:\n",
    "            for j in lst:\n",
    "                if ''.join(i) in j:\n",
    "                    result.append(j)\n",
    "        lg.info(\"Result : \" +str(result))\n",
    "        return result\n",
    "    except Exception as e:\n",
    "        lg.error(str(e))\n",
    "        return e"
   ]
  },
  {
   "cell_type": "code",
   "execution_count": 5,
   "id": "b99bad53",
   "metadata": {},
   "outputs": [
    {
     "data": {
      "text/plain": [
       "['2344b', '932c', '832u32']"
      ]
     },
     "execution_count": 5,
     "metadata": {},
     "output_type": "execute_result"
    }
   ],
   "source": [
    "sort_by_letter([\"932c\", \"832u32\", \"2344b\"])"
   ]
  },
  {
   "cell_type": "code",
   "execution_count": 6,
   "id": "bbd7f622",
   "metadata": {},
   "outputs": [
    {
     "data": {
      "text/plain": [
       "['304q2', '5y5', '572z']"
      ]
     },
     "execution_count": 6,
     "metadata": {},
     "output_type": "execute_result"
    }
   ],
   "source": [
    "sort_by_letter([\"572z\", \"5y5\", \"304q2\"])"
   ]
  },
  {
   "attachments": {
    "assign_11.jpg": {
     "image/jpeg": "[encoded data removed]"
    }
   },
   "cell_type": "markdown",
   "id": "f83eb0f8",
   "metadata": {},
   "source": [
    "#### 5. There are three cups on a table, at positions A, B, and C. At the start, there is a ball hidden under the cup at position B.\n",
    "\n",
    "![assign_11.jpg](attachment:assign_11.jpg)\n",
    "\n",
    "However, I perform several swaps on the cups, which is notated as two letters. For example, if I swap the cups at positions A and B, I could notate this as AB or BA.\n",
    "\n",
    "Create a function that returns the letter position that the ball is at, once I finish swapping the cups. The swaps will be given to you as a list.\n",
    "\n",
    "Example\n",
    "\n",
    "cup_swapping([\"AB\", \"CA\", \"AB\"]) ➞ \"C\"\n",
    "\n",
    "Ball begins at position B.\n",
    "Cups A and B swap, so the ball is at position A.\n",
    "Cups C and A swap, so the ball is at position C.\n",
    "Cups A and B swap, but the ball is at position C, so it doesn't move.\n",
    "\n"
   ]
  },
  {
   "cell_type": "code",
   "execution_count": null,
   "id": "119421c6",
   "metadata": {},
   "outputs": [],
   "source": []
  }
 ],
 "metadata": {
  "kernelspec": {
   "display_name": "Python 3",
   "language": "python",
   "name": "python3"
  },
  "language_info": {
   "codemirror_mode": {
    "name": "ipython",
    "version": 3
   },
   "file_extension": ".py",
   "mimetype": "text/x-python",
   "name": "python",
   "nbconvert_exporter": "python",
   "pygments_lexer": "ipython3",
   "version": "3.8.8"
  }
 },
 "nbformat": 4,
 "nbformat_minor": 5
}
