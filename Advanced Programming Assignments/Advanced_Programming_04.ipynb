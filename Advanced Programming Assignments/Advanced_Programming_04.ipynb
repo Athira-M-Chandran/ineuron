{
 "cells": [
  {
   "cell_type": "code",
   "execution_count": 1,
   "id": "465ac9ab",
   "metadata": {},
   "outputs": [],
   "source": [
    "import logging as lg"
   ]
  },
  {
   "cell_type": "code",
   "execution_count": 2,
   "id": "e807c920",
   "metadata": {},
   "outputs": [],
   "source": [
    "lg.basicConfig(filename = 'logging/assign_4.log' , level = lg.DEBUG , format = '%(asctime)s %(levelname)s %(message)s')"
   ]
  },
  {
   "attachments": {
    "asgn_4.jpg": {
     "image/jpeg": "[encoded data removed]"
    }
   },
   "cell_type": "markdown",
   "id": "2c7b4e2d",
   "metadata": {},
   "source": [
    "1. In mathematics, the Fibonacci numbers, commonly denoted Fn, form a sequence, called the Fibonacci sequence, such that each number is the sum of the two preceding ones, starting from 0 and 1:\n",
    "\n",
    " \n",
    "![asgn_4.jpg](attachment:asgn_4.jpg)\n",
    "\n",
    "\n",
    "\n",
    "The beginning of the sequence is this:\n",
    "\n",
    "0, 1, 1, 2, 3, 5, 8, 13, 21, 34, 55, 89, 144, ...\n",
    "\n",
    "The function fastFib(num) returns the fibonacci number Fn, of the given num as an argument.\n",
    "\n",
    "Examples\n",
    "\n",
    "\n",
    "fib_fast(5) ➞ 5\n",
    "\n",
    "fib_fast(10) ➞ 55\n",
    "\n",
    "fib_fast(20) ➞ 6765\n",
    "\n",
    "fib_fast(50) ➞ 12586269025\n"
   ]
  },
  {
   "cell_type": "code",
   "execution_count": 3,
   "id": "2af64edc",
   "metadata": {},
   "outputs": [],
   "source": [
    "lg.info(\"\\n\\n Question 1 \\n\")\n",
    "\n",
    "def fib_fast(n):\n",
    "    \n",
    "    lg.info(\"fib of \" + str(n))\n",
    "    \n",
    "    try:\n",
    "        f1 = 0\n",
    "        f2 = 1\n",
    "        for i in range(n-1):\n",
    "            fn =f1 + f2\n",
    "            f1 = f2\n",
    "            f2 = fn\n",
    "        lg.info(\"Fibnocci num is \" + str(fn))\n",
    "        return fn\n",
    "    \n",
    "    except Exception as e:\n",
    "        \n",
    "        lg.error(\"Error Occured \" +str(e))\n",
    "        return ('Error occured : ' ,e)"
   ]
  },
  {
   "cell_type": "code",
   "execution_count": 4,
   "id": "ea6169ca",
   "metadata": {},
   "outputs": [
    {
     "data": {
      "text/plain": [
       "6765"
      ]
     },
     "execution_count": 4,
     "metadata": {},
     "output_type": "execute_result"
    }
   ],
   "source": [
    "fib_fast(20)"
   ]
  },
  {
   "cell_type": "markdown",
   "id": "534891b0",
   "metadata": {},
   "source": [
    "#### 2. Create a function that takes a strings characters as ASCII and returns each characters hexadecimal value as a string.\n",
    "\n",
    "Examples\n",
    "\n",
    "convert_to_hex(\"hello world\") ➞ \"68 65 6c 6c 6f 20 77 6f 72 6c 64\"\n",
    "\n",
    "convert_to_hex(\"Big Boi\") ➞ \"42 69 67 20 42 6f 69\"\n",
    "\n",
    "convert_to_hex(\"Marty Poppinson\") ➞ \"4d 61 72 74 79 20 50 6f 70 70 69 6e 73 6f 6e\"\n",
    "\n",
    "\n"
   ]
  },
  {
   "cell_type": "code",
   "execution_count": 5,
   "id": "3844649e",
   "metadata": {},
   "outputs": [],
   "source": [
    "lg.info(\"\\n\\n Question 2 \\n\")\n",
    "\n",
    "def convert_to_hex(string):\n",
    "    lg.info(\"String to be converted: \" +str(string))\n",
    "    \n",
    "    try:\n",
    "        \n",
    "        hex_value =''\n",
    "        \n",
    "        for i in string:\n",
    "            hex_value += ' '+ str(hex(ord(i))[2:])\n",
    "        \n",
    "        lg.info(\"hex value is: \" + hex_value.strip())\n",
    "        return hex_value.strip()\n",
    "    \n",
    "    except Exception as e:\n",
    "        \n",
    "        lg.error(\"Error Occured: \" +str(e))\n",
    "        return (\"Error occured : \" ,e)"
   ]
  },
  {
   "cell_type": "code",
   "execution_count": 6,
   "id": "f7076a46",
   "metadata": {},
   "outputs": [
    {
     "data": {
      "text/plain": [
       "'4d 61 72 74 79 20 50 6f 70 70 69 6e 73 6f 6e'"
      ]
     },
     "execution_count": 6,
     "metadata": {},
     "output_type": "execute_result"
    }
   ],
   "source": [
    "convert_to_hex(\"Marty Poppinson\")"
   ]
  },
  {
   "cell_type": "markdown",
   "id": "eb66b3d8",
   "metadata": {},
   "source": [
    "#### 3. Someone has attempted to censor my strings by replacing every vowel with a * , l* k* th* s. Luckily, I've been able to find the vowels that were removed.\n",
    "\n",
    "Given a censored string and a string of the censored vowels, return the original uncensored string.\n",
    "\n",
    "Example\n",
    "\n",
    "uncensor(\"Wh* r* d* d my v* w* ls g*?\", \"eeioeo\") ➞ \"Where did my vowels go?\"\n",
    "\n",
    "uncensor(\"abcd\", \"\") ➞ \"abcd\"\n",
    "\n",
    "uncensor(\"* PP* RC* S*\", \"UEAE\") ➞ \"UPPERCASE\"\n"
   ]
  },
  {
   "cell_type": "code",
   "execution_count": 7,
   "id": "a3abf618",
   "metadata": {},
   "outputs": [],
   "source": [
    "lg.info(\"\\n\\n Question 3 \\n\" )\n",
    "\n",
    "def uncensor(string, vowels) :\n",
    "    \n",
    "    lg.info(\"string without vowel : \" +string)\n",
    "    \n",
    "    try:\n",
    "        \n",
    "        j =0\n",
    "        for i in range(len(string)):\n",
    "            if string[i] == '*':\n",
    "                \n",
    "                string = string.replace(string[i],vowels[j],1)\n",
    "                j += 1\n",
    "        \n",
    "        lg.info(\"String with vowels : \" + string)\n",
    "        return string\n",
    "    \n",
    "    except Exception as e:\n",
    "        \n",
    "        lg.error(\"Error Ocurred : \" +str(e))\n",
    "        return \"error occured\" ,e"
   ]
  },
  {
   "cell_type": "code",
   "execution_count": 8,
   "id": "d59b69de",
   "metadata": {},
   "outputs": [
    {
     "name": "stdout",
     "output_type": "stream",
     "text": [
      "Where did my vowels go?\n",
      "abcd\n",
      "UPPERCASE\n"
     ]
    }
   ],
   "source": [
    "print(uncensor(\"Wh*r* d*d my v*w*ls g*?\", \"eeioeo\"))\n",
    "print(uncensor(\"abcd\", \"\"))\n",
    "print(uncensor(\"*PP*RC*S*\", \"UEAE\")) "
   ]
  },
  {
   "cell_type": "markdown",
   "id": "dd843976",
   "metadata": {},
   "source": [
    "#### 4. Write a function that takes an IP address and returns the domain name using PTR DNS records.\n",
    "\n",
    "Example\n",
    "\n",
    "get_domain(\"8.8.8.8\") ➞ \"dns.google\"\n",
    "\n",
    "get_domain(\"8.8.4.4\") ➞ \"dns.google\"\n"
   ]
  },
  {
   "cell_type": "code",
   "execution_count": 9,
   "id": "43c8c419",
   "metadata": {},
   "outputs": [],
   "source": [
    "import socket\n",
    "\n",
    "lg.info(\"\\n\\n Question 4 \\n\")\n",
    "\n",
    "def get_domain(ip_address):\n",
    "    \n",
    "    lg.info(\"ip address :\" + str(ip_address))\n",
    "    \n",
    "    try:\n",
    "        domain_name = socket.gethostbyaddr(ip_address)[0]\n",
    "        lg.info(\"Domain name : \" + domain_name)\n",
    "        return domain_name\n",
    "    \n",
    "    except Exception as e:\n",
    "        lg.error(\"Error Occured : \" +str(e))\n",
    "        return \"Error Occured : \" ,e"
   ]
  },
  {
   "cell_type": "code",
   "execution_count": 10,
   "id": "fbc6fa2f",
   "metadata": {},
   "outputs": [
    {
     "data": {
      "text/plain": [
       "'dns.google'"
      ]
     },
     "execution_count": 10,
     "metadata": {},
     "output_type": "execute_result"
    }
   ],
   "source": [
    "get_domain(\"8.8.8.8\")"
   ]
  },
  {
   "cell_type": "code",
   "execution_count": 11,
   "id": "6ee9adfd",
   "metadata": {},
   "outputs": [
    {
     "data": {
      "text/plain": [
       "'dns.google'"
      ]
     },
     "execution_count": 11,
     "metadata": {},
     "output_type": "execute_result"
    }
   ],
   "source": [
    "get_domain(\"8.8.4.4\") "
   ]
  },
  {
   "cell_type": "markdown",
   "id": "f5c31729",
   "metadata": {},
   "source": [
    "#### 5. Create a function that takes an integer n and returns the factorial of factorials. See below examples for a better understanding:\n",
    "\n",
    "Examples\n",
    "\n",
    "fact_of_fact(4) ➞ 288\n",
    "\n",
    "#4! * 3! * 2! * 1! = 288\n",
    "\n",
    "fact_of_fact(5) ➞ 34560\n",
    "\n",
    "fact_of_fact(6) ➞ 24883200"
   ]
  },
  {
   "cell_type": "code",
   "execution_count": 12,
   "id": "179a523d",
   "metadata": {},
   "outputs": [],
   "source": [
    "lg.info(\"\\n\\n Question 5. \\n\")\n",
    "\n",
    "def fact_of_fact(n):\n",
    "    \n",
    "    lg.info(\"Factorial of factorial of : \" +str(n))\n",
    "       \n",
    "    factorial = 1\n",
    "    m = n\n",
    "    try:\n",
    "        for i in range(1,n+1):\n",
    "        \n",
    "            while m > 0:\n",
    "                factorial = factorial * m\n",
    "                m -= 1\n",
    "        \n",
    "            m = n\n",
    "            m -= i\n",
    "        lg.info(\"Factorial of factorial is \" + str(factorial))\n",
    "        return factorial\n",
    "    \n",
    "    except Exception as e:\n",
    "        \n",
    "        lg.error(\"Error occured: \" +str(e))\n",
    "        return \"Error Occured :\" ,e"
   ]
  },
  {
   "cell_type": "code",
   "execution_count": 13,
   "id": "f4db3af5",
   "metadata": {},
   "outputs": [
    {
     "data": {
      "text/plain": [
       "24883200"
      ]
     },
     "execution_count": 13,
     "metadata": {},
     "output_type": "execute_result"
    }
   ],
   "source": [
    "fact_of_fact(6) "
   ]
  }
 ],
 "metadata": {
  "kernelspec": {
   "display_name": "Python 3",
   "language": "python",
   "name": "python3"
  },
  "language_info": {
   "codemirror_mode": {
    "name": "ipython",
    "version": 3
   },
   "file_extension": ".py",
   "mimetype": "text/x-python",
   "name": "python",
   "nbconvert_exporter": "python",
   "pygments_lexer": "ipython3",
   "version": "3.8.8"
  }
 },
 "nbformat": 4,
 "nbformat_minor": 5
}
