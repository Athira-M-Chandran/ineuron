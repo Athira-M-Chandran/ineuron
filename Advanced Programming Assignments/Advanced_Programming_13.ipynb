{
 "cells": [
  {
   "cell_type": "code",
   "execution_count": 10,
   "id": "8867304e",
   "metadata": {},
   "outputs": [],
   "source": [
    "import logging as lg"
   ]
  },
  {
   "cell_type": "code",
   "execution_count": 11,
   "id": "818b0b4d",
   "metadata": {},
   "outputs": [],
   "source": [
    "lg.basicConfig(filename = 'logging/assign_13.log' , level = lg.DEBUG , format = '%(asctime)s %(levelname)s %(message)s')"
   ]
  },
  {
   "cell_type": "markdown",
   "id": "e01aece0",
   "metadata": {},
   "source": [
    "#### 1. Create a function that takes a list and string. The function should remove the letters in the string from the list, and return the list.\n",
    "\n",
    "Examples\n",
    "\n",
    "remove_letters([\"s\", \"t\", \"r\", \"i\", \"n\", \"g\", \"w\"], \"string\") ➞ [\"w\"]\n",
    "\n",
    "remove_letters([\"b\", \"b\", \"l\", \"l\", \"g\", \"n\", \"o\", \"a\", \"w\"], \"balloon\") ➞ [\"b\", \"g\", \"w\"]\n",
    "\n",
    "remove_letters([\"d\", \"b\", \"t\", \"e\", \"a\", \"i\"], \"edabit\") ➞ []\n"
   ]
  },
  {
   "cell_type": "code",
   "execution_count": 5,
   "id": "041e2d24",
   "metadata": {},
   "outputs": [],
   "source": [
    "lg.info(\"\\n\\n Question1 \\n\")\n",
    "def remove_letters(lst, string):\n",
    "    lg.info(\"list is \" +str(lst) +'and string is ' + str(string))\n",
    "    \n",
    "    try:\n",
    "        for i in string:\n",
    "            if i in lst:\n",
    "                lst.remove(i)\n",
    "        \n",
    "        lg.info(\"Output is \" +str(lst))\n",
    "        return lst\n",
    "    except Exception as e:\n",
    "        lg.error(\"error Occurred : \" +str(e))\n",
    "        return e"
   ]
  },
  {
   "cell_type": "code",
   "execution_count": 6,
   "id": "c5037e28",
   "metadata": {},
   "outputs": [
    {
     "data": {
      "text/plain": [
       "['b', 'g', 'w']"
      ]
     },
     "execution_count": 6,
     "metadata": {},
     "output_type": "execute_result"
    }
   ],
   "source": [
    "remove_letters([\"b\", \"b\", \"l\", \"l\", \"g\", \"n\", \"o\", \"a\", \"w\"], \"balloon\") "
   ]
  },
  {
   "attachments": {
    "assign_13.jpg": {
     "image/jpeg": "[encoded data removed]"
    }
   },
   "cell_type": "markdown",
   "id": "8acddf9d",
   "metadata": {},
   "source": [
    "#### 2. A block sequence in three dimensions. We can write a formula for this one:\n",
    "    \n",
    "   \n",
    "   ![assign_13.jpg](attachment:assign_13.jpg)\n",
    "    \n",
    "\n",
    " Create a function that takes a number (step) as an argument and returns the amount of blocks in that step.\n",
    "\n",
    "Examples\n",
    "\n",
    "blocks(1) ➞ 5\n",
    "\n",
    "blocks(5) ➞ 39\n",
    "\n",
    "blocks(2) ➞ 12"
   ]
  },
  {
   "cell_type": "code",
   "execution_count": 8,
   "id": "482e3157",
   "metadata": {},
   "outputs": [],
   "source": [
    "lg.info(\"\\n\\n Question2 \\n\")\n",
    "def blocks(step):\n",
    "    lg.info(\"total steps are : \" +str(step))\n",
    "    try:\n",
    "        bloc = 0\n",
    "        for i in range(1,step):\n",
    "            bloc += i \n",
    "        bloc += (step *3) + 2 + (3 * (step-1))\n",
    "    \n",
    "        lg.info(\"number of blocks is :\" + str(bloc))\n",
    "        return bloc\n",
    "\n",
    "    except Exception as e:\n",
    "        lg.error(\"Error Occurred :\" +str(e))\n",
    "        return e"
   ]
  },
  {
   "cell_type": "code",
   "execution_count": 9,
   "id": "f5313799",
   "metadata": {},
   "outputs": [
    {
     "name": "stdout",
     "output_type": "stream",
     "text": [
      "5\n",
      "39\n",
      "12\n"
     ]
    }
   ],
   "source": [
    "print(blocks(1))\n",
    "print(blocks(5))\n",
    "print(blocks(2))"
   ]
  },
  {
   "cell_type": "markdown",
   "id": "77f4eb78",
   "metadata": {},
   "source": [
    "#### 3. Create a function that subtracts one positive integer from another, without using any arithmetic operators such as -, %, /, +, etc.\n",
    "\n",
    "Examples\n",
    "\n",
    "my_sub(5, 9) ➞ 4\n",
    "\n",
    "my_sub(10, 30) ➞ 20\n",
    "\n",
    "my_sub(0, 0) ➞ 0\n"
   ]
  },
  {
   "cell_type": "code",
   "execution_count": null,
   "id": "4b4a4ea2",
   "metadata": {},
   "outputs": [],
   "source": []
  },
  {
   "cell_type": "markdown",
   "id": "89e1a735",
   "metadata": {},
   "source": [
    "#### 4. Create a function that takes a string containing money in dollars and pounds sterling (seperated by comma) and returns the sum of dollar bills only, as an integer.\n",
    "\n",
    "For the input string:\n",
    "\n",
    "   - Each amount is prefixed by the currency symbol: $ for dollars and £ for pounds.\n",
    "   - Thousands are represented by the suffix k.\n",
    "\n",
    "i.e. $4k = $4,000 and £40k = £40,000\n",
    "\n",
    "Examples\n",
    "\n",
    "add_bill(\"d20,p40,p60,d50\") ➞ 20 + 50 = 70\n",
    "\n",
    "add_bill(\"p30,d20,p60,d150,p360\") ➞ 20  + 150 = 170\n",
    "\n",
    "add_bill(\"p30,d2k,p60,d200,p360\") ➞ 2 * 1000 + 200 = 2200\n",
    "\n"
   ]
  },
  {
   "cell_type": "code",
   "execution_count": 14,
   "id": "286132ea",
   "metadata": {},
   "outputs": [],
   "source": [
    "lg.info(\"\\n\\n Question 4 \\n\")\n",
    "def add_bill(*args):\n",
    "    \n",
    "    try:\n",
    "        dollar_bills = 0\n",
    "        for i in args:\n",
    "            for j in i.split(','):\n",
    "                lg.info(\"Input is \" + str(j))\n",
    "                if j[0]=='d':\n",
    "                    if 'k' in j[1:]:\n",
    "                        dollar_bills += 1000 * int(j[1:(j.index('k'))])\n",
    "                    else:\n",
    "                        dollar_bills += int(j[1:])\n",
    "        lg.info(\"Output is :\" + str(dollar_bills))\n",
    "        return dollar_bills\n",
    "    \n",
    "    except Exception as e:\n",
    "        lg.error(\"Error Occured :\" +str(e))\n",
    "        return e"
   ]
  },
  {
   "cell_type": "code",
   "execution_count": 15,
   "id": "7464a4b9",
   "metadata": {},
   "outputs": [
    {
     "name": "stdout",
     "output_type": "stream",
     "text": [
      "70\n",
      "170\n",
      "2200\n"
     ]
    }
   ],
   "source": [
    "print(add_bill(\"d20,p40,p60,d50\"))\n",
    "print(add_bill(\"p30,d20,p60,d150,p360\"))\n",
    "print(add_bill(\"p30,d2k,p60,d200,p360\"))"
   ]
  },
  {
   "cell_type": "markdown",
   "id": "f225b558",
   "metadata": {},
   "source": [
    "#### 5. Create a function that flips a horizontal list into a vertical list, and a vertical list into a horizontal list.\n",
    "\n",
    "In other words, take an 1 x n list (1 row + n columns) and flip it into a n x 1 list (n rows and 1 column), and vice versa.\n",
    "\n",
    "Examples\n",
    "\n",
    "flip_list([1, 2, 3, 4]) ➞ [[1], [2], [3], [4]]\n",
    "\n",
    "#Take a horizontal list and flip it vertical.\n",
    "\n",
    "flip_list([[5], [6], [9]]) ➞ [5, 6, 9]\n",
    "\n",
    "#Take a vertical list and flip it horizontal.\n",
    "\n",
    "flip_list([]) ➞ []\n",
    "\n"
   ]
  },
  {
   "cell_type": "code",
   "execution_count": 7,
   "id": "306bc20f",
   "metadata": {},
   "outputs": [],
   "source": [
    "lg.info(\"\\n\\n Question 5 \\n\")\n",
    "\n",
    "def flip_list(lst):\n",
    "    lg.info(\"Input List is : \" +str(lst))\n",
    "    try:\n",
    "        flip = []\n",
    "        for i in lst:\n",
    "            if type(i) == list:\n",
    "                for j in i:\n",
    "                    flip.append(j)\n",
    "\n",
    "            else:\n",
    "                flip.append([i])\n",
    "        lg.info(\"Output is : \" +str(flip))\n",
    "        return flip\n",
    "    except Exception as e:\n",
    "        lg.info(\"Error Occured :\" +str(e))\n",
    "        return e"
   ]
  },
  {
   "cell_type": "code",
   "execution_count": 8,
   "id": "fae2f7c3",
   "metadata": {},
   "outputs": [
    {
     "name": "stdout",
     "output_type": "stream",
     "text": [
      "[[1], [2], [3], [4]]\n",
      "[5, 6, 9]\n",
      "[]\n"
     ]
    }
   ],
   "source": [
    "print(flip_list([1, 2, 3, 4]))\n",
    "print(flip_list([[5], [6], [9]]))\n",
    "print(flip_list([]))"
   ]
  }
 ],
 "metadata": {
  "kernelspec": {
   "display_name": "Python 3",
   "language": "python",
   "name": "python3"
  },
  "language_info": {
   "codemirror_mode": {
    "name": "ipython",
    "version": 3
   },
   "file_extension": ".py",
   "mimetype": "text/x-python",
   "name": "python",
   "nbconvert_exporter": "python",
   "pygments_lexer": "ipython3",
   "version": "3.8.8"
  }
 },
 "nbformat": 4,
 "nbformat_minor": 5
}
