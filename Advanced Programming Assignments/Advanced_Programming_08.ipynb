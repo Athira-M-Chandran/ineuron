{
 "cells": [
  {
   "cell_type": "code",
   "execution_count": 1,
   "id": "28c266a7",
   "metadata": {},
   "outputs": [],
   "source": [
    "import logging as lg"
   ]
  },
  {
   "cell_type": "code",
   "execution_count": 2,
   "id": "0ff0d0d8",
   "metadata": {},
   "outputs": [],
   "source": [
    "lg.basicConfig(filename = \"logging/assign_08\" , level = lg.DEBUG , format = '%(asctime)s %(levelname)s %(message)s')"
   ]
  },
  {
   "cell_type": "markdown",
   "id": "a04a8863",
   "metadata": {},
   "source": [
    "#### 1. Given a sentence as txt, return True if any two adjacent words have this property: One word ends with a vowel, while the word immediately after begins with a vowel (a e i o u).\n",
    "\n",
    "Examples\n",
    "\n",
    "vowel_links(\"a very large appliance\") ➞ True\n",
    "\n",
    "vowel_links(\"go to edabit\") ➞ True\n",
    "\n",
    "vowel_links(\"an open fire\") ➞ False\n",
    "\n",
    "vowel_links(\"a sudden applause\") ➞ False\n"
   ]
  },
  {
   "cell_type": "code",
   "execution_count": 3,
   "id": "0f2e2fc0",
   "metadata": {},
   "outputs": [],
   "source": [
    "lg.info(\"\\n\\n Question 1 \\n\")\n",
    "\n",
    "def vowel_links(txt):\n",
    "    '''return True if any two adjacent words have this property: One word ends with a vowel,\n",
    "    while the word immediately after begins with a vowel (a e i o u).'''\n",
    "    lg.info(txt)\n",
    "    \n",
    "    try:\n",
    "        txt_list = txt.split()\n",
    "        length = len(txt_list)\n",
    "        vowels = ['a','e','i','o','u']\n",
    "        for i in range(length-1):\n",
    "            if txt_list[i][-1] in vowels:\n",
    "                if txt_list[i+1][0] in vowels:\n",
    "                    lg.info(\"True\")\n",
    "                    return True\n",
    "        lg.info(\"False\")\n",
    "        return False\n",
    "     \n",
    "    except Exception as e:\n",
    "        lg.error(\"Error Occured : \" +str(e))\n",
    "        return \"Errror Occured : \" ,e"
   ]
  },
  {
   "cell_type": "code",
   "execution_count": 4,
   "id": "ca98f68f",
   "metadata": {},
   "outputs": [
    {
     "data": {
      "text/plain": [
       "False"
      ]
     },
     "execution_count": 4,
     "metadata": {},
     "output_type": "execute_result"
    }
   ],
   "source": [
    "vowel_links(\"a sudden applause\") "
   ]
  },
  {
   "cell_type": "markdown",
   "id": "bdd0a41c",
   "metadata": {},
   "source": [
    "#### 2. You are given three inputs: a string, one letter, and a second letter.\n",
    "\n",
    "Write a function that returns True if every instance of the first letter occurs before every instance of the second letter.\n",
    "\n",
    "Examples\n",
    "\n",
    "first_before_second(\"a rabbit jumps joyfully\", \"a\", \"j\") ➞ True\n",
    "\n",
    "#Every instance of \"a\" occurs before every instance of \"j\".\n",
    "\n",
    "first_before_second(\"knaves knew about waterfalls\", \"k\", \"w\") ➞  True\n",
    "\n",
    "first_before_second(\"happy birthday\", \"a\", \"y\") ➞ False\n",
    "\n",
    "#The \"a\" in \"birthday\" occurs after the \"y\" in \"happy\".\n",
    "\n",
    "first_before_second(\"precarious kangaroos\", \"k\", \"a\") ➞ False\n"
   ]
  },
  {
   "cell_type": "code",
   "execution_count": 5,
   "id": "4ddc1c9b",
   "metadata": {},
   "outputs": [],
   "source": [
    "lg.info(\"\\n\\n Question 2 \\n\")\n",
    "\n",
    "def first_before_second(text,first , second):\n",
    "    '''function that returns True if every instance of the first letter occurs before every instance of the second letter.'''\n",
    "    lg.info(text + first + second)\n",
    "    try:\n",
    "        for i in range(text.find(second)+1, len(text)):\n",
    "            if text[i] == first:\n",
    "                lg.info(\"False\")\n",
    "                return False\n",
    "            \n",
    "        lg.info(\"True\")\n",
    "        return True\n",
    "    \n",
    "    except Exception as e:\n",
    "        lg.info(\"Error Occured : \" +str(e))\n",
    "        return \"Error Occured \" ,e"
   ]
  },
  {
   "cell_type": "code",
   "execution_count": 6,
   "id": "ea851958",
   "metadata": {},
   "outputs": [
    {
     "data": {
      "text/plain": [
       "True"
      ]
     },
     "execution_count": 6,
     "metadata": {},
     "output_type": "execute_result"
    }
   ],
   "source": [
    "first_before_second(\"a rabbit jumps joyfully\", \"a\", \"j\")"
   ]
  },
  {
   "cell_type": "markdown",
   "id": "afc92ef6",
   "metadata": {},
   "source": [
    "#### 3. Create a function that returns the characters from a list or string r on odd or even positions, depending on the specifier s. The specifier will be \"odd\" for items on odd positions (1, 3, 5, ...) and \"even\" for items on even positions (2, 4, 6, ...).\n",
    "\n",
    "Examples\n",
    "\n",
    "char_at_pos([2, 4, 6, 8, 10], \"even\") ➞ [4, 8]\n",
    "\n",
    "#4 & 8 occupy the 2nd & 4th positions\n",
    "\n",
    "char_at_pos(\"EDABIT\", \"odd\") ➞ \"EAI\"\n",
    "\n",
    "#\"E\", \"A\" and \"I\" occupy the 1st, 3rd and 5th positions\n",
    "\n",
    "char_at_pos([\"A\", \"R\", \"B\", \"I\", \"T\", \"R\", \"A\", \"R\", \"I\", \"L\", \"Y\"], \"odd\") ➞ [\"A\", \"B\", \"T\", \"A\", \"I\", \"Y\"]\n"
   ]
  },
  {
   "cell_type": "code",
   "execution_count": 7,
   "id": "93285f2e",
   "metadata": {},
   "outputs": [],
   "source": [
    "lg.info(\"\\n\\n Question 3 \\n\")\n",
    "\n",
    "def char_at_pos(string,s):\n",
    "    '''function that returns the characters from a list or string r on odd or even positions,\n",
    "    depending on the specifier s. '''\n",
    "    \n",
    "    lg.info(str(string) + str(s))\n",
    "    \n",
    "    try:\n",
    "        ch = []\n",
    "        if s == \"odd\":\n",
    "            for i in range(0,len(string),2):\n",
    "                ch.append(string[i])\n",
    "        elif s == 'even':\n",
    "            for i in range(0,len(string)-1,2):\n",
    "                ch.append(string[i+1])\n",
    "        if type(string) == str:\n",
    "            lg.info(''.join(ch))\n",
    "            return ''.join(ch)\n",
    "        else:\n",
    "            lg.info(ch)\n",
    "            return ch\n",
    "    \n",
    "    except Exception as e:\n",
    "        lg.error(\"Error Occured : \" +str(e))\n",
    "        return \"Error Occured : \" ,e"
   ]
  },
  {
   "cell_type": "code",
   "execution_count": 8,
   "id": "cfa57c4c",
   "metadata": {},
   "outputs": [
    {
     "data": {
      "text/plain": [
       "'EAI'"
      ]
     },
     "execution_count": 8,
     "metadata": {},
     "output_type": "execute_result"
    }
   ],
   "source": [
    "char_at_pos(\"EDABIT\", \"odd\") "
   ]
  },
  {
   "cell_type": "code",
   "execution_count": 9,
   "id": "24081bcf",
   "metadata": {},
   "outputs": [
    {
     "data": {
      "text/plain": [
       "['A', 'B', 'T', 'A', 'I', 'Y']"
      ]
     },
     "execution_count": 9,
     "metadata": {},
     "output_type": "execute_result"
    }
   ],
   "source": [
    "char_at_pos([\"A\", \"R\", \"B\", \"I\", \"T\", \"R\", \"A\", \"R\", \"I\", \"L\", \"Y\"], \"odd\") "
   ]
  },
  {
   "cell_type": "markdown",
   "id": "60a24dcf",
   "metadata": {},
   "source": [
    "#### 4. Write a function that returns the greatest common divisor of all list elements. If the greatest common divisor is 1, return 1.\n",
    "\n",
    "Examples\n",
    "\n",
    "GCD([10, 20, 40]) ➞ 10\n",
    "\n",
    "GCD([1, 2, 3, 100]) ➞ 1\n",
    "\n",
    "GCD([1024, 192, 2048, 512]) ➞ 64\n",
    "\n"
   ]
  },
  {
   "cell_type": "code",
   "execution_count": 10,
   "id": "8cda0ac2",
   "metadata": {},
   "outputs": [],
   "source": [
    "from math import gcd\n",
    "from functools import reduce"
   ]
  },
  {
   "cell_type": "code",
   "execution_count": 11,
   "id": "3918b668",
   "metadata": {},
   "outputs": [],
   "source": [
    "lg.info(\"\\n\\n Question 4 \\n\")\n",
    "\n",
    "def GCD(lst):\n",
    "    '''function that returns the greatest common divisor of all list elements.'''\n",
    "    lg.info(str(lst))\n",
    "    \n",
    "    try:\n",
    "        g = reduce(gcd,lst)\n",
    "        \n",
    "        lg.info(str(g))\n",
    "        return g\n",
    "    \n",
    "    except Exception as e:\n",
    "        lg.error(\"Error Occured : \" +str(e))\n",
    "        return \"Error Occured : \", e"
   ]
  },
  {
   "cell_type": "code",
   "execution_count": 12,
   "id": "db96cd1e",
   "metadata": {},
   "outputs": [
    {
     "data": {
      "text/plain": [
       "64"
      ]
     },
     "execution_count": 12,
     "metadata": {},
     "output_type": "execute_result"
    }
   ],
   "source": [
    "GCD([1024, 192, 2048, 512]) "
   ]
  },
  {
   "cell_type": "markdown",
   "id": "4670fe91",
   "metadata": {},
   "source": [
    "#### 5. A number/string is a palindrome if the digits/characters are the same when read both forward and backward. Examples include \"racecar\" and 12321. Given a positive number n, check if n or the binary representation of n is palindromic. Return the following:\n",
    "\n",
    "- \"Decimal only.\" if only n is a palindrome.\n",
    "\n",
    "- \"Binary only.\" if only the binary representation of n is a palindrome.\n",
    "\n",
    "- \"Decimal and binary.\" if both are palindromes.\n",
    "\n",
    "- \"Neither!\" if neither are palindromes.\n",
    "\n",
    "Examples\n",
    "\n",
    "palindrome_type(1306031) ➞ \"Decimal only.\"\n",
    "\n",
    "#decimal = 1306031\n",
    "\n",
    "#binary  = \"100111110110110101111\"\n",
    "\n",
    "palindrome_type(427787) ➞ \"Binary only.\"\n",
    "\n",
    "#decimal = 427787\n",
    "\n",
    "#binary  = \"1101000011100001011\"\n",
    "\n",
    "palindrome_type(313) ➞ \"Decimal and binary.\"\n",
    "\n",
    "#decimal = 313\n",
    "\n",
    "#binary  = 100111001\n",
    "\n",
    "palindrome_type(934) ➞ \"Neither!\"\n",
    "\n",
    "#decimal = 934\n",
    "\n",
    "#binary  = \"1110100110\""
   ]
  },
  {
   "cell_type": "code",
   "execution_count": 13,
   "id": "695b5903",
   "metadata": {},
   "outputs": [],
   "source": [
    "lg.info(\"\\n\\n Question 5. \\n\")\n",
    "\n",
    "def palindrome_type(num):\n",
    "    '''Given a positive number n, check if n or the binary representation of n is palindromic. '''\n",
    "    \n",
    "    lg.info(str(num))\n",
    "    \n",
    "    try:\n",
    "        decimal_bin = bin(num).replace(\"0b\" , \"\")\n",
    "        num = str(num)\n",
    "        \n",
    "        if num == num[::-1]:\n",
    "            \n",
    "            if decimal_bin == decimal_bin[::-1]:\n",
    "                lg.info(\"DEcimal and binary\")\n",
    "                return \"Decimal and Binary\"\n",
    "            else:\n",
    "                lg.info(\"decimal only\")\n",
    "                return \"Decimal only\"\n",
    "        \n",
    "        elif decimal_bin == decimal_bin[::-1]:\n",
    "            \n",
    "            lg.info(\"Binary Only\")\n",
    "            return \"Binary Only\"\n",
    "        \n",
    "        else:\n",
    "            \n",
    "            lg.info(\"Neither!!\")\n",
    "            return \"Neither!!\"\n",
    "        \n",
    "    \n",
    "    except Exception as e:\n",
    "        \n",
    "        lg.error(\"error Occured : \" +str(e))\n",
    "        return \"Error Occured \" ,e"
   ]
  },
  {
   "cell_type": "code",
   "execution_count": 14,
   "id": "8a5bc648",
   "metadata": {},
   "outputs": [
    {
     "data": {
      "text/plain": [
       "'Decimal only'"
      ]
     },
     "execution_count": 14,
     "metadata": {},
     "output_type": "execute_result"
    }
   ],
   "source": [
    "palindrome_type(1306031) "
   ]
  },
  {
   "cell_type": "code",
   "execution_count": 15,
   "id": "8598ba68",
   "metadata": {},
   "outputs": [
    {
     "data": {
      "text/plain": [
       "'Binary Only'"
      ]
     },
     "execution_count": 15,
     "metadata": {},
     "output_type": "execute_result"
    }
   ],
   "source": [
    "palindrome_type(427787)"
   ]
  },
  {
   "cell_type": "code",
   "execution_count": 16,
   "id": "9940af85",
   "metadata": {},
   "outputs": [
    {
     "data": {
      "text/plain": [
       "'Decimal and Binary'"
      ]
     },
     "execution_count": 16,
     "metadata": {},
     "output_type": "execute_result"
    }
   ],
   "source": [
    "palindrome_type(313)"
   ]
  },
  {
   "cell_type": "code",
   "execution_count": 17,
   "id": "cb145057",
   "metadata": {},
   "outputs": [
    {
     "data": {
      "text/plain": [
       "'Neither!!'"
      ]
     },
     "execution_count": 17,
     "metadata": {},
     "output_type": "execute_result"
    }
   ],
   "source": [
    "palindrome_type(934)"
   ]
  }
 ],
 "metadata": {
  "kernelspec": {
   "display_name": "Python 3",
   "language": "python",
   "name": "python3"
  },
  "language_info": {
   "codemirror_mode": {
    "name": "ipython",
    "version": 3
   },
   "file_extension": ".py",
   "mimetype": "text/x-python",
   "name": "python",
   "nbconvert_exporter": "python",
   "pygments_lexer": "ipython3",
   "version": "3.8.8"
  }
 },
 "nbformat": 4,
 "nbformat_minor": 5
}
