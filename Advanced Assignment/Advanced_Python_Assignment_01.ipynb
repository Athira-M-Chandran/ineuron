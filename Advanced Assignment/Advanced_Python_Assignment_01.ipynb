{
 "cells": [
  {
   "cell_type": "markdown",
   "id": "8e15d8b9",
   "metadata": {},
   "source": [
    "#### Q1. What is the purpose of Python's OOP?\n"
   ]
  },
  {
   "cell_type": "markdown",
   "id": "f0b01aaa",
   "metadata": {},
   "source": [
    "In Python, object-oriented Programming (OOPs) is a programming paradigm that uses **objects and classes** in programming. It aims to **implement real-world entities** like **inheritance, polymorphisms, encapsulation** etc. in the programming. The main concept of OOPs is to **bind the data and the functions** that work on that together as a single unit so that no other part of the code can access this data. "
   ]
  },
  {
   "cell_type": "markdown",
   "id": "d64ae2d6",
   "metadata": {},
   "source": [
    "#### Q2. Where does an inheritance search look for an attribute?\n"
   ]
  },
  {
   "cell_type": "markdown",
   "id": "4b3974de",
   "metadata": {},
   "source": [
    "The inheritance search happens in bottom up (**Lookup Hierarchy**) fashion. its starts from Object.Attribute and search all the way up to the parent class to find the first occurrence of attribute by looking in object, then in all classes above it, from **bottom to top** and then **left to right(Method Resolution Order - MRO)**"
   ]
  },
  {
   "cell_type": "markdown",
   "id": "9077fd77",
   "metadata": {},
   "source": [
    "#### Q3. How do you distinguish between a class object and an instance object?\n"
   ]
  },
  {
   "cell_type": "markdown",
   "id": "98885e97",
   "metadata": {},
   "source": [
    "A class is like a form or questionaire . It defines the needed information. After you fill out the form, your specific copy is an instance of the class. It contains actual information relevent to you."
   ]
  },
  {
   "cell_type": "markdown",
   "id": "9c9c97f3",
   "metadata": {},
   "source": [
    "#### Q4. What makes the first argument in a class’s method function special?\n"
   ]
  },
  {
   "cell_type": "markdown",
   "id": "8624ac56",
   "metadata": {},
   "source": [
    "The first positional argument is always a variable that references the class instances . This variable is universally named **self**. After self argument, you can specify any other arguments required to create an instance of the class"
   ]
  },
  {
   "cell_type": "markdown",
   "id": "6e80fde9",
   "metadata": {},
   "source": [
    "#### Q5. What is the purpose of the __init__ method?\n",
    "    "
   ]
  },
  {
   "cell_type": "markdown",
   "id": "e8dcaeb1",
   "metadata": {},
   "source": [
    "To define the properties(**instance attributes**) , that all class objects must have , you need to define a special method called __init__(). This method is run everytime a new class object is created and tells Python what the **initial state**."
   ]
  },
  {
   "cell_type": "markdown",
   "id": "f8e81c85",
   "metadata": {},
   "source": [
    "#### Q6. What is the process for creating a class instance?\n"
   ]
  },
  {
   "cell_type": "markdown",
   "id": "5b169ea7",
   "metadata": {},
   "source": [
    "First **define class**\n",
    "Then creating a blue print of it (**instantiating new object**)"
   ]
  },
  {
   "cell_type": "code",
   "execution_count": 1,
   "id": "93d7a3a0",
   "metadata": {},
   "outputs": [],
   "source": [
    "# This creates a new 'Animal' class with noo attributes and methods.\n",
    "class Animal:\n",
    "    pass\n"
   ]
  },
  {
   "cell_type": "code",
   "execution_count": 2,
   "id": "d28afb2b",
   "metadata": {},
   "outputs": [],
   "source": [
    "# Instantiate a new 'Animal' object\n",
    "Animal()\n",
    "\n",
    "# Another way\n",
    "a = Animal()"
   ]
  },
  {
   "cell_type": "markdown",
   "id": "b9ce4da1",
   "metadata": {},
   "source": [
    "#### Q7. What is the process for creating a class?\n"
   ]
  },
  {
   "cell_type": "markdown",
   "id": "160b7c20",
   "metadata": {},
   "source": [
    "Classes are used to create **userdefined data structures** that contain data pretaining to some object.\n",
    "\n",
    "Classes also contain special function called methods, that define behaviours and actions that an object can perform with its data.\n",
    "\n",
    "A class can create using a **keyword class** followed by **class name** and a **colon**."
   ]
  },
  {
   "cell_type": "code",
   "execution_count": 3,
   "id": "f6e870e4",
   "metadata": {},
   "outputs": [],
   "source": [
    "# Example of an empty class:\n",
    "\n",
    "class Dog:\n",
    "    pass"
   ]
  },
  {
   "cell_type": "markdown",
   "id": "5f9a9506",
   "metadata": {},
   "source": [
    "#### Q8. How would you define the superclasses of a class?"
   ]
  },
  {
   "cell_type": "markdown",
   "id": "c4aff533",
   "metadata": {},
   "source": [
    "The superclass is also known as the **parent class or base class**."
   ]
  },
  {
   "cell_type": "code",
   "execution_count": 4,
   "id": "e109dc27",
   "metadata": {},
   "outputs": [],
   "source": [
    "# Here Human is the super class / base class/ parent class of Male class and Female class\n",
    "class Human:\n",
    "    pass\n",
    "\n",
    "# Male class is the child class of class Human\n",
    "class Male(Human):\n",
    "    pass\n",
    "\n",
    "# Female class is the child class of class Human\n",
    "class Female(Human):\n",
    "    pass"
   ]
  }
 ],
 "metadata": {
  "kernelspec": {
   "display_name": "Python 3",
   "language": "python",
   "name": "python3"
  },
  "language_info": {
   "codemirror_mode": {
    "name": "ipython",
    "version": 3
   },
   "file_extension": ".py",
   "mimetype": "text/x-python",
   "name": "python",
   "nbconvert_exporter": "python",
   "pygments_lexer": "ipython3",
   "version": "3.8.8"
  }
 },
 "nbformat": 4,
 "nbformat_minor": 5
}
