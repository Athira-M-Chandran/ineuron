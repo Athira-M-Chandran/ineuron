{
 "cells": [
  {
   "cell_type": "markdown",
   "id": "56b531b5",
   "metadata": {},
   "source": [
    "#### Q1. What is the relationship between classes and modules?\n"
   ]
  },
  {
   "cell_type": "markdown",
   "id": "bcd3626f",
   "metadata": {},
   "source": [
    "- class is used to define a blueprint for a given object, whereas a module is used to reuse a given piece of code inside another program.\n",
    "\n",
    "- A class can have its own instance, but a module cannot be instantiated.\n",
    "\n",
    "- 'class' keyword is used to define a class, whereas to use modules, use the 'import' keyword.\n",
    "\n",
    "- Modules are files present inside a package, whereas a class is used to encapsulate data and functions together inside the same unit."
   ]
  },
  {
   "cell_type": "markdown",
   "id": "c1dbc03f",
   "metadata": {},
   "source": [
    "#### Q2. How do you make instances and classes?\n"
   ]
  },
  {
   "cell_type": "markdown",
   "id": "a05cd7a0",
   "metadata": {},
   "source": [
    "Instance is an object build from a class that contains real data.\n",
    "\n",
    "eg. If Dog is a class with attributes name and age. Then an instance can build from class Dog with a name, like Tommy, who's age is four."
   ]
  },
  {
   "cell_type": "markdown",
   "id": "97c8e5b1",
   "metadata": {},
   "source": [
    "#### Q3. Where and how should be class attributes created?\n"
   ]
  },
  {
   "cell_type": "code",
   "execution_count": 1,
   "id": "c6b8fd2c",
   "metadata": {},
   "outputs": [],
   "source": [
    "class Dog:\n",
    "    # class attribute\n",
    "    species = \"Canies familiaris\"\n",
    "    def __init__(self):\n",
    "        pass"
   ]
  },
  {
   "cell_type": "markdown",
   "id": "5de526fc",
   "metadata": {},
   "source": [
    "Use class attribute whenever a property should have the same initial value for all instances of a class."
   ]
  },
  {
   "cell_type": "markdown",
   "id": "f6bd07e5",
   "metadata": {},
   "source": [
    "#### Q4. Where and how are instance attributes created?\n"
   ]
  },
  {
   "cell_type": "markdown",
   "id": "80d0e4ae",
   "metadata": {},
   "source": [
    "To define instance attributes (properties of class) , define a special method called **__init__()**. This method run everytime a new class object is created and tells Python what the inital state.\n",
    "\n",
    "Example shown below:"
   ]
  },
  {
   "cell_type": "code",
   "execution_count": 2,
   "id": "801e06bc",
   "metadata": {},
   "outputs": [],
   "source": [
    "class Dog:\n",
    "    def __init__(self,name,age):\n",
    "        self.name = name\n",
    "        self.age = age"
   ]
  },
  {
   "cell_type": "markdown",
   "id": "11fa3f1a",
   "metadata": {},
   "source": [
    "#### Q5. What does the term \"self\" in a Python class mean?\n"
   ]
  },
  {
   "cell_type": "markdown",
   "id": "6c83054e",
   "metadata": {},
   "source": [
    "The first positional argument of __init__() is always a **variable that references the class instances** is known ass self."
   ]
  },
  {
   "cell_type": "markdown",
   "id": "73290b13",
   "metadata": {},
   "source": [
    "#### Q6. How does a Python class handle operator overloading?\n"
   ]
  },
  {
   "cell_type": "markdown",
   "id": "21924734",
   "metadata": {},
   "source": [
    "By using the following magical method:\n",
    "    \n",
    "     Operator                 Majic Method\n",
    "        \n",
    "        +                    __add__(self,other)\n",
    "        -                    __sub__(self,other)\n",
    "        *                    __mul__(self,other)\n",
    "        /                    __div__(self,other)\n",
    "        <                    __lt__(self,other)\n",
    "        >                    __gt__(self,other)\n",
    "        >=                   __ge__(self,other) \n",
    "        %                    __mod__(self,other)\n",
    "        **                   __pow__(self,other)\n",
    "        \n",
    "        and many more.."
   ]
  },
  {
   "cell_type": "markdown",
   "id": "21870c3b",
   "metadata": {},
   "source": [
    "#### Q7. When do you consider allowing operator overloading of your classes?\n"
   ]
  },
  {
   "cell_type": "markdown",
   "id": "9c18f52e",
   "metadata": {},
   "source": [
    "Consider that we have two objects which are a physical representation of a class (user-defined data type) and we have to add two objects with binary ‘+’ operator it throws an error, because compiler don’t know how to add two objects. So we define a method for an operator and that process is called operator overloading."
   ]
  },
  {
   "cell_type": "markdown",
   "id": "7161fdb8",
   "metadata": {},
   "source": [
    "#### Q8. What is the most popular form of operator overloading?\n"
   ]
  },
  {
   "cell_type": "markdown",
   "id": "21db5cbe",
   "metadata": {},
   "source": [
    "A very popular and convenient example is the Addition (+) operator.It performs “Addition” on numbers whereas it performs “Concatenation” on strings."
   ]
  },
  {
   "cell_type": "markdown",
   "id": "d444fe9a",
   "metadata": {},
   "source": [
    "#### Q9. What are the two most important concepts to grasp in order to comprehend Python OOP code?"
   ]
  },
  {
   "cell_type": "markdown",
   "id": "bbc735b7",
   "metadata": {},
   "source": [
    "classes and objects"
   ]
  }
 ],
 "metadata": {
  "kernelspec": {
   "display_name": "Python 3",
   "language": "python",
   "name": "python3"
  },
  "language_info": {
   "codemirror_mode": {
    "name": "ipython",
    "version": 3
   },
   "file_extension": ".py",
   "mimetype": "text/x-python",
   "name": "python",
   "nbconvert_exporter": "python",
   "pygments_lexer": "ipython3",
   "version": "3.8.8"
  }
 },
 "nbformat": 4,
 "nbformat_minor": 5
}
